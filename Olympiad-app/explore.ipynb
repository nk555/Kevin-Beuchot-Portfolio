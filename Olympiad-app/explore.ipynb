{
 "cells": [
  {
   "cell_type": "code",
   "execution_count": 1,
   "metadata": {},
   "outputs": [],
   "source": [
    "from download import download_shortlists\n",
    "\n",
    "dwld=download_shortlists(loc=\"data/\")\n",
    "dwld.retrieve(range(2006, 2021))"
   ]
  },
  {
   "cell_type": "code",
   "execution_count": 4,
   "metadata": {},
   "outputs": [],
   "source": [
    "import PyPDF2\n",
    "file=\"data/2020.pdf\"\n",
    "pdfFile = open(file, 'rb')\n",
    "pdf=PyPDF2.PdfFileReader(pdfFile)\n",
    "text=\"\"\n",
    "for i in range(pdf.getNumPages()):\n",
    "    text+=pdf.getPage(i).extractText()\n"
   ]
  },
  {
   "cell_type": "code",
   "execution_count": 6,
   "metadata": {},
   "outputs": [],
   "source": [
    "import re\n",
    "re.search(\"A1.*Solution\",text)"
   ]
  },
  {
   "cell_type": "code",
   "execution_count": 10,
   "metadata": {},
   "outputs": [
    {
     "data": {
      "text/plain": [
       "<re.Match object; span=(12056, 12064), match='Solution'>"
      ]
     },
     "execution_count": 10,
     "metadata": {},
     "output_type": "execute_result"
    }
   ],
   "source": [
    "re.search(\"[A,B,C,D][\",text)"
   ]
  },
  {
   "cell_type": "code",
   "execution_count": 12,
   "metadata": {},
   "outputs": [
    {
     "data": {
      "text/plain": [
       "'12Saint-PetersburgRussia,18th28thSeptember2020\\nSolutions\\nAlgebra\\nA1.\\nVersion1.\\nLet\\nn\\nbeapositiveinteger,andset\\nN\\n\\n2\\nn\\n.Determinethesmallestreal\\nnumber\\na\\nn\\nsuchthat,forallreal\\nx\\n,\\nN\\nc\\nx\\n2\\nN\\n\\n1\\n2\\n¤\\na\\nn\\np\\nx\\n\\n1\\nq\\n2\\n\\nx:\\nVersion2.\\nForeverypositiveinteger\\nN\\n,determinethesmallestrealnumber\\nb\\nN\\nsuchthat,\\nforallreal\\nx\\n,\\nN\\nc\\nx\\n2\\nN\\n\\n1\\n2\\n¤\\nb\\nN\\np\\nx\\n\\n1\\nq\\n2\\n\\nx:\\n(Ireland)\\nAnswerforbothversions:\\na\\nn\\n\\nb\\nN\\n\\nN\\n{\\n2\\n.\\nSolution1(forVersion1).\\nFirstofall,assumethat\\na\\nn\\n€\\nN\\n{\\n2\\nsatis˝esthecondition.Take\\nx\\n\\n1\\n\\nt\\nfor\\nt\\n¡\\n0\\n,weshouldhave\\np\\n1\\n\\nt\\nq\\n2\\nN\\n\\n1\\n2\\n¤p\\n1\\n\\nt\\n\\na\\nn\\nt\\n2\\nq\\nN\\n:Expandingthebracketsweget\\np\\n1\\n\\nt\\n\\na\\nn\\nt\\n2\\nq\\nN\\n\\np\\n1\\n\\nt\\nq\\n2\\nN\\n\\n1\\n2\\n\\n\\nNa\\nn\\n\\nN\\n2\\n2\\n\\nt\\n2\\n\\nc\\n3\\nt\\n3\\n\\n:::\\n\\nc\\n2\\nN\\nt\\n2\\nN\\n(1)\\nwithsomecoe˚cients\\nc\\n3\\n;:::;c\\n2\\nN\\n.Since\\na\\nn\\n€\\nN\\n{\\n2\\n,therighthandsideof(1)isnegativefor\\nsu˚cientlysmall\\nt\\n.Acontradiction.\\nItremainstoprovethefollowinginequality\\nN\\nc\\n1\\n\\nx\\n2\\nN\\n2\\n¤\\nx\\n\\nN\\n2\\np\\nx\\n\\n1\\nq\\n2\\n;I\\np\\nN;x\\nq\\nwhere\\nN\\n\\n2\\nn\\n.\\nUseinductionin\\nn\\n.Thebasecase\\nn\\n\\n0\\nistrivial:\\nN\\n\\n1\\nandbothsidesof\\nI\\np\\nN;x\\nq\\nare\\nequalto\\np\\n1\\n\\nx\\n2\\nq{\\n2\\n.Forcompletingtheinductionweprove\\nI\\np\\n2\\nN;x\\nq\\nassumingthat\\nI\\np\\nN;y\\nq\\nis\\nestablishedforallreal\\ny\\n.Wehave\\n\\nx\\n\\nN\\np\\nx\\n\\n1\\nq\\n2\\n\\n2\\n\\nx\\n2\\n\\nN\\n2\\np\\nx\\n\\n1\\nq\\n4\\n\\nN\\np\\nx\\n\\n1\\nq\\n2\\np\\nx\\n\\n1\\nq\\n2\\np\\nx\\n\\n1\\nq\\n2\\n2\\n\\nx\\n2\\n\\nN\\n2\\np\\nx\\n2\\n\\n1\\nq\\n2\\n\\n\\nN\\n2\\n\\nN\\n2\\n\\np\\nx\\n\\n1\\nq\\n4\\n¥\\nx\\n2\\n\\nN\\n2\\np\\nx\\n2\\n\\n1\\nq\\n2\\n¥\\nN\\nc\\n1\\n\\nx\\n4\\nN\\n2\\n;wherethelastinequalityis\\nI\\np\\nN;x\\n2\\nq\\n.Since\\nx\\n\\nN\\np\\nx\\n\\n1\\nq\\n2\\n¥\\nx\\n\\np\\nx\\n\\n1\\nq\\n2\\n2\\n\\nx\\n2\\n\\n1\\n2\\n¥\\n0\\n;takingsquarerootweget\\nI\\np\\n2\\nN;x\\nq\\n.Theinductivestepiscomplete.\\n'"
      ]
     },
     "execution_count": 12,
     "metadata": {},
     "output_type": "execute_result"
    }
   ],
   "source": [
    "pdf.getPage(13).extractText()"
   ]
  }
 ],
 "metadata": {
  "interpreter": {
   "hash": "46c4d1bd206d010a11e8fdb076f5c13f828336f3c5a0d75e20ea8fef0fc425d0"
  },
  "kernelspec": {
   "display_name": "Python 3.7.9 ('oly')",
   "language": "python",
   "name": "python3"
  },
  "language_info": {
   "codemirror_mode": {
    "name": "ipython",
    "version": 3
   },
   "file_extension": ".py",
   "mimetype": "text/x-python",
   "name": "python",
   "nbconvert_exporter": "python",
   "pygments_lexer": "ipython3",
   "version": "3.9.7"
  },
  "orig_nbformat": 4
 },
 "nbformat": 4,
 "nbformat_minor": 2
}
