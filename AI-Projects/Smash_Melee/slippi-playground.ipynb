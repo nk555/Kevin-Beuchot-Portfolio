{
 "metadata": {
  "language_info": {
   "codemirror_mode": {
    "name": "ipython",
    "version": 3
   },
   "file_extension": ".py",
   "mimetype": "text/x-python",
   "name": "python",
   "nbconvert_exporter": "python",
   "pygments_lexer": "ipython3",
   "version": "3.7.9-final"
  },
  "orig_nbformat": 2,
  "kernelspec": {
   "name": "python3",
   "display_name": "Python 3",
   "language": "python"
  }
 },
 "nbformat": 4,
 "nbformat_minor": 2,
 "cells": [
  {
   "cell_type": "code",
   "execution_count": 1,
   "metadata": {},
   "outputs": [],
   "source": [
    "#import tensorflow as tf \n",
    "import numpy as np \n",
    "import slippi as slp"
   ]
  },
  {
   "cell_type": "code",
   "execution_count": 2,
   "metadata": {},
   "outputs": [
    {
     "output_type": "stream",
     "name": "stdout",
     "text": [
      "hello\n"
     ]
    }
   ],
   "source": [
    "print(\"hello\")"
   ]
  },
  {
   "source": [
    "# Let us explore the slippi files\n",
    "\n",
    "We want to see what information we can get from these files and also then plan how to store them in a MongoDB database to be able to do work and compare multiple of our games. This way we can do more tests and get interesting statistics compared to only reading files without being able to make relations between them.\n",
    "\n",
    "The py-slippi documentation (https://py-slippi.readthedocs.io/en/latest/index.html#api-docs) has some really good explanations of their functions and classes and gives a general idea of this information. However, it does not show much about examples to know how this information is stored and how we can use it.\n",
    "\n",
    "It is also helpful to take a look at the .slp documentation (https://github.com/project-slippi/slippi-wiki/blob/master/SPEC.md)"
   ],
   "cell_type": "markdown",
   "metadata": {}
  },
  {
   "cell_type": "code",
   "execution_count": 3,
   "metadata": {},
   "outputs": [
    {
     "output_type": "execute_result",
     "data": {
      "text/plain": [
       "95102"
      ]
     },
     "metadata": {},
     "execution_count": 3
    }
   ],
   "source": [
    "path= \"D:/AI_machinelearning/Slippi/training_data\"\n",
    "_, _, slp_files = next(os.walk(path),(None, None, []))\n",
    "slp_files=[path+\"/\"+f for f in slp_files]\n",
    "one_slp=slp_files[0]\n",
    "len(slp_files)"
   ]
  },
  {
   "source": [
    "## Slippi.Game.start "
   ],
   "cell_type": "markdown",
   "metadata": {}
  },
  {
   "cell_type": "code",
   "execution_count": 4,
   "metadata": {},
   "outputs": [
    {
     "output_type": "execute_result",
     "data": {
      "text/plain": [
       "Start(\n",
       "    is_frozen_ps=True,\n",
       "    is_pal=False,\n",
       "    is_teams=False,\n",
       "    players=(\n",
       "        Player(\n",
       "            character=20:FALCO,\n",
       "            costume=0,\n",
       "            stocks=4,\n",
       "            tag=！？,\n",
       "            team=None,\n",
       "            type=0:HUMAN,\n",
       "            ucf=UCF(\n",
       "                dash_back=1:UCF,\n",
       "                shield_drop=1:UCF)),\n",
       "        None,\n",
       "        Player(\n",
       "            character=12:PEACH,\n",
       "            costume=0,\n",
       "            stocks=4,\n",
       "            tag=,\n",
       "            team=None,\n",
       "            type=0:HUMAN,\n",
       "            ucf=UCF(\n",
       "                dash_back=1:UCF,\n",
       "                shield_drop=1:UCF)),\n",
       "        None),\n",
       "    random_seed=3503449940,\n",
       "    slippi=Slippi(\n",
       "        version=2.0.1),\n",
       "    stage=3:POKEMON_STADIUM)"
      ]
     },
     "metadata": {},
     "execution_count": 4
    }
   ],
   "source": [
    "game=slp.Game(one_slp)\n",
    "game.start"
   ]
  },
  {
   "source": [
    "## Slippi.Game.frames"
   ],
   "cell_type": "markdown",
   "metadata": {}
  },
  {
   "cell_type": "code",
   "execution_count": 33,
   "metadata": {},
   "outputs": [
    {
     "output_type": "execute_result",
     "data": {
      "text/plain": [
       "Frame(\n",
       "    end=None,\n",
       "    index=-7,\n",
       "    items=(),\n",
       "    ports=(\n",
       "        Port(\n",
       "            follower=None,\n",
       "            leader=Data(\n",
       "                post=Post(\n",
       "                    airborne=False,\n",
       "                    character=22:FALCO,\n",
       "                    combo_count=1,\n",
       "                    damage=0.00,\n",
       "                    direction=1:RIGHT,\n",
       "                    flags=0b0:0,\n",
       "                    ground=35,\n",
       "                    hit_stun=0.00,\n",
       "                    jumps=2,\n",
       "                    l_cancel=None,\n",
       "                    last_attack_landed=18:NEUTRAL_SPECIAL,\n",
       "                    last_hit_by=None,\n",
       "                    position=(-40.00, 25.00),\n",
       "                    shield=60.00,\n",
       "                    state=24:KNEE_BEND,\n",
       "                    state_age=1.00,\n",
       "                    stocks=4),\n",
       "                pre=Pre(\n",
       "                    buttons=Buttons(\n",
       "                        logical=0b100000000000:Y,\n",
       "                        physical=0b100000000000:Y),\n",
       "                    cstick=(0.00, 0.00),\n",
       "                    damage=(0.00),\n",
       "                    direction=1:RIGHT,\n",
       "                    joystick=(0.00, 0.00),\n",
       "                    position=(-40.00, 25.00),\n",
       "                    random_seed=754197442,\n",
       "                    raw_analog_x=(255),\n",
       "                    state=24:KNEE_BEND,\n",
       "                    triggers=Triggers(\n",
       "                        logical=0.00,\n",
       "                        physical=Physical(\n",
       "                            l=0.01,\n",
       "                            r=0.02))))),\n",
       "        None,\n",
       "        Port(\n",
       "            follower=None,\n",
       "            leader=Data(\n",
       "                post=Post(\n",
       "                    airborne=True,\n",
       "                    character=9:PEACH,\n",
       "                    combo_count=0,\n",
       "                    damage=3.00,\n",
       "                    direction=-1:LEFT,\n",
       "                    flags=0b10000000000011000000000000:HIT_STUN|HIT_LAG|4096,\n",
       "                    ground=None,\n",
       "                    hit_stun=9.00,\n",
       "                    jumps=1,\n",
       "                    l_cancel=None,\n",
       "                    last_attack_landed=None,\n",
       "                    last_hit_by=0,\n",
       "                    position=(19.91, 38.72),\n",
       "                    shield=60.00,\n",
       "                    state=84:DAMAGE_AIR_1,\n",
       "                    state_age=1.00,\n",
       "                    stocks=4),\n",
       "                pre=Pre(\n",
       "                    buttons=Buttons(\n",
       "                        logical=0b1000000100000000000:JOYSTICK_LEFT|Y,\n",
       "                        physical=0b100000000000:Y),\n",
       "                    cstick=(0.00, 0.00),\n",
       "                    damage=(3.00),\n",
       "                    direction=-1:LEFT,\n",
       "                    joystick=(-0.90, 0.43),\n",
       "                    position=(19.91, 38.72),\n",
       "                    random_seed=754197442,\n",
       "                    raw_analog_x=(167),\n",
       "                    state=84:DAMAGE_AIR_1,\n",
       "                    triggers=Triggers(\n",
       "                        logical=0.00,\n",
       "                        physical=Physical(\n",
       "                            l=0.02,\n",
       "                            r=0.04))))),\n",
       "        None),\n",
       "    start=None)"
      ]
     },
     "metadata": {},
     "execution_count": 33
    }
   ],
   "source": [
    "game.frames[116]"
   ]
  },
  {
   "cell_type": "code",
   "execution_count": 6,
   "metadata": {},
   "outputs": [
    {
     "output_type": "execute_result",
     "data": {
      "text/plain": [
       "Frame(\n",
       "    end=None,\n",
       "    index=102,\n",
       "    items=(),\n",
       "    ports=(\n",
       "        Port(\n",
       "            follower=None,\n",
       "            leader=Data(\n",
       "                post=Post(\n",
       "                    airborne=False,\n",
       "                    character=22:FALCO,\n",
       "                    combo_count=1,\n",
       "                    damage=0.00,\n",
       "                    direction=1:RIGHT,\n",
       "                    flags=0b10000:REFLECT,\n",
       "                    ground=34,\n",
       "                    hit_stun=0.00,\n",
       "                    jumps=2,\n",
       "                    l_cancel=None,\n",
       "                    last_attack_landed=21:DOWN_SPECIAL,\n",
       "                    last_hit_by=None,\n",
       "                    position=(-12.10, 0.00),\n",
       "                    shield=60.00,\n",
       "                    state=361:WALL_DAMAGE,\n",
       "                    state_age=0.00,\n",
       "                    stocks=4),\n",
       "                pre=Pre(\n",
       "                    buttons=Buttons(\n",
       "                        logical=0b100000001000000000:JOYSTICK_DOWN|B,\n",
       "                        physical=0b1000000000:B),\n",
       "                    cstick=(0.00, 0.00),\n",
       "                    damage=(0.00),\n",
       "                    direction=1:RIGHT,\n",
       "                    joystick=(0.00, -0.99),\n",
       "                    position=(-12.10, 0.00),\n",
       "                    random_seed=2429679942,\n",
       "                    raw_analog_x=(13),\n",
       "                    state=361:WALL_DAMAGE,\n",
       "                    triggers=Triggers(\n",
       "                        logical=0.00,\n",
       "                        physical=Physical(\n",
       "                            l=0.03,\n",
       "                            r=0.02))))),\n",
       "        None,\n",
       "        Port(\n",
       "            follower=None,\n",
       "            leader=Data(\n",
       "                post=Post(\n",
       "                    airborne=True,\n",
       "                    character=9:PEACH,\n",
       "                    combo_count=0,\n",
       "                    damage=25.73,\n",
       "                    direction=-1:LEFT,\n",
       "                    flags=0b10000000000000000000000000:HIT_STUN,\n",
       "                    ground=None,\n",
       "                    hit_stun=50.00,\n",
       "                    jumps=1,\n",
       "                    l_cancel=None,\n",
       "                    last_attack_landed=None,\n",
       "                    last_hit_by=0,\n",
       "                    position=(-5.45, 0.73),\n",
       "                    shield=60.00,\n",
       "                    state=90:DAMAGE_FLY_TOP,\n",
       "                    state_age=2.00,\n",
       "                    stocks=4),\n",
       "                pre=Pre(\n",
       "                    buttons=Buttons(\n",
       "                        logical=0b100000000000000000:JOYSTICK_DOWN,\n",
       "                        physical=0b0:NONE),\n",
       "                    cstick=(0.00, 0.00),\n",
       "                    damage=(25.73),\n",
       "                    direction=-1:LEFT,\n",
       "                    joystick=(0.00, -0.99),\n",
       "                    position=(-5.86, -2.96),\n",
       "                    random_seed=2429679942,\n",
       "                    raw_analog_x=(2),\n",
       "                    state=90:DAMAGE_FLY_TOP,\n",
       "                    triggers=Triggers(\n",
       "                        logical=0.00,\n",
       "                        physical=Physical(\n",
       "                            l=0.02,\n",
       "                            r=0.01))))),\n",
       "        None),\n",
       "    start=None)"
      ]
     },
     "metadata": {},
     "execution_count": 6
    }
   ],
   "source": [
    "game.frames[225]"
   ]
  },
  {
   "source": [
    "As we can see state and flags are interesting properties to look at. They contain information about things like landing, jumping, getting hit, etc. It will be useful to know what to expect and maybe to see if we want to keep all or group some characterisics. Something else to notice is that many names for example the buttons and states first have some numbers (probably as input for the actual game to read) but we only care of the words describing it. Something else I want to use is speed and possibly we can compute it by the change in position on pre and post but maybe I need to use previous frames. Knowing speed is useful as it can tell not only if a character is running (which has impact on what actions can be taken) but it also tells us a better picture to know how fast a character can get to a certain position compared to only knowing its position. If it is running left then it is unlikely it can reach right except in certain states like foxtrotting or dash dancing."
   ],
   "cell_type": "markdown",
   "metadata": {}
  },
  {
   "cell_type": "code",
   "execution_count": 7,
   "metadata": {},
   "outputs": [
    {
     "output_type": "execute_result",
     "data": {
      "text/plain": [
       "Metadata(\n",
       "    console_name=pnut,\n",
       "    date=2020-02-19 20:35:38+00:00,\n",
       "    duration=11736,\n",
       "    platform='nintendont':NINTENDONT,\n",
       "    players=(None, None, None, None))"
      ]
     },
     "metadata": {},
     "execution_count": 7
    }
   ],
   "source": [
    "game.metadata"
   ]
  },
  {
   "cell_type": "code",
   "execution_count": 8,
   "metadata": {},
   "outputs": [
    {
     "output_type": "execute_result",
     "data": {
      "text/plain": [
       "Post(\n",
       "    airborne=True,\n",
       "    character=22:FALCO,\n",
       "    combo_count=1,\n",
       "    damage=107.62,\n",
       "    direction=1:RIGHT,\n",
       "    flags=0b1100000000000000000000000000000000000000:OFF_SCREEN|DEAD,\n",
       "    ground=None,\n",
       "    hit_stun=0.00,\n",
       "    jumps=0,\n",
       "    l_cancel=None,\n",
       "    last_attack_landed=15:BAIR,\n",
       "    last_hit_by=2,\n",
       "    position=(-76.47, -113.73),\n",
       "    shield=60.00,\n",
       "    state=0:DEAD_DOWN,\n",
       "    state_age=-1.00,\n",
       "    stocks=0)"
      ]
     },
     "metadata": {},
     "execution_count": 8
    }
   ],
   "source": [
    "game.frames[game.metadata.duration-1].ports[0].leader.post"
   ]
  },
  {
   "cell_type": "code",
   "execution_count": 9,
   "metadata": {},
   "outputs": [
    {
     "output_type": "execute_result",
     "data": {
      "text/plain": [
       "'CSSCharacter.FALCO'"
      ]
     },
     "metadata": {},
     "execution_count": 9
    }
   ],
   "source": [
    "str(game.start.players[0].character)"
   ]
  },
  {
   "cell_type": "code",
   "execution_count": 10,
   "metadata": {},
   "outputs": [
    {
     "output_type": "execute_result",
     "data": {
      "text/plain": [
       "'None'"
      ]
     },
     "metadata": {},
     "execution_count": 10
    }
   ],
   "source": [
    "str(game.frames[117].ports[2].leader.post.last_attack_landed)"
   ]
  },
  {
   "cell_type": "code",
   "execution_count": 11,
   "metadata": {},
   "outputs": [
    {
     "output_type": "execute_result",
     "data": {
      "text/plain": [
       "'Logical.Y'"
      ]
     },
     "metadata": {},
     "execution_count": 11
    }
   ],
   "source": [
    "str(game.frames[117].ports[0].leader.pre.buttons.logical)"
   ]
  },
  {
   "cell_type": "code",
   "execution_count": 12,
   "metadata": {},
   "outputs": [
    {
     "output_type": "execute_result",
     "data": {
      "text/plain": [
       "End(\n",
       "    lras_initiator=None,\n",
       "    method=2:GAME)"
      ]
     },
     "metadata": {},
     "execution_count": 12
    }
   ],
   "source": [
    "game.end"
   ]
  },
  {
   "cell_type": "code",
   "execution_count": 13,
   "metadata": {},
   "outputs": [
    {
     "output_type": "execute_result",
     "data": {
      "text/plain": [
       "Post(\n",
       "    airborne=True,\n",
       "    character=18:MARTH,\n",
       "    combo_count=0,\n",
       "    damage=0.00,\n",
       "    direction=1:RIGHT,\n",
       "    flags=0b1000000000000000000000000000000000000100:OFF_SCREEN|4,\n",
       "    ground=None,\n",
       "    hit_stun=0.00,\n",
       "    jumps=1,\n",
       "    l_cancel=None,\n",
       "    last_attack_landed=None,\n",
       "    last_hit_by=None,\n",
       "    position=(-12.00, 115.47),\n",
       "    shield=60.00,\n",
       "    state=12:REBIRTH,\n",
       "    state_age=21.00,\n",
       "    stocks=1)"
      ]
     },
     "metadata": {},
     "execution_count": 13
    }
   ],
   "source": [
    "game2=slp.Game(slp_files[4])\n",
    "game2.frames[8355].ports[3].leader.post"
   ]
  },
  {
   "source": [
    "# New metrics and other ideas\n",
    "\n",
    "## Relative position\n",
    "\n",
    "Having information of how far or close together players were when a hit took place for example would be something interesting to observe. Right and left are pretty much analogous in the game as stages are mirrored so we can use absolute values for horizontal distance. There might only be a few times where knowing if it is left or right have an effect on the game but it is mostly concerning how close players are to edges or platforms. This is another stat we may want to add. \n",
    "\n",
    "## Keep track of why a player is in lag\n",
    "\n",
    "Knowing the last attack executed, and knowing its active window and lag window. Also knowing hit lag and what caused it, which is already in our game object as we have last hit by, but lose track of it once we exit hit lag. It seems like state keeps track of this with state and state age. However it would be useful to have it in a more readable way.\n",
    "\n",
    "## Speed\n",
    "\n",
    "I discussed this above but trying to see if we can compute this using pre and post or if we need the previous frame to see the change in distance.\n",
    "\n",
    "## Impact of a decision or positions\n",
    "\n",
    "Something else I would like to keep track is if certain positions or decisions are good or bad. So I would try to consider if you do somehting and somehwere in the next x frames (possibly a second or 2) if you get hit or if you land a hit try to have that as a good decision. Part of this is for future plans to evaluate this kind of positioning and decision making and being able to tell if these tools are working is by having this information already recorded. Possibly as 1_sec_punish, 2_sec_punish, 1_sec_hit, 2_sec_hit."
   ],
   "cell_type": "markdown",
   "metadata": {}
  },
  {
   "source": [
    "# Making states into a json file to be able to have readable files in our database."
   ],
   "cell_type": "markdown",
   "metadata": {}
  },
  {
   "cell_type": "code",
   "execution_count": 14,
   "metadata": {},
   "outputs": [],
   "source": [
    "import pandas as pd \n",
    "\n",
    "states=pd.read_csv(\"slippi-states.csv\", index_col=0)\n",
    "states[\"Description 1\"]=states[\"Description 1\"].str.lower()\n",
    "states[\"Description 2\"]=states[\"Description 2\"].str.lower()\n",
    "states.index=states.index.str.lower()"
   ]
  },
  {
   "cell_type": "code",
   "execution_count": 15,
   "metadata": {},
   "outputs": [],
   "source": [
    "states[[\"Description 1\"]].transpose().to_json(path_or_buf=\"slippi-states.json\", orient=\"records\")\n",
    "states[[\"Description 2\"]].transpose().to_json(path_or_buf=\"slippi-states-compact.json\", orient=\"records\")"
   ]
  },
  {
   "cell_type": "code",
   "execution_count": 16,
   "metadata": {},
   "outputs": [],
   "source": [
    "import json\n",
    "with open(\"slippi-states-compact.json\") as json_file: \n",
    "        state_dict=json.load(json_file)[0]"
   ]
  },
  {
   "cell_type": "code",
   "execution_count": 17,
   "metadata": {},
   "outputs": [],
   "source": [
    "player=slp.Game(one_slp).frames[115].ports[2]\n",
    "state=str(player.leader.post.state).split(\".\")[1].replace(\"_\", \"\").lower()\n",
    "state=state_dict.get(state)"
   ]
  },
  {
   "cell_type": "code",
   "execution_count": 18,
   "metadata": {},
   "outputs": [
    {
     "output_type": "execute_result",
     "data": {
      "text/plain": [
       "'jump'"
      ]
     },
     "metadata": {},
     "execution_count": 18
    }
   ],
   "source": [
    "state"
   ]
  },
  {
   "cell_type": "code",
   "execution_count": 1,
   "metadata": {},
   "outputs": [],
   "source": [
    "from slippi_stats import group_will_get_hit\n",
    "import pymongo as mdb\n",
    "\n",
    "client=mdb.MongoClient()\n",
    "db=client.slippi\n",
    "group_will_get_hit(db, [\"peach\", \"falco\"], [1], [None])"
   ]
  },
  {
   "cell_type": "code",
   "execution_count": null,
   "metadata": {},
   "outputs": [],
   "source": []
  }
 ]
}