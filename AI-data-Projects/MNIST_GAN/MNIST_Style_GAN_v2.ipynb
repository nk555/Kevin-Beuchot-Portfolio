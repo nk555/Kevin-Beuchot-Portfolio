{
  "nbformat": 4,
  "nbformat_minor": 0,
  "metadata": {
    "colab": {
      "name": "MNIST Style GAN v2.ipynb",
      "provenance": [],
      "collapsed_sections": [],
      "mount_file_id": "192FrUAFYlZpLMqHznPAwZVj8Tedv10wc",
      "authorship_tag": "ABX9TyPB6QCONHbWXKiN9RV+ULTY",
      "include_colab_link": true
    },
    "kernelspec": {
      "name": "Python 3.7.9 64-bit ('tf': conda)",
      "display_name": "Python 3.7.9 64-bit ('tf': conda)",
      "metadata": {
        "interpreter": {
          "hash": "b25771bb79ecddf2cd0221654ecee2da123d46bdee02f2e26773cd30025ac0c0"
        }
      }
    },
    "accelerator": "GPU"
  },
  "cells": [
    {
      "cell_type": "markdown",
      "metadata": {
        "id": "view-in-github",
        "colab_type": "text"
      },
      "source": [
        "<a href=\"https://colab.research.google.com/github/nk555/AI-Projects/blob/master/GAN/MNIST_Style_GAN_v2.ipynb\" target=\"_parent\"><img src=\"https://colab.research.google.com/assets/colab-badge.svg\" alt=\"Open In Colab\"/></a>"
      ]
    },
    {
      "cell_type": "markdown",
      "metadata": {
        "id": "sQ35YNJNGSQ0"
      },
      "source": [
        "# MNIST learns your handwriting\n",
        "\n",
        "This is a small project on using a GAN to generate numbers that look as someone else's handwriting when not trained on all numbers written by this person. For example say we had someone write the number 273 and we now want to write 481 in their own handwriting.\n",
        "\n",
        "The main inspiration for this project is a paper I read recently called STAR GAN v2. In this paper they try to recognize diferent styles and features in images and transfer those into a different image. For example they are able to use image of different animals like dogs or tigers and making them look like a cat. Furthermore at the time of writing this it is currently a state-of-the-art method for this style translation tasks.\n",
        "\n",
        "Some of the results can be seen at the end of this notebook. Unfortunately it seems not that many features were captured and mostly it was only the thickness of the numbers that was preserved. A reason this happens might be that the size of the images is small being 28x28. However, some ways to allow for more variation might be by exteding the number of layers being used, by having higher dimensional spaces for the latent and style spaces, or by giving a higher weight to the style diversification loss (look at section loss functions to see more about this).\n",
        "\n",
        "The main purpose of this notebook is to make a small showcase of the architecture used in a simple design so that the ideas are simple to follow. This notebook will also contain some explanations and comments on the architecture of the neural network so that it might be easier to follow.\n",
        "\n",
        "Note: another small thing I did in this project is to 'translate' STAR GAN code from pytorch to tensorflow. Redoing all of the work was useful to understand everything done on their code and having an option in tensorflow might be useful for some people.\n",
        "\n",
        "For a small tutorial on how to write a simple GAN architecture: https://machinelearningmastery.com/how-to-develop-a-generative-adversarial-network-for-an-mnist-handwritten-digits-from-scratch-in-keras/\n",
        "\n",
        "Link to STAR GAN v2: https://app.wandb.ai/stacey/stargan/reports/Cute-Animals-and-Post-Modern-Style-Transfer%3A-StarGAN-v2-for-Multi-Domain-Image-Synthesis---VmlldzoxNzcwODQ\n",
        "\n",
        "Further Reading on style domain techniques for image generation:\n",
        "\n",
        "Link to STAR GAN paper: https://arxiv.org/pdf/1912.01865.pdf\n",
        "\n",
        "Link to Multimodal Unsupervised Image-to-Image Translation: https://arxiv.org/pdf/1804.04732.pdf\n",
        "\n",
        "Link to Improving Style-Content Disentanglement Paper: https://arxiv.org/pdf/2007.04964.pdf"
      ]
    },
    {
      "cell_type": "markdown",
      "metadata": {
        "id": "nIuW2ka_GmY7"
      },
      "source": [
        "# Intitializing"
      ]
    },
    {
      "cell_type": "code",
      "metadata": {
        "id": "JufRLrnvGles"
      },
      "source": [
        "import tensorflow as tf\n",
        "from tensorflow_addons.layers import InstanceNormalization\n",
        "import numpy as np\n",
        "import tensorflow.keras.layers as layers\n",
        "import time\n",
        "from tensorflow.keras.datasets.mnist import load_data\n",
        "import sys\n",
        "import os\n",
        "import datetime"
      ],
      "execution_count": 1,
      "outputs": []
    },
    {
      "cell_type": "markdown",
      "metadata": {
        "id": "bVkpYJ2JMMQS"
      },
      "source": [
        "# Layers\n",
        "\n",
        "There are a few layers that were custom made. More importantly it is udeful to make this custom layers for the layers that try to incorporate style. This is as the inputs themselves are custom as you are inputing an image and a vector representing the style.\n",
        "\n",
        "ResBlk is short for Residual Block, where it is predicting the residual (the difference between the original and the prediction)."
      ]
    },
    {
      "cell_type": "code",
      "metadata": {
        "id": "JOEAadTNO8zL"
      },
      "source": [
        "class ResBlk(tf.keras.Model):\n",
        "  def __init__(self, dim_in, dim_out, actv=layers.LeakyReLU(),\n",
        "                 normalize=False, downsample=False):\n",
        "    super(ResBlk, self).__init__()\n",
        "    self.actv = actv\n",
        "    self.normalize = normalize\n",
        "    self.downsample = downsample\n",
        "    self.learned_sc = dim_in != dim_out\n",
        "    self._build_weights(dim_in, dim_out)\n",
        "\n",
        "  def _build_weights(self, dim_in, dim_out):\n",
        "    self.conv1 = layers.Conv2D(dim_in, 3, padding='same')\n",
        "    self.conv2 = layers.Conv2D(dim_out, 3, padding='same')\n",
        "    if self.normalize:\n",
        "      self.norm1 = InstanceNormalization()\n",
        "      self.norm2 = InstanceNormalization()\n",
        "    if self.learned_sc:\n",
        "      self.conv1x1 = layers.Conv2D(dim_out, 1)\n",
        "\n",
        "  def _shortcut(self, x):\n",
        "    if self.learned_sc:\n",
        "        x = self.conv1x1(x)\n",
        "    if self.downsample:\n",
        "        x = layers.AveragePooling2D(pool_size=(2,2), padding='same')(x)\n",
        "    return x\n",
        "  \n",
        "  def _residual(self, x):\n",
        "    if len(tf.shape(x))>4:\n",
        "      x=tf.reshape(x,tf.shape(x)[1:])\n",
        "    if self.normalize:\n",
        "      x = self.norm1(x)\n",
        "    x = self.actv(x)\n",
        "    x = self.conv1(x)\n",
        "    if self.downsample:\n",
        "      x = layers.AveragePooling2D(pool_size=(2,2), padding='same')(x)\n",
        "    if self.normalize:\n",
        "      x = self.norm2(x)\n",
        "    x = self.actv(x)\n",
        "    x = self.conv2(x)\n",
        "    return x\n",
        "\n",
        "  def call(self, x):\n",
        "    x = self._shortcut(x) + self._residual(x)\n",
        "    return x / 2**(1/2) # unit variance"
      ],
      "execution_count": 2,
      "outputs": []
    },
    {
      "cell_type": "markdown",
      "metadata": {
        "id": "cKp6hfiJnQqe"
      },
      "source": [
        "AdaIN stands for Adaptive Instance Normalization. It is a type of normalization that allows to 'mix' two inputs. In this case we use the style vector to mix with our input x which is the image or part of the process of constructing this image."
      ]
    },
    {
      "cell_type": "code",
      "metadata": {
        "id": "RONGU0PsMLWS"
      },
      "source": [
        "class AdaIn(tf.keras.Model):\n",
        "  def __init__(self, style_dim, num_features):\n",
        "    super(AdaIn,self).__init__()\n",
        "    self.norm = InstanceNormalization()\n",
        "    self.lin = layers.Dense(num_features*2)\n",
        "\n",
        "  def call(self, x, s):\n",
        "    h=self.lin(s)\n",
        "    h=tf.reshape(h, [1, tf.shape(h)[0], 1, tf.shape(h)[1]])\n",
        "    gamma,beta=tf.split(h, 2, axis=3)\n",
        "    return (1+gamma)*self.norm(x)+beta"
      ],
      "execution_count": 3,
      "outputs": []
    },
    {
      "cell_type": "code",
      "metadata": {
        "id": "MRsH0NEsbzwV"
      },
      "source": [
        "class AdainResBlk(tf.keras.Model):\n",
        "  def __init__(self, dim_in, dim_out, style_dim=16,\n",
        "                 actv=layers.LeakyReLU(), upsample=False):\n",
        "    super(AdainResBlk, self).__init__()\n",
        "    self.actv = actv\n",
        "    self.upsample = upsample\n",
        "    self.learned_sc = dim_in != dim_out\n",
        "    self._build_weights(dim_in, dim_out, style_dim)\n",
        "\n",
        "  def _build_weights(self, dim_in, dim_out, style_dim=16):\n",
        "    self.conv1 = layers.Conv2D(dim_out, 3, padding='same')\n",
        "    self.conv2 = layers.Conv2D(dim_out, 3, padding='same')\n",
        "    self.norm1 = AdaIn(style_dim, dim_in)\n",
        "    self.norm2 = AdaIn(style_dim, dim_out)\n",
        "    if self.learned_sc:\n",
        "      self.conv1x1 = layers.Conv2D(dim_out, 1)\n",
        "\n",
        "  def _shortcut(self, x):\n",
        "    if self.upsample:\n",
        "        x = layers.UpSampling2D(size=(2,2), interpolation='nearest')(x)\n",
        "    if self.learned_sc:\n",
        "        x = self.conv1x1(x)\n",
        "    return x\n",
        "\n",
        "  def _residual(self, x, s):\n",
        "    x = self.norm1(x, s)\n",
        "    x = self.actv(x)\n",
        "    if self.upsample:\n",
        "      x = layers.UpSampling2D(size=(2,2), interpolation='nearest')(x)\n",
        "    x = self.conv1(x)\n",
        "    x = self.norm2(x, s)\n",
        "    x = self.actv(x)\n",
        "    x = self.conv2(x)\n",
        "    return x\n",
        "\n",
        "  def call(self, x, s):\n",
        "    x = self._shortcut(x) + self._residual(x,s)\n",
        "    return x / 2**(1/2) # unit variance"
      ],
      "execution_count": 4,
      "outputs": []
    },
    {
      "cell_type": "markdown",
      "metadata": {
        "id": "KZO-FgSqG82j"
      },
      "source": [
        "# Generator Class\n",
        "\n",
        "In the generator we have two steps one for encoding the image into lower level information and one to decode back to the image. In this particular architecture the decoding uses the style to build back the image as it is an important part of the process. The decoding does not do this as we have the style encoder as an architecture that deals with this issue of generating a style vector for a particular image."
      ]
    },
    {
      "cell_type": "code",
      "metadata": {
        "id": "s-o2ysprG_uF"
      },
      "source": [
        "class Generator(tf.keras.Model):\n",
        "  def __init__(self, img_size=28, style_dim=24, dim_in=8, max_conv_dim=128, repeat_num=2):\n",
        "    super(Generator, self).__init__()\n",
        "    self.img_size=img_size\n",
        "    self.from_bw=layers.Conv2D(dim_in, 3, padding='same', input_shape=(1,img_size,img_size,1))\n",
        "    self.encode=[]\n",
        "    self.decode=[]\n",
        "    self.to_bw=tf.keras.Sequential([InstanceNormalization(), layers.LeakyReLU(), layers.Conv2D(1, 1, padding='same')])\n",
        "\n",
        "    for _ in range(repeat_num):\n",
        "      dim_out = min(dim_in*2, max_conv_dim)\n",
        "      self.encode.append(ResBlk(dim_in, dim_out, normalize=True, downsample=True))\n",
        "      self.decode.insert(0, AdainResBlk(dim_out, dim_in, style_dim, upsample=True))\n",
        "      dim_in = dim_out\n",
        "\n",
        "    # bottleneck blocks\n",
        "    for _ in range(2):\n",
        "      self.encode.append(ResBlk(dim_out, dim_out, normalize=True))\n",
        "      self.decode.insert(0, AdainResBlk(dim_out, dim_out, style_dim))\n",
        "\n",
        "  def call(self, x, s):\n",
        "    x = self.from_bw(x)\n",
        "    cache = {}\n",
        "    for block in self.encode:\n",
        "      x = block(x)\n",
        "    for block in self.decode:\n",
        "      x = block(x, s)\n",
        "    return self.to_bw(x)"
      ],
      "execution_count": 5,
      "outputs": []
    },
    {
      "cell_type": "markdown",
      "metadata": {
        "id": "mo5w30M3xZId"
      },
      "source": [
        "# Mapping Network\n",
        "\n",
        "The Mapping Network and the Style encoder are the parts of this architecture that make a difference in allowing style to be analyzed and put into our images. The mapping network will take as an input a latent code (represents images as a vector in a high dimensional space) and the domain in this case the domain is the number we are representing. And the style encoder will take as inputs an image and a domain."
      ]
    },
    {
      "cell_type": "code",
      "metadata": {
        "id": "L_jdQfzHxcwE"
      },
      "source": [
        "class MappingNetwork(tf.keras.Model):\n",
        "  def __init__(self, latent_dim=16, style_dim=24, num_domains=10):\n",
        "    super(MappingNetwork,self).__init__()\n",
        "    map_layers = [layers.Dense(128)]\n",
        "    map_layers += [layers.ReLU()]\n",
        "    for _ in range(2):\n",
        "      map_layers += [layers.Dense(128)]\n",
        "      map_layers += [layers.ReLU()]\n",
        "    self.shared = tf.keras.Sequential(layers=map_layers)\n",
        "\n",
        "    self.unshared = []\n",
        "    for _ in range(num_domains):\n",
        "      self.unshared += [tf.keras.Sequential(layers=[layers.Dense(128),\n",
        "                                            layers.ReLU(),\n",
        "                                            layers.Dense(128),\n",
        "                                            layers.ReLU(),\n",
        "                                            layers.Dense(128),\n",
        "                                            layers.ReLU(),\n",
        "                                            layers.Dense(style_dim)])]\n",
        "\n",
        "  def call(self, z, y):\n",
        "      h = self.shared(z)\n",
        "      out = []\n",
        "      for layer in self.unshared:\n",
        "          out += [layer(h)]\n",
        "      out = tf.stack(out, axis=1)  # (batch, num_domains, style_dim)\n",
        "      s = tf.gather(out, y, axis=1)  # (batch, style_dim)\n",
        "      return s"
      ],
      "execution_count": 6,
      "outputs": []
    },
    {
      "cell_type": "markdown",
      "metadata": {
        "id": "_-qp6RU5xPaP"
      },
      "source": [
        "# Style Encoder\n",
        "\n",
        "An important thing to notice from the style encoder is that it takes as an input an image and outputs a style vector. Looking at the dimensions of these we notice we need to flatten out the image through the layers. This can usually be done in two ways. By flattening a 2 dimensional input to a 1 dimensional output a flatten layer, or as it was done hear by using enough pooling layers so that we downsample the size of our 2 dimensional input until it is one dimensional."
      ]
    },
    {
      "cell_type": "code",
      "metadata": {
        "id": "y7CrR0wNxVqZ"
      },
      "source": [
        "class StyleEncoder(tf.keras.Model):\n",
        "  def __init__(self, img_size=28, style_dim=24, dim_in=16, num_domains=10, max_conv_dim=128, repeat_num=5):\n",
        "    super(StyleEncoder,self).__init__()\n",
        "    blocks = [layers.Conv2D(dim_in, 3, padding='same')]\n",
        "\n",
        "    for _ in range(repeat_num):           #repetition 1 sends to (b,14,14,d) 2 to (b,7,7,d) 3 to (b,4,4,d) 4 to (b,2,2,d) 5 to (b,1,1,d)\n",
        "      dim_out = min(dim_in*2, max_conv_dim)\n",
        "      blocks += [ResBlk(dim_in, dim_out, downsample=True)]\n",
        "      dim_in = dim_out\n",
        "\n",
        "    blocks += [layers.LeakyReLU()]\n",
        "    blocks += [layers.Conv2D(dim_out, 4, padding='same')]\n",
        "    blocks += [layers.LeakyReLU()]\n",
        "    self.shared = tf.keras.Sequential(layers=blocks)\n",
        "\n",
        "    self.unshared = []\n",
        "    for _ in range(num_domains):\n",
        "      self.unshared += [layers.Dense(style_dim)]\n",
        "\n",
        "  def call(self, x, y):\n",
        "    h = self.shared(x)\n",
        "    h = tf.reshape(h,[tf.shape(h)[0], tf.shape(h)[3]])\n",
        "    out = []\n",
        "    for layer in self.unshared:\n",
        "      out += [layer(h)]\n",
        "    out = tf.stack(out, axis=1)  # (batch, num_domains, style_dim)\n",
        "    s = tf.gather(out, y, axis=1)  # (batch, style_dim)\n",
        "    return s"
      ],
      "execution_count": 7,
      "outputs": []
    },
    {
      "cell_type": "markdown",
      "metadata": {
        "id": "9bFCyoa6v5Bu"
      },
      "source": [
        "# Discriminator Class\n",
        "\n",
        "Similarly to the Style encoder the input of the discriminator is an image and we need to downsample it until it is one dimensional."
      ]
    },
    {
      "cell_type": "code",
      "metadata": {
        "id": "W7auvm08v7xw"
      },
      "source": [
        "class Discriminator(tf.keras.Model):\n",
        "  def __init__(self, img_size=28, dim_in=16, num_domains=10, max_conv_dim=128, repeat_num=5):\n",
        "    super(Discriminator, self).__init__()\n",
        "    blocks = [layers.Conv2D(dim_in, 3, padding='same')]\n",
        "\n",
        "    for _ in range(repeat_num):       #repetition 1 sends to (b,14,14,d) 2 to (b,7,7,d) 3 to (b,4,4,d) 4 to (b,2,2,d) 5 to (b,1,1,d)\n",
        "      dim_out = min(dim_in*2, max_conv_dim)\n",
        "      blocks += [ResBlk(dim_in, dim_out, downsample=True)]\n",
        "      dim_in = dim_out\n",
        "\n",
        "    blocks += [layers.LeakyReLU()]\n",
        "    blocks += [layers.Conv2D(dim_out, 4, padding='same')]\n",
        "    blocks += [layers.LeakyReLU()]\n",
        "    blocks += [layers.Conv2D(num_domains, 1, padding='same')]\n",
        "    self.main = tf.keras.Sequential(layers=blocks)\n",
        "\n",
        "\n",
        "  def call(self, x, y):\n",
        "    out = self.main(x)\n",
        "    out = tf.reshape(out, (tf.shape(out)[0], tf.shape(out)[3]))  # (batch, num_domains)\n",
        "    out = tf.gather(out, y, axis=1)  # (batch)\n",
        "    out = tf.reshape(out, [1])\n",
        "    return out"
      ],
      "execution_count": 8,
      "outputs": []
    },
    {
      "cell_type": "markdown",
      "metadata": {
        "id": "CSCfJ2rOhRTA"
      },
      "source": [
        "# Loss Functions\n",
        "\n",
        "The loss functions used are an important part of this model as it describes our goal when training and how to perform gradient descent. The discriminator loss function is the regular adversarial loss L_adv used in a GAN architecture. But furthermore we have three loss functions added.\n",
        "\n",
        "For this loss functions if you want to see the mathematical formula I recommend looking at STAR GAN 2's paper. However I will explain what the loss tries to measure and a quick description of how it does so.\n",
        "\n",
        "L_sty is a style reconstruction loss. This tries to capture how well the style was captured on our output. It is computed as an expected value of the distance between the target style vector and the style vector that our style encoder predicts for the generated image.\n",
        "\n",
        "L_ds is a style diversification loss. It tries to capture that the images produced are different to promote a variety of images produced. It is computed as the expected value of the distance between the images (l_1 norm) generated when using two different styles and the same sources. \n",
        "\n",
        "L_cyc is a characteristic preserving loss. The cyc comes from cyclic as we measusre the distance between the original image and the image generated by using an image generated by this image and the style our style encoder provides as an input. (Notice we use the image generated by the image generated, so that we use the generator two times.)\n",
        "\n",
        "In the end the total loss function is expressed as\n",
        "\n",
        "L_adv + lambda_sty * L_sty + lambda_ds * L_ds + lambda_cyc * L_cyc"
      ]
    },
    {
      "cell_type": "code",
      "metadata": {
        "id": "htzhU_8chtcd"
      },
      "source": [
        "def moving_average(model, model_test, beta=0.999):\n",
        "    for i in range(len(model.weights)):\n",
        "      model_test.weights[i] = (1-beta)*model.weights[i] + beta*model_test.weights[i]"
      ],
      "execution_count": 9,
      "outputs": []
    },
    {
      "cell_type": "code",
      "metadata": {
        "id": "il6WmjVLh1mB"
      },
      "source": [
        "def adv_loss(logits, target):\n",
        "    assert target in [1, 0]\n",
        "    targets = tf.fill(tf.shape(logits), target)\n",
        "    loss = tf.keras.losses.BinaryCrossentropy(from_logits=True)(targets, logits)\n",
        "    return loss"
      ],
      "execution_count": 10,
      "outputs": []
    },
    {
      "cell_type": "code",
      "metadata": {
        "id": "7hX4lAX7h2ZD"
      },
      "source": [
        "def r1_reg(d_out, x_in, g):\n",
        "    # zero-centered gradient penalty for real images\n",
        "    batch_size = tf.shape(x_in)[0]\n",
        "    grad_dout=g.gradient(d_out, x_in)\n",
        "    #grad_dout = tf.gradients(ys=d_out, xs=x_in)\n",
        "    grad_dout2 = tf.square(grad_dout)\n",
        "    grad_dout2 = tf.reshape(grad_dout2,[batch_size, tf.shape(grad_dout2)[1]*tf.shape(grad_dout2)[2]])\n",
        "    reg = 0.5 * tf.math.reduce_mean(tf.math.reduce_sum(grad_dout2, axis=1))\n",
        "    return reg"
      ],
      "execution_count": 11,
      "outputs": []
    },
    {
      "cell_type": "code",
      "metadata": {
        "id": "MOzUelojhUWL"
      },
      "source": [
        "def compute_d_loss(nets, args, x_real, y_org, y_trg, z_trg=None, x_ref=None):\n",
        "  assert (z_trg is None) != (x_ref is None)\n",
        "  # with real images\n",
        "  with tf.GradientTape() as g:\n",
        "    g.watch(x_real)\n",
        "    out = nets['discriminator'](x_real, y_org)\n",
        "    loss_real = adv_loss(out, 1)\n",
        "    loss_reg = r1_reg(out, x_real, g)\n",
        "\n",
        "    # with fake images\n",
        "  if z_trg is not None:\n",
        "    s_trg = nets['mapping_network'](z_trg, y_trg)\n",
        "  else:  # x_ref is not None\n",
        "    s_trg = nets['style_encoder'](x_ref, y_trg)\n",
        "\n",
        "  x_fake = nets['generator'](x_real, s_trg)\n",
        "  out = nets['discriminator'](x_fake, y_trg)\n",
        "  loss_fake = adv_loss(out, 0)\n",
        "\n",
        "  loss = loss_real + loss_fake + args['lambda_reg'] * loss_reg\n",
        "  return loss, {'real': loss_real, 'fake':loss_fake, 'reg':loss_reg}"
      ],
      "execution_count": 12,
      "outputs": []
    },
    {
      "cell_type": "code",
      "metadata": {
        "id": "NpK3H_v0h97Q"
      },
      "source": [
        "def compute_g_loss(nets, args, x_real, y_org, y_trg, z_trgs=None, x_refs=None):\n",
        "  assert (z_trgs is None) != (x_refs is None)\n",
        "  if z_trgs is not None:\n",
        "    z_trg, z_trg2 = z_trgs\n",
        "  if x_refs is not None:\n",
        "    x_ref, x_ref2 = x_refs\n",
        "\n",
        "  # adversarial loss\n",
        "  if z_trgs is not None:\n",
        "    s_trg = nets['mapping_network'](z_trg, y_trg)\n",
        "  else:\n",
        "    s_trg = nets['style_encoder'](x_ref, y_trg)\n",
        "\n",
        "  x_fake = nets['generator'](x_real, s_trg)\n",
        "  out = nets['discriminator'](x_fake, y_trg)\n",
        "  loss_adv = adv_loss(out, 1)\n",
        "\n",
        "  # style reconstruction loss\n",
        "  s_pred = nets['style_encoder'](x_fake, y_trg)\n",
        "  loss_sty = tf.math.reduce_mean(tf.abs(s_pred - s_trg))\n",
        "\n",
        "  # diversity sensitive loss\n",
        "  if z_trgs is not None:\n",
        "    s_trg2 = nets['mapping_network'](z_trg2, y_trg)\n",
        "  else:\n",
        "    s_trg2 = nets['style_encoder'](x_ref2, y_trg)\n",
        "  x_fake2 = nets['generator'](x_real, s_trg2)\n",
        "  loss_ds = tf.math.reduce_mean(tf.abs(x_fake - x_fake2))\n",
        "\n",
        "  # cycle-consistency loss\n",
        "  s_org = nets['style_encoder'](x_real, y_org)\n",
        "  x_rec = nets['generator'](x_fake, s_org)\n",
        "  loss_cyc = tf.math.reduce_mean(tf.abs(x_rec - x_real))\n",
        "\n",
        "  loss = loss_adv + args['lambda_sty'] * loss_sty \\\n",
        "        - args['lambda_ds'] * loss_ds + args['lambda_cyc'] * loss_cyc\n",
        "  return loss, {'adv':loss_adv, 'sty':loss_sty, 'ds':loss_ds, 'cyc':loss_cyc}"
      ],
      "execution_count": 13,
      "outputs": []
    },
    {
      "cell_type": "markdown",
      "metadata": {
        "id": "C_PposMX_NEd"
      },
      "source": [
        "# The Model\n",
        "\n",
        "Here we introduce the class Solver which is the most important class as this will represent our whole model. It will initiate all of our neural networks as well as train our network."
      ]
    },
    {
      "cell_type": "code",
      "metadata": {
        "id": "LBIuDj7t_XjA"
      },
      "source": [
        "class Solver(tf.keras.Model):\n",
        "  def __init__(self, args):\n",
        "    super(Solver, self).__init__()\n",
        "    self.args = args\n",
        "    self.step=0\n",
        "\n",
        "    self.nets, self.nets_ema = self.build_model(self.args)\n",
        "    # below setattrs are to make networks be children of Solver, e.g., for self.to(self.device)\n",
        "    for name in self.nets.keys():\n",
        "      setattr(self, name, self.nets[name])\n",
        "    for name in self.nets_ema.keys():\n",
        "      setattr(self, name + '_ema', self.nets_ema[name])\n",
        "\n",
        "    if args['mode'] == 'train':\n",
        "      self.optims = {}\n",
        "      for net in self.nets.keys():\n",
        "        self.optims[net] = tf.keras.optimizers.Adam(learning_rate= args['f_lr'] if net == 'mapping_network' else args['lr'], \n",
        "                                                    beta_1=args['beta1'], beta_2=args['beta2'], \n",
        "                                                    epsilon=args['weight_decay'])\n",
        "\n",
        "        self.ckptios = [tf.train.Checkpoint(model=net) for net in self.nets.values()]\n",
        "        self.ckptios += [tf.train.Checkpoint(model=net_ema) for net_ema in self.nets_ema.values()]\n",
        "        self.ckptios += [tf.train.Checkpoint(optimizer=optim) for optim in self.optims.values()]\n",
        "    else:\n",
        "      self.ckptios = [tf.train.Checkpoint(model=net_ema) for net_ema in self.nets_ema.values()]\n",
        "\n",
        "    #for name in self.nets.keys():\n",
        "      # Do not initialize the FAN parameters\n",
        "     # print('Initializing %s...' % name)\n",
        "      #self.nets[name].apply(initializer=tf.keras.initializers.HeNormal)\n",
        "\n",
        "  def build_model(self, args):\n",
        "    generator = Generator(args['img_size'], args['style_dim'])\n",
        "    mapping_network = MappingNetwork(args['latent_dim'], args['style_dim'], args['num_domains'])\n",
        "    style_encoder = StyleEncoder(args['img_size'], args['style_dim'], args['num_domains'])\n",
        "    discriminator = Discriminator(args['img_size'], args['num_domains'])\n",
        "    generator_ema = Generator(args['img_size'], args['style_dim'])\n",
        "    mapping_network_ema = MappingNetwork(args['latent_dim'], args['style_dim'], args['num_domains'])\n",
        "    style_encoder_ema = StyleEncoder(args['img_size'], args['style_dim'], args['num_domains'])\n",
        "\n",
        "    nets = {'generator':generator, 'mapping_network':mapping_network,\n",
        "            'style_encoder':style_encoder, 'discriminator':discriminator}\n",
        "    nets_ema = {'generator':generator_ema, 'mapping_network':mapping_network_ema,\n",
        "                'style_encoder':style_encoder_ema}\n",
        "\n",
        "    nets['discriminator'](inputs[0]['x_src'],inputs[0]['y_src'])\n",
        "    s_trg = nets['mapping_network'](inputs[0]['z_trg'],inputs[0]['y_src'])\n",
        "    nets['generator'](inputs[0]['x_src'],s_trg)\n",
        "    nets['style_encoder'](inputs[0]['x_src'], inputs[0]['y_src'])\n",
        "    s_trg = nets_ema['mapping_network'](inputs[0]['z_trg'],inputs[0]['y_src'])\n",
        "    nets_ema['generator'](inputs[0]['x_src'],s_trg)\n",
        "    nets_ema['style_encoder'](inputs[0]['x_src'], inputs[0]['y_src'])\n",
        "\n",
        "    return nets, nets_ema\n",
        "\n",
        "  def save(self):\n",
        "    for net in solv.nets.keys():\n",
        "      solv.nets[net].save_weights('MNIST_GAN_2/saved_model/'+net+'step'+str(self.step)+'.h5')\n",
        "    for net in solv.nets_ema.keys():\n",
        "      solv.nets[net].save_weights('MNIST_GAN_2/saved_model/'+net+'step'+str(self.step)+'_ema.h5')\n",
        "    \n",
        "    \n",
        "    #for ckptio in self.ckptios:\n",
        "    #  ckptio.save(step)\n",
        "\n",
        "  def load(self, step):\n",
        "    self.step= step\n",
        "    for net in solv.nets.keys():\n",
        "      solv.nets[net].load_weights('MNIST_GAN_2/saved_model/'+net+'step'+str(step)+'.h5')\n",
        "    for net in solv.nets_ema.keys():\n",
        "      solv.nets[net].load_weights('MNIST_GAN_2/saved_model/'+net+'step'+str(step)+'_ema.h5')\n",
        "    \n",
        "    #for ckptio in self.ckptios:\n",
        "    #  ckptio.load(step)\n",
        "\n",
        "#  def _reset_grad(self):\n",
        "#    for optim in self.optims.values():\n",
        "#      optim.zero_grad()\n",
        "\n",
        "  def train(self, inputs, validations):\n",
        "    \"\"\"\n",
        "    inputs is a list of dictionaries that contains a source image, a reference image, domain and latent code information used to train the network\n",
        "    validation is a list that contains validation images\n",
        "    \"\"\"\n",
        "\n",
        "    args = self.args\n",
        "    nets = self.nets\n",
        "    nets_ema = self.nets_ema\n",
        "    optims = self.optims\n",
        "\n",
        "    inputs_val=validations[0]\n",
        "\n",
        "    # resume training if necessary\n",
        "    if args['resume_iter'] > 0:\n",
        "      self.load(args['resume_iter'])\n",
        "\n",
        "    # remember the initial value of ds weight\n",
        "    initial_lambda_ds = args['lambda_ds']\n",
        "\n",
        "    print('Start training...')\n",
        "    start_time = time.time()\n",
        "    for i in range(args['resume_iter'], args['total_iters']):\n",
        "      self.step+=1\n",
        "      # fetch images and labels\n",
        "      input= inputs[i-args['resume_iter']]\n",
        "\n",
        "      x_real, y_org = input['x_src'], input['y_src']\n",
        "      x_ref, x_ref2, y_trg = input['x_ref'], input['x_ref2'], input['y_ref']\n",
        "      z_trg, z_trg2 = input['z_trg'], input['z_trg2']\n",
        "\n",
        "      #print(1.5)\n",
        "\n",
        "      # train the discriminator\n",
        "      with tf.GradientTape() as g:\n",
        "        g.watch(nets['discriminator'].weights)\n",
        "\n",
        "        d_loss, d_losses_latent = compute_d_loss(\n",
        "                nets, args, x_real, y_org, y_trg, z_trg=z_trg)\n",
        "        #self._reset_grad()\n",
        "        #d_loss.backward()\n",
        "        grad=g.gradient(d_loss, nets['discriminator'].weights)\n",
        "        #optims['discriminator'].get_gradients(d_loss, nets['discriminator'].weights)\n",
        "        optims['discriminator'].apply_gradients(zip(grad, nets['discriminator'].weights))\n",
        "\n",
        "      #print(2)\n",
        "\n",
        "      with tf.GradientTape() as g:\n",
        "        g.watch(nets['discriminator'].weights)\n",
        "        d_loss, d_losses_ref = compute_d_loss(\n",
        "                nets, args, x_real, y_org, y_trg, x_ref=x_ref)\n",
        "        #self._reset_grad()\n",
        "        #d_loss.backward()\n",
        "        grad=g.gradient(d_loss, nets['discriminator'].weights)\n",
        "        optims['discriminator'].apply_gradients(zip(grad, nets['discriminator'].weights))\n",
        "\n",
        "      #print(3)\n",
        "\n",
        "      # train the generator\n",
        "      with tf.GradientTape(persistent=True) as g:\n",
        "        g.watch(nets['generator'].weights)\n",
        "        g.watch(nets['mapping_network'].weights)\n",
        "        g.watch(nets['style_encoder'].weights)\n",
        "        g_loss, g_losses_latent = compute_g_loss(\n",
        "                nets, args, x_real, y_org, y_trg, z_trgs=[z_trg, z_trg2])\n",
        "        #self._reset_grad()\n",
        "        #g_loss.backward()\n",
        "        grad=g.gradient(g_loss, nets['generator'].weights)\n",
        "        optims['generator'].apply_gradients(zip(grad, nets['generator'].weights))\n",
        "        grad=g.gradient(g_loss, nets['mapping_network'].weights)\n",
        "        optims['mapping_network'].apply_gradients(zip(grad, nets['mapping_network'].weights))\n",
        "        grad=g.gradient(g_loss, nets['style_encoder'].weights)\n",
        "        optims['style_encoder'].apply_gradients(zip(grad, nets['style_encoder'].weights))\n",
        "        del g\n",
        "\n",
        "      #print(4)\n",
        "      with tf.GradientTape(persistent=True) as g:\n",
        "        g.watch(nets['generator'].weights)\n",
        "        g_loss, g_losses_ref = compute_g_loss(\n",
        "                nets, args, x_real, y_org, y_trg, x_refs=[x_ref, x_ref2])\n",
        "        #self._reset_grad()\n",
        "        #g_loss.backward()\n",
        "        grad=g.gradient(g_loss, nets['generator'].weights)\n",
        "        optims['generator'].apply_gradients(zip(grad, nets['generator'].weights))\n",
        "\n",
        "      #print(5)\n",
        "\n",
        "      # compute moving average of network parameters\n",
        "      moving_average(nets['generator'], nets_ema['generator'], beta=0.999)\n",
        "      moving_average(nets['mapping_network'], nets_ema['mapping_network'], beta=0.999)\n",
        "      moving_average(nets['style_encoder'], nets_ema['style_encoder'], beta=0.999)\n",
        "\n",
        "      #print(6)\n",
        "\n",
        "      # decay weight for diversity sensitive loss\n",
        "      if args['lambda_ds'] > 0:\n",
        "        args['lambda_ds'] -= (initial_lambda_ds / args['ds_iter'])\n",
        "\n",
        "      # print out log info\n",
        "      if (i+1) % args['print_every'] == 0:\n",
        "        elapsed = time.time() - start_time\n",
        "        elapsed = str(datetime.timedelta(seconds=elapsed))[:-7]\n",
        "        log = \"Elapsed time [%s], Iteration [%i/%i], \" % (elapsed, i+1, args['total_iters'])\n",
        "        all_losses = {}\n",
        "        for loss, prefix in [(d_losses_latent,'D/latent_'), (d_losses_ref,'D/ref_'), \n",
        "                             (g_losses_latent,'G/latent_'), (g_losses_ref,'G/ref_')]:\n",
        "          for key, value in loss.items():\n",
        "            all_losses[prefix + key] = value\n",
        "        all_losses['G/lambda_ds'] = args['lambda_ds']\n",
        "        for key, value in all_losses.items():\n",
        "          if key!= 'G/lambda_ds':\n",
        "            print(log+key, value.numpy())\n",
        "          else:\n",
        "            print(log+key, value)\n",
        "\n",
        "      # generate images for debugging\n",
        "      #if (i+1) % args['sample_every'] == 0:\n",
        "      #  os.makedirs(args['sample_dir'], exist_ok=True)\n",
        "      #  debug_image(nets_ema, args, inputs=inputs_val, step=i+1)\n",
        "\n",
        "      # save model checkpoints\n",
        "      if (i+1) % args['save_every'] == 0:\n",
        "        for net in solv.nets.keys():\n",
        "          solv.nets[net].save_weights('MNIST_GAN_2/saved_model/'+net+'step'+str(self.step)+'.h5')\n",
        "        for net in solv.nets_ema.keys():\n",
        "          solv.nets[net].save_weights('MNIST_GAN_2/saved_model/'+net+'step'+str(self.step)+'_ema.h5')\n",
        "      \n",
        "      \n",
        "      #  self._save_checkpoint(step=i+1)\n",
        "\n",
        "  def sample(self, src, ref):\n",
        "    \"\"\"\n",
        "    src     source image that we want to modify\n",
        "    ref     pair of reference image and domain\n",
        "\n",
        "    generates an image that changes source image into the style of the reference image \n",
        "    \"\"\"\n",
        "    args = self.args\n",
        "    nets_ema = self.nets_ema\n",
        "    os.makedirs(args['result_dir'], exist_ok=True)\n",
        "    self._load_checkpoint(args['resume_iter'])\n",
        "\n",
        "    fname = ospj(args['result_dir'], 'reference.jpg')\n",
        "    print('Working on {}...'.format(fname))\n",
        "    translate_using_reference(nets_ema, args, src, ref[0], ref[1], fname)"
      ],
      "execution_count": 14,
      "outputs": []
    },
    {
      "cell_type": "markdown",
      "metadata": {
        "id": "K1nqH_NanX_r"
      },
      "source": [
        "# Data Loading and Preprocessing"
      ]
    },
    {
      "cell_type": "code",
      "metadata": {
        "id": "Wkp2TOCOnbmu"
      },
      "source": [
        "(trainX, trainy), (valX, valy) = load_data()\n",
        "\n",
        "trainX=tf.reshape(trainX, (60000,1,28,28,1))\n",
        "valX=tf.reshape(valX, (10000,1,28,28,1))"
      ],
      "execution_count": 15,
      "outputs": []
    },
    {
      "cell_type": "code",
      "metadata": {
        "id": "KfGnysBhnfeG",
        "outputId": "29a6789d-1bd5-45e6-b3ae-2a36efd2e2a0",
        "colab": {
          "base_uri": "https://localhost:8080/",
          "height": 102
        }
      },
      "source": [
        "\n",
        "inputs=[]\n",
        "latent_dim=8\n",
        "for i in range(6000):\n",
        "  i=i+36000\n",
        "  if i % 2000==1999:\n",
        "    print(i+1)\n",
        "  input={}\n",
        "  input['x_src']=tf.cast(trainX[i],tf.float32)\n",
        "  input['y_src']=int(trainy[i])\n",
        "  n=np.random.randint(0,60000)\n",
        "  input['x_ref']=tf.cast(trainX[n],tf.float32)\n",
        "  input['x_ref2']=tf.cast(trainX[np.random.randint(0,60000)],tf.float32)\n",
        "  input['y_ref']=int(trainy[n])\n",
        "  input['z_trg']=tf.random.normal((1,latent_dim))\n",
        "  input['z_trg2']=tf.random.normal((1,latent_dim))\n",
        "  inputs.append(input)"
      ],
      "execution_count": 16,
      "outputs": [
        {
          "output_type": "stream",
          "name": "stdout",
          "text": [
            "38000\n",
            "40000\n",
            "42000\n"
          ]
        }
      ]
    },
    {
      "cell_type": "markdown",
      "metadata": {
        "id": "_lQnUhqyZfMQ"
      },
      "source": [
        "# Parameters\n",
        "\n",
        "This dictionary contains the different parameters we use to run the model."
      ]
    },
    {
      "cell_type": "code",
      "metadata": {
        "id": "b5bhGZY2hkGi"
      },
      "source": [
        "args={'img_size':28,\n",
        "      'style_dim':24,\n",
        "      'latent_dim':16,\n",
        "      'num_domains':10,\n",
        "      'lambda_reg':1, \n",
        "      'lambda_ds':1,\n",
        "      'lambda_sty':10,\n",
        "      'lambda_cyc':10,\n",
        "      'hidden_dim':128,\n",
        "      'resume_iter':0,\n",
        "      'ds_iter':6000,  \n",
        "      'total_iters':6000,\n",
        "      'batch_size':8,\n",
        "      'val_batch_size':32,  \n",
        "      'lr':1e-4,\n",
        "      'f_lr':1e-6,\n",
        "      'beta1':0,\n",
        "      'beta2':0.99,\n",
        "      'weight_decay':1e-4,\n",
        "      'num_outs_per_domain':4,\n",
        "      'mode': 'train',  #train,sample,eval\n",
        "      'seed':0,\n",
        "      'train_img_dir':'GAN/data/train',\n",
        "      'val_img_dir': 'GAN/data/val',\n",
        "      'sample_dir':'GAN/res/samples',\n",
        "      'checkpoint_dir':'GAN/res/checkpoints',\n",
        "      'eval_dir':'GAN/res/eval',\n",
        "      'result_dir':'GAN/res/results',\n",
        "      'src_dir':'GAN/data/src', \n",
        "      'ref_dir':'GAN/data/ref',\n",
        "      'print_every': 500,\n",
        "      'sample_every':200,\n",
        "      'save_every':1000,\n",
        "      'eval_every':1000 }"
      ],
      "execution_count": 17,
      "outputs": []
    },
    {
      "cell_type": "markdown",
      "metadata": {
        "id": "aRxr0xdqajQx"
      },
      "source": [
        "# Load Model"
      ]
    },
    {
      "cell_type": "code",
      "metadata": {
        "id": "edoX0YFH5Zdb"
      },
      "source": [
        "solv=Solver(args)\n",
        "solv.build_model(args)\n",
        "solv.load(96000)"
      ],
      "execution_count": 18,
      "outputs": []
    },
    {
      "cell_type": "markdown",
      "metadata": {
        "id": "f7Lk-dm-L7sg"
      },
      "source": [
        "# Training"
      ]
    },
    {
      "cell_type": "code",
      "metadata": {
        "id": "YwL2FjeoL9MY",
        "outputId": "74692085-c9a7-4116-ee8f-93e29bafd46a",
        "colab": {
          "base_uri": "https://localhost:8080/",
          "height": 1000
        }
      },
      "source": [
        "with tf.device('/device:GPU:0'):\n",
        "  solv.train(inputs, inputs)"
      ],
      "execution_count": 19,
      "outputs": [
        {
          "output_type": "stream",
          "name": "stdout",
          "text": [
            "Start training...\n",
            "WARNING:tensorflow:Calling GradientTape.gradient on a persistent tape inside its context is significantly less efficient than calling it outside the context (it causes the gradient ops to be recorded on the tape, leading to increased CPU and memory usage). Only call GradientTape.gradient inside the context if you actually want to trace the gradient in order to compute higher order derivatives.\n",
            "WARNING:tensorflow:Calling GradientTape.gradient on a persistent tape inside its context is significantly less efficient than calling it outside the context (it causes the gradient ops to be recorded on the tape, leading to increased CPU and memory usage). Only call GradientTape.gradient inside the context if you actually want to trace the gradient in order to compute higher order derivatives.\n",
            "WARNING:tensorflow:Calling GradientTape.gradient on a persistent tape inside its context is significantly less efficient than calling it outside the context (it causes the gradient ops to be recorded on the tape, leading to increased CPU and memory usage). Only call GradientTape.gradient inside the context if you actually want to trace the gradient in order to compute higher order derivatives.\n",
            "WARNING:tensorflow:Calling GradientTape.gradient on a persistent tape inside its context is significantly less efficient than calling it outside the context (it causes the gradient ops to be recorded on the tape, leading to increased CPU and memory usage). Only call GradientTape.gradient inside the context if you actually want to trace the gradient in order to compute higher order derivatives.\n",
            "Elapsed time [0:18:08], Iteration [500/6000], D/latent_real 5.933643e-06\n",
            "Elapsed time [0:18:08], Iteration [500/6000], D/latent_fake 1.3552595e-08\n",
            "Elapsed time [0:18:08], Iteration [500/6000], D/latent_reg 5.7575995e-05\n",
            "Elapsed time [0:18:08], Iteration [500/6000], D/ref_real 5.965053e-06\n",
            "Elapsed time [0:18:08], Iteration [500/6000], D/ref_fake 1.6118185e-16\n",
            "Elapsed time [0:18:08], Iteration [500/6000], D/ref_reg 5.745954e-05\n",
            "Elapsed time [0:18:08], Iteration [500/6000], G/latent_adv 18.11265\n",
            "Elapsed time [0:18:08], Iteration [500/6000], G/latent_sty 0.03147651\n",
            "Elapsed time [0:18:08], Iteration [500/6000], G/latent_ds 35.073742\n",
            "Elapsed time [0:18:08], Iteration [500/6000], G/latent_cyc 35.35375\n",
            "Elapsed time [0:18:08], Iteration [500/6000], G/ref_adv 37.213753\n",
            "Elapsed time [0:18:08], Iteration [500/6000], G/ref_sty 941.0832\n",
            "Elapsed time [0:18:08], Iteration [500/6000], G/ref_ds 0.6424262\n",
            "Elapsed time [0:18:08], Iteration [500/6000], G/ref_cyc 35.773685\n",
            "Elapsed time [0:18:08], Iteration [500/6000], G/lambda_ds 0.9166666666666758\n",
            "Elapsed time [0:34:51], Iteration [1000/6000], D/latent_real 3.2877884e-05\n",
            "Elapsed time [0:34:51], Iteration [1000/6000], D/latent_fake 5.9242324e-05\n",
            "Elapsed time [0:34:51], Iteration [1000/6000], D/latent_reg 1.7900673e-05\n",
            "Elapsed time [0:34:51], Iteration [1000/6000], D/ref_real 3.2785334e-05\n",
            "Elapsed time [0:34:51], Iteration [1000/6000], D/ref_fake 3.3252056e-07\n",
            "Elapsed time [0:34:51], Iteration [1000/6000], D/ref_reg 1.7910741e-05\n",
            "Elapsed time [0:34:51], Iteration [1000/6000], G/latent_adv 9.766323\n",
            "Elapsed time [0:34:51], Iteration [1000/6000], G/latent_sty 0.04155442\n",
            "Elapsed time [0:34:51], Iteration [1000/6000], G/latent_ds 33.543137\n",
            "Elapsed time [0:34:51], Iteration [1000/6000], G/latent_cyc 30.618359\n",
            "Elapsed time [0:34:51], Iteration [1000/6000], G/ref_adv 14.91778\n",
            "Elapsed time [0:34:51], Iteration [1000/6000], G/ref_sty 4931.98\n",
            "Elapsed time [0:34:51], Iteration [1000/6000], G/ref_ds 3.2844734\n",
            "Elapsed time [0:34:51], Iteration [1000/6000], G/ref_cyc 30.256683\n",
            "Elapsed time [0:34:51], Iteration [1000/6000], G/lambda_ds 0.8333333333333517\n",
            "Elapsed time [0:51:21], Iteration [1500/6000], D/latent_real 3.895065e-06\n",
            "Elapsed time [0:51:21], Iteration [1500/6000], D/latent_fake 1.8259102e-09\n",
            "Elapsed time [0:51:21], Iteration [1500/6000], D/latent_reg 2.7209067e-05\n",
            "Elapsed time [0:51:21], Iteration [1500/6000], D/ref_real 3.889516e-06\n",
            "Elapsed time [0:51:21], Iteration [1500/6000], D/ref_fake 3.044195e-13\n",
            "Elapsed time [0:51:21], Iteration [1500/6000], D/ref_reg 2.7181919e-05\n",
            "Elapsed time [0:51:21], Iteration [1500/6000], G/latent_adv 20.124987\n",
            "Elapsed time [0:51:21], Iteration [1500/6000], G/latent_sty 0.042978738\n",
            "Elapsed time [0:51:21], Iteration [1500/6000], G/latent_ds 6.781559\n",
            "Elapsed time [0:51:21], Iteration [1500/6000], G/latent_cyc 24.195248\n",
            "Elapsed time [0:51:21], Iteration [1500/6000], G/ref_adv 28.627546\n",
            "Elapsed time [0:51:21], Iteration [1500/6000], G/ref_sty 2035.4679\n",
            "Elapsed time [0:51:21], Iteration [1500/6000], G/ref_ds 1.2784641\n",
            "Elapsed time [0:51:21], Iteration [1500/6000], G/ref_cyc 21.998203\n",
            "Elapsed time [0:51:21], Iteration [1500/6000], G/lambda_ds 0.7500000000000275\n",
            "Elapsed time [1:07:58], Iteration [2000/6000], D/latent_real 2.5237994e-06\n",
            "Elapsed time [1:07:58], Iteration [2000/6000], D/latent_fake 1.6464643e-12\n",
            "Elapsed time [1:07:58], Iteration [2000/6000], D/latent_reg 2.9553012e-05\n",
            "Elapsed time [1:07:58], Iteration [2000/6000], D/ref_real 2.5142215e-06\n",
            "Elapsed time [1:07:58], Iteration [2000/6000], D/ref_fake 1.6905084e-09\n",
            "Elapsed time [1:07:58], Iteration [2000/6000], D/ref_reg 2.9505836e-05\n",
            "Elapsed time [1:07:58], Iteration [2000/6000], G/latent_adv 27.145195\n",
            "Elapsed time [1:07:58], Iteration [2000/6000], G/latent_sty 0.083152466\n",
            "Elapsed time [1:07:58], Iteration [2000/6000], G/latent_ds 32.264793\n",
            "Elapsed time [1:07:58], Iteration [2000/6000], G/latent_cyc 35.44804\n",
            "Elapsed time [1:07:58], Iteration [2000/6000], G/ref_adv 20.16832\n",
            "Elapsed time [1:07:58], Iteration [2000/6000], G/ref_sty 2833.9543\n",
            "Elapsed time [1:07:58], Iteration [2000/6000], G/ref_ds 5.3448505\n",
            "Elapsed time [1:07:58], Iteration [2000/6000], G/ref_cyc 35.21791\n",
            "Elapsed time [1:07:58], Iteration [2000/6000], G/lambda_ds 0.6666666666667034\n",
            "Elapsed time [1:24:39], Iteration [2500/6000], D/latent_real 0.00011105127\n",
            "Elapsed time [1:24:39], Iteration [2500/6000], D/latent_fake 1.5896394e-14\n",
            "Elapsed time [1:24:39], Iteration [2500/6000], D/latent_reg 0.002541282\n",
            "Elapsed time [1:24:39], Iteration [2500/6000], D/ref_real 0.000100846126\n",
            "Elapsed time [1:24:39], Iteration [2500/6000], D/ref_fake 7.2359145e-16\n",
            "Elapsed time [1:24:39], Iteration [2500/6000], D/ref_reg 0.0024638632\n",
            "Elapsed time [1:24:39], Iteration [2500/6000], G/latent_adv 31.634012\n",
            "Elapsed time [1:24:39], Iteration [2500/6000], G/latent_sty 0.03502376\n",
            "Elapsed time [1:24:39], Iteration [2500/6000], G/latent_ds 17.42342\n",
            "Elapsed time [1:24:39], Iteration [2500/6000], G/latent_cyc 18.593584\n",
            "Elapsed time [1:24:39], Iteration [2500/6000], G/ref_adv 34.839787\n",
            "Elapsed time [1:24:39], Iteration [2500/6000], G/ref_sty 3970.8281\n",
            "Elapsed time [1:24:39], Iteration [2500/6000], G/ref_ds 0.8345002\n",
            "Elapsed time [1:24:39], Iteration [2500/6000], G/ref_cyc 18.072935\n",
            "Elapsed time [1:24:39], Iteration [2500/6000], G/lambda_ds 0.5833333333333792\n",
            "Elapsed time [1:41:22], Iteration [3000/6000], D/latent_real 5.3445833e-06\n",
            "Elapsed time [1:41:22], Iteration [3000/6000], D/latent_fake 8.820166e-10\n",
            "Elapsed time [1:41:22], Iteration [3000/6000], D/latent_reg 6.4297914e-05\n",
            "Elapsed time [1:41:22], Iteration [3000/6000], D/ref_real 5.36975e-06\n",
            "Elapsed time [1:41:22], Iteration [3000/6000], D/ref_fake 3.0929835e-13\n",
            "Elapsed time [1:41:22], Iteration [3000/6000], D/ref_reg 6.230037e-05\n",
            "Elapsed time [1:41:22], Iteration [3000/6000], G/latent_adv 20.843857\n",
            "Elapsed time [1:41:22], Iteration [3000/6000], G/latent_sty 0.03444063\n",
            "Elapsed time [1:41:22], Iteration [3000/6000], G/latent_ds 9.778823\n",
            "Elapsed time [1:41:22], Iteration [3000/6000], G/latent_cyc 28.097446\n",
            "Elapsed time [1:41:22], Iteration [3000/6000], G/ref_adv 28.774145\n",
            "Elapsed time [1:41:22], Iteration [3000/6000], G/ref_sty 2043.1276\n",
            "Elapsed time [1:41:22], Iteration [3000/6000], G/ref_ds 0.5735893\n",
            "Elapsed time [1:41:22], Iteration [3000/6000], G/ref_cyc 28.21649\n",
            "Elapsed time [1:41:22], Iteration [3000/6000], G/lambda_ds 0.5000000000000551\n",
            "Elapsed time [1:58:17], Iteration [3500/6000], D/latent_real 4.4489816e-06\n",
            "Elapsed time [1:58:17], Iteration [3500/6000], D/latent_fake 3.4955981e-12\n",
            "Elapsed time [1:58:17], Iteration [3500/6000], D/latent_reg 1.8419665e-05\n",
            "Elapsed time [1:58:17], Iteration [3500/6000], D/ref_real 4.4123353e-06\n",
            "Elapsed time [1:58:17], Iteration [3500/6000], D/ref_fake 4.5671822e-18\n",
            "Elapsed time [1:58:17], Iteration [3500/6000], D/ref_reg 1.8420711e-05\n",
            "Elapsed time [1:58:17], Iteration [3500/6000], G/latent_adv 26.39033\n",
            "Elapsed time [1:58:17], Iteration [3500/6000], G/latent_sty 0.024623169\n",
            "Elapsed time [1:58:17], Iteration [3500/6000], G/latent_ds 2.0222964\n",
            "Elapsed time [1:58:17], Iteration [3500/6000], G/latent_cyc 28.361814\n",
            "Elapsed time [1:58:17], Iteration [3500/6000], G/ref_adv 40.008335\n",
            "Elapsed time [1:58:17], Iteration [3500/6000], G/ref_sty 825.08575\n",
            "Elapsed time [1:58:17], Iteration [3500/6000], G/ref_ds 0.13139339\n",
            "Elapsed time [1:58:17], Iteration [3500/6000], G/ref_cyc 27.434856\n",
            "Elapsed time [1:58:17], Iteration [3500/6000], G/lambda_ds 0.4166666666667309\n",
            "Elapsed time [2:14:58], Iteration [4000/6000], D/latent_real 3.6162882e-07\n",
            "Elapsed time [2:14:58], Iteration [4000/6000], D/latent_fake 5.1923527e-10\n",
            "Elapsed time [2:14:58], Iteration [4000/6000], D/latent_reg 3.846259e-05\n",
            "Elapsed time [2:14:58], Iteration [4000/6000], D/ref_real 3.6288532e-07\n",
            "Elapsed time [2:14:58], Iteration [4000/6000], D/ref_fake 5.942721e-08\n",
            "Elapsed time [2:14:58], Iteration [4000/6000], D/ref_reg 3.843496e-05\n",
            "Elapsed time [2:14:58], Iteration [4000/6000], G/latent_adv 21.378086\n",
            "Elapsed time [2:14:58], Iteration [4000/6000], G/latent_sty 0.106728025\n",
            "Elapsed time [2:14:58], Iteration [4000/6000], G/latent_ds 20.904701\n",
            "Elapsed time [2:14:58], Iteration [4000/6000], G/latent_cyc 42.642372\n",
            "Elapsed time [2:14:58], Iteration [4000/6000], G/ref_adv 17.064861\n",
            "Elapsed time [2:14:58], Iteration [4000/6000], G/ref_sty 51.672703\n",
            "Elapsed time [2:14:58], Iteration [4000/6000], G/ref_ds 2.3570015\n",
            "Elapsed time [2:14:58], Iteration [4000/6000], G/ref_cyc 42.118973\n",
            "Elapsed time [2:14:58], Iteration [4000/6000], G/lambda_ds 0.33333333333340676\n",
            "Elapsed time [2:31:26], Iteration [4500/6000], D/latent_real 1.2024437e-06\n",
            "Elapsed time [2:31:26], Iteration [4500/6000], D/latent_fake 9.023747e-11\n",
            "Elapsed time [2:31:26], Iteration [4500/6000], D/latent_reg 2.4809478e-05\n",
            "Elapsed time [2:31:26], Iteration [4500/6000], D/ref_real 1.2103014e-06\n",
            "Elapsed time [2:31:26], Iteration [4500/6000], D/ref_fake 1.2240717e-15\n",
            "Elapsed time [2:31:26], Iteration [4500/6000], D/ref_reg 2.4771667e-05\n",
            "Elapsed time [2:31:26], Iteration [4500/6000], G/latent_adv 23.126303\n",
            "Elapsed time [2:31:26], Iteration [4500/6000], G/latent_sty 0.05421421\n",
            "Elapsed time [2:31:26], Iteration [4500/6000], G/latent_ds 22.202696\n",
            "Elapsed time [2:31:26], Iteration [4500/6000], G/latent_cyc 26.787922\n",
            "Elapsed time [2:31:26], Iteration [4500/6000], G/ref_adv 34.32032\n",
            "Elapsed time [2:31:26], Iteration [4500/6000], G/ref_sty 1543.9764\n",
            "Elapsed time [2:31:26], Iteration [4500/6000], G/ref_ds 0.5546016\n",
            "Elapsed time [2:31:26], Iteration [4500/6000], G/ref_cyc 26.969646\n",
            "Elapsed time [2:31:26], Iteration [4500/6000], G/lambda_ds 0.2500000000000826\n",
            "Elapsed time [2:47:51], Iteration [5000/6000], D/latent_real 3.7615814e-06\n",
            "Elapsed time [2:47:51], Iteration [5000/6000], D/latent_fake 6.1679136e-19\n",
            "Elapsed time [2:47:51], Iteration [5000/6000], D/latent_reg 1.4114717e-05\n",
            "Elapsed time [2:47:51], Iteration [5000/6000], D/ref_real 3.7170662e-06\n",
            "Elapsed time [2:47:51], Iteration [5000/6000], D/ref_fake 1.3349664e-15\n",
            "Elapsed time [2:47:51], Iteration [5000/6000], D/ref_reg 1.4105939e-05\n",
            "Elapsed time [2:47:51], Iteration [5000/6000], G/latent_adv 42.000294\n",
            "Elapsed time [2:47:51], Iteration [5000/6000], G/latent_sty 0.03513376\n",
            "Elapsed time [2:47:51], Iteration [5000/6000], G/latent_ds 2.6810305\n",
            "Elapsed time [2:47:51], Iteration [5000/6000], G/latent_cyc 16.486334\n",
            "Elapsed time [2:47:51], Iteration [5000/6000], G/ref_adv 34.27865\n",
            "Elapsed time [2:47:51], Iteration [5000/6000], G/ref_sty 1753.359\n",
            "Elapsed time [2:47:51], Iteration [5000/6000], G/ref_ds 0.62547046\n",
            "Elapsed time [2:47:51], Iteration [5000/6000], G/ref_cyc 17.005342\n",
            "Elapsed time [2:47:51], Iteration [5000/6000], G/lambda_ds 0.16666666666674457\n",
            "Elapsed time [3:04:31], Iteration [5500/6000], D/latent_real 9.165446e-07\n",
            "Elapsed time [3:04:31], Iteration [5500/6000], D/latent_fake 9.630188e-10\n",
            "Elapsed time [3:04:31], Iteration [5500/6000], D/latent_reg 2.2647702e-05\n",
            "Elapsed time [3:04:31], Iteration [5500/6000], D/ref_real 9.2337206e-07\n",
            "Elapsed time [3:04:31], Iteration [5500/6000], D/ref_fake 1.4190508e-07\n",
            "Elapsed time [3:04:31], Iteration [5500/6000], D/ref_reg 2.254527e-05\n",
            "Elapsed time [3:04:31], Iteration [5500/6000], G/latent_adv 20.79223\n",
            "Elapsed time [3:04:31], Iteration [5500/6000], G/latent_sty 0.026682168\n",
            "Elapsed time [3:04:31], Iteration [5500/6000], G/latent_ds 11.481898\n",
            "Elapsed time [3:04:31], Iteration [5500/6000], G/latent_cyc 28.555185\n",
            "Elapsed time [3:04:31], Iteration [5500/6000], G/ref_adv 15.918713\n",
            "Elapsed time [3:04:31], Iteration [5500/6000], G/ref_sty 1588.65\n",
            "Elapsed time [3:04:31], Iteration [5500/6000], G/ref_ds 0.9953184\n",
            "Elapsed time [3:04:31], Iteration [5500/6000], G/ref_cyc 29.72444\n",
            "Elapsed time [3:04:31], Iteration [5500/6000], G/lambda_ds 0.08333333333341\n",
            "Elapsed time [3:21:09], Iteration [6000/6000], D/latent_real 3.292037e-05\n",
            "Elapsed time [3:21:09], Iteration [6000/6000], D/latent_fake 2.396092e-10\n",
            "Elapsed time [3:21:09], Iteration [6000/6000], D/latent_reg 3.2086697e-05\n",
            "Elapsed time [3:21:09], Iteration [6000/6000], D/ref_real 3.259703e-05\n",
            "Elapsed time [3:21:09], Iteration [6000/6000], D/ref_fake 7.805121e-13\n",
            "Elapsed time [3:21:09], Iteration [6000/6000], D/ref_reg 3.2122865e-05\n",
            "Elapsed time [3:21:09], Iteration [6000/6000], G/latent_adv 22.151058\n",
            "Elapsed time [3:21:09], Iteration [6000/6000], G/latent_sty 0.03772318\n",
            "Elapsed time [3:21:09], Iteration [6000/6000], G/latent_ds 4.0022397\n",
            "Elapsed time [3:21:09], Iteration [6000/6000], G/latent_cyc 45.717335\n",
            "Elapsed time [3:21:09], Iteration [6000/6000], G/ref_adv 27.884796\n",
            "Elapsed time [3:21:09], Iteration [6000/6000], G/ref_sty 1092.5536\n",
            "Elapsed time [3:21:09], Iteration [6000/6000], G/ref_ds 1.0627509\n",
            "Elapsed time [3:21:09], Iteration [6000/6000], G/ref_cyc 45.289036\n",
            "Elapsed time [3:21:09], Iteration [6000/6000], G/lambda_ds 7.683496850915961e-14\n"
          ]
        }
      ]
    },
    {
      "cell_type": "markdown",
      "metadata": {
        "id": "dMzzM5poyVg2"
      },
      "source": [
        "# Results\n",
        "\n",
        "In this first cell we show an image where the rows represent a source image and the columns the style they are trying to mimic. We can see in this case that that the image still highly resembles the source image but has obtained some characteristics depending on the style of our reference. In most cases this style is mostly about the thickness of the lines, but it does vary slightly in other ways."
      ]
    },
    {
      "cell_type": "code",
      "metadata": {
        "id": "tDyfNQeAyW42"
      },
      "source": [
        "import matplotlib.pyplot as pyplot\n",
        "for i in range(4):\n",
        "\tpyplot.subplot(5,5,2+i)\n",
        "\tpyplot.axis('off')\n",
        "\tpyplot.imshow(np.reshape(inputs[i]['x_ref'],[28,28]), cmap='gray_r')\n",
        "for i in range(4):\n",
        "\tpyplot.subplot(5, 5, 5*(i+1) + 1)\n",
        "\tpyplot.axis('off')\n",
        "\tpyplot.imshow(np.reshape(inputs[i]['x_src'], [28,28]), cmap='gray_r')\n",
        "\tfor j in range(4):\n",
        "\t\tpyplot.subplot(5, 5, 5*(i+1) + j +2)\n",
        "\t\tpyplot.axis('off')\n",
        "\t\tpyplot.imshow(np.reshape(solv.nets['generator'](inputs[i]['x_src'],solv.nets['style_encoder'](inputs[j]['x_ref'],inputs[j]['y_ref'])).numpy(), [28,28]), cmap='gray_r')\n",
        "pyplot.show()\n",
        "\n",
        "#left is source and top is the target trying to mimic its font"
      ],
      "execution_count": 20,
      "outputs": [
        {
          "output_type": "display_data",
          "data": {
            "text/plain": "<Figure size 432x288 with 24 Axes>",
            "image/svg+xml": "<?xml version=\"1.0\" encoding=\"utf-8\" standalone=\"no\"?>\r\n<!DOCTYPE svg PUBLIC \"-//W3C//DTD SVG 1.1//EN\"\r\n  \"http://www.w3.org/Graphics/SVG/1.1/DTD/svg11.dtd\">\r\n<!-- Created with matplotlib (https://matplotlib.org/) -->\r\n<svg height=\"231.84pt\" version=\"1.1\" viewBox=\"0 0 328.965517 231.84\" width=\"328.965517pt\" xmlns=\"http://www.w3.org/2000/svg\" xmlns:xlink=\"http://www.w3.org/1999/xlink\">\r\n <metadata>\r\n  <rdf:RDF xmlns:cc=\"http://creativecommons.org/ns#\" xmlns:dc=\"http://purl.org/dc/elements/1.1/\" xmlns:rdf=\"http://www.w3.org/1999/02/22-rdf-syntax-ns#\">\r\n   <cc:Work>\r\n    <dc:type rdf:resource=\"http://purl.org/dc/dcmitype/StillImage\"/>\r\n    <dc:date>2020-10-28T23:40:07.321914</dc:date>\r\n    <dc:format>image/svg+xml</dc:format>\r\n    <dc:creator>\r\n     <cc:Agent>\r\n      <dc:title>Matplotlib v3.3.2, https://matplotlib.org/</dc:title>\r\n     </cc:Agent>\r\n    </dc:creator>\r\n   </cc:Work>\r\n  </rdf:RDF>\r\n </metadata>\r\n <defs>\r\n  <style type=\"text/css\">*{stroke-linecap:butt;stroke-linejoin:round;}</style>\r\n </defs>\r\n <g id=\"figure_1\">\r\n  <g id=\"patch_1\">\r\n   <path d=\"M 0 231.84 \r\nL 328.965517 231.84 \r\nL 328.965517 0 \r\nL 0 0 \r\nz\r\n\" style=\"fill:none;\"/>\r\n  </g>\r\n  <g id=\"axes_1\">\r\n   <g clip-path=\"url(#pd42292c0d2)\">\r\n    <image height=\"38\" id=\"imageddcef66ddd\" transform=\"scale(1 -1)translate(0 -38)\" width=\"38\" x=\"76.468966\" xlink:href=\"data:image/png;base64,\r\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\" y=\"-6.689655\"/>\r\n   </g>\r\n  </g>\r\n  <g id=\"axes_2\">\r\n   <g clip-path=\"url(#p0fe0dfd6a4)\">\r\n    <image height=\"38\" id=\"image7d528271c2\" transform=\"scale(1 -1)translate(0 -38)\" width=\"38\" x=\"145.737931\" xlink:href=\"data:image/png;base64,\r\niVBORw0KGgoAAAANSUhEUgAAACYAAAAmCAYAAACoPemuAAAE8UlEQVR4nO2YQW8SXRSGnwEGOiKD1CLQYFs1naqxCSYuarVNNGoXLlx3Y+LC36ALf4cbV2x0o4nGhdFGZUJaNdqoDdTggiG2YFtoQBAFmeF+qzY2n61C8dPF965mJjfnPHPnnveeO5IQQvAXyvanATbT/2Ct6n+wVuXoZLBqtcry8jL1eh232004HMZma/PdRYdkWZbQdV1MTEyIgYEBcfHiRVGpVNqOt+0Zq1QqpNNp4vE4169fJ5vNomkaly5dwuVytR23LTAhBPV6nVgsxrt370in0ySTSQzDYPfu3aiqSiqV4u3btyiKws6dOwkEAhw9ehSPx4Msy78HrFqtks1muXXrFs+ePePjx49Uq1WEEITDYQKBAKlUing8js1mQ1VVDhw4gMvlYt++ffT09Px8Nlv99o1GQ9y7d0+cPXtWSJIkFEURHo9HeDweAYjJyUkRjUbFysqKuH//vrh8+bLQNE0A4siRI+Lq1atienq682tsdnYWXdd58eIFQggmJyfxer28f/+ehw8fAiDLMj6fj/HxcQYHBzl//jw3b97kyZMn3Llzh3Q6zcGDB/F6vdjt9h/maRns+fPnzM3NUalU6O7uZmRkhGAwiKqqPH78mEKhQC6XwzRNVFWlq6sLRVFYWFggFouRy+Ww2+3E43FOnTqFqqo/zNOyyei6TiKRwOFw0NfXRyQSYWRkhNHRURRFwTAMEokEhUKBZrOJ0+nE7/czPj6Oz+fDNE2y2Sy3b9+mVCptmqdt57fb7etV5vf7OXnyJJqmUSgU0HWdGzduUKvVAFAUheHhYS5cuMChQ4eo1+u8fv2ar1+/dh4MQJKk9WtZlpmYmGDv3r0Ui0Xu3r3L1NQUi4uLWJZFqVRiZmaGTCYDQLPZRGzRCnZsS7LZbIyNjTE/P0+xWCSdTvPgwQPK5TL9/f0sLS1hGAblchmn00l3dzcOx+bptwX2/Rvb7XbOnDlDIpFgdXWVWCxGNBrl5cuXBAIBDMMgn8/TbDZxuVxomrall7UNZlkWyWSSarW64fnp06dxOBwsLi5iGAZv3rzBZrNhWRZCCLxeL0NDQ1y7do1AIPB7wD58+PCvBTwwMIAsy7jdbqLRKJlMhkKhQLVaJRgMMjw8zOjoKKFQaMutqWUwr9eLoig0m01KpRKmaSKEWC+ENe/yer2srKyQSqXI5XLk83kGBweJRCIcO3YMRVG2zNMy2OHDh8lkMhiGAYBpmliWtWEhO51Oent7uXLlCp8/f6ZYLLKwsEB/fz+7du3C7Xb/NE/LYJqmMTc3B0CtVuPVq1f09PQQiUR+ON7tdrNjxw5CoRA2m+2XG8eWwfr6+vD7/ev3jUYD0zQ3HS9JEpIktdzJtmywoVCIPXv20NXVBUCpVKJcLrcapvNggUCA/fv3MzQ0BMDTp0+ZmZnZ0sX/EzBJkujt7eX48eNIksT8/Dy6rvPo0SMsy/pzYADhcJgTJ07gcrn49u0blUqFfD7fMai2wdZmTFVVHA4HX758IZvNblkELavV1npNpVJJnDt3Tvh8PiHLsggGgyKTyYhardZuyA3qyEm80Wjw6dMnpqamWFpa6kTI7TWKmqatu3ij0WB6eprl5eWOFEHbm7gsy4yNjTE7O0utVkOSJJLJJKurq5imuekh41cliW0YkBBiQye65vDfd7Z/BOx36q/9DfXXgv0DLElpHe0jUngAAAAASUVORK5CYII=\" y=\"-6.689655\"/>\r\n   </g>\r\n  </g>\r\n  <g id=\"axes_3\">\r\n   <g clip-path=\"url(#p091ce6ab24)\">\r\n    <image height=\"38\" id=\"imagef5c48f11a9\" transform=\"scale(1 -1)translate(0 -38)\" width=\"38\" x=\"215.006897\" xlink:href=\"data:image/png;base64,\r\niVBORw0KGgoAAAANSUhEUgAAACYAAAAmCAYAAACoPemuAAAFmUlEQVR4nO2YS0xTWxfHf+fQF+fQ2mp5+yLBpiBFTdH4oAOiJurAkJg4caIJiYkjxw507sCZCRNNHJAwMZGRL+zA6ABJMSRoiELTCkUelT5oe+zr7G/wRXK5UFrgmuvg/pMz2d1rrd/Zj7XWqSSEEPyBkv9tgFL6D2yr+mPBDFuZnMvlmJqaQtM0CoUC4+PjhEIh0un0mnmKotDc3MypU6c4ePAge/bs+T1gQghyuRzhcJi3b98Sj8fJ5XL4/X7Gx8dJJBJr5ttsNtxuN+l0Gp/PR3t7OzabDUmSkCSpMjJRgTRNE8FgUNy8eVPU1tYKSZIqeiwWi7h27ZoYHBwU8XhcZDIZkc/nKwkppHJ5LJVK8fDhQ/r7+4nH46RSKYrFYmVvDVitVhRFQVEUzpw5g9vtxuVy0dnZyYEDBzCbzRvald1KXdeJxWKEw+E1werq6vD5fJva/vz5k0AgwNevXwGQZZlgMMjExAQWi4WGhobtg20kh8OBx+Ph1q1byHLpix2LxdB1ncXFRQCi0SiRSISpqSm6u7vJ5/MlbbcF1tTURE9PD16vd9PDnEqlSCQSHDp0aHVsZGSEqampsjHKnrF8Ps/w8DDPnj1jYGAATdOwWq00NDTg8Xi4ceMGR48epampaZ2truskk0k0TVsdm5ubIxqN0trayr59+zCZTBvGLbtiBoMBt9vNhQsXCAaDfPjwgZWVFbLZLIlEgtraWpLJJGfPnqW2tnaNrSzL2O127Hb76pjNZkPTNBRFwWg0lo5bDkySJFpaWnA6nUSjUaanp9E0jWw2y8LCAk+fPmVpaYn6+nq8Xi+qqlJVVVXSn6qqqKpaLmxleUwIIQqFgohEIuL69euira1NqKq6Jl/V19eLvr4+EQgEKnW5szz2V/0qSWNjY/j9fp48eYIQAkmSMJlMtLW10dPTg8/no7e3t1K3G2pLt9JkMtHe3o6iKJjNZlZWVpiYmGBhYYF4PE4kEuH9+/dkMhmcTifHjh2jurp605RSUttd6mKxKDRNE3fv3hUnT54UFotldWudTqe4ePGimJycFKlUalv+tw32S4uLiyIQCIjHjx8Lh8MhTCaTMBgMwmQyid7eXvH8+XNRKBS27HdbCfavstvtmM1mnE4njx49YnR0lLGxMV69esXIyAjNzc3ous6lS5e25HfHYEajEaPRiM1mY//+/TQ2NmI2m/H7/czPzxMIBHA4HPh8Pmpqaipue3YM9nd5vV5SqRSqqpJMJvny5QvV1dVMTk7S2dlZsmiv007P2Eb69u2bePDggbBarUKWZaGqqnC73eLFixfi+/fvFfn4LT3/rl27OH36NH19fRw+fBhN05idnWV0dJSZmRl0XS/rY0tgxWKRaDRKIpHYtFlUFAWXy8XVq1fp6OhAURTS6TSBQIDJyUmi0eg/B/arUxgcHOT169fE4/GScw0GAw6Hg46ODk6cOMGRI0cAGBoaYmBggKGhobLxKi5J0WiUO3fuMDw8jCRJ1NfXY7FY2Lt3Lx6Ph/Pnz6+zkWUZo9FIKBTi9u3bhEIhGhsb8Xq99Pf3s3v37pIFv+Jbmc/nCYVC/Pjxg2w2y/LyMpIkEQqFCIVCGzZ/ZrMZl8sF/L/OAiwvLzM9Pc2nT5/o6uqipqZmZ2CyLK9+VPxa5KqqKpaWlohEIrx7926djcViwev14nQ6SSaT6LpOPp8nmUwyMzOzusUbqeKtLBQKhMNh7t+/TzKZpK6ujtbWVt68ecPnz58rapcBurq6OHfuHPfu3cNkMpVMuFtue+bn59F1HYPBgNlsZnZ2lnA4zMTExLr56XSaly9f8vHjRwC6u7u5cuUKly9fpqWlZdMqsCWwjZTJZIjFYszNza37TdO0NZ9vHo+H48eP09nZWbLX/8fAfpf+2H97/gPbqv5YsP8BnFOLRuKyHZMAAAAASUVORK5CYII=\" y=\"-6.689655\"/>\r\n   </g>\r\n  </g>\r\n  <g id=\"axes_4\">\r\n   <g clip-path=\"url(#p5403b047b8)\">\r\n    <image height=\"38\" id=\"imageb7108440be\" transform=\"scale(1 -1)translate(0 -38)\" width=\"38\" x=\"284.275862\" xlink:href=\"data:image/png;base64,\r\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\" y=\"-6.689655\"/>\r\n   </g>\r\n  </g>\r\n  <g id=\"axes_5\">\r\n   <g clip-path=\"url(#p19d7a00dee)\">\r\n    <image height=\"38\" id=\"imaged504ac3284\" transform=\"scale(1 -1)translate(0 -38)\" width=\"38\" x=\"7.2\" xlink:href=\"data:image/png;base64,\r\niVBORw0KGgoAAAANSUhEUgAAACYAAAAmCAYAAACoPemuAAAEmElEQVR4nO2YzWsTaxSHn/noTIJkGltSDLEaJSK1DSnUUEFBK2K3gku/FoqIe1fu/QfEjf+DHyuhULSFgkEU7SItBNNgNalMa2ySjp0xnZ67KIar917rpNXrwh/M5p05530457znPYwiIsJvKPX/Bvgv6UENlpaWsG0b27YRETo6OojFYqRSKTRN2z4yCaiHDx/KpUuXxDRNURRFdu3aJdeuXZNarRbU1XcVGMzzPBkbG5Nz586Jqqqiqqokk0m5ePGirK6ubhtY4BozDIPdu3czNDSEqqqICEtLSzx79oxqtcrnz5+3JZNtFX93dzcDAwMkEglM08RxHN68ecPMzAz1en1bwAKnUkTE932p1+ty+/ZtOXjwoCiKIrquy9GjR2V8fFzW1tZ+fSoBVFXFNE0OHTpEJBJB0zR83+fFixdMTU0xPT295YAFbhctQ10nlUoxMjKCoig8f/4cz/OYnJwkHA6TTqfp6OhoG6ztBquqKnv27GF0dJQjR460elgul+PJkycsLy8jW7hUttz5M5kMg4ODRKNRAFzX5d27d4yNjW3phG4ZbOfOnQwMDHD27NlW6mzb5v79+ziOw/r6+q8Dc12XxcVFCoUCruuSSCQYHR2lq6sLwzBoNBrk83k+fvzYdtQCgzmOQ7lcZnp6mvHxcYrFIqZpcuzYMZLJJOFwGNd1KZVKlMtlHMdpCyzQqfR9nxs3bjA1NUWhUMD3fXRdb90Ex48fZ3l5mVqthu/73Lt3D8Mw6O7u/nlgq6urTExMkMvlKJVKrRT5vk+5XGZlZYVKpUK1Wm3ZvH37lkajERgqENgX1Wq1f6THdV08z0PTtBaIiFAqlVhYWKBer2NZVqB9frjGTNMkm81iWRaKonz1TtM0dF2nUqngum5rfWZmhtnZWebn5wNBBQJTVZVoNMrhw4dJpVKt9UgkQjqd5vLlyxiG8ZVNs9mkWq1i2/bPA4ONyAwPD9PX14eub1TB+vo6mqYRjUa5fv06Q0NDdHZ2tmxkY+b7uWCKopDJZMhkMvT29qJpGmtrazQaDSqVCvv37yeZTBKPx4lEIsDGoVlZWQkMFrj4s9kssFHwd+7cwfM8CoUCc3NzfPr0CcuyGBwcxDRN8vk879+/p1gs0mw2g13q7cxKzWZTPnz4IHfv3pX+/n7RdV0URZFQKCThcFji8bicPHlSTNMU0zQlkUjIhQsXZHZ2VhzH+aE9FGlzBPB9n7m5OR4/fkwul2NiYoL5+XlEBNM06enpoVKp4Ps+pmkSj8c5ceIEZ86c4fTp04RCoe2P2N9l27Y8evRIzp8/Lz09PRIKhVoR/PbZsWOH3Lx5U2zb3tTvlsG+yPM8uXLlivT394tlWf8KpiiKXL16VV69erWpv7Yn2G9lGAa3bt2iXq9TLBZ58OABk5OTLCwsUKvVWt8tLi7y+vVrMpnMd/1tGxhALBajq6sLy7JQVZV0Os3Tp095+fIl+XyevXv3cuDAAfbt27epr20Fg40mHIvFOHXqFCMjI/T29tLZ2YnjOAwPD5PNZunr69vUT9un8mfrt/3b8wcsqP6ABdUfsKD6C6UOkF6aBHzqAAAAAElFTkSuQmCC\" y=\"-51.677241\"/>\r\n   </g>\r\n  </g>\r\n  <g id=\"axes_6\">\r\n   <g clip-path=\"url(#p6fea948dae)\">\r\n    <image height=\"38\" id=\"image9d85348aac\" transform=\"scale(1 -1)translate(0 -38)\" width=\"38\" x=\"76.468966\" xlink:href=\"data:image/png;base64,\r\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\" y=\"-51.677241\"/>\r\n   </g>\r\n  </g>\r\n  <g id=\"axes_7\">\r\n   <g clip-path=\"url(#pc2f2d75809)\">\r\n    <image height=\"38\" id=\"image2a4208e0e5\" transform=\"scale(1 -1)translate(0 -38)\" width=\"38\" x=\"145.737931\" xlink:href=\"data:image/png;base64,\r\niVBORw0KGgoAAAANSUhEUgAAACYAAAAmCAYAAACoPemuAAAFLElEQVR4nK1YS3ebPBC9Qg+EEDaJT+pzumj//y/qppt20deiSZ3gYEDoW7QzkW2wSfvNxhiEdHXnzkOIEELEHxNCIMbff+k3tRgjhBBIx7/G0vnT69M1ACCburl0kX95frpWjPHoXjbFwBKApxNdW3jpvGQqBXRtgVMwp5tK3XT6/hKG07lVOsHUhOn/cRyRZdkRQCklsuxFEUKIqzo8XSu9R/OqFMQc/TFGdF2H79+/Q2t9NFGe59BaQ0oJAMiyDFmWQUp5xJaU8gjM6WZOTZ3dmQAYQkDbtvj8+TMDoMmLokCe58jzHFJKKKWglIIx5iXCsgzWWiilGEQKbGrdSWDpoBgjDocDHh4e8OHDBzRNg2EYEEKAUgp5nsNaC+89vPdwzqEoCpRlyWwYY7DdbuG9Z0avmUr1MpVb+r7Hz58/8enTJ3z8+BH39/do2xZd1wEAjDGw1qIsS9R1jaqqUBQFnHMIIQAA8jzHu3fv8P79e6zXawZNa5Juz4BdsnEcsd/vcX9/j69fv+Lbt2/Y7XbY7/ccDHmewzmHqqpQliXKsoT3nnVYFAV+/fqF/X6Pt2/f4s2bN7i5uYFSiqVxFpVT2TwdMI4juq7D09MTfvz4gS9fvuDh4QG73Q6HwwFSSmitYa2Fc45duVqtOAistWjbFjFGhBAgpbzqVjWO41mITxmlC4oway2L3hgDY8zRtdYaQggopTiSx3E8Cogsy2ZJUSGEyUHpYNo5/aeoo6i01sJaC2MMAycgfd9DSonD4YCmafD4+MhSoBQyqTFi4fQB3aOFaOdaayilEGOElJJZo3xG7542BMR4CAEhBIzjeNFDigQ8ZwSMdGStxTAMzBy51BjDSZWe9X1/BHRKMnNdhhqG4UyEKVsAmBnKVVJKtG0LpRSKooDWmoHRRiniYox8TWtQQI3jiDli1G63Yyacc2eDpJTsShJ23/ecXJ1zR1mfche5fhxHZlspxVqeY5CBPT8/H+WbKa0RONJXqjnK/FprZFmGYRgA/I460lGqzSXNZYzxNzCicyp1UNSQnoi1EAIzQZEJgF2UAjPGoCgKGGMY3DWAnGAJwJQ4tdYoigJVVcF7zxsg93vvUZYltNYYhuFIN9SBbLdbbLdb3N7eYrPZYL1eM8unJoSAIrekXcMZ+j8ir+saj4+PDFZrzeVntVqhLEveZNoGpcBWqxWqqkKe57PZIMYIRVmactAlYDQp8BIUpDFijrREQqcxd3d3uLu7g3MO1lpOrrPi995zTzW3A2MMvPfYbDZ4fn7mjiKEwFFJKYPyGumRytdms8HNzQ1XjEsaE0JArddrduVca51lGYwxqOsafd/DOYf9fo+maTgyyXWkx/V6jdVqxZum36VHPkVt8dwLFBTEWtu2nNnJFcQWMUZuraqKUwkV9cXAluQWShdVVaHrOs5jlA7SmkndK0mENHzNfanFGKEuMZV2tkop3N7eQimFpmnYjdSdaK3hvUdd1+zGa964ZJPApoqqlBJ1XXPT9/T0BABomobrYdqBkMjTEjS1+ak1hRDzh5GpSSj7U0Huug55njNrVHPJdUtBTdkiYOmRixalzqEoCq6Pxhg457hh/BcTIYQ4depOr6dOzTFGLj80JhX5EmCXvpUwsBTA0o8qaRc6V2v/xmKML66c+5Yw9ZyeXfpm8a+mLrF0yiJd/18A5tYWQrwceOcGLf2MNPXutffmDkDAH8Ze80FtbqJLIF7DMM356g93U43kUhBLWRdCzJeka6D+BsDSFBJjxH+K4aCzMXarRwAAAABJRU5ErkJggg==\" y=\"-51.677241\"/>\r\n   </g>\r\n  </g>\r\n  <g id=\"axes_8\">\r\n   <g clip-path=\"url(#p7904644893)\">\r\n    <image height=\"38\" id=\"image8483c9cadd\" transform=\"scale(1 -1)translate(0 -38)\" width=\"38\" x=\"215.006897\" xlink:href=\"data:image/png;base64,\r\niVBORw0KGgoAAAANSUhEUgAAACYAAAAmCAYAAACoPemuAAAFf0lEQVR4nK1Y2W7bOBQ92kjtdlKldVugKAoU6P9/UN+KtknsSNZGiaQ0DwHvKLJkO5khYEi0yMvDc1fSGoZhHMcR4zgCwIunZVkv/jP9tzbLskjW2nfztA2oNXBTQeeEnvt27ZgpAe5bFpwzN9/QpWaYm8qZ993pwCVQwzC8+OY4DizLeqHmt6h4Pmfed9cmjuMIrTWGYYCUElJKjOOIIAjgeR5c14Vt2ye7XpJzDbhFxuZNSomu69B1Hfq+R9M0aJoGQggkSQLf98E5RxAE4JzDdd1ng7XtE7BLi66Bno47ATaOI4EpyxJ1XaMoChRFgTzPkaYpwjBEFEXYbDZI0xSMMbiuC8/zCKjjOCeOc46hOQZ3/gcAdF2H4/GIh4cH7Pd73N/f4/7+Hr9+/SJQSZLg7u4Ot7e3CMMQvu8jiiJkWYY0TRFF0eKC19rjoiq11sTa09MTgfr58yfCMEQcx0jTFEIIUm8cx9BaE8gwDE/kXopjF4GZXSmlSKX7/R5//vxBEASIogh1XUNrDa012rZF13WwbRtJkiCKolV25kH7VcBs24bjOACe2WuaBkVR4OHhAb7vIwgCtG0LpRTGcYQQAkopMMaw2WyQJAm01nDdf8XPQ4x5rqn2BTAzKAgCbLdbvHv3Dr9//4bjOFBKIc9zMMYQBAF5rFIKVVVBCAHLsuD7Phhj2G638H0fjuO82KgBNAW1BG6VMc45bm9vkWUZttst2UzbtpBSUowbhgFt2xIwz/Ng2zaiKEIURWCMgTGGOI4prEzBrLG2CMxxHHiehyiKEMcxoigC5xyWZUEpBQAQQlDcMnOOxyPKskRVVajrmoDMQ8c17QSYCZSe5yEMQ/K4OI7BOSe2pJRomobGc84JUNM06LoOSikMw0Byl+xsKW+uMmYmeJ6Hm5sb7HY7fP78GbvdDo+Pj+j7npxCKQWtNXnkfr9HHMd4enoCY4xAn2uvsjEzIUkSvH//Ht++fcOPHz/w9+9fsqk8z6GUAuec0pQxciklMWZYe00jYEvZ3rZt8rDdboevX78ijmNSF+ccdV3DcRzyRsYY2ZQBNa9Q1lh6AexSNHZdF2ma4uPHj/j+/Tvu7u5QVRWqqoLv+3h8fITWmqK9AQiAAvASsKsYm4Ob7oYxhjRNYVkWvnz5giAIUBQFGGM4HA7I8xxaa8oSVVUhDEPUdY0kSchZ5uX5pXJ91finIF3XRRAE2O125K0GWFEUtDGTBcqyxPF4pGRunMUAmnrn6pqXQE1tLcsyeJ5HxeLhcMDxeITrulBKwfd9AM85tm1b9H1PjBnWrq18F+OYaeM4UuFn2zY+fPiAzWaDuq5xc3ND4w6HA/q+p9zoeR5VvXM7O1ejnQV2qZnYxBijhL7f7yGEwDAMEEJASkmbnIeL/1SPzXc2FThNxnEcY7PZUJqSUlKlYd7Nz1QiS05wdYCdt/lEA45zjjAMyZ4MOyZdtW1LtVrXda8KGVd55douHcehytUEVMuyIKVE27Yoy5LUXZYlsiyj49/apleBnTvgGpCmxrJtG1mW0TnA931K3k3TkDzDonGCacpbUuXJYeRSm4O2bZtinFmkqipIKVFVFZ2YDJD/3SuXorQBYkoko6K6rtF1HfI8p7purr5r2uLdxZqQRe9xXZqvtUaapmiaBkmSYBxHqmiXrhvWrgkuRv4l0HNBRh2GvTRNAQB930MIQSURY+xV9x0nSXy+2CUB0++e51Ea+/TpE4QQpM4wDKnUnubK1ae5uJuzcG3MmRuzuYyZZgBjhyZrmBS3tDkCPge2tOA1oKb9qT1NmVh7nzbzzV1j5y2MLS0w7U/nnDuRW5b1XMFOByzZ2Gsv56bm8BobnfatJT2usXhpkWvva+eylt7/AVReBPit0BssAAAAAElFTkSuQmCC\" y=\"-51.677241\"/>\r\n   </g>\r\n  </g>\r\n  <g id=\"axes_9\">\r\n   <g clip-path=\"url(#pd4789e7914)\">\r\n    <image height=\"38\" id=\"image33ffb71cae\" transform=\"scale(1 -1)translate(0 -38)\" width=\"38\" x=\"284.275862\" xlink:href=\"data:image/png;base64,\r\niVBORw0KGgoAAAANSUhEUgAAACYAAAAmCAYAAACoPemuAAAFUElEQVR4nK1Y2Y6cOhA9GJvFzTYz6Z6JFOX/vypSFuUlSjIwQANmuQ9RldxuYHpyUxJis/FxuerUMd7yx7AsC9aMnlObeZ4BAJ7nAQCEEFd96B2d6Rt0vzaG20eutnQGsT9sf8C+3prYHqCtiQCAfM1T8zyztzzPwzzPDIqeud9Ye/4aONekvVRkNpi+7/laSol5nuH7PnzfBwD4vn8B0gXnTvRmYGsPKZbmecY4jlcx4HkehBBXg/9LkwSEzsuywBgDYwzGcUTbthzwUkoIIRAEAeI4hu/7mKaJ+wohXo07dyJby30VY8uyYBxHdF2Hvu9RliUPLoSAUgpxHAMA4jjmrFzz3po37Xa2Q9xwkO7MaBmNMXh+fsaXL19gjMGyLAwqTVP0fY+npycEQbAbWzYAF9AaYHq3GmPzPKPve/z48QOfPn1C0zQYxxFCCDw8PKAoCjw8PMD3fdzf30MpdTGgEIKTYstzeyA9z9sGNk0Tuq7Dy8sLqqpC13UYxxHjOMIYA8/zcDwekaYppJSrs96yWxJmNyuNMWjbFlVVoWkatG3L75VSqOsaxhiEYXhFxDbQvetdYHbgUYdpmjAMA+q6xu/fv1GWJZ6fn2GMQdd1mKYJT09POJ1OCIIAUkrOzGVZeCkpo11Ae8CWZYFwHxBddF2Huq5RVRWqqkJZlijLEnVd43w+o+/7q7pJtpWN9hjuYbcBcAmMPkjEOgwDzufzxdF1HVMJ0Qh52vb41oB7XrJNbLl2nmcMw4Cu69C2LZqmwcvLC9q25XuqCltecj30FuPgtwcQQjCLD8OAtm1RliV+/frFgR5FEWcrZamUkvuvTdi93gJ7QRd2AiiloLVGmqZIkgRhGF5QgjGG42wYBhhjGAwF/x7R2p5cs6vgZzdKiTAMkSQJsixDlmVIkgRRFEEpdUGeNKm14//YFY95ngff9xGGIYqiwOPjI+q65izNsgxaa0RRhCAIoJSClJLPa4V8b1m3SHmVYJVSSJIEp9MJHz9+5Fo5TRPyPEeSJLi7u+NlJi/asblmb1G5qx4TQkBKiSRJcDweUVUV6rrGz58/kaYpDocDkiRBEAQcU/M8/1ONthpjJG+01iiKAnd3d8jzHIfDgT1Ey2aLSlK+wDWP/RMFS7L5cDigKAo+4jjm7LRJeBgGBkBLucrmKzsq2y6E4l4j8hwBNcag73sAQNM0+P79O/I8x/l8Zk9SYoRhyJzn1uJbdk2vbt8ooEnZkqIAgM+fPyMMQyZeKSW01ojjmL0dxzHCMORJkkdfUxqbsoeWgD4GAOM44nw+o2kaDMOAb9++QSmFPM+5HQFL0xSPj48oioJjU2sNKSXvsva2d1clyW4ohEAYhhdLQ1u6qqrw9etXGGOgteaBqL3WGu/fv8f9/T0r3nfv3iFJEmitWfVu7T+vPOYGaxzHKIoCp9MJHz58gOd5TKy+77M2A/5oON/3uXJ0XYeyLFEUBculNE2RZRkA8PJTDNtjb+7ECRhtQPI8x/F4BABEUcTkGkXRhbi0k4ZKGA2ulOJjj4jZY3tVnjItz3OcTieEYYg0TVHXNZciUqrjOF70y/OchUBRFFw1DocDk/MWuN2spGXLsuxCapNQjKKIpQ5tYGiHRGWNkiFJEuR5fuE9e5xdYFukqLXmzsMwYBxHzPOMIAgulAb917DBufcuj93ksbWfIyQACRypVvrJ4nKSzVMuZ9mTcKuAm5neNE2L+2LNbtXtewG9tUmhwwYu3U57iXCLvWXvuNePPfa39hbVsCe13Tav1sq3DPZWaeOu0qa62Gtom/1+q97d+h/D7UfX/wGBnbWsCv0oUwAAAABJRU5ErkJggg==\" y=\"-51.677241\"/>\r\n   </g>\r\n  </g>\r\n  <g id=\"axes_10\">\r\n   <g clip-path=\"url(#p40dd54507e)\">\r\n    <image height=\"38\" id=\"image677c16a51a\" transform=\"scale(1 -1)translate(0 -38)\" width=\"38\" x=\"7.2\" xlink:href=\"data:image/png;base64,\r\niVBORw0KGgoAAAANSUhEUgAAACYAAAAmCAYAAACoPemuAAAFi0lEQVR4nO2Yy2tTWxSHv5PEk6fEkIbQENOYpo9IW7Xgg1KlGEFBnUkHIgiCAwcdiCMHOnHosH+AgjgRJ4q2BSktVTClRavWorWJUFPzMDGpJDE5Pcm+A+8tvTW3r2vVgT84k0P2b39Ze+21ViIJIQS/oTS/GuC/9AdsvfptwXTLX4TDYcbGxnj79i2ZTIbjx4/T0NCAy+VCluVfB5ZOpxkcHKS/v59YLEalUqGjo4Ndu3bR2NiIVqv9OWRimebm5sTZs2eFRqNZfLxerzh16pRIpVJCVdXlSzZF3+WYzWYjEAjQ1tYGgNvtplAoMDw8TE9PD4ODg0Sj0U0P2HdHKcsyO3fuZO/evbx48QJFUbDZbBiNRkKhEDqdjs7OTo4cOYLP5/t5YFqtlubmZhKJBLdu3SKXy+H1evF4PDx8+JC7d+/y6dMnTCYTNpsNi8XCli1bqpoLIRBCoKoquVxu0V+n02E2m1cEk6q1pPn5eV69esWlS5eYmppi+/bt+P1+AB4/fsyXL18wm81cvHiR06dP4/P5qsJ9/fqVfD7P7Owst2/fRqPRYLfbqauro7u7e8WLVBWsXC5TLBaJRqPcuHGD58+fMz09TTabJZ/PUy6X0Wq11NTUcOHCBYLBIB0dHYtro9EofX19PHv2jEgkQiwWI5PJAOByuWhvb6e3txe9Xo8kSVXBvjtK+BZus9lMU1MTx44dw2KxoNVqef36NcVikXK5jKqqxONxRkZGKBQKJJNJ7HY7nz9/JhKJ8OjRI8LhMMlkkkKhgNVqJRAIUF9fTyAQQKNZubZXjdhyTU5OMjo6yoMHDwiFQmSzWRRFoVKpYDQasdvtuN1uWlpaCIfDfPjwgXA4jE6nw2AwYLVaqa+v58yZMzQ3N+PxePB4PCtvuta6UiqVRDgcFteuXRNHjx4VFotFAAIQkiQJSZKERqMRkiQtvvP5fOL69evizZs3IpPJCFVVRaVSWdN+a4rY31+AUqlEPB4nk8mQSCS4d+8eAPF4nImJCWZnZxFC4HQ6CQaDnDt3Dr/fj8PhQJbldXWNqjlWTZIkYTAY8Hq9eL1eFEVBVVUA5ubmsFqt3Llzh1KphF6vp7a2lv37969aFv432HLJssyJEyeAb+Vlz549DA0NkUwmURSFVCqFoigYjcZVE72q1tXAVsi/RCIhhoeHRVdXl5BlWdTU1IjLly+L8fHxDXluOGJLpdPpsFqttLS00N3djdPpJBQK0d/fvxjRw4cPr8/zR4BpNBr0ej16vZ7Ozk5kWSadTjM2NsaTJ08A8Pl8uN1udLq1bflDwJaqtbUVu91OuVzm5cuXjI6OEolEMBgM9PT0YLPZ1mb0I3Jsucrlssjn86K3t1ccOnRImM1m4XA4xM2bN8W7d+/W5LEpM79Go8FkMhEMBmlsbESWZebn5xkaGmJmZmZtHpsB9o8CgQCtra00NDSgKArj4+NMTk4Sj8dXX7wZR7lU2WxWDAwMCEDo9Xpx4MABceXKlVXXbTj5FxYWGBkZIZVK4XK5OHjwYNXP5XI55ufnsVgsFItFpqamUFV18SL81y3dMFipVOL+/fuk02mcTifJZBIAh8PBtm3bsNvtAMzOzpJMJtm6dSuKomA2m3E6nat2hA2DqarKxMQEHz9+xGAwMD09DYDf78fj8eD1eoFvfXRmZgaDwYBer6euro62tjYsFsvKG2w0dxYWFsTTp0/F+fPnRWtr6+JPvaUj0NJHkiTR3t4url69KkKh0Kr+ax57qumfeT6dTpPNZunr62NgYID379//a2Q2mUw0NTVx8uRJurq62LdvHyaTaUXv/1X5zWYzO3bswO12oygKOp2O2tpaYrHYv/JHlmU8Hg+7d+/G7/evCgVrHK1/hX7bf3v+gK1Xvy3YX6SX5h2aVDBhAAAAAElFTkSuQmCC\" y=\"-96.664828\"/>\r\n   </g>\r\n  </g>\r\n  <g id=\"axes_11\">\r\n   <g clip-path=\"url(#p045ba83629)\">\r\n    <image height=\"38\" id=\"image9ee64298fa\" transform=\"scale(1 -1)translate(0 -38)\" width=\"38\" x=\"76.468966\" xlink:href=\"data:image/png;base64,\r\niVBORw0KGgoAAAANSUhEUgAAACYAAAAmCAYAAACoPemuAAAFe0lEQVR4nJVY23KbMBA96AICAtSeJE2f+v+/lplO09rcJdGHdHeELJxkZxhsjKSjs2cvcua937z38N4DALIswz3bto0/x+PisfQ9/C31TpZlu3m3bYNKLR4Ops80MJzkowWP5opBxQC3bYM4GpQCGy+2bRuzFu443Ej8PLaj31XqhW3bboDGCxGoZVneJ1IKSqkdm+E9BSi1DgMLdxuDo4nD39d1hbUWy7JgHEcMwwApJZqmQVVVzKwQIvn53jpkWZZBWWsZPT10zt0wY63FPM/o+x7TNGEcR/R9j77voZRC13V4fn6GMQZaa2itAQBSSiiloLU+ZCglA7Wu6w4pAKzrCuccg1zXFcuy4O/fv/jz5w/6vsf1ekXf9xjHEVprXK9XaK3RNA3KstwJOcsyBprSVBLYsiwQQvAFgMFs2wZrLaZpQt/3eH19xe/fv9H3PYZhwDRNsNaiKApIKTGOI/I8h9b6RgIpQPROMl3M88zCVeo9FoQQkFJi2zZ2K7nTOcdunaYJAJgN0hO5zznHGz4S+aH4492EYg13QIKfpok1RhEppcQ8z1iWBd77d/H+36SUkj3xkYXMqRAERQ6Bo5e893DOYZ5nDMPAbiRgADAMA/q+R9d12LYNUsrdnJ81eleVZcl0k/uklIzeOYc8z6GUwjzPGMcR1+sVl8uFGRrHEdZanE4ntG2Ltm15jvhKWUp/KhZ+nOGFEBzuRVEgyzJOrPM886QUucuywDn3KXfdM3VvJyGwoihQ1zXnKeA9esO0EgZHyESsV7rfAynirBwOpkmVUjDGoGkaNE0DYwyklPDeY11Xvqy1sNZy7aTOI7ZUebthLHYhRan3fhcAQgjkeY48zyGEgHOOEy2lhu/fv+NyuWAYhl2EUiB8xVQcyiT4ZVkgpYS1lvVDd4rOX79+4fX1FQBwOp1QliUn2PP5DCEE11BjzN2EG7tWhayQhTohHdFFqWNdV4zjiLe3NwDv+epyueByuXC5klJCa408z9kDMZAYHDOWKgchMAJCzMWdxjRN2LYN8zzvtEYbId3FC39kKhYguXGaJs7e4WIkbEobJHCKXmKFmgMa9xVQN4yR6Gm3cU+V5zmqqkJd1yjLkhMylSxiiMqWlBLruh5G5z0TcUKlhcIcRAmYclld12jblrsKYowYoiI/zzMD/qqpkBHaGR8I/rsHeO8gqqqCtZZFfzqdYIwBdSi0QXqHyljIWtjqfApY/HJ8LKPLGIO6rtF1HVcCAk7gsizbBQ/NHXvmyA6Pb3G+oV5sWRZYa7kjNcagKAo45zjnUSqhCA7r50dlaMdYqKeUrmgiKj/0DgEzxsB7v2udKVrDdBEC+4zdHN+EENxJ5HnOkWet5eMZubNpGpzPZxhj0HUd2rZFXdeoqgplWXJSvQcmVeh3wMiEEDDGQCnFxzFiRmsNay3qukae5/j58yfe3t7Q9z3qusbLywteXl7w9PSEp6cneO/x8PAArfUusOI7BdoNsFRrrZTaNXsAdgxWVYWu6/Dt2zfObw8PDzvGnHOcdD9zIg/PnSo1gNCHbqADRpZlyPOc3UeuDHMcFW1rLXe/X2mvgUSjSGxRyxJm/6Io4L1nJn/8+IFxHPlsWRQFHh8fcT6f8fj4yIxRIQ/dFbKYAr3TWHj8Sv0TQ4DJ2rbF8/Mz11WtNWuKWKZTUipXhq5Lij9+GLIUupLaF1qw6zou8KTJoijYtXSwIZ2lmDlK8Cp+GA+OwYVtc1EUzCIFRhg8FG3Uxd7T2Q1j8X9b4Q7IUsBJI8RMeIoPz6Wpw86XMz8NOhqYao3DTE8uo+tI3EdladfBpgZ8tgMIAyIW+mfGxoBCwJm1dotfPmIs5eL4T+X4Hm6Q0kWcTEOj7/8AwczuagOZnl8AAAAASUVORK5CYII=\" y=\"-96.664828\"/>\r\n   </g>\r\n  </g>\r\n  <g id=\"axes_12\">\r\n   <g clip-path=\"url(#p98eb9cdb46)\">\r\n    <image height=\"38\" id=\"imagebe943c1dca\" transform=\"scale(1 -1)translate(0 -38)\" width=\"38\" x=\"145.737931\" xlink:href=\"data:image/png;base64,\r\niVBORw0KGgoAAAANSUhEUgAAACYAAAAmCAYAAACoPemuAAAFYElEQVR4nL1YXW/bOBAcURQpiqJsObbrJv3/v6hA3/oQoECBJoFjOU2sD/IeimUpmXLcHu4ICLZEUjvcnR0ulQzD4BBpzp0/ds4hSZLRs+n937apPXYtqP+yxexFgV2a/H+BTqy1jowlSQLn3CyIaSjnwkjPp/MvhT0c65wDv9QZ+x++nIDO8Y4WGgMb9sXG8jmSh/+dc+j7Hj9+/ICUEowxb4hzDsaYf0a/aZrCWuvBh3MAIE3TWZsAxh6LDXTOwVqLt7c33N/fQynljSRJAiklOOfIsgxpmiLLMmRZBiEEhmHw78myDJzzqIdjtnl4Mzeh6zo0TYPPnz+jbVtYa70xpRSklCjLEsYYVFWFsiyxXC5hrUXXdUiSBMYYpGn6LjBaCH+PV33f4/HxEV+/fsWXL1/QNA26rsMwDOCcQwgBKSWUUlgul6jr2gPs+96P2+12uLu7Q1VVUEqN+MnYb3EgrvGYt0KA1locj0c8Pj7i/v4eDw8PeHl5wdvbmw+lEAJ5nkNrjaqqYIzxHgMAKSU+ffqEw+GA3W6HzWaDuq7BOT/jGjUecimWTdZanE4nPD8/4/v37/j27RsOhwOapoFzDlJKzymlFIqigNYadV0jTVMwxqCUQtM0aNsWbduCMQatNRhj88CGYRjFfQqOMstai7ZtQeOJ7MSxPM89yCzL/DsoUcJ3Oed8Js81bq09e8FUX+gK+xhjkFKiKAoopaCU8qEhL7Rt6+f9/PkTx+MRx+PRUyHLMjDG4lsSpXQobjHBDKWAMeZ/CQj1kxeccxiGwV/W2rP7S9ubD2XMrQQyTVNwzn2opJS/MifQpdCrBIyuUM+oL6RNFNjr66sXTc5/6y0ZIWBCCE9sek6kJ/GkEJIniVfAryQKvdb3fdRrXsceHh6gtYbWGovF4ixLwnCF6j4Mg9cvIj7n3IMO72lnCMP8ntd40zQePRmZVhAUas75aG8kkCSynHOfteEChRA+7GF2TkGOgB0OB5xOJwzDAK01hBBnSkygpn3EPeJdmqbo+9730QJpHM0NE2Cu8bksodWRLJRlifV6jf1+78NFiq+UQlmWEEKM9lEClec5Pnz4gLu7O2w2G6zXaywWi7OFjoDRakilY00IMQJGHmSMeX6R6lMfhZaA3d7e4vb2FqvVCqvVCkqpkVfPgBE/KLuohd7Lsgxaa9zc3GC/3/+ayDn6vvfiSuAorGFCFEWB7XaL7XaLxWIBY4zn3GwojTEoigLGGL9/TavJPM9R1zU+fvyI19dX5HmO5+dnvLy8eO8QwDzPfXi11pBSQmuN7XaLzWbjn8X2yNAuX6/XKIoCeZ6PqsxwEIVsu90CANbrNQ6HA56ennwWcs5HoIwxWK1WKMsSVVVht9uhqqqri0VeVZXfauYGE28WiwW6rvNZRhs7gJEIF0WBqqr8ZYwZceqasygnwk63lBgwY8wIWNd1OJ1OcM55TQvFmviktfYCe+1JiVOswy0opsqcc9R1DSmlrxTSNMXpdIK1Fowxn70hsDzPRwJ7DSgA4FOVnztTMsZQlqWvVIuiQNd12O/3vq6nMojqf8rSUFzn2vR4d3ZKmgsngSNJcc6hrmswxtC2LZxzEEJ40AQqplWXPOdr/jkgsQMp/RK45XKJLMtGh5NQNqZk/5MPMEnf92efCMgjl1ZJh+Bwv5vWZ9O5cyf66XsBzH8iuASKWlhG/6lnwsNPtLqgF82dL2MA5z6uvAfoEm2mdj3HLqGfe9G0XVMyX9N39rUnZiQ2+b0vQf9mcdT4ewPmavI5A9dIwaWxFL0zjk13gDlDMb7EeDftvzYxPLBpNTFXk18yfg2wa1qSJPgHY/MpTElCQ1oAAAAASUVORK5CYII=\" y=\"-96.664828\"/>\r\n   </g>\r\n  </g>\r\n  <g id=\"axes_13\">\r\n   <g clip-path=\"url(#pb18b1925c6)\">\r\n    <image height=\"38\" id=\"image506abb26dd\" transform=\"scale(1 -1)translate(0 -38)\" width=\"38\" x=\"215.006897\" xlink:href=\"data:image/png;base64,\r\niVBORw0KGgoAAAANSUhEUgAAACYAAAAmCAYAAACoPemuAAAFiElEQVR4nLWYa4/asBKGnzj3CwHKomq7K1X9/z+qUqVK3S5LISQxufp8OMduyCawVDojRUkgtt8Zz8w7Y6vve6WUQikFcHG3LAst4/f/h+j5LcvC0aA0oDG4oej3jwIcjh+PmVJU/2ZZFs4UgLnJ9QJT1vwXkMN5xnM6w8XGi+sB+rIsCyGE0epeC44VvPbu3Jqg73vatqVtW7quIwgCXNc14G5Z7pY1x0a5CkyDaNuWqqooy5I8z5FSEscxvu/jeR5BEOB5HrZtI4Qw9zmwU5adU2YSWNd1VFXF+XymKAoOhwN//vzh7e2NJEkIw5AgCEjTlCRJ8DwPx3HwPA/f93EcB9u230X4lL/OySSwvu9pmobj8chut+Pl5YVfv37x48cPgiAgDEPiOGa9XrNcLomiiCAIiOOYzWZDmqbEcfzOCvf44lVgZVlyOBx4fX3l58+ffP/+3QBLkoQsy9hsNiwWC5Ikoes6AzKKopuLXwM76/xKKdq2RUpJlmXs93teXl5wXddYTEpJVVUsl0vW6zW2bU9a61/kalQqpajrmqIoOB6PvL6+Gl+K45iyLKmqiqIoaJoGz/NYrVYsFgv6vkcIYeaas8yc1SaB2bZtFnddF4Cqqtjv9wghcF2X0+nE6XSiKApWqxVSSmzbJgxDfN/n06dPuK6LEMJccxT3YWCWZeE4DmmaGud2XZemaWiaBiEEUkrKskRKyel0QkqJZVm4rott2yRJQhzHOI6D67rm+aP8OwlMCIHjOMaJwzDE8zwsy6JtW+Bv4u37HqXUhRV1ztOJeJg6pmSKQd4B07TjOA6+7xNF0QU4KaWJ2rZtUUohhCAMQ4qiQErJ+Xymrmv6vjeKDv1tuNaczDq/1jRNU7bbLY+Pj2y3WwCklNR1be5KKXzfJ89zDocDh8OBLMsIw9AEyxDIFKAPcaXWzrIs4jjm4eGB5+dnvn37RhRF5HlOURTs93vqujZ0ZNs28Jc5tFW15aYAjPn2HbCpAToCkyTh4eGBp6cnbNsmz3NOpxNKKbIsM3w5XKTrOpqmoes644f3yNUEC5gI2263fP36lTAMyfOc4/F4EVW2beM4jok8DWzoi3cBmys79IK+75OmKV3XGYsdDgeEEPz+/RvP88y2FUVBnudmq5fL5cVWTm3bXeliCFYIged5JEnC09MTjuOYvLbb7TgejyZ5KqVMXsuyjNVqRRzHF2nlWgDcBDYEp5NtGIZ8/vzZZHcNLMsysiwzkQlQ17Whq7mtvJZcTc1/bTu1NWzb5vn5meVyaaqKrutQSrHf72nbliiK8DwPz/Oo65q6rg0w/e246bm6lXOOOa4+hRAsFgt83ydJEnzfJwxD3t7eKMsSx3GMP7mua9hBR+c9ctViQ1DAu9I5TVNWqxVN02BZFn3fI6U0ESmlNNe9kXmzGRmaekgrrusSRRFJkiClpGkaQ0NVVdF1HUVRUBQFi8WCqqpMKXTL8Wdr/iGoa74XhiGbzcbw5fF4JMsyqqpCSml6gzAMjV9qdrgG7kMN73CCYahrGnp8fCRJEtbrNbvdzji03l74W4loFhhS3lxHfnMrr4G1bZsgCEwd5rqu2bKyLE33pK10j3zI+ec6bp3jhBCm19SOnmUZruteBXY1XYxzyxSAqd+1Mrr0VkrR9z1pmlIUBUmS/HeB/3Fn3/cXZD7FABenPR+11hzQ4f9CCFarFUopzucz5/PZ9A6O45j5hmchV5uR8QHJrUFjcFp0ClFK8eXLF87n80VXNSyNxhYb39/VY3PHQrdEB4BuPnTVoaNXB8e4bhsrZ37TJ4pjuffMa/iulDIUNFR47nmsoGVZ085/D3XMfTtuPubatrkE7ow/mJrgX85f7znYm4zMqX2csuJHFpg6x70HzPD5PzPCvuxcgHoKAAAAAElFTkSuQmCC\" y=\"-96.664828\"/>\r\n   </g>\r\n  </g>\r\n  <g id=\"axes_14\">\r\n   <g clip-path=\"url(#p86515f69ee)\">\r\n    <image height=\"38\" id=\"image89d7a2778a\" transform=\"scale(1 -1)translate(0 -38)\" width=\"38\" x=\"284.275862\" xlink:href=\"data:image/png;base64,\r\niVBORw0KGgoAAAANSUhEUgAAACYAAAAmCAYAAACoPemuAAAFYklEQVR4nKVY3Y6bPBA9xtiA+U02TapWff+Xqiq12qtWq02AJPwZvotqLEPMLttvpGhZsPHhzMyZsdn01zBNE2ybpgmMMXOfxozjCABgjAEAPM+Dy+j5e/ftde1nvnO2NcgGxxib3f+IbQFK19M0wXexRQ8BYBzH2fNxHGcAtxp5YKs5gdG9aZrQdZ0B53me+ev7PqZpAufcsGoDdgFxEbA21ulKiqVxHNH3/cyVwN+4IpBL9uxFlnHqYmwNrG8/oOu+79H3PYZhwO12g9bauJBzjiAIoJQyrNFcz/Me2HO9/y1wBP6BsWmaMAwD2rZF27Y4n8/o+94wKKWEUgoAEMexYW6ZIFvjaTmXrlddOQwD6rrG8/MzmqbBMAwAgCiKkKYpmqbBly9fEIbhA7g1dj4U/C5QWmu0bYs/f/7g+/fvqKoKXddhmibsdjvkeY6npycwxvDp0ycEQWCAUPwJIeD7q2r0PrBlHNjgmqZBVVV4fX3F9XpF3/foug5934MxhsPhgKIoZgD+Vedo3dUYowHjOKLrOtxuN1RVhbIsUde1kQ4hBOq6Rtd1kFK+WwmWC9sf4nL7AzCaOI6jycrL5YKXlxf8/v0bbdvifr9Da43j8Yjj8WjcxxiDlBIAjL6tgaAPWMvUh88jtvq+N2xdLheUZYmyLHG9XtE0Ddq2xTiOBpTrt9S3934PjLn0hsC1bYumacyPYqzve8MCsbMEZGvcR23myuUXErCu69A0De73u9G3tm1NzNiAbJFdgvtnuXB1EW3b4nq94nK54Hw+I45jcM6hlDLBPwwDOOfgnJv5S1cuRXct6FcZs8tOHMdQSiEIAgghAABaawzDMHOr1tpZM5esbS1RD8DIqHuI4xhZlhmAYRhCSgnO+cx1nucZxpZMEaC169UivrxBi0kpkWUZDocDzuezkY0sy5AkCcIwRBiGCILAMMo5h+/7BtwyCVy2FndOxoQQUEphv9/j69evuN1u6LoO9/sd+/0eeZ7jcDggSRIEQQDf9x8AfSTQXcw96Bgx5vs+lFJ4enrCfr9HURSIosiwRC4lRtY64X81z/VlBCyKImRZhjzPkaYpwjCEEGKm2lprkxB2G/5/NAx4I/illIjjGEVRoCgKZFmGIAgAwHQftvhKKWeVgHZTZNRIki3dt6m1JuOcm0xkjBnBLcsS5/MZP3/+RJZluF6vZlySJIiiCFEUzYo7gXsrKzdt38wAK6i11ijL0mxQfvz4gTAM8fLyYmIvSRIjM0VRzNwvhDAxTIyuVYQ3gTHGTMNHL7vf76jrGk3T4NevXwiCwAATQiBNUyRJgqIocDqdkGUZlFKQUiKKIpPBnPMHtmb9mKtJJPM8D0EQzDQLALquQ1VVeH5+htYacRwjCAIwxowYF0WB4/E463gPhwPSNEUcx5BSPkqEFYPOWklf4HkeoijCbrfD6XTCt2/f4HmeiSff9037c7vdAABVVUEIgdfXV1RVZZLncrmgrmsURYE8zwHASM5yb2qArW14GWNGNvI8x+l0wjRNJpaISfvFnHMIIWZ65/s+hBDmf1tyXKQ8MLY0ijGllAEmpUSe5yjL0ixilx6qlzQuSRKkaYrdbofdbmeSw04ql717qEI18/Pnz6ajpQ6WXGpv3yi4STqUUmbLl2WZcZ0QwrmT38QY8DcglVJmMvVftPldbtGICXIfMUgFfq3TeCBGaz25eiT73IFKDm1CSIOWbY59TLBss6nPs69dWWnGL4G5bAl86+GIa5zrBIh+s+5Eaz2tvXirbZ27diy13NIBVoy5Jv0fZt4DZr/fdVT1blZuvf9Rxl0FfFbE39pWfeSgbevp4dZ1/gNNd7eKYWUNTAAAAABJRU5ErkJggg==\" y=\"-96.664828\"/>\r\n   </g>\r\n  </g>\r\n  <g id=\"axes_15\">\r\n   <g clip-path=\"url(#p79ba7166b5)\">\r\n    <image height=\"38\" id=\"image096e405014\" transform=\"scale(1 -1)translate(0 -38)\" width=\"38\" x=\"7.2\" xlink:href=\"data:image/png;base64,\r\niVBORw0KGgoAAAANSUhEUgAAACYAAAAmCAYAAACoPemuAAAED0lEQVR4nO2Yy0tbWxSHv3PSk+QETUQ0pCa0Ci2CVUx8gK21WuhU0IGgiDgSRfwfnIriWOdOnTgQhaig+KAvaqSpD8RBfBHxkYFpTI1ZHVyutNdeao6pOugPzmjts9bH3nutvfZWRES4h1LvGuD/9BcsVf0FS1UPjP4oIpyennJ0dMTXr185Pz+/tOm6jsvlIjMzE0VRDAcwpHg8LhMTE9LY2CiPHz8WRVEuP6/XK2NjYxKPx426F8VIHfv27RvhcJi2tjZCoRAOh4PS0lIAAoEAh4eH6LrO4OAgZWVluN3ulCfM0FJub28zNzdHKBTi5cuXFBcXU1JSAsCLFy/4/Pkzo6Oj+P1+cnJybg9sa2uLyclJbDYb9fX1VFdXk5eXB0AymeTdu3fMz88zOzvL8+fPqays5MGD1EIZysqdnR0+ffpEb28vdXV1l1AAqqridDqpr69ne3ubzc1NdnZ2Uo5hCExRFBKJBMFgkGg0esXucrloamrC6XQSiURuDwz+KRe7u7ucnZ1dsVmtVh49eoSu64jIL8f8ETAR4eLiglAoRCwW47+JrSgKmqZhNpsN1zHDS3l+fs7U1NQvZ+3o6Ai/338JbgTOUFZmZWXx5MkTwuEwCwsL2O12ampq2NvbIxwOs7y8zNDQEJFIBJPJhMViuR2w7Oxsnj59yuLiIh8+fEDTNBKJBF++fOHg4ID19XUCgQAPHz7E7XbjdDpTD2LkuNjY2JDh4WHRNE2sVqu43W6pqqoSs9ksqqqKpmmSkZEhra2tMjMzc3tHUjKZ5Pj4mJaWFj5+/EgsFsPhcOByuVBVlYqKCvr7+7FYLJjNZkwmU8oTZmgpVVXFYrGQn59PMBjEYrFQXl5Od3c3mqaRnZ2Nw+Ew3lkYBQPQNI3y8nLev39PLBbD6XTy5s0bzGazYZgfZbjAWq1Wurq68Pl8ZGRkEIlESCQSaYG6Edi/amxspKysDL/fz8DAAGtra+ngujlYUVERPp8Pj8fD9PQ0gUCA/f39uwfzeDw8e/YMn8/H6uoqb9++JRgM3hjMcGv9o05OTmRxcVFyc3MlKytLGhoabuwzLbcku91OSUkJnZ2duN1u1tbWGBwcJBaLGfaZFjBVVdF1nVevXpGfn8/Z2Rnj4+McHBwQj8fvDgzAZDLh8/koKioiMzOTpaUl1tfXOT4+JplMXmmNfqub77Cftby8LH19faIoitTW1srIyIiEw2GJRqOSTCav7SftYNFoVObm5uT169ficrmksLBQamtrpaenRw4PD6/tJ+1PBLquU1BQQHNzM5WVlcTjcVZWVtjY2Pjptv47pR1MURQ8Hg8dHR20t7fj9Xqx2+3YbDZU9frhDLU915WIXG58RVFSan/+KNhNdG+foe4t2HcdEfc24zoBrgAAAABJRU5ErkJggg==\" y=\"-141.652414\"/>\r\n   </g>\r\n  </g>\r\n  <g id=\"axes_16\">\r\n   <g clip-path=\"url(#pc57fcd30a6)\">\r\n    <image height=\"38\" id=\"imagebed21a5b14\" transform=\"scale(1 -1)translate(0 -38)\" width=\"38\" x=\"76.468966\" xlink:href=\"data:image/png;base64,\r\niVBORw0KGgoAAAANSUhEUgAAACYAAAAmCAYAAACoPemuAAAFfklEQVR4nJVY0XKbOhA9AglhbANO7Uynfer//1Wf2ulM0yQmgATSfcjd7VoGx9WMJgSEOHt29+zKKoQQ53lGjBExRiilQENeA+A1dB1CAL2bZRmvV0rxXPpf7k+T9gWAEAI0LSBQSy+vDfksNSpd8xGwFEe2+tUPQAHAPM+YpolZkyD/ZSwZpdMFEhC9IN1HM4SAYRgwjiOUUrDWIsuyq3fWDJR7Lj3XIYQra9N4izFinmcMwwDvPTPVdR1eX1+R5znqusbDwwOyLEOWZTDGLMbeGqgUoJ6m6Wqxcw7zPEMphXme4ZzDMAx4enpC3/cYxxHOOby9veHt7Q1aazRNg69fv2K326GqKmy3WwaW5zkDXUqu1PUxxr/AKAjneeYPK6XgnGNmfvz4gfP5jGEY0Pc9hmGAcw7GGDRNg6IoEEKAUgplWSKEgDzPP4zVRWDe+/cs+N+yEAKmacI4jhxHz8/P+P37N37+/Inn52f0fY++7+G9BwBUVQWtNQMlY+8BsfZMj+OIPM+htUae5xfUE4PGGGitEUJg4N57eO/5fpZl0FrDGMNzmibec2ksyQ2B0zLYaTEFsHxZAqKYI6nQWsM5B+/9Xx3638Al/foIJADoNeEjYNLaaZpYIsZxxDRNzArFHLlRSsdHwFJ5AQBdluWFhTFGdq1SCkVRoCxL0LoQApxz6PueQUzThCzL8PT0hOPxyGDpo2sliUaqeTHGv4wt1UWKG2styrLEdrvl2AshsOuyLGMWKfhvlbePqoRSCtmtQk1MGmNQVRXqusZut2OVpyJOiUBzmiauDkvivXR9RcoaW7SYMnSz2eBwOKBpGmYuxshgSIgpCWTnsea6W+B0mn1LFJNLN5sNyrJkiei6Dl3XcTy+vLzgfD6j6zquHmtSsVaOWC4oSCU4kgbpLjllifr16xeyLEPXdajrGlVVwVqL0+kEpRT2+z222y0nT8rYElBmTFJKwNJJ0kDrCOD5fH7fSGu8vr6i6zpmjeKzKApYa28CSYdea0kIkAxiWWpkXQXAYkt/6Vomw0fjoiTRDbopM42eOecwjiO3PcB7UtAEgKIoYIxhtSfDCKRspdZAXpQkmZVLvpfiS7JBbY3W+oJhMsx7j2EYmEl6du9QSl26UjZ0staFEBiUcw5t26JpGs7QeZ6ZOWoqSXxJSv7ZlQSCqCZpKIoCm80GSikG2LYtjDGY5xld1+F4POL79+/w3sNai6IoWB6cc1y+SDqMMXcxdlGSUt2i+CFgNAnwdrtlaYgxsjHW2isXp8X8VpwxhpTCJWplQszz/E611tBasxEAWFLkpDZJZuY9btW3Fsn4I3CyKSyKgttpcqHs7+ShmOLsnt4MEMc3KRlLrqSuNM9zeO9R1zXatsWnT5/QdR3X0M1mw5k7DMNF07k00iPjBWOpPJCLqMUhhkibyrKEtRbfvn3Dnz9/uBx9+fIFnz9/xuPjI47HI8ZxhLUW1torIGkhl+BjjMuMpc2d7OcpmL33aJoGh8MB1lrsdjvs93s+vlFtJCPTkSbAVa2U6NNrCSxlzRiD/X5/BYyytSgKzlbqPlJAt8DxjyoSjLSQnpFUEO0xRjw+PuLl5QXjOKKqKjw8POB0OuFwOKCua257qAuWp/KUvRSHlg8liPRoTzEnS0/TNDidThxLbduiqioWUkqiW8G/pmkXAiurwBJ71LXSx9q25UMuiS41k0VR8B4yw1Nm1sCuMibVmu5bazn4ScOIPQJDB2et9dUeaz+gLI0ruZBAaRP5v/xLcRdCuDjJ33tCSv9fPImvLZb35IuymaROgrIvDfL0eg2MxKKXmrc0pdeskyJMcbT0e1g6lr6XGq+maYoyFu4psNI66mhJ6+gjaRKl99b2pPEfAq4cRtkjsMgAAAAASUVORK5CYII=\" y=\"-141.652414\"/>\r\n   </g>\r\n  </g>\r\n  <g id=\"axes_17\">\r\n   <g clip-path=\"url(#pff4e44cfc8)\">\r\n    <image height=\"38\" id=\"imagef7214718db\" transform=\"scale(1 -1)translate(0 -38)\" width=\"38\" x=\"145.737931\" xlink:href=\"data:image/png;base64,\r\niVBORw0KGgoAAAANSUhEUgAAACYAAAAmCAYAAACoPemuAAAFEUlEQVR4nK1YyXLbOhBs7ATBRVKVD6mc8v8/lEsOycW+JHJiSjIXEO/gDALSpCi98lSpRFEgptHTMxiQee8D/hpjDCG8/aTv1EIIYIwhHX+PpfOn13MfAMCXbn6EbYGe+wohTO7xexmgCeYTfbTJJUCpw6VrAsUYA+d8dUH3AJ+HVq5NsES19x6c83jNGIuglr7nmkrnWiIjHS+3VkLsdF2Hx8dHSCknYdRaQykFpdTbhFKCcw4pp1MLIcD5P0mn10uMy1vo9t7jcrng+/fvkTFaoTEGxhhYa8E5j0CNMRNQ1toInti8JqGbGGvbFs/Pz/j69SuapkHf9xiGAZzzCKwoCjjnYK1FlmXI8xyccwghYIzB58+fUVUVhBA3JdmEMYpxGqphGHA8HvHjxw98+/YNv379wuvrK7quQwghsuOcQ1VVcM4hyzJYaxFCAOcc1locj0d8+fIFdV3DORcBUgLNIzdhbCms3nucTiccj0c8Pj7i6ekJLy8vOJ/PGIYBQghorWGthXMuAnPORcfOOTRNg67r8OnTJzw8PGC320EpBSHEhJQJY9eoDSGg73s0TYOfP3/i6ekJz8/P+P37N9q2hRACUkpkWTb5VFUVk8A5FxdBEsjz/F1CvAslgVsCOI5jDO0wDGCMQSkVtaSUgtYaWmsYY2KGGmOiY6UUGGPw3sf51hIgAhvH8V0NSi2dIO5jf7OPMQZrbcxKukcs0oK89xiGAafTCU3ToGkavL6+QmsNzvm2xuaA0uouhIgOySllXJZlka10MeliU5Apc2sWs3KNUgImpYQxBlprDMMAAFBKRVBa6yhk4K120U5BOpoDmUdiAsx7P5lwzhZjLIIqigLn8xlSSnRdBykl8jyPRZWYJGDDMGAcRwghIkPjOMbQXmNNns/nODFpJDUK45yxEAKstSjLMoo/3RU459GxEOJdFl4TPgDItm3jD9LInD0KB7EipYT3PmZiKnwCk4KkWielnGhuzUIIb8BokLX23SoIGOmJiiKBNMYgz3MYY8A5R9/377oHCrlSagL4qvjTrFuilvZD5xwOhwOapgHnHJfLBdZaFEWBoiiiY+/9ItN1XeNwOMRPWZYR6FKUJOlnngCpKaVQFAUOhwNOp1Os9FrruA2VZRkZp9KSFtjdbhc/VVUhy7LVqh9CgCTNbAFzzmG/36NpmtjuAIjlgkJKWkr1SMD2+/2E3TVgACCpcpMwl+qK1hplWeLh4QFt28IYg9PphK7rYmEldrTWsbtIt6y6rrHf7yc6XTPG2Bsw0kJarScnlr8OD4cDAGC/3+N8PuPPnz/xf+pYKQPzPMdut0Oe57E/I1839WNpX7SGnhwXRYG+72NdG8cRtNdS2AhEVVUoiiIyR3Xu1rOoTAvempHjtH2RUmIYhpiFVELyPIdzLmopDd09B+TNTZyuhRCo6xpKKbRti8vlAikl+r4H8C/cu90OZVnGRnCeWLeeXeXSwKXCxzmPJaHrOlwuF4QQ8PLyEsNJwqdMpYTYksrS5r55GElXmeqRMYa6rmMXEUKILfY9oNbA3QQsnSjNQNrAqVNIu40toW+FlHnvw9KpO71eOv9R05c62crwNXCL/ditDy/dS084AK5W8iVb28RDCPeHcqnjvfc92S0m1+hce0n3kSDWfE+ycmnQ0gPXbCk0W2fWuSZvfttzC6CtcfewTHJZfHGX2rUu81pi/F+AxOJi5d966BYn94JOx4QQ8B9i3aabYxNRrgAAAABJRU5ErkJggg==\" y=\"-141.652414\"/>\r\n   </g>\r\n  </g>\r\n  <g id=\"axes_18\">\r\n   <g clip-path=\"url(#pdf532ca54b)\">\r\n    <image height=\"38\" id=\"image1d87af55e6\" transform=\"scale(1 -1)translate(0 -38)\" width=\"38\" x=\"215.006897\" xlink:href=\"data:image/png;base64,\r\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\" y=\"-141.652414\"/>\r\n   </g>\r\n  </g>\r\n  <g id=\"axes_19\">\r\n   <g clip-path=\"url(#p4b1af76fa4)\">\r\n    <image height=\"38\" id=\"image6e12de7f6a\" transform=\"scale(1 -1)translate(0 -38)\" width=\"38\" x=\"284.275862\" xlink:href=\"data:image/png;base64,\r\niVBORw0KGgoAAAANSUhEUgAAACYAAAAmCAYAAACoPemuAAAFb0lEQVR4nKVYW5ObvBJshMRFCGwcXzaVp/z/H5VUKnlKajdebBAXwXnYMypZBtabb6pcNiBpWj2jnsHB9GaYpgmuTdOEIAjsfRpjjAEABEGAIAjAGINvQRDYb3dduu8b+XLH8NmRDyxOwB51tGZzY/kSW2TjOMIdM46jBeUCWALoO3/UuBsqF8w4jgAArbUFxjnHNE1gjIFzPuuQrn3Q/ubfBebfmKbJAjPGoO976yQMQ+ucMXbj/D321mxuLnd3Q8z0fY+u69D3PaqqsgkfhiHCMESSJMiyDEKIm8UZY4u5SeYDcH3f5Zg/cBgGtG2Lpmnw/PyMruvsxDiOoZQCAOR5frfwXOLTmCWwc3O5P5hC2XUdnp+f8f37d7Rti3EcEYYhlFIoigJd1yGKIiRJYsM65+BR8+VpVi6MMdBa4/fv3/j27RuqqkLf9wCAw+GAsixRVRXCMMTxeEQcxzeL+yGdY8pn03+2qGPE2vV6xfl8Rl3X6Pse4zhiGAYwxnA6nVCWJYQQd2LsOvd/P2KzwCgswzBAa43r9YqqqlBVFRhjGMcRQghcLhcL1j+ltM6/nlpOu6GJNHkcR/R9j7qucT6f8fLygj9//sAYg7ZtMU0Tvnz5gqenJwghwDm3p5Z+B0Fg9dBf/z1hvi90eMuxruvQNI1l6nw+o6oqXK9XNE0DrbV1Sjm1VqZcp3MfekY2C4zyqOs6tG0LrfXNd9d1GIbBAnMT3k12Xx/fA+wam6PWlQytNbTWqOsaTdNYtkhCaK7P2BwjHzGb/Dc0MmYZoJDS6ZRSWpG9Xq+2QgBvlWEtrP4pXSryN3LhHgAhBNI0RZ7nyPMcaZpCCGF7L8rBvu8xDIOVDzeE73Uta0wuJn8YhpaVzWYDpRSUUpYtYsbdlC+sPgtrNjfuTseoi4jjGGVZ4nQ64XK5oOs61HWNoiiglEKSJIiiCEIICCEQRZGVibli7od2TflngQFAFEVQSuF4POLr16+2uzDGYLPZIMsy7HY7KKUQxzE45+Cc29z0mVsDsFTYZxljjEEIAaUUDoeD1a+XlxcopZBlGbIsQxRFNqT/cvLW5s3mWBAE4JwjTVNst1uUZYmyLG0IhRA2ZCQtxpibNnxOND9is6GkciKlvAGWZZkNkyvCXddZEO7zO9GcCbFPyCowdyFiB3irCE3TYBgGvL6+4tevX1bP6DBIKZEkCeI4RhzHd0m/1ki6AFeBubukov76+oqmaWCMwW63QxiGKMsScRxDCIEsy5CmKbIsw3a7vZEYao/cd4YlW2x7yCisQRDAGGO7jaZp8PPnT3DOURSFdS6lhJQSRVHgdDphu93a3JRS3nQfPkuzwObQM8YQRdGNJIzjCK01zuczfvz4gaZpIKVEFEUYxxFpmiJNUyil8PnzZ3z69AllWWK/3+NwOCDLMkgpwTmfbYFsz79WNhhjSJIERVHgcDjg6ekJxhh7IsMwRNu29p4xBlVVgXOOJEmgtcbfv3+x2+1QVRXqurbV5HQ6IUmSG/Zc36s5RnUzjmPkeY79fg9jDIQQdtfu4RiGwUoNVQN6TiGkCjH3n8ddKNdUmfKmKArs93twzpHnuU18V2DdP1wYY9jtdsjzHEVRYLPZYLPZIM9zK86Uv4vA1hiLogh5nuN4PEJrjcvlYvsxYgSAFVkqSbQByqk8z7HZbGzoaN5Sq30DbOkASCntROpejTF3u6Zco48bRl8ufDB3b+I+Q/6rF+WMlNI6p5LjhtLvIvxiTmlB136O3YmsMWZ6pJ49OubRkuPOoQ9tBph5fVs7CB+1uQisjb1h3Rjzb+X///aR7uGRHs2G+r+AooUeeZ9cmrt0vZj8cxPJHgn3o0wugfsf45argVfU+98AAAAASUVORK5CYII=\" y=\"-141.652414\"/>\r\n   </g>\r\n  </g>\r\n  <g id=\"axes_20\">\r\n   <g clip-path=\"url(#p4b48687d94)\">\r\n    <image height=\"38\" id=\"imagec8ecc6a882\" transform=\"scale(1 -1)translate(0 -38)\" width=\"38\" x=\"7.2\" xlink:href=\"data:image/png;base64,\r\niVBORw0KGgoAAAANSUhEUgAAACYAAAAmCAYAAACoPemuAAADzElEQVR4nO2Xyy8zexjHPzN6iw5tRZTELRqRliAICRG6aiLBwsLayt9hZe9dkzSWdl0jaYgNTYrEJRGXUJcoWtWZaqq/szhH4z1e53S0YuO77TzPfPrcRxJCCHTI6/Vyd3dHd3c38/PzyLKsxzxv6fY6MDCA0+kkHA4TDod5enr6Ci79YJ2dnTQ2NpJMJlleXubi4oJUKlV0MINeg56eHhKJBJFIhNnZWex2O0ajEZfLVVQwSW+NZbNZrq+v2d7eZnp6GrfbTX9/PxMTE7S2tiJJUlHAdKdSlmUqKipwu934fD40TSMYDPLr1y92dnZ4fHwsCpjuVAJYLBZqamrw+Xzc3t6yu7vL9vY2Ho+H0tJSFEUpvFtFgVpcXBSTk5NCkiShKIrw+/0iHo8X6lYUPIRaWlpoamoCQFVVDg4O2N/fL9Tt51L5VnV1dXR2djI0NMTGxgZra2sA2Gw2mpubKSkp+R6w6upqurq6GB8f5/DwkK2tLaLRKI2NjVRVVVFeXo7B8InXFFwM/yidTovZ2VnR3t4ujEajsFgsYmFhQRwdHX3KX8ERe5XBYGBqaoqzszPi8Tjn5+fMzc1hMBioqqqirKxMl7+ibWBJknA6nQwPD+P1erHZbJycnLC+vk4wGCSVSiF0zPKiRexVPp8Pu93O3t4eOzs7rK6ukkgk8Hg81NXVYTQa83NUrBp7K03TxPHxsejt7RUOh0PYbDbh9XrF3t6eUFU1Lx9fckyZzWZqamqYmZlhZGQERVEIh8P4/X5CoVBePr4ETJIkLBYLHR0dVFZWkslkiMViHB4eEo1Gvw/sLWAymSQejwPw/PxMJpP5fjCn00lfXx+Dg4O6bb88YiUlJZ9aS0UfF/D3MZlOp0kmk9zf3+dSqUf/CyaEyA3GP12nfxqamqZxdXXF/v4+m5ubHB0dFQ/s5eWFRCJBIBAgFApxeXnJxMQEVqs1B/jw8MDKygo3Nze/2aZSKaLRKJFIBE3TSKfTADQ0NOBwOAoDi8ViBAIBlpaWOD09zXWXwWBAlmWy2SypVIqzszNUVX33pzRNI5lMAuBwOBgZGWF0dJTm5ubCwFRVJRQKsbGxQTweR5Zl7u/vUVWVbDb77nlJkjCbzZSWlmIymVAUBUVRAKitrWVsbIz+/v68l/mHYCaTifr6+lxHmUwm2tra2N3dzUXi32Aul4uenh6qq6t/+62yspKOjg4URcm7Qz/8fHutsVgsxsvLSy4i6XT6w4gZjUbMZvO7w1CWZaxWa/4L/L/AvltfOmAL0Q+YXv2A6dUPmF79gOnVX5UD/qK0b/0lAAAAAElFTkSuQmCC\" y=\"-186.64\"/>\r\n   </g>\r\n  </g>\r\n  <g id=\"axes_21\">\r\n   <g clip-path=\"url(#p61fffeb3fb)\">\r\n    <image height=\"38\" id=\"imagebf726825b0\" transform=\"scale(1 -1)translate(0 -38)\" width=\"38\" x=\"76.468966\" xlink:href=\"data:image/png;base64,\r\niVBORw0KGgoAAAANSUhEUgAAACYAAAAmCAYAAACoPemuAAAFhElEQVR4nJVY23LbOgxckRR1lzyetJ0+ZfL/f9WndjppYseSdSN5HlqgFEOpOXixbPGyXAAL0Im11hljYK0FACRJgj1zzsE5x9+ttTDG8DwhBL+jdfxPf236Hu5H6yt6SJIEzrldYOE7H+CehaD21o6BU0cDwnchGJ8xIUR0/tGae/YO2NFAAkKf1loMw4BlWZAkCbTW0FrzHCnlIcgY4/57tecSHwwx0/c91nWFMQbGGLy+vuJ6vUJKibZt0XUdtNZQSkEpBSEElFKQUkaZ8/cO3a7IFb5RMjjnMI4jpmnCMAz4+fMnhmHAPM+Ypgmvr694e3tDkiToug5fv35F13WoqgpN00AphTRNobVGlmVRAgigcw5CCH5WxphNcDrnmBFjDIZhwNvbGy6XC759+4br9YphGHC/33G5XND3PTO2rivGccT5fIbWGuu6ctL4bt5jjkAxMApcKSWcc7DWYlkWGGNwv99xvV7x/PyMHz9+4NevXwyOXKu1hnMOfd+j6zrQmuFmYWb77gulSFFAE43+YvQ7ucRfgNxpjOFAJ7fleY66rrEsC9I05Xj7PxmqYhriA/P1x2eTgFlrIYTANE2Y55kzV0oJ3xt7FpMhBranvjRRCMGuMcZgXdcNY845DMOAcRwZHM07EtYQ4AaYUuodM2RCCKRpiizLkOc5u3tZFkzThHEcOWuVUnh5ecHnz58xTRPHk5QSSqldgHtyFXWltRbrum60SGuNuq6htYaUEtZaZg0A5nlmJtd13dTej8aX71YVoiZQ67ryb1JKZFmGtm1R1zWKogAxTTFH83xXA78TIsaKn6H0vMnKcAJtsCwLgN/ulFIiz3OcTiecTidcLhd2LVUGEmQCNY4jAyM58UGFYEMpUbS4P4BO7QevlBJFUeB0OuHl5QVFUcBai77vWUBvtxv6vkff97jdbkjTFHVd/zMBYl2N8oUQ2O8G6L2UcsPC7XbjQ3z//h1VVSFNU7Rti6IoeH7XdRvX7THGMeaXIgIWNnm+UZalaQoAWJaFs5SqATFmjEHTNCwh/3Kf/17sdZp74KSU3OIopdj1tDDVWIpTSogwxo7MOfe37QlFlQBRy0OZSl1AlmUoigJFUSBNU1RVhTzPuXT5jYAfwx815TND1JJ2kTBaa9mFeZ6jqirWNOoafBE2xmCaJgghmDVy5UfrpfJBkfkBTmaMgdYaRVGgrmu0bcssCSGQ5zmyLOOCTgU85srQollJbvObNNogyzIkSYJlWSClxDzPSNOUWfny5Qu6rsM4jmiaBk3ToCxLpGm6CQFqoULzCXmnY7HBdGrSMSpJfvzUdY2yLJFlGYwxzDCFgC+6tEbYqcTAkQns2JGe+bHo6+A8z9wSEVPTNOF+v3Nh/8i1zzm3D+zI+MLwhx2t9SYTiS0CN88z5nmOMhO7kAB/bkmx9tenneoluWNdV2RZhq7r8OnTJ26p27ZF0zSo6xpVVXFY+PEbMrNn3F2EXatfJ51zXPestRxLj4+PeH5+xv1+R9M0OJ/PHHtUIykhKG5D1kIyNozF0McqAt0PqXk8nU7MWFmWLCFFUaCqqk2GH112w8z88E3c7zBootYaXdfh4eEBZVlyI0nVoCxLHkfZHB52r09jV/qD6TnUFWqz6fKRJAnO5zOenp6wLAsnAlUAAkYFP8synhdKRawu7wKLnc7/m8k5h7qu8fDwwG2PlPJd90Hf/bkxj4S2KUl+FoYn8cfQ73meo21brqV+wtAzaR1l9J53wucNYz6AGDBiijYkhgBsNo51KrE1QnD+fqxjvsWyxD9p2ImE4I+Ce8/CtQ+BhacLhZgKdei+2GZ7DMWqwK5cxFiKZc+/GNtjJbaWDzRJkr/BfxQD4cJkJCEh2CNQsTGx/f4D0PeVUcNZai4AAAAASUVORK5CYII=\" y=\"-186.64\"/>\r\n   </g>\r\n  </g>\r\n  <g id=\"axes_22\">\r\n   <g clip-path=\"url(#p310a17267c)\">\r\n    <image height=\"38\" id=\"imagea65c404652\" transform=\"scale(1 -1)translate(0 -38)\" width=\"38\" x=\"145.737931\" xlink:href=\"data:image/png;base64,\r\niVBORw0KGgoAAAANSUhEUgAAACYAAAAmCAYAAACoPemuAAAFR0lEQVR4nK1Ya4+bOBQ9YAM279BJov7/PzUfW1WqWlXqTKeEScCP/bC9dx0CeezulVCAgH18zrnXNpG11mMhvL+8TfeiKOJ74fl/iXl/8b2g/o94ZBDynofmQOfX1zoMWX5kwJIa9d5fvLwGyHvP53EcI4qiC3DUFh1RFCGOFwVaHIycd7gEis6dc4jjGN57WGvhvYcQgoFR50tA57H0f8iuvEUvjdgYg+/fvyNNU76epglxHENKiSRJEEUR0jTlw1oLay2Av5kNByGEYBBLIO/ymHMOp9MJX758OQN2Op0QxzGSJIHWGkII5HmOPM9RFAXGcYQxBt57BiulhJTyAtBcoTMp1+g3xqDvezw/P2McR2bCGMMsFUWBsixR1zWqqsJms8EwDHh/f4e1FmVZom1bVFWFsiwRxzHLPlcIAKRzjkEtmdsYg5eXF3z69AnPz884HA4YxxHTNMFay8DyPEdd12iaBmVZoqoq9H2PaZoAAJvNBvv9HrvdDk9PT6iqClprSClZ1jMpQ0MvMeacw+FwwI8fP/D582f8/PkTwzDgeDxiHEcGprVmQGVZomkanE4nGGMghMB2u0Xf9zgej5w4Ukpm7gIYvbhGq3MOwzDg5eUFX79+xbdv3/D29obD4cAeS9MUSikopZDnOcqyRNd1IDWklDgcDrDWsicJ/FJN9N5D/vr1C1mW8TGfbkI/0UipcfolKcN2KEmiKEKSJFBKQQjB50VRIEmSRRkBQPZ9zx2mabr4ELFnjOFMC8uAlBJKKWRZxp7x3mOaJmad3pumif0Zenke8TRNMMbAObf4ENWfNE2RZRkzJYTgukRWEEIwsDnzNAB6b40pZozQkx/Cxkg2Mjdl0jRNPJCws3nHUko45yClRJZl7EOS+toUJakTAhPOnQAghIDWGpvNBh8/fsTpdEKWZXh7e8PxeGS2QknJQzRgaqOqKq5zSqnrdWwYBjawc25RgizLUBQFPnz4gNfXVza1UgoAzrJynkjeeyRJgjzPkSQJs0ql4ipjVDDDlcDZQ3+YaJoGTdOwcZMk4f9JHuow9CABpfl0fqwCowSw1p6ZkkBKKaG1Rtu26LqOJf79+zefL7FBPqL6FoILZZvL+Gew8mJEoZTeeyil2GPv7+9IkoTlp2lJa83gkiRBXdcMRmuN3W6H/X6PruvQti3XsKX+AECmaXq10FE5yLIMbdtiu90iHMw0TRBCnPlLKcVTEyXCfr/HdrtFnufQWi8a/0xKrTWUUqvFNZSTVggEmPxJiUBLHq01mqbh8lIUBXa7HTabDdI05Uy+FrJtW6Z9LXUJWFVVGIaBq3nf9/809GedRQzVdY26rlEUBV/fwxTPlV3XLfpr6YWiKPD09MSlYZomvL6+whjDmUiLRpqkCdxa3VplTCl1s6YQMJqAnXOw1qKuawDAOI7MGjFUliWKogBZZW70m8DC2nINFMlJhdg5h7quEccxT1FCCJawqirkeQ6l1NXkWgV2726G6hHtjKhU1HXNKw0hBJu+67qz2vZoSFq9hrG2ysiyDEIIWGu5KEspecNB2UlZHlb/Rz8rSHpwvuFd2qDMlzllWUIIwbNGHMcoioIHMN9jLm2K18iQSw+t3QtBRVHEEzOtIogxYusaqFsRGWPOoM639WGQlyjCNRytRO7diV+Li33lvS+FCREyQiXn3o8sa/8Bs48qt2IuDYF8xNj3VH0gMP8c9VID8yL8b/1zLXhKWnsgZPBWx6G899riFnMylOS/NHZvh7cGfCHlkoSPJMU9PnskW+XczPOYfx665qtb4O5l3HuPvwCBdvJ2dVhjLwAAAABJRU5ErkJggg==\" y=\"-186.64\"/>\r\n   </g>\r\n  </g>\r\n  <g id=\"axes_23\">\r\n   <g clip-path=\"url(#pc14e3fd286)\">\r\n    <image height=\"38\" id=\"image47afcf6669\" transform=\"scale(1 -1)translate(0 -38)\" width=\"38\" x=\"215.006897\" xlink:href=\"data:image/png;base64,\r\niVBORw0KGgoAAAANSUhEUgAAACYAAAAmCAYAAACoPemuAAAFjklEQVR4nLVYXW+cOhQc22Dz/ZGoShTlYdX3/v8f07c8pGo3yWaBBQPGvg+VfQmXJbutriW0rIHjYewzcwwxxhitNYwxsG1+vvxPCMFnzd6z9ZwxZjWW7fOMMbDHOTDXtrVnL+0DAErpb2CXDGLBU0pBCLmIub9pHiFkkx2tNbTWmKYJ4ziCcw7P88AY+wDQTs3fMP0BmA1kgy6DT9MEKSW6rkPf94jjGEIIcM7BOXfgLMC19bVs8zHnffM43vJmYwymaXLH6XTC8Xh0R5IkCMMQYRgiiiIIIeD7Phhj8H0fnueBUvopuDmYtT5v7QGtNZRSkFKiqirs93u8vLzgx48fSNMUYRgijmNkWYYkSSCEgBACQRAgiiI33Utgawwt1cD2rQID4Nh6eXnB8/Mznp6e8P37d3DOEYYh0jRFWZbI8xxRFCEMQyRJgru7O5RlibIsNxnakopVxixiu+C7rsP7+zt+/fqFp6cnMMYghECapri5ucHNzQ2yLEOWZVBKOZBr07jG2BrwTcYIIaCUQmuNYRjQNA1eX18BAJxzVFWFuq7Rti2KokDf92CMIc9zdF2HaZrAGPsQ7xqJWQVmQdmFbDOzqiqM4wjP88A5R13X6PsebdtimiYEQYCiKJBlGcZxXM3WNYZWga1pj52uoihQliXSNEUQBC4pxnFE3/domgZt26KuawzDACEEkiRBFEW4vb1FGIYuUznnq7ZnSVgSszmVjDG3yG9vbxHHMZRSTkqGYUDf95BSOmBCCPdcmqYuW7Msg+/7F03nhzU2Z85OAaUUQgjEcexkQkoJKaUDZgNxznE8HlFVFaqqQtM04JyDUgrf9692hA+MLd/GBo2iCFmWIU1TdF33H5vSWiMIAtR17aa3bVunccvYl1jX5lQaY+B5HoqiwOPjI3a7HRhjqOvasdN1HYwxaNsWp9MJh8MBWZbhcDggDEN4nufAzQFuJcVZYPObhRAoyxJKKXz79g1ZluH19RWHwwFKKez3e2itEUURgiCA5/0OOQwDhmFwa3IrA69izDbGmJOB3W4H3/dRliX2+z2apoHWGn3fOw/lnIMx9sFzl4XoGgHLfs+ebBVtnHMkSYLdboc8z/H29oafP386IT2dTqCUOqkQQriYS3BbrM2vnbUke24TgDGGu7s7V01orVGWJaIogpQSxhhIKV02pmnqgI7jiGmaVtX/j9bY/A2tEyRJAmMMlFK4v7/H8/MztNaQUoIQAikl6rrG+/u7M3gppcvez9xgE9g5oJ7nIQxDAHDA7u/vAQB1XTvdUkrhdDqh6zoMw+AYW9tXXMTYFs2EEARB4CSEMYavX7+iaRrkeY7j8QillJMPpdQHl7Br7FKhvYixpcdZR3h4eIDWGo+Pj6jrGlJKvL29oaoqN7VzYH8sF0tql7W5vW7Xmy0YtdbuGWvIfd+j6zp0Xee8VGvtpMTGPTed/2Hs3D5zDtAObqvZcRxdxWFrOGvubds6cJdIxllgSxBL0PPrlFJEUeT6x3GE7/vu3HqmtTBbyy0LyKuAWdbmqb1MBkIIkiQB5xxBEIBS6tba4XBwmxJCCJRSGIbBlT6U0tVt3KfA1oDOQdqgVoABIEkSFEWBpmlc/cU5h+/7borP2dMfAzvX7NtzzhHHMYqicPsAAAiCwOmbfcGLgZ3b/33ma/OC0hgDIQSyLEPbtsjzHEopCCFcxbGsMpZLY/7714zNA1sj//Lli5MK3/chhHC12by+/1T5l8a99YFka284t6yHhwd0Xec0LwgCtx+4xC+J1tpc8+3qXFt+++j7Hn3fu8FtJWuBWebWbJAQ8i+w+dtfA2ptS2Z38msDfhj8zGcCQsj/80XxEp3aGoMQ8nvDu+y8tj7fAnjtPY7VtQW2xuA1QC/RqjWpmJ//Azx24qE8qudGAAAAAElFTkSuQmCC\" y=\"-186.64\"/>\r\n   </g>\r\n  </g>\r\n  <g id=\"axes_24\">\r\n   <g clip-path=\"url(#p501ce4c8c2)\">\r\n    <image height=\"38\" id=\"image87a2adbeae\" transform=\"scale(1 -1)translate(0 -38)\" width=\"38\" x=\"284.275862\" xlink:href=\"data:image/png;base64,\r\niVBORw0KGgoAAAANSUhEUgAAACYAAAAmCAYAAACoPemuAAAFYklEQVR4nJ1Y2W7bOhQcidRCbZattEWRFmj//6sCtCgSNHYKyVpJqQ+5h5emKcXNAYjE4jaas8tbXgXLsmBNaE4pBaUUAMD3ff3X87yrPbc+o/PtOe7a7AJJz8wDPM+7+bK1deacuYbbIOi3yZLJ6DzPGhA9N1/mX1jZEm4DocvnecayLOj7Xv/POceyLGCMgXOugRBA3/cvANhgtszlCpjrzeZ5hlIKUkr0fX/Biqk+l33Zv99ichOYydqyLJimCcMwYBxHPD8/Y5omDSoIAiRJgizLkKYpGGN6L2PsAoiLrTXg9pzTxqSUGIYB5/MZT09P6PseUkosy4I0TVEUBZRSCIIAYRg62TTVaV685ljmGQDAXYvnecY4jjgej3h4eMD5fIaUEgBQliX2+z2klEjTFJxzzZp5ya1iOpaJ5crGaPE0TTidTnh4eMDpdELf95imCff397i7u0PXdUiSBIwxCCEu9q/FNlPW2KM5JzDglbVpmtB1Heq6RtM0aJoGjDEopcAYQ9M0kFJinucLj7zV+1zqJuEu9ESvUgrTNKHve9R1jePxiCAIAABRFKGua+0YpgPdauBbz7i9wBxka+fzGS8vL3h8fNSOoZTC9+/f8fXrVwghEATBlRETiy5PNb3ZlmVZ1uPYNE0YxxHDMKDve7Rti7quEccxwjBEkiToug7TNEFKCcaYtq0t+3Kp28W2v0XrPM+QUmqQpFYa4zhCKaUzgwuEOWwg5hpbfFcCNYHRIHszGRzHURu/6/I1YC6AtnDXIt/3wTlHFEVgjGnV9n2PrusQBAHqukbXdTpDUDxjjF3YqSm3VhuAoUqTOUo7ZVmiqiqUZYk0TRFFka7DCKyUUg9TpS71ulhcY+3KxoBXjwnDEEVR4O7uDofDAWVZIs9zJEkCzvkVI2ssvVechaLv+wjDELvdDvf392iaBl3X4eXl5XUT50iSBGEYgnOuh+mZrvxnvwSwbmfOyM85hxACVVXh27dvOoH3fa9L6yiKUBQFwjDUtmUDI9nKn2sAncBM1qqq0inp8fFRR3qKZVTqUD9Axm+LXUC+BXoTWBAEyPMc+/1eOwGxFgSBjvYUSkidxNg8zzczdhMwABpYlmUoigJlWWK324ExhnEcNQCKbeY+V7lOc2tgbMdZBUaLfd/XGWAcR3Rdp/uA379/QwiBtm0RhiHiOEaWZUiSBEIICCEuSiBX5+Qy/s2yx35jUheVP8Mw4OfPn5jnWReMnHPkeY40TZGmKQ6HA9I0RRzHunkhoCazN9uYDcosg4ZhQF3XOJ/P+PXrF6SUiONYH06M5XmOz58/o6oqHf8oBpIH2yw5gdmU2nW87/s6PQ3DgD9//sDzPByPR3DOdTkkhNCh5MuXL/jw4QP2+z0+fvyIT58+aeBBEFzFPBPgmw0vAIRhCCEEiqLA4XDQqcjzPN3eUR6llBbHMdq2xfPzM6qqQtM0aNsWRVFgt9vpxiYIAh1yzDu5DcIWSuhxHCPPc1RV9brxv+aX+oO+73V1S+xSwDXPcj13yYWNudiisCGEwG63A/Aa9fM8v4hhVEjSXt/3dY4tigJZliHPc+R5jizLdOWyll89pdRiAzK9ZZ5n1HWN0+mEHz9+6HAxDIM+mDr2tm0vmCmKQnvofr/H4XDQNhhF0f8grJL+ijGXeJ4HIYTeME3TRfqhOEdlkO/7GhiFCfrWEcfxlRpXY5zJmK1GEgqwlI7Mjyh0GIEjDyYnsBsQ08ttYGbPcAXMJbf2iXaifuuDC62jYRYAF33lVoow163Jv4La2usppW7/aLUi/9p5b+272fjfc6Hr0ls7cBL+nlppC4C9f+vTwdadfwF2QFi8piPX9QAAAABJRU5ErkJggg==\" y=\"-186.64\"/>\r\n   </g>\r\n  </g>\r\n </g>\r\n <defs>\r\n  <clipPath id=\"pd42292c0d2\">\r\n   <rect height=\"37.489655\" width=\"37.489655\" x=\"76.468966\" y=\"7.2\"/>\r\n  </clipPath>\r\n  <clipPath id=\"p0fe0dfd6a4\">\r\n   <rect height=\"37.489655\" width=\"37.489655\" x=\"145.737931\" y=\"7.2\"/>\r\n  </clipPath>\r\n  <clipPath id=\"p091ce6ab24\">\r\n   <rect height=\"37.489655\" width=\"37.489655\" x=\"215.006897\" y=\"7.2\"/>\r\n  </clipPath>\r\n  <clipPath id=\"p5403b047b8\">\r\n   <rect height=\"37.489655\" width=\"37.489655\" x=\"284.275862\" y=\"7.2\"/>\r\n  </clipPath>\r\n  <clipPath id=\"p19d7a00dee\">\r\n   <rect height=\"37.489655\" width=\"37.489655\" x=\"7.2\" y=\"52.187586\"/>\r\n  </clipPath>\r\n  <clipPath id=\"p6fea948dae\">\r\n   <rect height=\"37.489655\" width=\"37.489655\" x=\"76.468966\" y=\"52.187586\"/>\r\n  </clipPath>\r\n  <clipPath id=\"pc2f2d75809\">\r\n   <rect height=\"37.489655\" width=\"37.489655\" x=\"145.737931\" y=\"52.187586\"/>\r\n  </clipPath>\r\n  <clipPath id=\"p7904644893\">\r\n   <rect height=\"37.489655\" width=\"37.489655\" x=\"215.006897\" y=\"52.187586\"/>\r\n  </clipPath>\r\n  <clipPath id=\"pd4789e7914\">\r\n   <rect height=\"37.489655\" width=\"37.489655\" x=\"284.275862\" y=\"52.187586\"/>\r\n  </clipPath>\r\n  <clipPath id=\"p40dd54507e\">\r\n   <rect height=\"37.489655\" width=\"37.489655\" x=\"7.2\" y=\"97.175172\"/>\r\n  </clipPath>\r\n  <clipPath id=\"p045ba83629\">\r\n   <rect height=\"37.489655\" width=\"37.489655\" x=\"76.468966\" y=\"97.175172\"/>\r\n  </clipPath>\r\n  <clipPath id=\"p98eb9cdb46\">\r\n   <rect height=\"37.489655\" width=\"37.489655\" x=\"145.737931\" y=\"97.175172\"/>\r\n  </clipPath>\r\n  <clipPath id=\"pb18b1925c6\">\r\n   <rect height=\"37.489655\" width=\"37.489655\" x=\"215.006897\" y=\"97.175172\"/>\r\n  </clipPath>\r\n  <clipPath id=\"p86515f69ee\">\r\n   <rect height=\"37.489655\" width=\"37.489655\" x=\"284.275862\" y=\"97.175172\"/>\r\n  </clipPath>\r\n  <clipPath id=\"p79ba7166b5\">\r\n   <rect height=\"37.489655\" width=\"37.489655\" x=\"7.2\" y=\"142.162759\"/>\r\n  </clipPath>\r\n  <clipPath id=\"pc57fcd30a6\">\r\n   <rect height=\"37.489655\" width=\"37.489655\" x=\"76.468966\" y=\"142.162759\"/>\r\n  </clipPath>\r\n  <clipPath id=\"pff4e44cfc8\">\r\n   <rect height=\"37.489655\" width=\"37.489655\" x=\"145.737931\" y=\"142.162759\"/>\r\n  </clipPath>\r\n  <clipPath id=\"pdf532ca54b\">\r\n   <rect height=\"37.489655\" width=\"37.489655\" x=\"215.006897\" y=\"142.162759\"/>\r\n  </clipPath>\r\n  <clipPath id=\"p4b1af76fa4\">\r\n   <rect height=\"37.489655\" width=\"37.489655\" x=\"284.275862\" y=\"142.162759\"/>\r\n  </clipPath>\r\n  <clipPath id=\"p4b48687d94\">\r\n   <rect height=\"37.489655\" width=\"37.489655\" x=\"7.2\" y=\"187.150345\"/>\r\n  </clipPath>\r\n  <clipPath id=\"p61fffeb3fb\">\r\n   <rect height=\"37.489655\" width=\"37.489655\" x=\"76.468966\" y=\"187.150345\"/>\r\n  </clipPath>\r\n  <clipPath id=\"p310a17267c\">\r\n   <rect height=\"37.489655\" width=\"37.489655\" x=\"145.737931\" y=\"187.150345\"/>\r\n  </clipPath>\r\n  <clipPath id=\"pc14e3fd286\">\r\n   <rect height=\"37.489655\" width=\"37.489655\" x=\"215.006897\" y=\"187.150345\"/>\r\n  </clipPath>\r\n  <clipPath id=\"p501ce4c8c2\">\r\n   <rect height=\"37.489655\" width=\"37.489655\" x=\"284.275862\" y=\"187.150345\"/>\r\n  </clipPath>\r\n </defs>\r\n</svg>\r\n",
            "image/png": "[encoded data removed]"
          },
          "metadata": {
            "needs_background": "light"
          }
        }
      ]
    },
    {
      "cell_type": "markdown",
      "metadata": {
        "id": "BOcIcfWXcTnE"
      },
      "source": [
        "Below we generate random styles and see the output it generates. We notice that it is quite likely the images are distorted in this case, compared to when using the style of an already existing image it seems it would usually have a good quality."
      ]
    },
    {
      "cell_type": "code",
      "metadata": {
        "id": "Rxva38XUbRI_"
      },
      "source": [
        "for i in range(5):\n",
        "\tpyplot.subplot(5,5,1+i)\n",
        "\tpyplot.axis('off')\n",
        "\tpyplot.imshow(np.reshape(solv.nets['generator'](inputs[0]['x_src'],tf.random.normal((1,24))).numpy(), [28,28]), cmap='gray_r')"
      ],
      "execution_count": 21,
      "outputs": [
        {
          "output_type": "display_data",
          "data": {
            "text/plain": "<Figure size 432x288 with 5 Axes>",
            "image/svg+xml": "<?xml version=\"1.0\" encoding=\"utf-8\" standalone=\"no\"?>\r\n<!DOCTYPE svg PUBLIC \"-//W3C//DTD SVG 1.1//EN\"\r\n  \"http://www.w3.org/Graphics/SVG/1.1/DTD/svg11.dtd\">\r\n<!-- Created with matplotlib (https://matplotlib.org/) -->\r\n<svg height=\"51.889655pt\" version=\"1.1\" viewBox=\"0 0 328.965517 51.889655\" width=\"328.965517pt\" xmlns=\"http://www.w3.org/2000/svg\" xmlns:xlink=\"http://www.w3.org/1999/xlink\">\r\n <metadata>\r\n  <rdf:RDF xmlns:cc=\"http://creativecommons.org/ns#\" xmlns:dc=\"http://purl.org/dc/elements/1.1/\" xmlns:rdf=\"http://www.w3.org/1999/02/22-rdf-syntax-ns#\">\r\n   <cc:Work>\r\n    <dc:type rdf:resource=\"http://purl.org/dc/dcmitype/StillImage\"/>\r\n    <dc:date>2020-10-25T12:53:39.150205</dc:date>\r\n    <dc:format>image/svg+xml</dc:format>\r\n    <dc:creator>\r\n     <cc:Agent>\r\n      <dc:title>Matplotlib v3.3.2, https://matplotlib.org/</dc:title>\r\n     </cc:Agent>\r\n    </dc:creator>\r\n   </cc:Work>\r\n  </rdf:RDF>\r\n </metadata>\r\n <defs>\r\n  <style type=\"text/css\">*{stroke-linecap:butt;stroke-linejoin:round;}</style>\r\n </defs>\r\n <g id=\"figure_1\">\r\n  <g id=\"patch_1\">\r\n   <path d=\"M 0 51.889655 \r\nL 328.965517 51.889655 \r\nL 328.965517 0 \r\nL 0 0 \r\nz\r\n\" style=\"fill:none;\"/>\r\n  </g>\r\n  <g id=\"axes_1\">\r\n   <g clip-path=\"url(#pc415a22f22)\">\r\n    <image height=\"38\" id=\"image83c43b818f\" transform=\"scale(1 -1)translate(0 -38)\" width=\"38\" x=\"7.2\" xlink:href=\"data:image/png;base64,\r\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\" y=\"-6.689655\"/>\r\n   </g>\r\n  </g>\r\n  <g id=\"axes_2\">\r\n   <g clip-path=\"url(#pc70cfc57ae)\">\r\n    <image height=\"38\" id=\"image642a30e277\" transform=\"scale(1 -1)translate(0 -38)\" width=\"38\" x=\"76.468966\" xlink:href=\"data:image/png;base64,\r\niVBORw0KGgoAAAANSUhEUgAAACYAAAAmCAYAAACoPemuAAAFwklEQVR4nKVYa2/bOgw9luVHEqdZimLDHiiGfej//1HbACNI0sSO/JR0P/SSoxWnLTYCQRLLlo4OyUPK0el08lEUgT5k3nsA4GvyHhoDAGstrLUYxxFN06BpGlhrAQBxHPO93nssl0toraG15nnjOOYP3eecg1ZKTRYnm/utlEJoSil476G1RpqmDDaKIh4jcFmWIY5jyDWVUojjeLKeUgpaMiUHpYXXQ9A0cZIkE0YJmHMO3nskScKg5Jp0zXuPKIpeGAtdJd0oQdxyNbFIkydJwuPSjd573kAITP4mcFoyIQG9ZXMs0m6997DWMlsUg2maQik1CQkZX9K0c24yMe2OkEv/h2DCjdBzzjmM44hhGNB1HbquQ9M0WK/XSNMUWv/hI0kSBiznuALmnONdk//luAQRZihNSgy1bYvL5QJjDOq6RhRFWCwWnCQMQusJi957aBkHURTxpJRZRPWcm+WzwEs2Elt936Oua5zPZxhjYIzBZrNheZGg5jZ3nf/4o03E3C0g4TWKJ6mB9CHtCgM9TBAyHS5Eu+37HkoppGk6cWkILpw4BJMkCZIkgbWW5UNuOgwdBkYxRpNLBY+iCHmeI47jScCGbJGFbAB/BFQpBeccb5jAaK35t0we3ff9hHZjDHa7HY7HI5xziKIIDw8PV5lDz8jkoUX6vsfxeMTz8zPqukbbtnwfgXLO8f3L5XIyt3MOuuu6yUL7/R4/f/5EWZaw1nJ6L5dLZFk2YedWZnZdh/1+j7IsUVUVmqZBHMcMhp5PkgSr1YrByMzUhJ6s73u0bYumaTjeZECHrgpdSEbM9X2PYRg4W2W8vhYaOsy+vu8xjiPGcZxcv1VHpdGicRyzcFI3QbJDmkWMhQWcgV0ul0nrUpYldrsdDocDxnHE8XiEMYZbmRCINGIiyzI8PDwgz3NUVYW2baGUwna7nQi21hqr1WrSBrG+7fd7Tl/nHE6nE6qqQlVVGMcRz8/PaNv2Zj92izXvPfI8Z6BpmuLu7o7lAngpR3meX7nWew99OBw4BpxzOBwOOBwO2O/3aNuWA5jiQzIVao9MhnEc2X1pmnLyUKxZa9nFs64syxJd13FM/f79G79+/UJZljifzyiKAk9PT2jb9grInFGG9X3PciDjiVw+juOV2k/aHqr+BGwYBu4KLpcLzufzRIdo8ZCl0J2k+pQId3d3UErBWsuCKxkL+zPdtu0EmDEGdM0Yg8vlgqZpMAzDbI0MARGo9XrNHS2VNnkPZS+BC7te3XXdRCLoP2UqjUmFl7E0231qjaIoJv09LU7AaIy+CRgJrTbG8MIERE4QxsBbBxbq7YuimGSb7PUIJHWz8tDCrHddx6CstWiahhu70+nE9W4YhokLQ7bCb6lX4cYIyFxs0vyaqKNPKHSyqQttzqVv2RzQcDyKopdTEgUgHRjkAUF2A+8FIN1y65m35tFZliHPc65hm80GVVXBGMPXgZcGkhaV3+Ei7zlpzQEO41nLAgsAaZoiz3NkWcYPdl2Huq5ZLAnAa66YS5SQxblngf9P4nmeY7FYsCuTJGH25EGElDpk5j3unZOUt0zneY7lcok4jrmdlhNSdlESyEPErZopmftb41cE1loYY7izMMZMhDeMsdDmDr8E8D0WPq9l1SdhXK/XqKoK2+0WHz9+RFEUVwFOxVoyIw8Ucwu+JzEYGCk0xRfVN2DaL9GRn2IuVGoJ7G9MzgEAerPZ8AGi73t+W0Olg7JzGAZuZWicOgWp5v8CToLU379/58W6rsNms2Hm6rrG09MTfvz4gc+fP7OkULMXntTnGPhb05vNhndNux3HEUVRYLfb4fHxEZ8+fcKHDx+uXrpRObtVzG91t3PgZbJ476HpLR8tcH9/j8fHR6Rpiu12iy9fvuD+/h6LxeJKOMPaSt+v1dbX/k8YCylfrVb49u0bttstvn79itVqhfV6jTzPJ6DIrSELEtRbxf81+w+pDlVqKF6qAgAAAABJRU5ErkJggg==\" y=\"-6.689655\"/>\r\n   </g>\r\n  </g>\r\n  <g id=\"axes_3\">\r\n   <g clip-path=\"url(#pd65f66ce0c)\">\r\n    <image height=\"38\" id=\"image77bc4e16a1\" transform=\"scale(1 -1)translate(0 -38)\" width=\"38\" x=\"145.737931\" xlink:href=\"data:image/png;base64,\r\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\" y=\"-6.689655\"/>\r\n   </g>\r\n  </g>\r\n  <g id=\"axes_4\">\r\n   <g clip-path=\"url(#pf924ae5463)\">\r\n    <image height=\"38\" id=\"image9c1e0ad7fd\" transform=\"scale(1 -1)translate(0 -38)\" width=\"38\" x=\"215.006897\" xlink:href=\"data:image/png;base64,\r\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\" y=\"-6.689655\"/>\r\n   </g>\r\n  </g>\r\n  <g id=\"axes_5\">\r\n   <g clip-path=\"url(#paf4632d0e5)\">\r\n    <image height=\"38\" id=\"image21c37eaf62\" transform=\"scale(1 -1)translate(0 -38)\" width=\"38\" x=\"284.275862\" xlink:href=\"data:image/png;base64,\r\niVBORw0KGgoAAAANSUhEUgAAACYAAAAmCAYAAACoPemuAAAFAklEQVR4nKVYW2/zKhAc48W3tLm3VVv1rf//7/Tte42q9BK1dhxfgPMEWhPspDpIKI4h7DDszi6Jvr+/TRRFsB0AjDGwjY8JIdwcPs4b/y1/tt/tuzEbdoyEEGcG+QIclBACfvOBXWpRFMEYM/jkdmwjC8p2f5f+bsaA+IauBRl6PgNmJ2itLwKZWpyz/ZfGiSF+5sYYnE4ntG2LruuglEIcx8jzHHmeg4gmdxky8JfGf0N93zsDWmtUVYWPjw8cDgccj0fEcYztdouHhwfc39+PHte1YOwcrfXZ5uwaxhiQUsoNaK1R1zX2+z12ux2+vr4QRRFeXl5ARNhut4jjeGDkr8fFwU2tQVprh1JrjaZpcDgcsNvtsNvtoLWGUgpZluH19TUoGf+njfkyxXE8cNbZbIbFYoHVaoWqqtC2LZIkcf4VWsh/x9fz9WoMmN8oJIJd16Gua/z+/qJtW9R1ja7rBkZD4EI+9tdAsPPJd8Ku61BVFQ6HA/b7PU6nE5bLJeq6dlHKjU1F5hS4sQ06uei6zjmgEAK/v7/Y7Xb49+8f3t7ecDweAQDb7RZlWWI+nw9kY0w+QkKttR50nlX4740xoLqucTqdoJQCEeH9/R37/R4fHx/Y7/eo6xpfX1/4/PxEWZYoisJFZkjtp46Npzp/M2fOr5RC27ZQSsEYg6ZpXG/b1kWrUsppTyjXhdpYirvkc1EUQVhDVjbsp21SShCR8y2fGX/HU9WH/zyV9oRPr2WBO7ntllnrI6Eyxq9KLrWxjQhjDIQQiOMYUkpkWYaiKJBlGaSUzjmllADgjtXfUHDXrKS6RsM4g0IpNWCBL9T3PZqmQd/36PseXdcNWLvGV6aAT4Gktm3RNA201iAiZ7TrOhyPR5RliZ+fH5RliaqqUNe1YyLEml+thCpW26aCh2z0AUDf9wMj1pAFWlUVyrJ0Ry+EABGNGuRrhErwKRYpSRLYCiNNU6RpiizLkOc5iqKAUgpJkgxA+sc4xVJoLKRnPlCSUjoVtqBmsxnm8zkWiwWMMS4YpgrFEJhQuzTugKVp6nQqz3Pc3NxgvV7j/v4ej4+PSJIEm80G6/UaRVG4SsPKiX+7sZ1HGBfkEHvBeiyOY2coSRJIKRHH8cAwEbn3PDrTND1jz7/1jF3hLrFGSim3CNcnPxMYY6CUQtd1aJoGUsqg34QM+4xec6SCG+aqbSPOpiT/XjnFxJjB0PjYXJJSuvC36j+bzbBarfD09ITb21s8Pj5is9lgs9nA+mSSJE4yxsJ+ihHfP8+AzWYzB4qIcHt7i7u7OzRN48qhl5cXvL6+Yr1euzRlWZ3SIp9FnjGm0hEAEBE554/jGGmaOrlYLpfQWmO1WmGxWLgA8BebYuiSfvF5g+ubBWSPJUkSJ7B5nkNrjTzPkWXZWVk9ZsAHGQJ2KXfSGKU2Ddkkz8dCdVQo2vyroR+pkz7mG5BSoigKLJdLPD8/Q2uN5XKJJEkGPuXnQ/7OPluf4pLEQflk8GfiQgrA+dnNzQ222y0AYD6fI8uyIDCfbV518Nw6qLUmajTHmJ9ahBAOmK1ki6JAURQDHfPZ8quJsQrXj2jfLdy80+lkfOTWr2x1a3UuxFAo9XBAfC3uq3bdkOQYY0DcCEfM300JaAiUD5AfqT/PP1I7l/yJfmgLIQaX02vBhXJtCDT3P/6efKN2Mv97ymcwBM7/bhmaurhY2yFS/gNaQ7EQIppmFQAAAABJRU5ErkJggg==\" y=\"-6.689655\"/>\r\n   </g>\r\n  </g>\r\n </g>\r\n <defs>\r\n  <clipPath id=\"pc415a22f22\">\r\n   <rect height=\"37.489655\" width=\"37.489655\" x=\"7.2\" y=\"7.2\"/>\r\n  </clipPath>\r\n  <clipPath id=\"pc70cfc57ae\">\r\n   <rect height=\"37.489655\" width=\"37.489655\" x=\"76.468966\" y=\"7.2\"/>\r\n  </clipPath>\r\n  <clipPath id=\"pd65f66ce0c\">\r\n   <rect height=\"37.489655\" width=\"37.489655\" x=\"145.737931\" y=\"7.2\"/>\r\n  </clipPath>\r\n  <clipPath id=\"pf924ae5463\">\r\n   <rect height=\"37.489655\" width=\"37.489655\" x=\"215.006897\" y=\"7.2\"/>\r\n  </clipPath>\r\n  <clipPath id=\"paf4632d0e5\">\r\n   <rect height=\"37.489655\" width=\"37.489655\" x=\"284.275862\" y=\"7.2\"/>\r\n  </clipPath>\r\n </defs>\r\n</svg>\r\n",
            "image/png": "[encoded data removed]"
          },
          "metadata": {
            "needs_background": "light"
          }
        }
      ]
    },
    {
      "cell_type": "markdown",
      "metadata": {
        "id": "CsgqgBHVHsSj"
      },
      "source": [
        "Here we can see the process of how the image transforms into the target. In these small images there is not too much that is changing but we can still appreciate the process."
      ]
    },
    {
      "cell_type": "code",
      "metadata": {
        "id": "24EUFLjWFfOc"
      },
      "source": [
        "s1=solv.nets['style_encoder'](inputs[3]['x_src'],inputs[3]['y_src'])\n",
        "s2=solv.nets['style_encoder'](inputs[3]['x_ref'],inputs[3]['y_ref'])\n",
        "for i in range(5):\n",
        "  pyplot.subplot(5,5,1+i)\n",
        "  pyplot.axis('off')\n",
        "  s=(1-i/5)*s1+i/5*s2\n",
        "  pyplot.imshow(np.reshape(solv.nets['generator'](inputs[3]['x_src'],s).numpy(), [28,28]), cmap='gray_r')"
      ],
      "execution_count": 22,
      "outputs": [
        {
          "output_type": "display_data",
          "data": {
            "text/plain": "<Figure size 432x288 with 5 Axes>",
            "image/svg+xml": "<?xml version=\"1.0\" encoding=\"utf-8\" standalone=\"no\"?>\r\n<!DOCTYPE svg PUBLIC \"-//W3C//DTD SVG 1.1//EN\"\r\n  \"http://www.w3.org/Graphics/SVG/1.1/DTD/svg11.dtd\">\r\n<!-- Created with matplotlib (https://matplotlib.org/) -->\r\n<svg height=\"51.889655pt\" version=\"1.1\" viewBox=\"0 0 328.965517 51.889655\" width=\"328.965517pt\" xmlns=\"http://www.w3.org/2000/svg\" xmlns:xlink=\"http://www.w3.org/1999/xlink\">\r\n <metadata>\r\n  <rdf:RDF xmlns:cc=\"http://creativecommons.org/ns#\" xmlns:dc=\"http://purl.org/dc/elements/1.1/\" xmlns:rdf=\"http://www.w3.org/1999/02/22-rdf-syntax-ns#\">\r\n   <cc:Work>\r\n    <dc:type rdf:resource=\"http://purl.org/dc/dcmitype/StillImage\"/>\r\n    <dc:date>2020-10-25T12:53:39.506202</dc:date>\r\n    <dc:format>image/svg+xml</dc:format>\r\n    <dc:creator>\r\n     <cc:Agent>\r\n      <dc:title>Matplotlib v3.3.2, https://matplotlib.org/</dc:title>\r\n     </cc:Agent>\r\n    </dc:creator>\r\n   </cc:Work>\r\n  </rdf:RDF>\r\n </metadata>\r\n <defs>\r\n  <style type=\"text/css\">*{stroke-linecap:butt;stroke-linejoin:round;}</style>\r\n </defs>\r\n <g id=\"figure_1\">\r\n  <g id=\"patch_1\">\r\n   <path d=\"M 0 51.889655 \r\nL 328.965517 51.889655 \r\nL 328.965517 0 \r\nL 0 0 \r\nz\r\n\" style=\"fill:none;\"/>\r\n  </g>\r\n  <g id=\"axes_1\">\r\n   <g clip-path=\"url(#pe18bf351f9)\">\r\n    <image height=\"38\" id=\"imageca6bb62048\" transform=\"scale(1 -1)translate(0 -38)\" width=\"38\" x=\"7.2\" xlink:href=\"data:image/png;base64,\r\niVBORw0KGgoAAAANSUhEUgAAACYAAAAmCAYAAACoPemuAAAFiElEQVR4nKVY227bOBA9lKiLrVqWaxlpU6BIUfS1//8Z/Yg2RdMEcSVbd4r7sDvsiKbkBEvAkEXzcnhm5szQYhgGLYQANa218/v/bUII0D58XXtvGiftQa7JvM318w1c/fx3IYQB4ZqrtYb30g1e2rTWrwLPyeBryGsLvNSc9jhihDNDa4/jeHVdyRHT92s+MHcYmueaz9f2PA/jOJo+l/tI+3T07trEdVLP82ZBLR1gyWWEEH9NaYOzN9FaQyk16ddaQ0p5NWg4mJcG1YQxPsh2Ynofx9G803fO2hxoz/NmWXWBla4Brolaa/R9PwFNfkJ+A/w195yp+B5LTHrApYPa+rLE5jAMhrm+79F1Hbqum/TbUbn0NIxxtXWdjrMzDAOUUpM+rTV830ccx6iqyrAaBAEAIAxDSCnh+76TwbkmaRMObhgGDMMArTXatsUwDGjbFk9PT+j7HkopKKXQdR2apkEYhtjtdnh8fMTpdMIwDAjDEDc3N8jzHFmWIcuySYDYys+tMIlKzpJSyrDTti2KosDj4yO+ffuGX79+GWbquoZSClmW4dOnTzidTmjbFkIIJEmCtm1R1zWqqoLWGrvdbhIELutcmJK3cRwNuK7rUNc1yrLEw8MDvn//bgCUZQmlFPb7PaSUBrDv+8iyDGmaIo5jRFGEtm2d0W4DIywTHeMDCFjTNDifzyjLEn/+/MHxeERRFKjrGsfj0YBP0xRVVUEpZfzrfD6jqio0TYOu615UuVC/dEWcUgp93+N0OuHnz594eHjAjx8/cH9/j/v7exRFgaqq8Pv3b7Rti+PxiCAI0DQNACCKIvR9jyzLEAQBoihCXdcYx9EEgSsl8Sbn1FgIMYkmikqSAZIC3/eNwAL/Bo7neei6zmQKz/Pg+/4EAOmenTVMPeaik5RaSokgCBCGIaIoQhiGCMMQQRBASokoiiClxGq1QhzHE+0iV+BatqRnfIwB5qoo6JRxHOPNmzdI0xTb7RabzWZSISilkKYpNpuN0x249tl7zYkrgMtC0QbGTSCEMKajJwdDIEjf6EOZwAY0BwpgSXyukSmDIJj4EvkZpSH+pH4CSozZFYgL6CJjE+T/+VkQBBc5k8CRSZVS5p1YInDXqtaLXGl32iLInd/3/cnvPHI5cAJJLLZtO6lMaJ+lRH4RlTwyyHRSSmNO8jspJZIkgZQSh8MBt7e3WK/XqKoK4zgijmN8+fIFHz58wO3tLXa7HaSUJmj4XvT9orReagSQ11u0MElFkiQm9RArq9UKm80GSZJgtVohiqJX3cBmdcyml9df/OPSJ8/zEEWR+RDbfJ1XA+M+xPWo6zqUZYnj8YinpydUVYWu64zZnp+fURQFlFKQUmK73RpZCcMQcRz/P8a46tMdME1TDMOAr1+/wvM8PD8/43Q64Xw+Y7/f4927d7i7u8P5fIbWGmEY4nA44O7uDnmeY7/fY71eX73iLQKjgRxgHMfIsgyfP39GEAQmiRdFgTzPcTgc8P79ezRNAyEEwjDEdrtFnufGz1wV7NLd4EIuOGsATFryfR8fP35EmqZomsbUaG/fvsVut0Oe5+i6zhxmvV4jjmNTWr/GjBdJnN94+O2FJCJNUwRBYFS9LEvc3Nxgu90iSZKLQ3HmiaG5QtEmSPJOW8P4tUwIYSKLZGG9XiPPc6xWKyO+S5vZrPGUdFXH7BNy3yD1p6aUMn2uxV/TLm7ic/7l+o8hjmNT/BEwOgSfv7S563bvvIkv1UQ2SPsPFMoIc2DmikEXQHue5LrCJ7kmzlUIrrDniZ6e/E8ZKoXsktsAo7zHmwsA/++Cs8DzKAdElw0aK4QwxSIHxlWAH0QOwzBBCmBSP3FG67qeXBioorWZpkKRM+H7/qT0oRqOyiXqozT2D0kcA1OQSnJHAAAAAElFTkSuQmCC\" y=\"-6.689655\"/>\r\n   </g>\r\n  </g>\r\n  <g id=\"axes_2\">\r\n   <g clip-path=\"url(#p4bf06156d1)\">\r\n    <image height=\"38\" id=\"image7c84ea0e54\" transform=\"scale(1 -1)translate(0 -38)\" width=\"38\" x=\"76.468966\" xlink:href=\"data:image/png;base64,\r\niVBORw0KGgoAAAANSUhEUgAAACYAAAAmCAYAAACoPemuAAAFNklEQVR4nK1YXW+jOhA9gAHbQEh2q6r//x9V6kOlPq0aaVVpP9PuQnCw78O9Mxq8Jk3uvZZQCDH4cObMmXGy0+kUQggIIYBG6pzmZFkGAPwZn187UvdmWQYlvxAImiwBAsA8z8jzHHme/ysw790jf1cSxNqNxNbpdEKe5yiKgh+09sb/FaSSoZHg4hB67zGOI7IsQ1mWqKoqyV4q1NcApjUVAOR5zhfkzd57ZiXLMmitmbGiKJBlGd8bA5LSuAYYYVCSnXhC/CmPaxe8dqgUqBS4EALmeWYgMfAY3LnnXjLySyYRqGEYcDwecTqdMM9zksU1QJeySvPYLmLv8t7jdDphGAZM04RxHLHf72GMgbUWbduirmvUdb3QG53HCbHG7NpQ8QUCNc8znHM4HA44HA74/v07np6eoLVG13XYbrdomgabzQZaa87UqqqglIJSagHqEmuR5LD4ZTgI1DiO+PbtG15eXvD582c8PDzAGIPNZoPdboe+73F7e4u2bWGtRdM0sNairmsYYwCA7SSEsLCWNZCcld57Ns9pmpBlGY7HI37//o0vX77g4eEBz8/P2O/3uL+/h7UWfd/j48ePaNsWd3d32Gw2aJqGwW42G9zc3KCuayilUBQF8jxHWZYccrKZVMSYMe89vPdwzsF7j1+/fuHnz5/Y7/d4enrCp0+f8Pz8jMfHRxhjGJi1Fl+/fkXf92jbFre3t/jw4QN2ux2cc2iaZhFmrTWKouBQx+zJBFqIX4p+miYMw4DX11e8vr7icDjg7e2N66VSCs45WGs5BF3XYRxHTNME5xzmecY8z1BKgSITa2ltLIo4DRI/AZymib875+CcwzRNUEotQNDiUk8UxrXCv5alKp40zzOzRVYBAEoptG3LmSfLmPeeLeXt7Q1lWeLHjx9/6IjuS1UPGTkGRqks41+WJYwx6LoOwzAghIDj8YiyLNm/qqrCbrdD27asp6qqUBQF61a+tDxSrFFGhhD+7i7oIIMkYFprWGux3W6R5znmeWafonl938NaC2MMmqbhTIwNdu1YGyq+mRas6xpt22K32yHPc2aDMose2vc9M9h1HbTWizmksUsBLYARW+QzxBT5kdYa4zii6zqUZcnJEUKAtZZ1R2wRu3TQfJkcKV0lGZPMEciqqtA0DfI8hzEGxhjUdc1FPcsyWGsZjLWW5SBDLjVEPd57tfOPUEpnVkpBa83Z2jQNqqoCAPYnClsIgX+jEJ6zirVWnrNS/kjpLTVR1zVfp3DRA5RSMMYwcBkmasFj1tZCt8pYPCSDMlTGGAZK4SVNOee4V/Peo6oqBre29UutuyhJ8YhLFIGTh1KKfYsAEciUyL33bLDn1gWiDjZOZeo6CJysdwAYHPme1GjcltN5/Iw1kEnGZBip3GRZhmEYUJYlz6FPqU3JZix8ykhpG6kqwM4vh6xvJFoqL8MwcOZRJhII7/2i35LlLW694xqa2s8muwtii8oSCTvOOskIeR/VSdkeyZe4yvlToSyKgltkCoH0Jfn2pCkKMwGT95Dwz7VAf/T88aA3DSFgu92iqiqM4wgA3NNrrRetswQWQoBzjpmUOowByI7iLGNSCwB4N0ShKcuSD7IKentanNih58lNBl17b5xljDef/4g7tgcJSrIS18JUZ3HubwY22JhK2hPSwmSYKd+Sg1imuXHIYntYC+PC+eWbxJlH19d22TEDKWbO/f8m113YRbx7kUKVhpgSspyXcvFYX5fMB975t+farvP/HKv/XcgifknHmRrnwpjaY5JfAsBfAZmtaSKa/JEAAAAASUVORK5CYII=\" y=\"-6.689655\"/>\r\n   </g>\r\n  </g>\r\n  <g id=\"axes_3\">\r\n   <g clip-path=\"url(#p9b3270460a)\">\r\n    <image height=\"38\" id=\"imagec38fb16541\" transform=\"scale(1 -1)translate(0 -38)\" width=\"38\" x=\"145.737931\" xlink:href=\"data:image/png;base64,\r\niVBORw0KGgoAAAANSUhEUgAAACYAAAAmCAYAAACoPemuAAAFgklEQVR4nKVY247bOhIsSqQoidJ44ASDvCRA/v+bAuRlMjCczEW2rqTIfcg2D01Lss8uAcGyLmSxuru6W8wY45xzoCMea9cZY1fX/s39+Fnn3MU7PJ6A/i+BuXfhe0CtrbsILD4PwYXMLS18a6Fbz4fDOfcPsCU6nXOY59n/N8YAAJIkAWPs4qB3w/n+V1CMMfAYVPxSkiSw1sJa60Faa5EkCQAgTdMLgFtj7X5oHTrndCH2KTLdOI6Y5xnGGPR978GGwOg/59yzSYBDQLFFtgYPQSwB01pjmiZM04SmacAYuwDGOUeapuCcQ0rpz+n+LbY2gcUjZHGeZ2it0XUdfv36BecckiRBmqZI0xRCCGRZBikl6rqGlNIDJkBbQRMCD8m5AEYsTdMErTXmeUbTNGiaBm9vb/jx44cHRkxJKSGlRFEU+Pz5M+q6RlmWAP4xM7GcpukmgyG4RVOGTDVNg+PxiJeXF/z8+dM7PjFGbCml0HUdHh8fsdvtYK1FnucQQoBz7jcS+9kaizwEZK0FY8xHoNYa7+/vOBwOeH5+9sAAeHBCCOR5DqUU+r7Hp0+f0LYtOOeo6xp5nkNK+VcCOL87ELhz7gIIYwzjOGIcR3Rdh+PxiMPhgJeXFzw/P0Nr7SclR8/zHFVVwRiDtm3R9z2EEBiGAVVVQSkFpdSVadf868rHQrNaazFNE7quw/l8RtM0+PPnD7quwzzPsNbCOYc0TT2weZ7RdR3GcYSUEtM0YRgGjOMI5xyyLIMQAkmSXDC2lP6uUlL4UKjwALyejeOIaZq86fu+hzEGu93OB8L5fIZSypvSGOM3E/vWEkCv/PFBkUdRRwsMw+D9kcR3miYkSYK2bb0ptdbQWl8BWqtWrhgLURPFJKBSSuz3ewzDAK01vn//jsPh4CXk4+MD5/MZxhgMw4DT6QSlFE6nE06nEx4eHqCUugAYusym84cM+YucQwgBxhj2+7032fv7O+q6xu/fv/H6+urTzjzPflPGGBhjvA6GAELnv0vH4sqCpMA5B6WUT97fvn3zjp7nude7YRj8xgjckhnjZL/J2BLaUKnLsvSR55zDfr/H8XhEVVVgjEFrjdPp5KWGIpbya8jckpCvCmxMJZky9Lc8z1GWJTjneHh4QFVVyLIMWmu0bYs0TdH3vWeNfI6A0UHsLRUMm7lyadBijDEvkpS4SbfyPMfb2xumaYKU0tdwBIz8LjTrrbEILPQDclhrLYqiQJZlPrVQZqBoa5rGsz3Psz9iYHfJxVpZQudCCH9fSglrLdI0hbUWT09P+PLli/crit40Ta9Ahc/EzN2VkuIRT0DCm+c5np6e8PXrV2RZhjzPkaYpxnH8OzHnsNZ6UMRYqGV3RWUIhHIlOT9NEgZHlmWw1mK322EYBvR9j9fXV2/GuIINNxn+xuAudGyNqZjeUIyFELDWQimFuq7Rti2qqgIAX4FQBgk7qfDYKoHuMmXsA7QQ1VzkTx8fH8iyzCf5PM+RZdlFY7I2fzy88ocPUX0W7yw0qxDCC29RFKjrGnVd/229/huZUkpf6lAkh5ZYK32cc7cZWxqxSYuigNYaj4+PSJLEs1SWpa9KwtbunrEJbCvZhuakDmm/30MI4du4oihQFAWklL5AvKcxvgIWJlc6p/COJ6T2rCgKD8YYA6UU2rb1YOq6hlLKAwt70rudP64C6Hyrs6GFhBAoyxJZlnl/Y4xd+Bn55T2srTIW9oBrKST8FJAkCcqy9KJKGSNs3cJ6LB5h9F84fygJNMHad41wE7QgOTcBI+UnRm8Bi9e5KBTDB24l2iW/CFPWmlvcKhIvGIu1JVxoSWDXQJH5qa2LF/y/5WIN5K2xxMzSHHfJRfzBbCmXbU221bTG7231sPH4Dz6fS25LYDq+AAAAAElFTkSuQmCC\" y=\"-6.689655\"/>\r\n   </g>\r\n  </g>\r\n  <g id=\"axes_4\">\r\n   <g clip-path=\"url(#p9aee040e8d)\">\r\n    <image height=\"38\" id=\"imagec426ee8dab\" transform=\"scale(1 -1)translate(0 -38)\" width=\"38\" x=\"215.006897\" xlink:href=\"data:image/png;base64,\r\niVBORw0KGgoAAAANSUhEUgAAACYAAAAmCAYAAACoPemuAAAFV0lEQVR4nK1Y227byg5dkmZ0tVLHdVs06Fv//6sKFEiRtKllXUZz2w8BuUeyZMv7HAKBJXmsWbNILpKJjDHeew/vPQDwJxl9572Hcw7ee0RRhDiOAQBRFPEnXa/Zre/JnHMQ88V0PwcYrgtBzJ//P4DFcXwJLHwJMUXXZHS9BvZ/BQbgX2DzzemZc45dqLXm5+TKOI55wyRJbgK8BY6IEFvQe+9hrYVSil9OB0mSBHEcXwCl+3tA0Rrv/TuwMPCJJXo2DAO01tBa43Q6TYLfew8hBJIkgZQSWZZN7v8Le7SvmGcjZZ9zDgCglIJSCsMw4PX1FdbaifuEEJBSIs9zVFWFNE2RpumEuS3xN7errgxd2DQNfvz4AaUUsxZFEYQQSNMUVVXheDyirmtUVQUhBIQQvHarTVxJ5pxDFEUYxxFaazjn0HUd/v79i5eXF/z8+RPDMMAYwwwnSYIsy1BVFYZhwOFwwOPjI6SUkFIiSZLJ3zzZ1kAvMkbuNMag6zqcTif8/v0bv379Qt/3UErBWgvnHOI4ZsbGcUTXdVBKIU1TlGWJLMsgpeRDbDUO/nmsUZwppXA+n/Hnzx+8vLzgfD5jGAaM48jMhcD6vofWGrvdbpJElCzE1ppNgp8YstYCAIwxfN/3Pdq2ZXCn04mfUbZKKVFVFbTWnMV1XcMYw+8CACnlRVIsCfiqK8lCPXLOQWuNvu/RNA3O5zPatoVSCkIIlGWJJElYQo7H40X1yPOc3bq0VwhOUHaFKR2eSkqJNE0np/XewxjDQMlNTdOgqioG3XUdu5jcfi3gQ3AifBiqN50+yzIURYGyLHlTEk9rLZepOI7RdR26rkPf95wkSinO8DCWw32XbNWVBHS32+HTp09wzuH5+Rl5nqMoCiRJwllL8jIMA4ZhmACkOAwlJrQ1BkWImhgjRshl9N3379+RpikDU0qhbdv3NkW8n9Fay0ySpIQHnVeCTYyFi8mVUkp2wdPTE4B3PXLOoW1bvL29IY5j1jQArIHGGAZH4r21PE2AzWklgGmaIooifPv2DXmeoyxLCCHQdR0DG8fxIoO11uxmko0ldy4CCzMh7KtIpYkday3XRnrWNA1eX18BAE3TwFrLTBMoYi7MyrWmcyIXW9BTfAghkOc59vs9rLU4n894fn5GFEXIsgxN00AIgSiKmKUQ4F2MbQEFgGsiaZa1Fp8/f8aXL18wDAPHFSVOGGdhBQhZuxZrN4FR3HjvUZYlB7nWGofDAR8/fkTXdVxXgfcejcCEcrGmZSEJF43imi3FA7F3OBzw9PTELfY4jlBKsSxYaxkcAVtz53yf1ay8NgkJIZBlGay1qOsaDw8PaNsWVVVx8Ie913zzeSu/ZBeunGfOHJj3nhOBGsS6rtE0DXa7HeI4hjGGWZsPJVtAATO5mNu1Ykvg9vs9x9Pb2xvyPOdGkoYTIcTi1HTNFpU/VOpw8JjHWJIk3D0opbDf75EkCdfMLMu4MwldO4+nm7VyjbmlHxNoqp0fPnzA4XDgiiClRFEUyPOcwd01iW9euWDkzrIsEUURjscj0jTl1og6EQJ3zyi3CGyp2IashQNvURQ8wn39+hVlWXINlVKirmvsdjvkec7lLAyPu4DR5reMwNPk/fDwgKIoMI4jHh8fEccxxxkB2wJqFdg9/1qizcJib4xBmqb8fZiZS66c6+eFwIZTy62ECIHROlJ7a+1kCifg19y4eUq6d7QnI73KsgzANF63Br73HpF/t8Whd+kHtBlZeE1tNM2pc6Me79bAe/FvqAvUC01kaEvaRp+31s8rznz4FfNFS13m2ovXAK8dZss9gfsHu11W/KsjlFsAAAAASUVORK5CYII=\" y=\"-6.689655\"/>\r\n   </g>\r\n  </g>\r\n  <g id=\"axes_5\">\r\n   <g clip-path=\"url(#p947df726c6)\">\r\n    <image height=\"38\" id=\"image66f7f43730\" transform=\"scale(1 -1)translate(0 -38)\" width=\"38\" x=\"284.275862\" xlink:href=\"data:image/png;base64,\r\niVBORw0KGgoAAAANSUhEUgAAACYAAAAmCAYAAACoPemuAAAFV0lEQVR4nKWYS5ObOhCFPx4S2OCMPS57M5ss8v//VBapSSrjsc1LIOAucltXZvBjbrqKAhuQjk53n24RWGvHcRwZxxEx/3oYBuR+3/eM40gQBB8OgCiKuGXy3D0bhoH43sNhGDIF7k/iA7s31qPAwjC8BOazIUDkfG3QKahbkz8KLAiCS2Bz1+K+YRjous7dC8PwA/A4ji8W93/BjeNI/MhDfd/T9z1VVX1gJgxDwjAkiiLGcSSKIsIwfJidaxbL5P5ZAh6gaRq6rqNtWw6Hw4cBoigijmO01iyXS5RSxHGMUupDcvgh4i9uSgRA7IMSNwzD4MAZY2iahqZp+P37t3OtD0xrTZqmWGtJ05QkSZy75ZgDIvNdZeyaiRubpuF4PPL9+3fquqbve4ZhIAgCByzPc/b7Pev1mtVqRRzHxHHsWPpM4H+IMWFNXDcMA3Vdcz6feXt74/X1lbIsadsWa60Dp7VmtVrRNA1VVbHdbtFakyQJSikXd+LeOfZ8DFcZ8wW1bVuqquJ0OnE4HDidTjRNgzHGZalSiizLaNvWxeRisWC1WpGmKVprlFJ3pcc3B2wqoD57TdNQFAXv7+8cj0fKsqQsS4wx9H1PHMfkeY61lq7r6Puep6enC/eIUPsJcAugy0phCHAxNAwD1lrHxPl85ng8unNd1zRNQxiG5HlO13V0XccwDGw2GzeGgNBau2sBNQX7gbE5E32K45goigiCAGstxhjquqYoCoqiAKCu6wvp+PnzJ1EUufgKw5DlcnlTfK8Cm4om/IkfrbWLEwlmAGstTdO496uqoixLqqpyR9M0F8kiQjw1n0EHTFYhYIQpoT9NU7IsI8syFouFAwk4dwdBQF3X1HVNVVXOzcYY2rZ1+veodFx1pQBNkoTn52cAvn375gQUwBjD+Xx2bIgYCzg/e621s0xdBTYngOIuSQiJk69fv7pyI8BOp9NF6fELviSRAJIa+kirdDXGfJAAWZax3+9dlnVdx+l04tevX86dEnuyIGvtRYbLHHOt1k1gcybtTBAE7HY7kiRxtbAoCl5fXxnH0cmG6JVIhxziyrmm8y5jfi8lq18sFsB/fZmUlb7veX9/58ePHwAURYExxrFtrb04pm71mZoDOutK/7ev0lEUkSQJeZ6z2+14eXnh5eWFcRx5e3vjeDyitXZ6N2VN3PmIPeRKWV0cx4Rh6Orgbrdju91SliV932OMcW4XMG3b/r0rrzElTC4WC/d/27as12uen58pioKu61wVCMOQruucVAg4caefXA8Bm2bI3G+ZWGvN09MT+/2etm0BKMvSiS3gZGMKbC7OpjguOlj/PAUj7MF/XetyuSTLMlarFWVZkuc5xhjGcXSa5bvvr13pA5rbOUnTJ4kgwLIsI4oirLUXYnpt/FvdbezH06P9kkyolGKz2Tg3HQ4HF2/WWpIkcQnz2V2TY2y6k5kDN42xKIr48uWLy8DNZoNSyhVwv3v1q8K9GLsAdouhOZMir7UmyzLW6zXb7RalFGmaUpYly+XSFX2l1KeYc22Pz8hnwCmlWC6XAK5kFUXhYtAHN427u631tUlv3fO1LY5jkiTBGEOe525/oJQiz3PyPGexWFzsmO7ZXYG9B1yaSq016/WaLMswxrDdbl2jmSSJW8C1ze9DwB55UUw6XdkpSbuTpukfofx34ytszUnIXEG/ypj/0i2Tfk1EVXoz2Uf63Yq0Rbe+Wcj1h6y8VgHmBpqbwP9sAFwA+VTWj+M4SjvyKKgpEDF/HL9jFfOD/hbIYRhul6R7K5zr3+Ts7wHmnr9XqpyOzbF0rTQ98mFk7pnp9XR8H8M/w+Iv8CzoszoAAAAASUVORK5CYII=\" y=\"-6.689655\"/>\r\n   </g>\r\n  </g>\r\n </g>\r\n <defs>\r\n  <clipPath id=\"pe18bf351f9\">\r\n   <rect height=\"37.489655\" width=\"37.489655\" x=\"7.2\" y=\"7.2\"/>\r\n  </clipPath>\r\n  <clipPath id=\"p4bf06156d1\">\r\n   <rect height=\"37.489655\" width=\"37.489655\" x=\"76.468966\" y=\"7.2\"/>\r\n  </clipPath>\r\n  <clipPath id=\"p9b3270460a\">\r\n   <rect height=\"37.489655\" width=\"37.489655\" x=\"145.737931\" y=\"7.2\"/>\r\n  </clipPath>\r\n  <clipPath id=\"p9aee040e8d\">\r\n   <rect height=\"37.489655\" width=\"37.489655\" x=\"215.006897\" y=\"7.2\"/>\r\n  </clipPath>\r\n  <clipPath id=\"p947df726c6\">\r\n   <rect height=\"37.489655\" width=\"37.489655\" x=\"284.275862\" y=\"7.2\"/>\r\n  </clipPath>\r\n </defs>\r\n</svg>\r\n",
            "image/png": "[encoded data removed]"
          },
          "metadata": {
            "needs_background": "light"
          }
        }
      ]
    },
    {
      "cell_type": "code",
      "execution_count": null,
      "metadata": {},
      "outputs": [],
      "source": []
    }
  ]
}