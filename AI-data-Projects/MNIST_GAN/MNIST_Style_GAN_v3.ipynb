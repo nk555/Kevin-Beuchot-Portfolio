{
  "nbformat": 4,
  "nbformat_minor": 0,
  "metadata": {
    "accelerator": "GPU",
    "colab": {
      "name": "MNIST_Style_GAN_v3.ipynb",
      "provenance": [],
      "collapsed_sections": [],
      "toc_visible": true
    },
    "kernelspec": {
      "display_name": "Python 3",
      "language": "python",
      "name": "python3"
    }
  },
  "cells": [
    {
      "cell_type": "markdown",
      "metadata": {
        "id": "view-in-github"
      },
      "source": [
        "<a href=\"https://colab.research.google.com/github/nk555/AI-Projects/blob/master/GAN/MNIST_Style_GAN.ipynb\" target=\"_parent\"><img src=\"https://colab.research.google.com/assets/colab-badge.svg\" alt=\"Open In Colab\"/></a>"
      ]
    },
    {
      "cell_type": "markdown",
      "metadata": {
        "id": "sQ35YNJNGSQ0"
      },
      "source": [
        "# MNIST learns your handwriting\n",
        "\n",
        "This is a small project on using a GAN to generate numbers that look as someone else's handwriting when not trained on all numbers written by this person. For example say we had someone write the number 273 and we now want to write 481 in their own handwriting.\n",
        "\n",
        "The main inspiration for this project is a paper I read recently called STAR GAN v2. In this paper they try to recognize diferent styles and features in images and transfer those into a different image. For example they are able to use image of different animals like dogs or tigers and making them look like a cat. Furthermore at the time of writing this it is currently a state-of-the-art method for this style translation tasks.\n",
        "\n",
        "Some of the results can be seen at the end of this notebook. Unfortunately it seems not that many features were captured and mostly it was only the thickness of the numbers that was preserved. A reason this happens might be that the size of the images is small being 28x28. However, some ways to allow for more variation might be by exteding the number of layers being used, by having higher dimensional spaces for the latent and style spaces, or by giving a higher weight to the style diversification loss (look at section loss functions to see more about this).\n",
        "\n",
        "The main purpose of this notebook is to make a small showcase of the architecture used in a simple design so that the ideas are simple to follow. This notebook will also contain some explanations and comments on the architecture of the neural network so that it might be easier to follow.\n",
        "\n",
        "Note: another small thing I did in this project is to 'translate' STAR GAN code from pytorch to tensorflow. Redoing all of the work was useful to understand everything done on their code and having an option in tensorflow might be useful for some people.\n",
        "\n",
        "For a small tutorial on how to write a simple GAN architecture: https://machinelearningmastery.com/how-to-develop-a-generative-adversarial-network-for-an-mnist-handwritten-digits-from-scratch-in-keras/\n",
        "\n",
        "Link to STAR GAN v2: https://app.wandb.ai/stacey/stargan/reports/Cute-Animals-and-Post-Modern-Style-Transfer%3A-StarGAN-v2-for-Multi-Domain-Image-Synthesis---VmlldzoxNzcwODQ\n",
        "\n",
        "Further Reading on style domain techniques for image generation:\n",
        "\n",
        "Link to STAR GAN paper: https://arxiv.org/pdf/1912.01865.pdf\n",
        "\n",
        "Link to Multimodal Unsupervised Image-to-Image Translation: https://arxiv.org/pdf/1804.04732.pdf\n",
        "\n",
        "Link to Improving Style-Content Disentanglement Paper: https://arxiv.org/pdf/2007.04964.pdf"
      ]
    },
    {
      "cell_type": "markdown",
      "metadata": {
        "id": "nIuW2ka_GmY7"
      },
      "source": [
        "# Intitializing"
      ]
    },
    {
      "cell_type": "code",
      "metadata": {
        "id": "JufRLrnvGles"
      },
      "source": [
        "import tensorflow as tf\n",
        "from tensorflow_addons.layers import InstanceNormalization\n",
        "import numpy as np\n",
        "import tensorflow.keras.layers as layers\n",
        "import time\n",
        "from tensorflow.keras.datasets.mnist import load_data\n",
        "import sys\n",
        "import os\n",
        "import datetime"
      ],
      "execution_count": 1,
      "outputs": []
    },
    {
      "cell_type": "markdown",
      "metadata": {
        "id": "bVkpYJ2JMMQS"
      },
      "source": [
        "# Layers\n",
        "\n",
        "There are a few layers that were custom made. More importantly it is udeful to make this custom layers for the layers that try to incorporate style. This is as the inputs themselves are custom as you are inputing an image and a vector representing the style.\n",
        "\n",
        "ResBlk is short for Residual Block, where it is predicting the residual (the difference between the original and the prediction)."
      ]
    },
    {
      "cell_type": "code",
      "metadata": {
        "id": "JOEAadTNO8zL"
      },
      "source": [
        "class ResBlk(tf.keras.Model):\n",
        "  def __init__(self, dim_in, dim_out, actv=layers.LeakyReLU(),\n",
        "                 normalize=False, downsample=False):\n",
        "    super(ResBlk, self).__init__()\n",
        "    self.actv = actv\n",
        "    self.normalize = normalize\n",
        "    self.downsample = downsample\n",
        "    self.learned_sc = dim_in != dim_out\n",
        "    self._build_weights(dim_in, dim_out)\n",
        "\n",
        "  def _build_weights(self, dim_in, dim_out):\n",
        "    self.conv1 = layers.Conv2D(dim_in, 3, padding='same')\n",
        "    self.conv2 = layers.Conv2D(dim_out, 3, padding='same')\n",
        "    if self.normalize:\n",
        "      self.norm1 = InstanceNormalization()\n",
        "      self.norm2 = InstanceNormalization()\n",
        "    if self.learned_sc:\n",
        "      self.conv1x1 = layers.Conv2D(dim_out, 1)\n",
        "\n",
        "  def _shortcut(self, x):\n",
        "    if self.learned_sc:\n",
        "        x = self.conv1x1(x)\n",
        "    if self.downsample:\n",
        "        x = layers.AveragePooling2D(pool_size=(2,2), padding='same')(x)\n",
        "    return x\n",
        "  \n",
        "  def _residual(self, x):\n",
        "    if len(tf.shape(x))>4:\n",
        "      x=tf.reshape(x,tf.shape(x)[1:])\n",
        "    if self.normalize:\n",
        "      x = self.norm1(x)\n",
        "    x = self.actv(x)\n",
        "    x = self.conv1(x)\n",
        "    if self.downsample:\n",
        "      x = layers.AveragePooling2D(pool_size=(2,2), padding='same')(x)\n",
        "    if self.normalize:\n",
        "      x = self.norm2(x)\n",
        "    x = self.actv(x)\n",
        "    x = self.conv2(x)\n",
        "    return x\n",
        "\n",
        "  def call(self, x):\n",
        "    x = self._shortcut(x) + self._residual(x)\n",
        "    return x / 2**(1/2) # unit variance"
      ],
      "execution_count": 2,
      "outputs": []
    },
    {
      "cell_type": "markdown",
      "metadata": {
        "id": "cKp6hfiJnQqe"
      },
      "source": [
        "AdaIN stands for Adaptive Instance Normalization. It is a type of normalization that allows to 'mix' two inputs. In this case we use the style vector to mix with our input x which is the image or part of the process of constructing this image."
      ]
    },
    {
      "cell_type": "code",
      "metadata": {
        "id": "RONGU0PsMLWS"
      },
      "source": [
        "class AdaIn(tf.keras.Model):\n",
        "  def __init__(self, style_dim, num_features):\n",
        "    super(AdaIn,self).__init__()\n",
        "    self.norm = InstanceNormalization()\n",
        "    self.lin = layers.Dense(num_features*2)\n",
        "\n",
        "  def call(self, x, s):\n",
        "    h=self.lin(s)\n",
        "    h=tf.reshape(h, [tf.shape(h)[0], 1, 1, tf.shape(h)[1]])\n",
        "    gamma,beta=tf.split(h, 2, axis=3)\n",
        "    return (1+gamma)*self.norm(x)+beta"
      ],
      "execution_count": 3,
      "outputs": []
    },
    {
      "cell_type": "code",
      "metadata": {
        "id": "MRsH0NEsbzwV"
      },
      "source": [
        "class AdainResBlk(tf.keras.Model):\n",
        "  def __init__(self, dim_in, dim_out, style_dim=16,\n",
        "                 actv=layers.LeakyReLU(), upsample=False):\n",
        "    super(AdainResBlk, self).__init__()\n",
        "    self.actv = actv\n",
        "    self.upsample = upsample\n",
        "    self.learned_sc = dim_in != dim_out\n",
        "    self._build_weights(dim_in, dim_out, style_dim)\n",
        "\n",
        "  def _build_weights(self, dim_in, dim_out, style_dim=16):\n",
        "    self.conv1 = layers.Conv2D(dim_out, 3, padding='same')\n",
        "    self.conv2 = layers.Conv2D(dim_out, 3, padding='same')\n",
        "    self.norm1 = AdaIn(style_dim, dim_in)\n",
        "    self.norm2 = AdaIn(style_dim, dim_out)\n",
        "    if self.learned_sc:\n",
        "      self.conv1x1 = layers.Conv2D(dim_out, 1)\n",
        "\n",
        "  def _shortcut(self, x):\n",
        "    if self.upsample:\n",
        "        x = layers.UpSampling2D(size=(2,2), interpolation='nearest')(x)\n",
        "    if self.learned_sc:\n",
        "        x = self.conv1x1(x)\n",
        "    return x\n",
        "\n",
        "  def _residual(self, x, s):\n",
        "    x = self.norm1(x, s)\n",
        "    x = self.actv(x)\n",
        "    if self.upsample:\n",
        "      x = layers.UpSampling2D(size=(2,2), interpolation='nearest')(x)\n",
        "    x = self.conv1(x)\n",
        "    x = self.norm2(x, s)\n",
        "    x = self.actv(x)\n",
        "    x = self.conv2(x)\n",
        "    return x\n",
        "\n",
        "  def call(self, x, s):\n",
        "    x = self._shortcut(x) + self._residual(x,s)\n",
        "    return x / 2**(1/2) # unit variance"
      ],
      "execution_count": 4,
      "outputs": []
    },
    {
      "cell_type": "markdown",
      "metadata": {
        "id": "KZO-FgSqG82j"
      },
      "source": [
        "# Generator Class\n",
        "\n",
        "In the generator we have two steps one for encoding the image into lower level information and one to decode back to the image. In this particular architecture the decoding uses the style to build back the image as it is an important part of the process. The decoding does not do this as we have the style encoder as an architecture that deals with this issue of generating a style vector for a particular image."
      ]
    },
    {
      "cell_type": "code",
      "metadata": {
        "id": "s-o2ysprG_uF"
      },
      "source": [
        "class Generator(tf.keras.Model):\n",
        "  def __init__(self, img_size=28, style_dim=16, dim_in=8, max_conv_dim=128, repeat_num=1):\n",
        "    super(Generator, self).__init__()\n",
        "    self.img_size=img_size\n",
        "    self.from_bw=layers.Conv2D(dim_in, 3, padding='same', input_shape=(1,img_size,img_size,1))\n",
        "    self.encode=[]\n",
        "    self.decode=[]\n",
        "    self.to_bw=tf.keras.Sequential([InstanceNormalization(), layers.LeakyReLU(), layers.Conv2D(1, 1, padding='same')])\n",
        "\n",
        "    for _ in range(repeat_num):\n",
        "      dim_out = min(dim_in*2, max_conv_dim)\n",
        "      self.encode.append(ResBlk(dim_in, dim_out, normalize=True, downsample=True))\n",
        "      self.decode.insert(0, AdainResBlk(dim_out, dim_in, style_dim, upsample=True))\n",
        "      dim_in = dim_out\n",
        "\n",
        "    # bottleneck blocks\n",
        "    for _ in range(2):\n",
        "      self.encode.append(ResBlk(dim_out, dim_out, normalize=True))\n",
        "      self.decode.insert(0, AdainResBlk(dim_out, dim_out, style_dim))\n",
        "\n",
        "  def call(self, x, s):\n",
        "    x = self.from_bw(x)\n",
        "    cache = {}\n",
        "    for block in self.encode:\n",
        "      x = block(x)\n",
        "    for block in self.decode:\n",
        "      x = block(x, s)\n",
        "    return self.to_bw(x)"
      ],
      "execution_count": 5,
      "outputs": []
    },
    {
      "cell_type": "markdown",
      "metadata": {
        "id": "mo5w30M3xZId"
      },
      "source": [
        "# Mapping Network\n",
        "\n",
        "The Mapping Network and the Style encoder are the parts of this architecture that make a difference in allowing style to be analyzed and put into our images. The mapping network will take as an input a latent code (represents images as a vector in a high dimensional space) and the domain in this case the domain is the number we are representing. And the style encoder will take as inputs an image and a domain."
      ]
    },
    {
      "cell_type": "code",
      "metadata": {
        "id": "L_jdQfzHxcwE"
      },
      "source": [
        "class MappingNetwork(tf.keras.Model):\n",
        "  def __init__(self, latent_dim=8, style_dim=16, num_domains=10):\n",
        "    super(MappingNetwork,self).__init__()\n",
        "    map_layers = [layers.Dense(128)]\n",
        "    map_layers += [layers.ReLU()]\n",
        "    for _ in range(2):\n",
        "      map_layers += [layers.Dense(128)]\n",
        "      map_layers += [layers.ReLU()]\n",
        "    self.shared = tf.keras.Sequential(layers=map_layers)\n",
        "\n",
        "    self.unshared = []\n",
        "    for _ in range(num_domains):\n",
        "      self.unshared += [tf.keras.Sequential(layers=[layers.Dense(128),\n",
        "                                            layers.ReLU(),\n",
        "                                            layers.Dense(128),\n",
        "                                            layers.ReLU(),\n",
        "                                            layers.Dense(128),\n",
        "                                            layers.ReLU(),\n",
        "                                            layers.Dense(style_dim)])]\n",
        "\n",
        "  def call(self, z, y):\n",
        "      h = self.shared(z)\n",
        "      out = []\n",
        "      for layer in self.unshared:\n",
        "          out += [layer(h)]\n",
        "      out = tf.stack(out, axis=1)  # (batch, num_domains, style_dim)\n",
        "      s = tf.gather(out, y, axis=1)\n",
        "      s = tf.gather_nd(s, [[i,i] for i in range(len(s))]) # (batch, style_dim)\n",
        "      return s"
      ],
      "execution_count": 6,
      "outputs": []
    },
    {
      "cell_type": "markdown",
      "metadata": {
        "id": "_-qp6RU5xPaP"
      },
      "source": [
        "# Style Encoder\n",
        "\n",
        "An important thing to notice from the style encoder is that it takes as an input an image and outputs a style vector. Looking at the dimensions of these we notice we need to flatten out the image through the layers. This can usually be done in two ways. By flattening a 2 dimensional input to a 1 dimensional output a flatten layer, or as it was done hear by using enough pooling layers so that we downsample the size of our 2 dimensional input until it is one dimensional."
      ]
    },
    {
      "cell_type": "code",
      "metadata": {
        "id": "y7CrR0wNxVqZ"
      },
      "source": [
        "class StyleEncoder(tf.keras.Model):\n",
        "  def __init__(self, img_size=28, style_dim=16, dim_in=8, num_domains=10, max_conv_dim=128, repeat_num=5):\n",
        "    super(StyleEncoder,self).__init__()\n",
        "    blocks = [layers.Conv2D(dim_in, 3, padding='same')]\n",
        "\n",
        "    for _ in range(repeat_num):           #repetition 1 sends to (b,14,14,d) 2 to (b,7,7,d) 3 to (b,4,4,d) 4 to (b,2,2,d) 5 to (b,1,1,d)\n",
        "      dim_out = min(dim_in*2, max_conv_dim)\n",
        "      blocks += [ResBlk(dim_in, dim_out, downsample=True)]\n",
        "      dim_in = dim_out\n",
        "\n",
        "    blocks += [layers.LeakyReLU()]\n",
        "    blocks += [layers.Conv2D(dim_out, 4, padding='same')]\n",
        "    blocks += [layers.LeakyReLU()]\n",
        "    self.shared = tf.keras.Sequential(layers=blocks)\n",
        "\n",
        "    self.unshared = []\n",
        "    for _ in range(num_domains):\n",
        "      self.unshared += [layers.Dense(style_dim)]\n",
        "\n",
        "  def call(self, x, y):\n",
        "    h = self.shared(x)\n",
        "    h = tf.reshape(h,[tf.shape(h)[0], tf.shape(h)[3]])\n",
        "    out = []\n",
        "    for layer in self.unshared:\n",
        "      out += [layer(h)]\n",
        "    out = tf.stack(out, axis=1)  # (batch, num_domains, style_dim)\n",
        "    s = tf.gather(out, y, axis=1)  # (batch, style_dim)\n",
        "    s = tf.gather_nd(s, [[i,i] for i in range(len(s))])\n",
        "    return s"
      ],
      "execution_count": 7,
      "outputs": []
    },
    {
      "cell_type": "markdown",
      "metadata": {
        "id": "9bFCyoa6v5Bu"
      },
      "source": [
        "# Discriminator Class\n",
        "\n",
        "Similarly to the Style encoder the input of the discriminator is an image and we need to downsample it until it is one dimensional."
      ]
    },
    {
      "cell_type": "code",
      "metadata": {
        "id": "W7auvm08v7xw"
      },
      "source": [
        "class Discriminator(tf.keras.Model):\n",
        "  def __init__(self, img_size=28, dim_in=8, num_domains=10, max_conv_dim=128, repeat_num=5):\n",
        "    super(Discriminator, self).__init__()\n",
        "    blocks = [layers.Conv2D(dim_in, 3, padding='same')]\n",
        "\n",
        "    for _ in range(repeat_num):       #repetition 1 sends to (b,14,14,d) 2 to (b,7,7,d) 3 to (b,4,4,d) 4 to (b,2,2,d) 5 to (b,1,1,d)\n",
        "      dim_out = min(dim_in*2, max_conv_dim)\n",
        "      blocks += [ResBlk(dim_in, dim_out, downsample=True)]\n",
        "      dim_in = dim_out\n",
        "\n",
        "    blocks += [layers.LeakyReLU()]\n",
        "    blocks += [layers.Conv2D(dim_out, 4, padding='same')]\n",
        "    blocks += [layers.LeakyReLU()]\n",
        "    blocks += [layers.Conv2D(num_domains, 1, padding='same')]\n",
        "    self.main = tf.keras.Sequential(layers=blocks)\n",
        "\n",
        "\n",
        "  def call(self, x, y):\n",
        "    out = self.main(x)\n",
        "    out = tf.reshape(out, (tf.shape(out)[0], tf.shape(out)[3]))  # (batch, num_domains)\n",
        "    out = tf.gather(out, y, axis=1)  # (batch)\n",
        "    #out = tf.reshape(out, [tf.shape(x)[0]])\n",
        "    return out"
      ],
      "execution_count": 8,
      "outputs": []
    },
    {
      "cell_type": "markdown",
      "metadata": {
        "id": "CSCfJ2rOhRTA"
      },
      "source": [
        "# Loss Functions\n",
        "\n",
        "The loss functions used are an important part of this model as it describes our goal when training and how to perform gradient descent. The discriminator loss function is the regular adversarial loss L_adv used in a GAN architecture. But furthermore we have three loss functions added.\n",
        "\n",
        "For this loss functions if you want to see the mathematical formula I recommend looking at STAR GAN 2's paper. However I will explain what the loss tries to measure and a quick description of how it does so.\n",
        "\n",
        "L_sty is a style reconstruction loss. This tries to capture how well the style was captured on our output. It is computed as an expected value of the distance between the target style vector and the style vector that our style encoder predicts for the generated image.\n",
        "\n",
        "L_ds is a style diversification loss. It tries to capture that the images produced are different to promote a variety of images produced. It is computed as the expected value of the distance between the images (l_1 norm) generated when using two different styles and the same sources. \n",
        "\n",
        "L_cyc is a characteristic preserving loss. The cyc comes from cyclic as we measusre the distance between the original image and the image generated by using an image generated by this image and the style our style encoder provides as an input. (Notice we use the image generated by the image generated, so that we use the generator two times.)\n",
        "\n",
        "In the end the total loss function is expressed as\n",
        "\n",
        "L_adv + lambda_sty * L_sty + lambda_ds * L_ds + lambda_cyc * L_cyc"
      ]
    },
    {
      "cell_type": "code",
      "metadata": {
        "id": "htzhU_8chtcd"
      },
      "source": [
        "def moving_average(model, model_test, beta=0.999):\n",
        "    for i in range(len(model.weights)):\n",
        "      model_test.weights[i] = (1-beta)*model.weights[i] + beta*model_test.weights[i]"
      ],
      "execution_count": 9,
      "outputs": []
    },
    {
      "cell_type": "code",
      "metadata": {
        "id": "il6WmjVLh1mB"
      },
      "source": [
        "def adv_loss(logits, target):\n",
        "    assert target in [1, 0]\n",
        "    targets = tf.fill(tf.shape(logits), target)\n",
        "    loss = tf.keras.losses.BinaryCrossentropy(from_logits=True)(targets, logits)\n",
        "    return loss"
      ],
      "execution_count": 10,
      "outputs": []
    },
    {
      "cell_type": "code",
      "metadata": {
        "id": "7hX4lAX7h2ZD"
      },
      "source": [
        "def r1_reg(d_out, x_in, g):\n",
        "    # zero-centered gradient penalty for real images\n",
        "    batch_size = tf.shape(x_in)[0]\n",
        "    grad_dout=g.gradient(d_out, x_in)\n",
        "    #grad_dout = tf.gradients(ys=d_out, xs=x_in)\n",
        "    grad_dout2 = tf.square(grad_dout)\n",
        "    grad_dout2 = tf.reshape(grad_dout2,[batch_size, tf.shape(grad_dout2)[1]*tf.shape(grad_dout2)[2]])\n",
        "    reg = 0.5 * tf.math.reduce_mean(tf.math.reduce_sum(grad_dout2, axis=1))\n",
        "    return reg"
      ],
      "execution_count": 11,
      "outputs": []
    },
    {
      "cell_type": "code",
      "metadata": {
        "id": "MOzUelojhUWL"
      },
      "source": [
        "def compute_d_loss(nets, args, x_real, y_org, y_trg, z_trg=None, x_ref=None):\n",
        "  assert (z_trg is None) != (x_ref is None)\n",
        "  # with real images\n",
        "  with tf.GradientTape() as g:\n",
        "    g.watch(x_real)\n",
        "    out = nets['discriminator'](x_real, y_org)\n",
        "    loss_real = adv_loss(out, 1)\n",
        "    loss_reg = r1_reg(out, x_real, g)\n",
        "\n",
        "    # with fake images\n",
        "  if z_trg is not None:\n",
        "    s_trg = nets['mapping_network'](z_trg, y_trg)\n",
        "  else:  # x_ref is not None\n",
        "    s_trg = nets['style_encoder'](x_ref, y_trg)\n",
        "\n",
        "  x_fake = nets['generator'](x_real, s_trg)\n",
        "  out = nets['discriminator'](x_fake, y_trg)\n",
        "  loss_fake = adv_loss(out, 0)\n",
        "\n",
        "  loss = loss_real + loss_fake + args['lambda_reg'] * loss_reg\n",
        "  return loss, {'real': loss_real, 'fake':loss_fake, 'reg':loss_reg}"
      ],
      "execution_count": 12,
      "outputs": []
    },
    {
      "cell_type": "code",
      "metadata": {
        "id": "NpK3H_v0h97Q"
      },
      "source": [
        "def compute_g_loss(nets, args, x_real, y_org, y_trg, z_trgs=None, x_refs=None):\n",
        "  assert (z_trgs is None) != (x_refs is None)\n",
        "  if z_trgs is not None:\n",
        "    z_trg, z_trg2 = z_trgs\n",
        "  if x_refs is not None:\n",
        "    x_ref, x_ref2 = x_refs\n",
        "\n",
        "  # adversarial loss\n",
        "  if z_trgs is not None:\n",
        "    s_trg = nets['mapping_network'](z_trg, y_trg)\n",
        "  else:\n",
        "    s_trg = nets['style_encoder'](x_ref, y_trg)\n",
        "\n",
        "  x_fake = nets['generator'](x_real, s_trg)\n",
        "  out = nets['discriminator'](x_fake, y_trg)\n",
        "  loss_adv = adv_loss(out, 1)\n",
        "\n",
        "  # style reconstruction loss\n",
        "  s_pred = nets['style_encoder'](x_fake, y_trg)\n",
        "  loss_sty = tf.math.reduce_mean(tf.abs(s_pred - s_trg))\n",
        "\n",
        "  # diversity sensitive loss\n",
        "  if z_trgs is not None:\n",
        "    s_trg2 = nets['mapping_network'](z_trg2, y_trg)\n",
        "  else:\n",
        "    s_trg2 = nets['style_encoder'](x_ref2, y_trg)\n",
        "  x_fake2 = nets['generator'](x_real, s_trg2)\n",
        "  loss_ds = tf.math.reduce_mean(tf.abs(x_fake - x_fake2))\n",
        "\n",
        "  # cycle-consistency loss\n",
        "  s_org = nets['style_encoder'](x_real, y_org)\n",
        "  x_rec = nets['generator'](x_fake, s_org)\n",
        "  loss_cyc = tf.math.reduce_mean(tf.abs(x_rec - x_real))\n",
        "\n",
        "  loss = loss_adv + args['lambda_sty'] * loss_sty \\\n",
        "        - args['lambda_ds'] * loss_ds + args['lambda_cyc'] * loss_cyc\n",
        "  return loss, {'adv':loss_adv, 'sty':loss_sty, 'ds':loss_ds, 'cyc':loss_cyc}"
      ],
      "execution_count": 13,
      "outputs": []
    },
    {
      "cell_type": "markdown",
      "metadata": {
        "id": "C_PposMX_NEd"
      },
      "source": [
        "# The Model\n",
        "\n",
        "Here we introduce the class Solver which is the most important class as this will represent our whole model. It will initiate all of our neural networks as well as train our network."
      ]
    },
    {
      "cell_type": "code",
      "metadata": {
        "id": "LBIuDj7t_XjA"
      },
      "source": [
        "class Solver(tf.keras.Model):\n",
        "  def __init__(self, args):\n",
        "    super(Solver, self).__init__()\n",
        "    self.args = args\n",
        "    self.step=0\n",
        "\n",
        "    self.nets, self.nets_ema = self.build_model(self.args)\n",
        "    # below setattrs are to make networks be children of Solver, e.g., for self.to(self.device)\n",
        "    for name in self.nets.keys():\n",
        "      setattr(self, name, self.nets[name])\n",
        "    for name in self.nets_ema.keys():\n",
        "      setattr(self, name + '_ema', self.nets_ema[name])\n",
        "\n",
        "    if args['mode'] == 'train':\n",
        "      self.optims = {}\n",
        "      for net in self.nets.keys():\n",
        "        self.optims[net] = tf.keras.optimizers.Adam(learning_rate= args['f_lr'] if net == 'mapping_network' else args['lr'], \n",
        "                                                    beta_1=args['beta1'], beta_2=args['beta2'], \n",
        "                                                    epsilon=args['weight_decay'])\n",
        "\n",
        "        self.ckptios = [tf.train.Checkpoint(model=net) for net in self.nets.values()]\n",
        "        self.ckptios += [tf.train.Checkpoint(model=net_ema) for net_ema in self.nets_ema.values()]\n",
        "        self.ckptios += [tf.train.Checkpoint(optimizer=optim) for optim in self.optims.values()]\n",
        "    else:\n",
        "      self.ckptios = [tf.train.Checkpoint(model=net_ema) for net_ema in self.nets_ema.values()]\n",
        "\n",
        "    #for name in self.nets.keys():\n",
        "      # Do not initialize the FAN parameters\n",
        "     # print('Initializing %s...' % name)\n",
        "      #self.nets[name].apply(initializer=tf.keras.initializers.HeNormal)\n",
        "\n",
        "  def build_model(self, args):\n",
        "    generator = Generator(args['img_size'], args['style_dim'])\n",
        "    mapping_network = MappingNetwork(args['latent_dim'], args['style_dim'], args['num_domains'])\n",
        "    style_encoder = StyleEncoder(args['img_size'], args['style_dim'], args['num_domains'])\n",
        "    discriminator = Discriminator(args['img_size'], args['num_domains'])\n",
        "    generator_ema = Generator(args['img_size'], args['style_dim'])\n",
        "    mapping_network_ema = MappingNetwork(args['latent_dim'], args['style_dim'], args['num_domains'])\n",
        "    style_encoder_ema = StyleEncoder(args['img_size'], args['style_dim'], args['num_domains'])\n",
        "\n",
        "    nets = {'generator':generator, 'mapping_network':mapping_network,\n",
        "            'style_encoder':style_encoder, 'discriminator':discriminator}\n",
        "    nets_ema = {'generator':generator_ema, 'mapping_network':mapping_network_ema,\n",
        "                'style_encoder':style_encoder_ema}\n",
        "\n",
        "    nets['discriminator'](inputs['x_src'][0:2],inputs['y_src'][0:2])\n",
        "    s_trg = nets['mapping_network'](inputs['z_trg'][0:2],inputs['y_src'][0:2])\n",
        "    nets['generator'](inputs['x_src'][0:2],s_trg)\n",
        "    nets['style_encoder'](inputs['x_src'][0:2], inputs['y_src'][0:2])\n",
        "    s_trg = nets_ema['mapping_network'](inputs['z_trg'][0:2],inputs['y_src'][0:2])\n",
        "    nets_ema['generator'](inputs['x_src'][0:2],s_trg)\n",
        "    nets_ema['style_encoder'](inputs['x_src'][0:2], inputs['y_src'][0:2])\n",
        "\n",
        "    return nets, nets_ema\n",
        "\n",
        "  def save(self):\n",
        "    for net in solv.nets.keys():\n",
        "      solv.nets[net].save_weights('MNIST_GAN_3/saved_model/'+net+'step'+str(self.step)+'.h5')\n",
        "    for net in solv.nets_ema.keys():\n",
        "      solv.nets[net].save_weights('MNIST_GAN_3/saved_model/'+net+'step'+str(self.step)+'_ema.h5')\n",
        "    \n",
        "    \n",
        "    #for ckptio in self.ckptios:\n",
        "    #  ckptio.save(step)\n",
        "\n",
        "  def load(self, step):\n",
        "    self.step= step\n",
        "    for net in solv.nets.keys():\n",
        "      solv.nets[net].load_weights('MNIST_GAN_3/saved_model/'+net+'step'+str(step)+'.h5')\n",
        "    for net in solv.nets_ema.keys():\n",
        "      solv.nets[net].load_weights('MNIST_GAN_3/saved_model/'+net+'step'+str(step)+'_ema.h5')\n",
        "    \n",
        "    #for ckptio in self.ckptios:\n",
        "    #  ckptio.load(step)\n",
        "\n",
        "#  def _reset_grad(self):\n",
        "#    for optim in self.optims.values():\n",
        "#      optim.zero_grad()\n",
        "\n",
        "  def train(self, inputs, validations, gen, batch_size=128):\n",
        "    \"\"\"\n",
        "    inputs is a list of dictionaries that contains a source image, a reference image, domain and latent code information used to train the network\n",
        "    validation is a list that contains validation images\n",
        "    \"\"\"\n",
        "\n",
        "    args = self.args\n",
        "    nets = self.nets\n",
        "    nets_ema = self.nets_ema\n",
        "    optims = self.optims\n",
        "\n",
        "    # inputs_val=validations[0]\n",
        "\n",
        "    # resume training if necessary\n",
        "    if args['resume_iter'] > 0:\n",
        "      self.load(args['resume_iter'])\n",
        "\n",
        "    # remember the initial value of ds weight\n",
        "    initial_lambda_ds = args['lambda_ds']\n",
        "\n",
        "    print('Start training...')\n",
        "    start_time = time.time()\n",
        "    for i in range(args['resume_iter'], args['total_iters']):\n",
        "      ind=(self.step*batch_size)%len(inputs['x_src'])\n",
        "      self.step+=1\n",
        "      # fetch images and labels\n",
        "\n",
        "      x_real, y_org = gen.flow(inputs['x_src'][ind:ind+batch_size], inputs['y_src'][ind:ind+batch_size], batch_size=batch_size, shuffle=False)[0]\n",
        "      x_real=tf.cast(x_real, tf.float32)\n",
        "      x_ref, y_trg = gen.flow(inputs['x_ref'][ind:ind+batch_size], inputs['y_ref'][ind:ind+batch_size], batch_size=batch_size, shuffle=False)[0]\n",
        "      x_ref=tf.cast(x_ref, tf.float32)\n",
        "      x_ref2 = gen.flow(inputs['x_ref2'][ind:ind+batch_size], batch_size=batch_size, shuffle=False)[0]\n",
        "      x_ref2=tf.cast(x_ref2, tf.float32)\n",
        "      z_trg, z_trg2 = inputs['z_trg'][ind:ind+batch_size], inputs['z_trg2'][ind:ind+batch_size]\n",
        "\n",
        "      #print(1.5)\n",
        "\n",
        "      # train the discriminator\n",
        "      with tf.GradientTape() as g:\n",
        "        g.watch(nets['discriminator'].weights)\n",
        "\n",
        "        d_loss, d_losses_latent = compute_d_loss(\n",
        "                nets, args, x_real, y_org, y_trg, z_trg=z_trg)\n",
        "        #self._reset_grad()\n",
        "        #d_loss.backward()\n",
        "        grad=g.gradient(d_loss, nets['discriminator'].weights)\n",
        "        #optims['discriminator'].get_gradients(d_loss, nets['discriminator'].weights)\n",
        "        optims['discriminator'].apply_gradients(zip(grad, nets['discriminator'].weights))\n",
        "\n",
        "      #print(2)\n",
        "\n",
        "      with tf.GradientTape() as g:\n",
        "        g.watch(nets['discriminator'].weights)\n",
        "        d_loss, d_losses_ref = compute_d_loss(\n",
        "                nets, args, x_real, y_org, y_trg, x_ref=x_ref)\n",
        "        #self._reset_grad()\n",
        "        #d_loss.backward()\n",
        "        grad=g.gradient(d_loss, nets['discriminator'].weights)\n",
        "        optims['discriminator'].apply_gradients(zip(grad, nets['discriminator'].weights))\n",
        "\n",
        "      #print(3)\n",
        "\n",
        "      # train the generator\n",
        "      with tf.GradientTape(persistent=True) as g:\n",
        "        g.watch(nets['generator'].weights)\n",
        "        g.watch(nets['mapping_network'].weights)\n",
        "        g.watch(nets['style_encoder'].weights)\n",
        "        g_loss, g_losses_latent = compute_g_loss(\n",
        "                nets, args, x_real, y_org, y_trg, z_trgs=[z_trg, z_trg2])\n",
        "        #self._reset_grad()\n",
        "        #g_loss.backward()\n",
        "      grad=g.gradient(g_loss, nets['generator'].weights)\n",
        "      optims['generator'].apply_gradients(zip(grad, nets['generator'].weights))\n",
        "      grad=g.gradient(g_loss, nets['mapping_network'].weights)\n",
        "      optims['mapping_network'].apply_gradients(zip(grad, nets['mapping_network'].weights))\n",
        "      grad=g.gradient(g_loss, nets['style_encoder'].weights)\n",
        "      optims['style_encoder'].apply_gradients(zip(grad, nets['style_encoder'].weights))\n",
        "      del g\n",
        "\n",
        "      #print(4)\n",
        "      with tf.GradientTape(persistent=True) as g:\n",
        "        g.watch(nets['generator'].weights)\n",
        "        g_loss, g_losses_ref = compute_g_loss(\n",
        "                nets, args, x_real, y_org, y_trg, x_refs=[x_ref, x_ref2])\n",
        "        #self._reset_grad()\n",
        "        #g_loss.backward()\n",
        "      grad=g.gradient(g_loss, nets['generator'].weights)\n",
        "      optims['generator'].apply_gradients(zip(grad, nets['generator'].weights))\n",
        "      del g\n",
        "\n",
        "      #print(5)\n",
        "\n",
        "      # compute moving average of network parameters\n",
        "      moving_average(nets['generator'], nets_ema['generator'], beta=0.999)\n",
        "      moving_average(nets['mapping_network'], nets_ema['mapping_network'], beta=0.999)\n",
        "      moving_average(nets['style_encoder'], nets_ema['style_encoder'], beta=0.999)\n",
        "\n",
        "      #print(6)\n",
        "\n",
        "      # decay weight for diversity sensitive loss\n",
        "      if args['lambda_ds'] > 0:\n",
        "        args['lambda_ds'] -= (initial_lambda_ds / args['ds_iter'])\n",
        "\n",
        "      # print out log info\n",
        "      if (i+1) % args['print_every'] == 0:\n",
        "        elapsed = time.time() - start_time\n",
        "        elapsed = str(datetime.timedelta(seconds=elapsed))[:-7]\n",
        "        log = \"Elapsed time [%s], Iteration [%i/%i], \" % (elapsed, i+1, args['total_iters'])\n",
        "        all_losses = {}\n",
        "        for loss, prefix in [(d_losses_latent,'D/latent_'), (d_losses_ref,'D/ref_'), \n",
        "                             (g_losses_latent,'G/latent_'), (g_losses_ref,'G/ref_')]:\n",
        "          for key, value in loss.items():\n",
        "            all_losses[prefix + key] = value\n",
        "        all_losses['G/lambda_ds'] = args['lambda_ds']\n",
        "        for key, value in all_losses.items():\n",
        "          if key!= 'G/lambda_ds':\n",
        "            print(log+key, value.numpy())\n",
        "          else:\n",
        "            print(log+key, value)\n",
        "\n",
        "      # generate images for debugging\n",
        "      #if (i+1) % args['sample_every'] == 0:\n",
        "      #  os.makedirs(args['sample_dir'], exist_ok=True)\n",
        "      #  debug_image(nets_ema, args, inputs=inputs_val, step=i+1)\n",
        "\n",
        "      # save model checkpoints\n",
        "      if (i+1) % args['save_every'] == 0:\n",
        "        for net in solv.nets.keys():\n",
        "          solv.nets[net].save_weights('MNIST_GAN_3/saved_model/'+net+'step'+str(self.step)+'.h5')\n",
        "        for net in solv.nets_ema.keys():\n",
        "          solv.nets[net].save_weights('MNIST_GAN_3/saved_model/'+net+'step'+str(self.step)+'_ema.h5')\n",
        "      \n",
        "      \n",
        "      #  self._save_checkpoint(step=i+1)\n",
        "\n",
        "  def sample(self, src, ref):\n",
        "    \"\"\"\n",
        "    src     source image that we want to modify\n",
        "    ref     pair of reference image and domain\n",
        "\n",
        "    generates an image that changes source image into the style of the reference image \n",
        "    \"\"\"\n",
        "    args = self.args\n",
        "    nets_ema = self.nets_ema\n",
        "    os.makedirs(args['result_dir'], exist_ok=True)\n",
        "    self._load_checkpoint(args['resume_iter'])\n",
        "\n",
        "    fname = ospj(args['result_dir'], 'reference.jpg')\n",
        "    print('Working on {}...'.format(fname))\n",
        "    translate_using_reference(nets_ema, args, src, ref[0], ref[1], fname)"
      ],
      "execution_count": 14,
      "outputs": []
    },
    {
      "source": [
        "# Data Loading and Preprocessing"
      ],
      "cell_type": "markdown",
      "metadata": {}
    },
    {
      "cell_type": "code",
      "metadata": {
        "id": "Wkp2TOCOnbmu"
      },
      "source": [
        "(trainX, trainy), (valX, valy) = load_data()\n",
        "\n",
        "trainX=tf.reshape(trainX, (60000,28,28,1))\n",
        "valX=tf.reshape(valX, (10000,28,28,1))"
      ],
      "execution_count": 15,
      "outputs": []
    },
    {
      "cell_type": "code",
      "metadata": {
        "id": "KfGnysBhnfeG"
      },
      "source": [
        "x_src=tf.cast(trainX, tf.float32)\n",
        "y_src=tf.cast(trainy, tf.int32)\n",
        "x_ref=tf.random.shuffle(x_src, seed=0)\n",
        "x_ref2=tf.random.shuffle(x_src, seed=1)\n",
        "y_ref=tf.random.shuffle(y_src, seed=0)\n",
        "z_trg=tf.random.normal((60000,8))\n",
        "z_trg2=tf.random.normal((60000,8))\n",
        "\n",
        "inputs={\"x_src\":x_src, \"y_src\":y_src, \"x_ref\":x_ref, \"x_ref2\":x_ref2, \"y_ref\":y_ref, \"z_trg\":z_trg, \"z_trg2\":z_trg2}"
      ],
      "execution_count": 16,
      "outputs": []
    },
    {
      "source": [
        "# Data Augmentation\n",
        "\n",
        "We can do some things to augment our data set like transforming our images by "
      ],
      "cell_type": "markdown",
      "metadata": {}
    },
    {
      "cell_type": "code",
      "execution_count": 17,
      "metadata": {},
      "outputs": [],
      "source": [
        "img_gen=tf.keras.preprocessing.image.ImageDataGenerator(rotation_range=15 , width_shift_range=2, height_shift_range=2, zoom_range=0.1)\n",
        "img_gen.fit(x_src)"
      ]
    },
    {
      "source": [
        "# Parameters"
      ],
      "cell_type": "markdown",
      "metadata": {}
    },
    {
      "cell_type": "code",
      "metadata": {
        "id": "b5bhGZY2hkGi"
      },
      "source": [
        "args={'img_size':28,\n",
        "      'style_dim':16,\n",
        "      'latent_dim':8,\n",
        "      'num_domains':10,\n",
        "      'lambda_reg':1, \n",
        "      'lambda_ds':1,\n",
        "      'lambda_sty':1,\n",
        "      'lambda_cyc':1,\n",
        "      'hidden_dim':128,\n",
        "      'resume_iter':0,\n",
        "      'ds_iter':2000,  \n",
        "      'total_iters':2000,\n",
        "      'batch_size':128,\n",
        "      'val_batch_size':32,  \n",
        "      'lr':1e-4,\n",
        "      'f_lr':1e-6,\n",
        "      'beta1':0,\n",
        "      'beta2':0.99,\n",
        "      'weight_decay':1e-4,\n",
        "      'num_outs_per_domain':4,\n",
        "      'mode': 'train',  #train,sample,eval\n",
        "      'seed':0,\n",
        "      'train_img_dir':'GAN/data/train',\n",
        "      'val_img_dir': 'GAN/data/val',\n",
        "      'sample_dir':'GAN/res/samples',\n",
        "      'checkpoint_dir':'GAN/res/checkpoints',\n",
        "      'eval_dir':'GAN/res/eval',\n",
        "      'result_dir':'GAN/res/results',\n",
        "      'src_dir':'GAN/data/src', \n",
        "      'ref_dir':'GAN/data/ref',\n",
        "      'print_every': 500,\n",
        "      'sample_every':20000,\n",
        "      'save_every':500,\n",
        "      'eval_every':1000 }"
      ],
      "execution_count": 18,
      "outputs": []
    },
    {
      "cell_type": "markdown",
      "metadata": {
        "id": "aRxr0xdqajQx"
      },
      "source": [
        "# Load Model"
      ]
    },
    {
      "cell_type": "code",
      "metadata": {
        "id": "edoX0YFH5Zdb"
      },
      "source": [
        "solv=Solver(args)\n",
        "solv.build_model(args)\n",
        "solv.load(500)"
      ],
      "execution_count": 19,
      "outputs": []
    },
    {
      "cell_type": "markdown",
      "metadata": {
        "id": "f7Lk-dm-L7sg"
      },
      "source": [
        "# Training"
      ]
    },
    {
      "cell_type": "code",
      "metadata": {
        "colab": {
          "base_uri": "https://localhost:8080/"
        },
        "id": "YwL2FjeoL9MY",
        "outputId": "94d424c6-7058-44a5-bf48-775f5ae4fa2b"
      },
      "source": [
        "with tf.device('/device:GPU:0'):\n",
        "    solv.train(inputs, inputs, img_gen)"
      ],
      "execution_count": 20,
      "outputs": [
        {
          "output_type": "stream",
          "name": "stdout",
          "text": [
            "Start training...\n"
          ]
        },
        {
          "output_type": "error",
          "ename": "KeyboardInterrupt",
          "evalue": "",
          "traceback": [
            "\u001b[1;31m---------------------------------------------------------------------------\u001b[0m",
            "\u001b[1;31mKeyboardInterrupt\u001b[0m                         Traceback (most recent call last)",
            "\u001b[1;32m<ipython-input-20-ed13c7772905>\u001b[0m in \u001b[0;36m<module>\u001b[1;34m\u001b[0m\n\u001b[0;32m      1\u001b[0m \u001b[1;32mwith\u001b[0m \u001b[0mtf\u001b[0m\u001b[1;33m.\u001b[0m\u001b[0mdevice\u001b[0m\u001b[1;33m(\u001b[0m\u001b[1;34m'/device:GPU:0'\u001b[0m\u001b[1;33m)\u001b[0m\u001b[1;33m:\u001b[0m\u001b[1;33m\u001b[0m\u001b[1;33m\u001b[0m\u001b[0m\n\u001b[1;32m----> 2\u001b[1;33m     \u001b[0msolv\u001b[0m\u001b[1;33m.\u001b[0m\u001b[0mtrain\u001b[0m\u001b[1;33m(\u001b[0m\u001b[0minputs\u001b[0m\u001b[1;33m,\u001b[0m \u001b[0minputs\u001b[0m\u001b[1;33m,\u001b[0m \u001b[0mimg_gen\u001b[0m\u001b[1;33m)\u001b[0m\u001b[1;33m\u001b[0m\u001b[1;33m\u001b[0m\u001b[0m\n\u001b[0m",
            "\u001b[1;32m<ipython-input-14-e5d3f1b4ebaf>\u001b[0m in \u001b[0;36mtrain\u001b[1;34m(self, inputs, validations, gen, batch_size)\u001b[0m\n\u001b[0;32m    120\u001b[0m \u001b[1;33m\u001b[0m\u001b[0m\n\u001b[0;32m    121\u001b[0m         d_loss, d_losses_latent = compute_d_loss(\n\u001b[1;32m--> 122\u001b[1;33m                 nets, args, x_real, y_org, y_trg, z_trg=z_trg)\n\u001b[0m\u001b[0;32m    123\u001b[0m         \u001b[1;31m#self._reset_grad()\u001b[0m\u001b[1;33m\u001b[0m\u001b[1;33m\u001b[0m\u001b[1;33m\u001b[0m\u001b[0m\n\u001b[0;32m    124\u001b[0m         \u001b[1;31m#d_loss.backward()\u001b[0m\u001b[1;33m\u001b[0m\u001b[1;33m\u001b[0m\u001b[1;33m\u001b[0m\u001b[0m\n",
            "\u001b[1;32m<ipython-input-12-3d8cfe3d2327>\u001b[0m in \u001b[0;36mcompute_d_loss\u001b[1;34m(nets, args, x_real, y_org, y_trg, z_trg, x_ref)\u001b[0m\n\u001b[0;32m     10\u001b[0m     \u001b[1;31m# with fake images\u001b[0m\u001b[1;33m\u001b[0m\u001b[1;33m\u001b[0m\u001b[1;33m\u001b[0m\u001b[0m\n\u001b[0;32m     11\u001b[0m   \u001b[1;32mif\u001b[0m \u001b[0mz_trg\u001b[0m \u001b[1;32mis\u001b[0m \u001b[1;32mnot\u001b[0m \u001b[1;32mNone\u001b[0m\u001b[1;33m:\u001b[0m\u001b[1;33m\u001b[0m\u001b[1;33m\u001b[0m\u001b[0m\n\u001b[1;32m---> 12\u001b[1;33m     \u001b[0ms_trg\u001b[0m \u001b[1;33m=\u001b[0m \u001b[0mnets\u001b[0m\u001b[1;33m[\u001b[0m\u001b[1;34m'mapping_network'\u001b[0m\u001b[1;33m]\u001b[0m\u001b[1;33m(\u001b[0m\u001b[0mz_trg\u001b[0m\u001b[1;33m,\u001b[0m \u001b[0my_trg\u001b[0m\u001b[1;33m)\u001b[0m\u001b[1;33m\u001b[0m\u001b[1;33m\u001b[0m\u001b[0m\n\u001b[0m\u001b[0;32m     13\u001b[0m   \u001b[1;32melse\u001b[0m\u001b[1;33m:\u001b[0m  \u001b[1;31m# x_ref is not None\u001b[0m\u001b[1;33m\u001b[0m\u001b[1;33m\u001b[0m\u001b[0m\n\u001b[0;32m     14\u001b[0m     \u001b[0ms_trg\u001b[0m \u001b[1;33m=\u001b[0m \u001b[0mnets\u001b[0m\u001b[1;33m[\u001b[0m\u001b[1;34m'style_encoder'\u001b[0m\u001b[1;33m]\u001b[0m\u001b[1;33m(\u001b[0m\u001b[0mx_ref\u001b[0m\u001b[1;33m,\u001b[0m \u001b[0my_trg\u001b[0m\u001b[1;33m)\u001b[0m\u001b[1;33m\u001b[0m\u001b[1;33m\u001b[0m\u001b[0m\n",
            "\u001b[1;32m~\\anaconda3\\envs\\tf\\lib\\site-packages\\tensorflow\\python\\keras\\engine\\base_layer.py\u001b[0m in \u001b[0;36m__call__\u001b[1;34m(self, *args, **kwargs)\u001b[0m\n\u001b[0;32m   1010\u001b[0m         with autocast_variable.enable_auto_cast_variables(\n\u001b[0;32m   1011\u001b[0m             self._compute_dtype_object):\n\u001b[1;32m-> 1012\u001b[1;33m           \u001b[0moutputs\u001b[0m \u001b[1;33m=\u001b[0m \u001b[0mcall_fn\u001b[0m\u001b[1;33m(\u001b[0m\u001b[0minputs\u001b[0m\u001b[1;33m,\u001b[0m \u001b[1;33m*\u001b[0m\u001b[0margs\u001b[0m\u001b[1;33m,\u001b[0m \u001b[1;33m**\u001b[0m\u001b[0mkwargs\u001b[0m\u001b[1;33m)\u001b[0m\u001b[1;33m\u001b[0m\u001b[1;33m\u001b[0m\u001b[0m\n\u001b[0m\u001b[0;32m   1013\u001b[0m \u001b[1;33m\u001b[0m\u001b[0m\n\u001b[0;32m   1014\u001b[0m         \u001b[1;32mif\u001b[0m \u001b[0mself\u001b[0m\u001b[1;33m.\u001b[0m\u001b[0m_activity_regularizer\u001b[0m\u001b[1;33m:\u001b[0m\u001b[1;33m\u001b[0m\u001b[1;33m\u001b[0m\u001b[0m\n",
            "\u001b[1;32m<ipython-input-6-6e2be75ce18e>\u001b[0m in \u001b[0;36mcall\u001b[1;34m(self, z, y)\u001b[0m\n\u001b[0;32m     23\u001b[0m       \u001b[0mout\u001b[0m \u001b[1;33m=\u001b[0m \u001b[1;33m[\u001b[0m\u001b[1;33m]\u001b[0m\u001b[1;33m\u001b[0m\u001b[1;33m\u001b[0m\u001b[0m\n\u001b[0;32m     24\u001b[0m       \u001b[1;32mfor\u001b[0m \u001b[0mlayer\u001b[0m \u001b[1;32min\u001b[0m \u001b[0mself\u001b[0m\u001b[1;33m.\u001b[0m\u001b[0munshared\u001b[0m\u001b[1;33m:\u001b[0m\u001b[1;33m\u001b[0m\u001b[1;33m\u001b[0m\u001b[0m\n\u001b[1;32m---> 25\u001b[1;33m           \u001b[0mout\u001b[0m \u001b[1;33m+=\u001b[0m \u001b[1;33m[\u001b[0m\u001b[0mlayer\u001b[0m\u001b[1;33m(\u001b[0m\u001b[0mh\u001b[0m\u001b[1;33m)\u001b[0m\u001b[1;33m]\u001b[0m\u001b[1;33m\u001b[0m\u001b[1;33m\u001b[0m\u001b[0m\n\u001b[0m\u001b[0;32m     26\u001b[0m       \u001b[0mout\u001b[0m \u001b[1;33m=\u001b[0m \u001b[0mtf\u001b[0m\u001b[1;33m.\u001b[0m\u001b[0mstack\u001b[0m\u001b[1;33m(\u001b[0m\u001b[0mout\u001b[0m\u001b[1;33m,\u001b[0m \u001b[0maxis\u001b[0m\u001b[1;33m=\u001b[0m\u001b[1;36m1\u001b[0m\u001b[1;33m)\u001b[0m  \u001b[1;31m# (batch, num_domains, style_dim)\u001b[0m\u001b[1;33m\u001b[0m\u001b[1;33m\u001b[0m\u001b[0m\n\u001b[0;32m     27\u001b[0m       \u001b[0ms\u001b[0m \u001b[1;33m=\u001b[0m \u001b[0mtf\u001b[0m\u001b[1;33m.\u001b[0m\u001b[0mgather\u001b[0m\u001b[1;33m(\u001b[0m\u001b[0mout\u001b[0m\u001b[1;33m,\u001b[0m \u001b[0my\u001b[0m\u001b[1;33m,\u001b[0m \u001b[0maxis\u001b[0m\u001b[1;33m=\u001b[0m\u001b[1;36m1\u001b[0m\u001b[1;33m)\u001b[0m\u001b[1;33m\u001b[0m\u001b[1;33m\u001b[0m\u001b[0m\n",
            "\u001b[1;32m~\\anaconda3\\envs\\tf\\lib\\site-packages\\tensorflow\\python\\keras\\engine\\base_layer.py\u001b[0m in \u001b[0;36m__call__\u001b[1;34m(self, *args, **kwargs)\u001b[0m\n\u001b[0;32m   1010\u001b[0m         with autocast_variable.enable_auto_cast_variables(\n\u001b[0;32m   1011\u001b[0m             self._compute_dtype_object):\n\u001b[1;32m-> 1012\u001b[1;33m           \u001b[0moutputs\u001b[0m \u001b[1;33m=\u001b[0m \u001b[0mcall_fn\u001b[0m\u001b[1;33m(\u001b[0m\u001b[0minputs\u001b[0m\u001b[1;33m,\u001b[0m \u001b[1;33m*\u001b[0m\u001b[0margs\u001b[0m\u001b[1;33m,\u001b[0m \u001b[1;33m**\u001b[0m\u001b[0mkwargs\u001b[0m\u001b[1;33m)\u001b[0m\u001b[1;33m\u001b[0m\u001b[1;33m\u001b[0m\u001b[0m\n\u001b[0m\u001b[0;32m   1013\u001b[0m \u001b[1;33m\u001b[0m\u001b[0m\n\u001b[0;32m   1014\u001b[0m         \u001b[1;32mif\u001b[0m \u001b[0mself\u001b[0m\u001b[1;33m.\u001b[0m\u001b[0m_activity_regularizer\u001b[0m\u001b[1;33m:\u001b[0m\u001b[1;33m\u001b[0m\u001b[1;33m\u001b[0m\u001b[0m\n",
            "\u001b[1;32m~\\anaconda3\\envs\\tf\\lib\\site-packages\\tensorflow\\python\\keras\\engine\\sequential.py\u001b[0m in \u001b[0;36mcall\u001b[1;34m(self, inputs, training, mask)\u001b[0m\n\u001b[0;32m    373\u001b[0m       \u001b[1;32mif\u001b[0m \u001b[1;32mnot\u001b[0m \u001b[0mself\u001b[0m\u001b[1;33m.\u001b[0m\u001b[0mbuilt\u001b[0m\u001b[1;33m:\u001b[0m\u001b[1;33m\u001b[0m\u001b[1;33m\u001b[0m\u001b[0m\n\u001b[0;32m    374\u001b[0m         \u001b[0mself\u001b[0m\u001b[1;33m.\u001b[0m\u001b[0m_init_graph_network\u001b[0m\u001b[1;33m(\u001b[0m\u001b[0mself\u001b[0m\u001b[1;33m.\u001b[0m\u001b[0minputs\u001b[0m\u001b[1;33m,\u001b[0m \u001b[0mself\u001b[0m\u001b[1;33m.\u001b[0m\u001b[0moutputs\u001b[0m\u001b[1;33m)\u001b[0m\u001b[1;33m\u001b[0m\u001b[1;33m\u001b[0m\u001b[0m\n\u001b[1;32m--> 375\u001b[1;33m       \u001b[1;32mreturn\u001b[0m \u001b[0msuper\u001b[0m\u001b[1;33m(\u001b[0m\u001b[0mSequential\u001b[0m\u001b[1;33m,\u001b[0m \u001b[0mself\u001b[0m\u001b[1;33m)\u001b[0m\u001b[1;33m.\u001b[0m\u001b[0mcall\u001b[0m\u001b[1;33m(\u001b[0m\u001b[0minputs\u001b[0m\u001b[1;33m,\u001b[0m \u001b[0mtraining\u001b[0m\u001b[1;33m=\u001b[0m\u001b[0mtraining\u001b[0m\u001b[1;33m,\u001b[0m \u001b[0mmask\u001b[0m\u001b[1;33m=\u001b[0m\u001b[0mmask\u001b[0m\u001b[1;33m)\u001b[0m\u001b[1;33m\u001b[0m\u001b[1;33m\u001b[0m\u001b[0m\n\u001b[0m\u001b[0;32m    376\u001b[0m \u001b[1;33m\u001b[0m\u001b[0m\n\u001b[0;32m    377\u001b[0m     \u001b[0moutputs\u001b[0m \u001b[1;33m=\u001b[0m \u001b[0minputs\u001b[0m  \u001b[1;31m# handle the corner case where self.layers is empty\u001b[0m\u001b[1;33m\u001b[0m\u001b[1;33m\u001b[0m\u001b[0m\n",
            "\u001b[1;32m~\\anaconda3\\envs\\tf\\lib\\site-packages\\tensorflow\\python\\keras\\engine\\functional.py\u001b[0m in \u001b[0;36mcall\u001b[1;34m(self, inputs, training, mask)\u001b[0m\n\u001b[0;32m    423\u001b[0m     \"\"\"\n\u001b[0;32m    424\u001b[0m     return self._run_internal_graph(\n\u001b[1;32m--> 425\u001b[1;33m         inputs, training=training, mask=mask)\n\u001b[0m\u001b[0;32m    426\u001b[0m \u001b[1;33m\u001b[0m\u001b[0m\n\u001b[0;32m    427\u001b[0m   \u001b[1;32mdef\u001b[0m \u001b[0mcompute_output_shape\u001b[0m\u001b[1;33m(\u001b[0m\u001b[0mself\u001b[0m\u001b[1;33m,\u001b[0m \u001b[0minput_shape\u001b[0m\u001b[1;33m)\u001b[0m\u001b[1;33m:\u001b[0m\u001b[1;33m\u001b[0m\u001b[1;33m\u001b[0m\u001b[0m\n",
            "\u001b[1;32m~\\anaconda3\\envs\\tf\\lib\\site-packages\\tensorflow\\python\\keras\\engine\\functional.py\u001b[0m in \u001b[0;36m_run_internal_graph\u001b[1;34m(self, inputs, training, mask)\u001b[0m\n\u001b[0;32m    558\u001b[0m \u001b[1;33m\u001b[0m\u001b[0m\n\u001b[0;32m    559\u001b[0m         \u001b[0margs\u001b[0m\u001b[1;33m,\u001b[0m \u001b[0mkwargs\u001b[0m \u001b[1;33m=\u001b[0m \u001b[0mnode\u001b[0m\u001b[1;33m.\u001b[0m\u001b[0mmap_arguments\u001b[0m\u001b[1;33m(\u001b[0m\u001b[0mtensor_dict\u001b[0m\u001b[1;33m)\u001b[0m\u001b[1;33m\u001b[0m\u001b[1;33m\u001b[0m\u001b[0m\n\u001b[1;32m--> 560\u001b[1;33m         \u001b[0moutputs\u001b[0m \u001b[1;33m=\u001b[0m \u001b[0mnode\u001b[0m\u001b[1;33m.\u001b[0m\u001b[0mlayer\u001b[0m\u001b[1;33m(\u001b[0m\u001b[1;33m*\u001b[0m\u001b[0margs\u001b[0m\u001b[1;33m,\u001b[0m \u001b[1;33m**\u001b[0m\u001b[0mkwargs\u001b[0m\u001b[1;33m)\u001b[0m\u001b[1;33m\u001b[0m\u001b[1;33m\u001b[0m\u001b[0m\n\u001b[0m\u001b[0;32m    561\u001b[0m \u001b[1;33m\u001b[0m\u001b[0m\n\u001b[0;32m    562\u001b[0m         \u001b[1;31m# Update tensor_dict.\u001b[0m\u001b[1;33m\u001b[0m\u001b[1;33m\u001b[0m\u001b[1;33m\u001b[0m\u001b[0m\n",
            "\u001b[1;32m~\\anaconda3\\envs\\tf\\lib\\site-packages\\tensorflow\\python\\keras\\engine\\base_layer.py\u001b[0m in \u001b[0;36m__call__\u001b[1;34m(self, *args, **kwargs)\u001b[0m\n\u001b[0;32m   1010\u001b[0m         with autocast_variable.enable_auto_cast_variables(\n\u001b[0;32m   1011\u001b[0m             self._compute_dtype_object):\n\u001b[1;32m-> 1012\u001b[1;33m           \u001b[0moutputs\u001b[0m \u001b[1;33m=\u001b[0m \u001b[0mcall_fn\u001b[0m\u001b[1;33m(\u001b[0m\u001b[0minputs\u001b[0m\u001b[1;33m,\u001b[0m \u001b[1;33m*\u001b[0m\u001b[0margs\u001b[0m\u001b[1;33m,\u001b[0m \u001b[1;33m**\u001b[0m\u001b[0mkwargs\u001b[0m\u001b[1;33m)\u001b[0m\u001b[1;33m\u001b[0m\u001b[1;33m\u001b[0m\u001b[0m\n\u001b[0m\u001b[0;32m   1013\u001b[0m \u001b[1;33m\u001b[0m\u001b[0m\n\u001b[0;32m   1014\u001b[0m         \u001b[1;32mif\u001b[0m \u001b[0mself\u001b[0m\u001b[1;33m.\u001b[0m\u001b[0m_activity_regularizer\u001b[0m\u001b[1;33m:\u001b[0m\u001b[1;33m\u001b[0m\u001b[1;33m\u001b[0m\u001b[0m\n",
            "\u001b[1;32m~\\anaconda3\\envs\\tf\\lib\\site-packages\\tensorflow\\python\\keras\\layers\\core.py\u001b[0m in \u001b[0;36mcall\u001b[1;34m(self, inputs)\u001b[0m\n\u001b[0;32m   1210\u001b[0m         \u001b[0mself\u001b[0m\u001b[1;33m.\u001b[0m\u001b[0mbias\u001b[0m\u001b[1;33m,\u001b[0m\u001b[1;33m\u001b[0m\u001b[1;33m\u001b[0m\u001b[0m\n\u001b[0;32m   1211\u001b[0m         \u001b[0mself\u001b[0m\u001b[1;33m.\u001b[0m\u001b[0mactivation\u001b[0m\u001b[1;33m,\u001b[0m\u001b[1;33m\u001b[0m\u001b[1;33m\u001b[0m\u001b[0m\n\u001b[1;32m-> 1212\u001b[1;33m         dtype=self._compute_dtype_object)\n\u001b[0m\u001b[0;32m   1213\u001b[0m \u001b[1;33m\u001b[0m\u001b[0m\n\u001b[0;32m   1214\u001b[0m   \u001b[1;32mdef\u001b[0m \u001b[0mcompute_output_shape\u001b[0m\u001b[1;33m(\u001b[0m\u001b[0mself\u001b[0m\u001b[1;33m,\u001b[0m \u001b[0minput_shape\u001b[0m\u001b[1;33m)\u001b[0m\u001b[1;33m:\u001b[0m\u001b[1;33m\u001b[0m\u001b[1;33m\u001b[0m\u001b[0m\n",
            "\u001b[1;32m~\\anaconda3\\envs\\tf\\lib\\site-packages\\tensorflow\\python\\keras\\layers\\ops\\core.py\u001b[0m in \u001b[0;36mdense\u001b[1;34m(inputs, kernel, bias, activation, dtype)\u001b[0m\n\u001b[0;32m     51\u001b[0m       \u001b[0moutputs\u001b[0m \u001b[1;33m=\u001b[0m \u001b[0msparse_ops\u001b[0m\u001b[1;33m.\u001b[0m\u001b[0msparse_tensor_dense_matmul\u001b[0m\u001b[1;33m(\u001b[0m\u001b[0minputs\u001b[0m\u001b[1;33m,\u001b[0m \u001b[0mkernel\u001b[0m\u001b[1;33m)\u001b[0m\u001b[1;33m\u001b[0m\u001b[1;33m\u001b[0m\u001b[0m\n\u001b[0;32m     52\u001b[0m     \u001b[1;32melse\u001b[0m\u001b[1;33m:\u001b[0m\u001b[1;33m\u001b[0m\u001b[1;33m\u001b[0m\u001b[0m\n\u001b[1;32m---> 53\u001b[1;33m       \u001b[0moutputs\u001b[0m \u001b[1;33m=\u001b[0m \u001b[0mgen_math_ops\u001b[0m\u001b[1;33m.\u001b[0m\u001b[0mmat_mul\u001b[0m\u001b[1;33m(\u001b[0m\u001b[0minputs\u001b[0m\u001b[1;33m,\u001b[0m \u001b[0mkernel\u001b[0m\u001b[1;33m)\u001b[0m\u001b[1;33m\u001b[0m\u001b[1;33m\u001b[0m\u001b[0m\n\u001b[0m\u001b[0;32m     54\u001b[0m   \u001b[1;31m# Broadcast kernel to inputs.\u001b[0m\u001b[1;33m\u001b[0m\u001b[1;33m\u001b[0m\u001b[1;33m\u001b[0m\u001b[0m\n\u001b[0;32m     55\u001b[0m   \u001b[1;32melse\u001b[0m\u001b[1;33m:\u001b[0m\u001b[1;33m\u001b[0m\u001b[1;33m\u001b[0m\u001b[0m\n",
            "\u001b[1;32m~\\anaconda3\\envs\\tf\\lib\\site-packages\\tensorflow\\python\\ops\\gen_math_ops.py\u001b[0m in \u001b[0;36mmat_mul\u001b[1;34m(a, b, transpose_a, transpose_b, name)\u001b[0m\n\u001b[0;32m   5526\u001b[0m       _result = pywrap_tfe.TFE_Py_FastPathExecute(\n\u001b[0;32m   5527\u001b[0m         \u001b[0m_ctx\u001b[0m\u001b[1;33m,\u001b[0m \u001b[1;34m\"MatMul\"\u001b[0m\u001b[1;33m,\u001b[0m \u001b[0mname\u001b[0m\u001b[1;33m,\u001b[0m \u001b[0ma\u001b[0m\u001b[1;33m,\u001b[0m \u001b[0mb\u001b[0m\u001b[1;33m,\u001b[0m \u001b[1;34m\"transpose_a\"\u001b[0m\u001b[1;33m,\u001b[0m \u001b[0mtranspose_a\u001b[0m\u001b[1;33m,\u001b[0m \u001b[1;34m\"transpose_b\"\u001b[0m\u001b[1;33m,\u001b[0m\u001b[1;33m\u001b[0m\u001b[1;33m\u001b[0m\u001b[0m\n\u001b[1;32m-> 5528\u001b[1;33m         transpose_b)\n\u001b[0m\u001b[0;32m   5529\u001b[0m       \u001b[1;32mreturn\u001b[0m \u001b[0m_result\u001b[0m\u001b[1;33m\u001b[0m\u001b[1;33m\u001b[0m\u001b[0m\n\u001b[0;32m   5530\u001b[0m     \u001b[1;32mexcept\u001b[0m \u001b[0m_core\u001b[0m\u001b[1;33m.\u001b[0m\u001b[0m_NotOkStatusException\u001b[0m \u001b[1;32mas\u001b[0m \u001b[0me\u001b[0m\u001b[1;33m:\u001b[0m\u001b[1;33m\u001b[0m\u001b[1;33m\u001b[0m\u001b[0m\n",
            "\u001b[1;31mKeyboardInterrupt\u001b[0m: "
          ]
        }
      ]
    },
    {
      "cell_type": "markdown",
      "metadata": {
        "id": "dMzzM5poyVg2"
      },
      "source": [
        "# Results\n",
        "\n",
        "In this first cell we show an image where the rows represent a source image and the columns the style they are trying to mimic. We can see in this case that that the image still highly resembles the source image but has obtained some characteristics depending on the style of our reference. In most cases this style is mostly about the thickness of the lines, but it does vary slightly in other ways."
      ]
    },
    {
      "cell_type": "code",
      "metadata": {
        "id": "tDyfNQeAyW42",
        "colab": {
          "base_uri": "https://localhost:8080/",
          "height": 248
        },
        "outputId": "525318fc-4f93-4431-c049-8d87f8cba6aa"
      },
      "source": [
        "import matplotlib.pyplot as pyplot\n",
        "for i in range(4):\n",
        "\tpyplot.subplot(5,5,2+i)\n",
        "\tpyplot.axis('off')\n",
        "\tpyplot.imshow(np.reshape(inputs['x_ref'][i],[28,28]), cmap='gray_r')\n",
        "for i in range(4):\n",
        "\tpyplot.subplot(5, 5, 5*(i+1) + 1)\n",
        "\tpyplot.axis('off')\n",
        "\tpyplot.imshow(np.reshape(inputs['x_src'][i], [28,28]), cmap='gray_r')\n",
        "\tfor j in range(4):\n",
        "\t\tpyplot.subplot(5, 5, 5*(i+1) + j +2)\n",
        "\t\tpyplot.axis('off')\n",
        "\t\tpyplot.imshow(np.reshape(solv.nets['generator'](inputs['x_src'][i:i+1],solv.nets['style_encoder'](inputs['x_ref'][j:j+1],inputs['y_ref'][j:j+1])).numpy(), [28,28]), cmap='gray_r')\n",
        "pyplot.show()\n",
        "\n",
        "#left is source and top is the target trying to mimic its font"
      ],
      "execution_count": 39,
      "outputs": [
        {
          "output_type": "display_data",
          "data": {
            "text/plain": "<Figure size 432x288 with 24 Axes>",
            "image/svg+xml": "<?xml version=\"1.0\" encoding=\"utf-8\" standalone=\"no\"?>\r\n<!DOCTYPE svg PUBLIC \"-//W3C//DTD SVG 1.1//EN\"\r\n  \"http://www.w3.org/Graphics/SVG/1.1/DTD/svg11.dtd\">\r\n<!-- Created with matplotlib (https://matplotlib.org/) -->\r\n<svg height=\"231.84pt\" version=\"1.1\" viewBox=\"0 0 328.965517 231.84\" width=\"328.965517pt\" xmlns=\"http://www.w3.org/2000/svg\" xmlns:xlink=\"http://www.w3.org/1999/xlink\">\r\n <metadata>\r\n  <rdf:RDF xmlns:cc=\"http://creativecommons.org/ns#\" xmlns:dc=\"http://purl.org/dc/elements/1.1/\" xmlns:rdf=\"http://www.w3.org/1999/02/22-rdf-syntax-ns#\">\r\n   <cc:Work>\r\n    <dc:type rdf:resource=\"http://purl.org/dc/dcmitype/StillImage\"/>\r\n    <dc:date>2021-01-22T22:12:51.174808</dc:date>\r\n    <dc:format>image/svg+xml</dc:format>\r\n    <dc:creator>\r\n     <cc:Agent>\r\n      <dc:title>Matplotlib v3.3.2, https://matplotlib.org/</dc:title>\r\n     </cc:Agent>\r\n    </dc:creator>\r\n   </cc:Work>\r\n  </rdf:RDF>\r\n </metadata>\r\n <defs>\r\n  <style type=\"text/css\">*{stroke-linecap:butt;stroke-linejoin:round;}</style>\r\n </defs>\r\n <g id=\"figure_1\">\r\n  <g id=\"patch_1\">\r\n   <path d=\"M 0 231.84 \r\nL 328.965517 231.84 \r\nL 328.965517 0 \r\nL 0 0 \r\nz\r\n\" style=\"fill:none;\"/>\r\n  </g>\r\n  <g id=\"axes_1\">\r\n   <g clip-path=\"url(#p2100510186)\">\r\n    <image height=\"38\" id=\"image6a484e46a6\" transform=\"scale(1 -1)translate(0 -38)\" width=\"38\" x=\"76.468966\" xlink:href=\"data:image/png;base64,\r\niVBORw0KGgoAAAANSUhEUgAAACYAAAAmCAYAAACoPemuAAAE3ElEQVR4nO2YTWsTexSHn0kmydC821hjSUBoEVuJqIiQRSJGRVGo+gn8Al27dyO+LLtT3AhuuhDBhVgKViQUqhirbkJrq7SxjhNqkjamMTNz3NwGq/dCJ2qvC38QCH+Gcx7OOfObM6OIiPAHyvV/A/yX/lgw1cnFIoJt2xvOFEVBUZT2/y0Hq1QqjIyMMDo6SrlcBiAYDHL+/HkSiQSKorB//34GBgbo7u7+aTBls8O/trbGs2fPuHPnDi9evGB2dpbV1VV2795NMBjE5XIRj8c5efIkg4ODxGIx+vr6cLk6m5ZNV0zTNNLpNJVKhe3btxMOh3n//j22bVMqlTAMA9M0abVaLCwskEwmaTQaxONxwuEwPp/PGZl0oEajIeVyWUqlkszPz8vt27cllUqJqqqiKIp4PB4JBoOSSCTk8uXLUiwWHefoCMy2bbEsS0zTlFarJeVyWQqFgoyNjcmJEydE0zRRVVW8Xq8cPXpUrly54jiHo7tyXd/eiQCRSARN00gkEmSzWRqNBlNTU5imyfz8PNPT0ywtLdHT04Pb7d5Ujl/iY263G7/fTywWI5PJkMlk8Hq9AOi6zszMDIuLi1iWtemYv9xgjxw5wunTp4lEIrjdbprNJisrK6ysrPzggVsK9vz5c/L5PLVazVGFvldHM/ZvEhHm5uYYHx/n8ePHNJtNAEKhED09PUSjUUee9kvATNOkXq8zMTHB3bt3KRQKmKaJqqokk0n27t1Lb28vquogXSd28a3q9brk83kZHh4WTdPE5XK1fwcPHpRbt26JYRiO4/4UWL1el+vXr8vQ0JAkk0kBBBC/3y979uyRe/fuydu3b6XVajmO3VEra7UaS0tLTE1N8fDhQ16/fo2u6wAEAgF27drFqVOnSKfTRKNRZy38mVa+evVKrl69KqqqbmidqqoyMDAgw8PDUqvVxLbtTsJ3XrFSqUQ+n99w5na7OXz4MBcvXiSbzRIMBjsJ3VZHPtbX18fZs2fZsWNH2+Ety2JmZoabN28yMjLCy5cvt97H4vE46XSaTCZDsVikXC7z6dMnDMPgyZMn6LpOIBDAsiySySTRaHTTz8h1bXpR/F62baPrOuPj40xOTvLo0SPevHmDZVmoqorf7yebzXLhwgVyuRzhcNhZgo6nU0Qsy5K1tTX5+PGjFAoFuXTpkqRSKfF4PKKqqmiaJsePH5dr165tzfCvy+Vy4fP5iEaj+Hw+hoaGCIVCTE5O8uDBA+r1OrOzs8RiMRYXF9m5c+emW9oRmPzztrSeRFVVQqEQqVQKTdPw+XxMTEzQaDQwDIO5uTk+fPjw+/exZrNJpVL5AbZaraJpGuFwuP3AbjQaVKtVarWao7XHccV0XWdsbIzR0VEGBwfbm6xt2xSLRd69e4eu6ywvL2PbNslkkn379tHf34/H4/l9YKurqywsLFAoFCiVSu1zEcEwDJaXl2m1WqiqSm9vL7lcjlwux7Zt237v2vPlyxeazSb1ep3p6WnW3UZRFLxeL5qmEYlE6O7upr+/nzNnznDs2DECgYCjPI59zDAMnj59yv3797lx40YbzO12k06nOXDgAIcOHeLcuXMEAoGOPxs4BjNNk8+fP1OtVimXyxsq5vf76erqoquri0gk0vFbeEdgW6U/9jPUXzCn+gvmVF8BjO63yDjVFnAAAAAASUVORK5CYII=\" y=\"-6.689655\"/>\r\n   </g>\r\n  </g>\r\n  <g id=\"axes_2\">\r\n   <g clip-path=\"url(#pcbf637f1ed)\">\r\n    <image height=\"38\" id=\"imagee337761d20\" transform=\"scale(1 -1)translate(0 -38)\" width=\"38\" x=\"145.737931\" xlink:href=\"data:image/png;base64,\r\niVBORw0KGgoAAAANSUhEUgAAACYAAAAmCAYAAACoPemuAAAFRElEQVR4nO2Y30tTfRzHX25nZ5aOzflj0lzTwdTBynLVEA2iYCDURUQXu++mfyD6Qd1ZdxFCENSF12FeFZEa2A/ajZirlkMTTJ3bomXzx2o/P89FNHp4yOa05+niecO5OXx5nxffz+f7Oe9zKkRE+AOl+a8BfqY/FkzZzOJCocCPla+oqChe/xlYIpGgr6+PsbExEokE2WyWffv2cfjwYbxeL0ePHv33wT5//szMzAwjIyPEYjEURcFgMDA1NcXy8jKRSARFUejp6UGj2Z7uKAksFosRDAYJhUK0trZit9uxWq0Eg0Hm5ubIZDKYzWa8Xi96vX5bwJASNDAwIN3d3QLInTt3ZHp6WnK5nITDYTl79qwcOHBAmpub5ePHj5LL5Uqx/KVK2vedO3diMpkAMJvNGAwGtFotDocDr9eLw+EgHo8zNDTE4uLitmxYSWANDQ04nU7g2yFYXV0FQKfT0d7ejsPhQEQYHx/n06dP/x7Yrl276OjoQFVVpqenmZ+fJ5PJANDS0kJLSwt6vZ63b9+STCa3Bayk5nc6nVRWVtLc3MytW7dYWlqivr6evXv3UlNTQ1NTE06nk/X1dXK53LaAlXy2LRYLd+/e5ciRI7x584YzZ85w4cIFHj16xKtXrwiHw38bvltVyQNWVVXcbje9vb2Mjo4SCAQYHR0lGo0Sj8dJpVLbBrUpMACtVsupU6eorKwkHo8TDAaZnJwkl8uh0WjI5/Pkcjny+TxarXZrZOXMmEKhIMlkUi5fviwul0t27NghgBiNRrl69aoEg8Etz7GywERE8vm8zM7OyqVLl4rDV1EUcblc4vf7ZXBwUD58+CDpdLos/02V8kdpNBqsVis6nQ5VVWlsbMTpdLKwsMDExASqqpJOp+ns7CyOk99eyu87FolE5MSJE9Le3i69vb0yPDwsfr9f7Ha76PV6aWtrk/7+fpmfn9/0q6pssFQqJdevX5fW1lax2Wzi9/sllUrJ2tqahEIhuXbtmtTU1IjNZhOfzyeDg4Oyvr5esn/ZpSwUCsRiMb5+/Vq8p9VqqaysxG63c/LkSWpqanj48CFTU1P09/ezvLzMoUOHcLlc6HS6Df3LBhMRUqkUhUIBVVWpra0FvqXaqqoq2traMBqNrK2tkUwmefnyJbW1tWi1WsxmM01NTb8H7DsEQG1tLZ2dnf8IiY2Njfj9fpxOJ+fPn+fBgweICNXV1Zw+fXpD77Ljpqqq+Hw+rFYryWSSp0+fUigU/rGusbGRY8eOce/ePbq6ukin04RCoV/6lw2mKAodHR10dHRgNBqZnJzk9evXrKysAN9KHQgEWFpaQlVVdu/ejcfjAWB8fJxIJEI2m91+MI1Gg81mY8+ePdTV1TE7O8uTJ0949+4dyWQSEeHFixdMTEwwNzeHoigcPHgQg8HA+/fvicfjGyaRLX85eDwe3G436+vrXLlyhZs3bzIyMkI+n+fx48f09fVx8eJFFhYWOH78ON3d3TQ0NJBOpzdMI1tqfoD9+/cXo/ft27e5f/8+z58/Z2hoiGg0SjQaLYbLGzduoCgKzc3N1NfXoyg/f/yWwb7PLZ/PRyaTYXh4mPn5eQKBAF++fCGZTJLJZAiHw4RCIaqrq+np6aGurm7DBLJlMACTyYTH48FisVAoFBgbGyMcDpNIJIondWVlhZmZGbq6unC73cWPm5+q3FfSz5TL5WRxcVEGBgbEbDZLRUWFAALIuXPn5NmzZyX5VMhGHVimstksq6urLC4uks/ni01usVgwmUxUVVX90uO3gG2H/tjfUP+DbVb/g21WfwHqW9LXD5Ed5QAAAABJRU5ErkJggg==\" y=\"-6.689655\"/>\r\n   </g>\r\n  </g>\r\n  <g id=\"axes_3\">\r\n   <g clip-path=\"url(#p4fcbfbfc38)\">\r\n    <image height=\"38\" id=\"image5d7e7dad9b\" transform=\"scale(1 -1)translate(0 -38)\" width=\"38\" x=\"215.006897\" xlink:href=\"data:image/png;base64,\r\niVBORw0KGgoAAAANSUhEUgAAACYAAAAmCAYAAACoPemuAAAEX0lEQVR4nO2YzU8TaxSHn3cYmbYMFlvaUjQWJxSVQuoGEyE2bnRj4oadG8LGBP8NE1eExKWJO3fGnRuNxsQYIl+JjQaNtQitBYxWYAJYhHbOXdwLucnV5M4oHwt/u5l35pwnc+Y9v5NXiYhwAKXtN8DP9AfMrQ4smO71RRHh8+fPPH78mNnZWcrlMiKCUopgMEgqleLKlSv4fD6UUrsPJiJUKhVs22ZycpL79++TzWZZWFigWq0CEI1GyWQy9Pb2Eo1GMQzDNRjiUuvr6zIxMSE3b96UYDAohmGI3++X5uZm8fl8ouu6KKXk0KFDcu/ePSkWi25TiIiIa7DBwUHp6uqSeDwuly9fluHhYXn48KHk83m5e/eunD9/Xnw+nyilxLIsuXXrlpRKJddgrkuZz+cpl8u0tLRw9epVOjs7aW1tJRKJoJQil8tRrVYZGxtjYWGBfD7P7OwsR48edZXH9a5cXV2lsbGRs2fP0t/fTzqdJhqNopTCsiwuXLjAuXPnEBE2NjYoFovkcjm3aby1i66uLgYHBzEM4z87rqenh76+vp3r6elpXrx44TqH61Jeu3aN5uZmLMv64bphGIRCIU6ePMnMzAzhcJh4PL77YL29vQQCAQ4fPvzD9bq6OoLBIKdPn6ZQKKDrOvX19a7BXJcynU6TTCbx+Xw/BWtqaiKdTlNXV0etVqNWq+0+2P+RaZp0d3ej6zpfv36lVCq5jvFLlrS0tMT4+DiFQoGVlRWuX79OIBCgXC7z6NEjvn//TkdHBz09PXsDtt0Knj59yrNnz5ibm8O2bSzLIpFIUCwWmZqaQinF8ePHSSaTewPmOA62bTMyMsLbt2+xbRulFPPz82QyGWq1GtlslkgkgmVZdHR0uE/i2iv+0bdv3+T27dvS19cnR44cEUCUUlJfXy9+v1+i0ag8ePBA5ufnxXGc3bekbRmGwcWLF4nH47x8+ZInT54wOjrK5uYmTU1NJJNJUqkUoVBob8aebWmaxokTJ4hEIsRiMba2tshms1QqlZ1nTNP01MMA76X8t9bX1+Xdu3dy6tQpMU1zZ+zJ5XKysbHhKeZv6WOBQIBEIsHQ0BDt7e0791dXV9nc3PQU87c1WF3XsSyLhoYG5O85j9evX1Mul/cXTClFa2srpmmi6zqO4/Dq1Su+fPmyv2CapnHs2DFisdiOwY+Pj7O4uLi/YCKyY9iO46BpGgMDA6RSKU/xPLcLx3H49OkTlUqFlZUVFhcXmZubY2ZmhlqthmmapFIpwuHw3oFVq1XW1taYmppieXmZjx8/Mj09TaFQoFQq0dDQQFtbG21tbTQ2NnoC89TH3r9/L3fu3BG/3y+apolSSjRNk5aWFrl06ZLcuHFDbNv2ZEXb8vTFlpaWePPmDVtbW2QyGdLpNGfOnCGRSBCLxQiFQpim6cmKtqVE3J+PffjwgcnJSZ4/f053dzeWZdHe3k44HCYQCKDrnn/dXwPbCx3Y054/YG51YMH+AlkQ1xM7a3GRAAAAAElFTkSuQmCC\" y=\"-6.689655\"/>\r\n   </g>\r\n  </g>\r\n  <g id=\"axes_4\">\r\n   <g clip-path=\"url(#pde800f3768)\">\r\n    <image height=\"38\" id=\"image8d102d8be3\" transform=\"scale(1 -1)translate(0 -38)\" width=\"38\" x=\"284.275862\" xlink:href=\"data:image/png;base64,\r\niVBORw0KGgoAAAANSUhEUgAAACYAAAAmCAYAAACoPemuAAADzUlEQVR4nO2YzUtqXRTGH79FQeVaBilJKCiVg0L8QslBs4wImjYRmgb1pzRs6iCCGmQNy0mgVCJJgUWDKEHR/MgTx8pzPOsdXJK8Lxfz1Xwb9IMz2mcvnr3Ws/bebBEREb4h4v9bwN/4EdYt31aYtNMPxWIR8XgcZ2dnYFkWGo0GJpMJNpsNNpsNer0ecrl88MLy+TxisRgikQgYhoFer4fdbofH48Hz8zN8Ph/0en3fhYE6sLe3R0tLSyQWi9s+mUxGVquVEolEpxD/iY4eCwaDmJmZgdFo/HNBYBgG2WwWxWKx7wnrWEqNRgOfz4dKpYLt7W1Uq1VwHAdBEMCyLA4ODpDL5eBwOBAMBiEW96mfPpPWp6cnSiaTFAgESKPRtJVUp9OR0+mkjY0NajQagyslAGi1WthsNoTDYfz69attjGEY5PN53N3dQRCE/mQLXexjUqkUFosFOp3uX9tDqVRCPB7H/v4+crnc4IWNjY3B6/XCbrdDJpO1xjiOQ61Ww/X1NRiG6Yuwjub/KMxsNmN5eRlKpRKFQgHVahU8z0MQBBARbm9vwTAMBEHovQm6NaUgCPTw8EDRaJTm5+dpeHi4rRkikQjV6/XBmP8jIpEIBoMBHo8H6+vrMJlM7wsEEeHo6AjRaBS1Wg3Uw1Xv06X8iEKhwNDQEBwOB6amplAul5HNZkFEuLi4gEKhgMFggN/vb/Pilwt7R6VSYW5uDhzHYXd3FzzPI51Oo1Ao4O3tDdPT09BqtRCJRN0H79ULLMtSNBoll8tFUqmURCIRSaVSUiqVtLm5SZlMZjAe+xOlUgmLxYKFhQVIJBIAgCAI4Hkex8fHuLm5AcuyXcftWZhYLMbIyAj8fj8mJiag1Wpb4i4vL5FKpXB1dYVGo9Fd4F5L+Q7P87Szs0N+v5/kcnlr+7BarbSyskK5XI54nh9cKd+RSCRYXFyE2Wxu68T7+3skEgkcHh6iXq9/Ol5f7/wKhQIulwterxdS6e+GbzabqFQqiMViKJfL4Dhu8MIAwOl0wu/3Q61Wt46ler2OZDKJTCaDYrGIZrPZOVC/PPaR8/NzcrvdpFAo2o6rQCBAW1tbVKlUBuexjxiNRqyurkKtVre2EABIpVI4OTnB6elpxxhfIkyr1cLtdmN2dhZGo7El7uXlBSzL4vX1tWOMno6kv6FSqTA5OYlQKASWZVEqlbrqyC8TBvy+hYTDYdRqNTw+PiKdTnc1/8ufCEKhENbW1tpK+hm+LGPvjI6OwuPxIBwOo1KpwOFwYHx8vOM8EdHPw11X/Ajrlm8r7B8D40lzWnSPPQAAAABJRU5ErkJggg==\" y=\"-6.689655\"/>\r\n   </g>\r\n  </g>\r\n  <g id=\"axes_5\">\r\n   <g clip-path=\"url(#p44fd70ae6f)\">\r\n    <image height=\"38\" id=\"image8c4879b62e\" transform=\"scale(1 -1)translate(0 -38)\" width=\"38\" x=\"7.2\" xlink:href=\"data:image/png;base64,\r\niVBORw0KGgoAAAANSUhEUgAAACYAAAAmCAYAAACoPemuAAAFc0lEQVR4nO2YzWsTWxiHnyaZJE07SasJbfphiVSxESO1pWK1Bb9AF7pwIV0KgoLg3oUr/w03irsiSAOlHzutrVUklra0lpSkTaLpVyRNm8nXzJy7uNxw1UrbRL0u7g8OwxzO/ObhvO+8vGcqhBCCP1CG/xrgR/pjwUw7TQohiuPfqqio2PH628CGh4cZGhqiv7+/OCdJEh6PhzNnzuBwOLDZbNy6dQtZljEajb8HzOVy4fF4cLvdfPr0ia2tLVRVRVEUNjc3sVgsmEwmFhcX6erqwuv14vP5MJvNvxasoaGBU6dOEYvFmJ+fZ2lpiXg8jqIozM7OFkP84cMHlpeX6enpwWq10tTUhM1mQ5Kk8sMsdlEymRRPnjwR169fF62trcJqtYqKioqvhsvlEufPnxf9/f0iHA6LXC63m+2uqtitjum6TjqdJpVKsbq6SigUYmxsDL/fz/LyMgBGoxFJknA4HBw7dgyfz8e1a9fo6enBYrGUtGE7hvLfMhgMyLJMdXU1NTU1uFwuHA4HTqeT8fFxPn78SCKRIJ1Ok81mUVWVRCLB+vo6wWCQtrY2PB4PLS0t+wLbdcd2UjabJZFIMDIywuDgIAsLC8RiMRRFQdO0Yg56vV4uXrzIuXPn6O3txel07v0LLjcXIpGI8Pv94u7du6K5ufm7HDSZTKK2tlZcvXpVrKys7Nl311Dupvr6enp7e/H5fFy5coVAIMDi4iLhcJhAIEChUKBQKLCxsYGqqnv2LRvsn6S32+2YzWacTic+n494PM7c3FwRbG1tjc+fP2O325FleXfjckO5kzRNE9vb26K+vl4YDAZhMBhEVVWVeP78uYhEIr8nlN9KURTi8Tjj4+NkMhmEEMiyTGdnJ93d3bjd7j35/DQwIQSRSIShoSHevn3L+/fvURSFEydO0NHRQV9fHzU1NXv2+ylgmUyG9fV1BgcHGR0dZWZmhnA4jNfr5ezZs3R3d9PZ2bm/YltuPum6LpaWlsTTp0+Fy+USVqtVmM1mUVlZKR49eiRevXolNjY29u1b9o6trq4yMjLCw4cPsVqttLe3c/jwYY4ePcrt27epqqoqqS0qCyyXyzEwMMDw8DCKonDv3j06OjpobGzEbreXDFUWmKZpBINBxsbGmJubw263c+nSJY4fP05tbW2ptuWDZbNZnj17xuvXr8nlcrS3t9PR0UFlZWXZUCWBKYqC0WhE13VSqRSaptHS0kJfXx+SJP0UqH2B5fN5FhYWmJ+fR5IkLBYLExMTJJNJzGYzk5OT3LhxA5vNVmx9JiYmOHnyJK2trb8GTAhBOp1mbGyMyclJTCYTdru92GYnEgnevHnD/Pw8DoeDbDZLMBjkxYsXyLJcEtie6piiKGJ6evqHrfU/7U1XV5e4cOGCOH36tLBarUKWZfH48eN917A917GtrS3i8ThfvnxB07Qd12iaxvT0NEajEU3TyOVyaJpGIBDA7/djtVoBsNlsxQ6jsbHxhyerPYHZbDZaWlq4c+cOmUyGVCpFIpEgFotRKBRIJpPEYjFyudxXz6mqytTUFLqu43a7CYVCGI1G7HY7TU1NXL58mebmZg4cOFAaWHV1Na2trdy/fx9VVVlbWyMUCjE1NUU6nSYajX5VSFVVJZ1OI4QgGo2SyWTo6upidHSU7e1tTCYTR44cwel0YjabSweDv09CDQ0NABw6dIjOzk5u3ryJruvk83kURSmujUajDAwMoCgKq6uryLLMgwcPkCSJly9fMjs7y8zMDO/evaOuro62trbv3lfSYeRbCSHQdb14n8/n2dzcRNd1CoUCRqORuro6VlZW2N7eJpPJYDAYOHjwYLH7/SVgv0J/7G+o/8H2q//B9qu/AJbBmUz1Uo+/AAAAAElFTkSuQmCC\" y=\"-51.677241\"/>\r\n   </g>\r\n  </g>\r\n  <g id=\"axes_6\">\r\n   <g clip-path=\"url(#p11f41c28bb)\">\r\n    <image height=\"38\" id=\"image55da0e5f5b\" transform=\"scale(1 -1)translate(0 -38)\" width=\"38\" x=\"76.468966\" xlink:href=\"data:image/png;base64,\r\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\" y=\"-51.677241\"/>\r\n   </g>\r\n  </g>\r\n  <g id=\"axes_7\">\r\n   <g clip-path=\"url(#pf6d4390233)\">\r\n    <image height=\"38\" id=\"imagec2e4f65a4b\" transform=\"scale(1 -1)translate(0 -38)\" width=\"38\" x=\"145.737931\" xlink:href=\"data:image/png;base64,\r\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\" y=\"-51.677241\"/>\r\n   </g>\r\n  </g>\r\n  <g id=\"axes_8\">\r\n   <g clip-path=\"url(#pc278c2abcc)\">\r\n    <image height=\"38\" id=\"image94b3694823\" transform=\"scale(1 -1)translate(0 -38)\" width=\"38\" x=\"215.006897\" xlink:href=\"data:image/png;base64,\r\niVBORw0KGgoAAAANSUhEUgAAACYAAAAmCAYAAACoPemuAAAHfElEQVR4nJWY627aThPGf7bXNkdzSAglSdUqatUb6JdeRG+mF9heRaVIlXoQCSEhJAGMjbF3/X6odt/FgVT/lRC22fU+O/PMzDM4Nzc3JYBSCiklAI7joEdZls++9ceeB+C67sF1elTX7PutLEuE4zhmk+oipRRFUaCUMmA8z8N1XRzH2QEC4HneDvB9QF4C5rquWSeqLynLkqIokFKSZRlJkiClRCmF53kEQYAQAiEEYRgakP8FwEtzNAaR5/nOQ6UUq9WK1WrFcrnk7u6OzWaDlJJer0etVjOfXq9Ho9HA932EEBRFYTaresI2gB7V+2cWs18Ef13i+z5BEBCGIZvNhizLWCwWPD094bouQgi63S5RFNFqtWi1WgghqNVqCCEO0uOlYQMVnuft/KBfpHl1c3PD7e0ti8UCKaVxLUC9Xuft27ccHR3R7/c5Pz9nMBjged4OB8uy3LmuWq9q2R1g+yYDLBYL5vM58/mcJEl4eHggyzKklDiOQ5IkDIdD+v2+cbHjOIaDtpv0xnYw7RuO4yDshfa1JnoUReR5Tr1eZ7lcGjBJkrBYLFiv1zw+PpKmKd1ul+12S6fTodlscnR0hOd5CCFoNpvGG67ropR65r4dcFdXV6U2o16orZjnOVJKNpsNSZIwnU5ZrVaMx2MuLy8Zj8fM53OWyyWr1YqTkxO63S6DwYD3798zGAwYjUacnp5ycXFh3Ou67rM0VA0SYzF7gia353nUajWKomCz2RAEAXEc4zgO6/XaRPF2u2W9XpOmKVJKpJR0u12SJEEpheM4RFFEFEWEYYjNa+266hD2jVLKhKwmrBDC8KPX6xEEAVmWkaYp9Xod13VpNBrU63WKoiDLMjabDY+Pjzw8PJDnOVmW4fs+7969w/f9Z7lvnzudyWRSahPaJUkv8n3fLAzD0FhAW+3Pnz8mOL5+/cp0OuX+/p7JZMLd3R39fp/BYMCHDx/48uULFxcXdDodkiQxgVAthUqpXYvZQ4PRJNXgXdc1OU4IwWg0otFo0Gw2effuHfV6nTAMiePYJOc4jrm/vyeOY2Ppfw2hQRyKDvs0OrPrj1KKZrOJ53mEYcjHjx85Pz/n58+f3N/fc3d3R1mWZFnGarUiSRI2m81OhTgI7BAgPbTF7OuiKMjzHKUUYRhSq9WIoojz83MeHh4YDAZ8//6d2WzGcrmkKAqSJCHLMlOHgyDYoUUVx0FX7hs6arXqsJ/pPFgUBWVZEgQBx8fHeJ63k9tc1yXP850g0x7ZyfzVjV8adllRSqGUIo5jlFJkWcbl5SW3t7dMJhNc1yWKIkajEZ1Oh7OzM4bDIa1WiyAInpWmqr7bazEb4CEuaKtpt6ZpyvX1NbPZjMfHR8qypF6vMxwOefXqFWdnZwaU53mmpFXBvQisCvKQoi2KgvV6bfJaHMcmWADa7TbHx8cMh0N6vR71et0As6N933Cur69LvZFN9H2L9Ak9z8PzPOI45tu3b1xdXZGmKb1e7285sSTRaDTi6OhoJ8VULWYHgfaGOASi+ryq+fVv2pV5nrPdbvF9nzAM6Xa7tNttOp0OURTtSCEdQIc8tFMrDwGyAesTahBxHLNer0mShKIojGBst9v0+30ajYZRuNpK9iGrBz5I/n2u0ycEjMnjOObh4YHZbMZ4POb29hbP8/j8+TMnJyc0m01TY+0GRec+4FkhrwJ+kfzVk0kpSdOUxWLBbDbj6uqKX79+cXd3R61WI8sy4P96Ls9zU8aCIGC73e5Ujmr0H8xj+4DpyVmWmVIzn8+ZTqf8/PmTP3/+kCQJzWaT8XhsqkEcx5RlyenpKcPhcEdV2N6wg84G90yP7XMp/BWN19fXTCYT7u/vmU6n/Pjxg/l8biwzmUyQUuK6LtPp1BC+2WxSq9V29tCSyg4uDXRHWu9z4b5I1NzQNU8LxdVqxdPTE1JKiqJgOp3SaDRMPxAEgZmvlEIIQb/fN++ze4K9wKoCTstrXRu1hg/DkFarRRRFCCHIsoxv376hlCLPc5bLJY1Gg9vbW37//s1oNEJKSZ7nOI7D69evefPmDf1+n06ngxACKaVxrdgHSJ/ATn7a9I1Gg3a7zXq9NtzRzYnv+2RZtuMW/Q7dNBdFYTR/mqZsNhva7fYzr+11pd3N6HshhGlqtdWiKCKOY9MQ66jV6cR1XU5OTkwHn+e54Z3neaRpyna7NZbaC8xuRuxrLa193+fTp087L9lutyRJYsivRWCapsxmM6SURtECTCYTNpsN8DcnPj090Wg0nlWXF8lv9wHazXa9832foijYbrcmEDQfsyyj3W6T57n5X8N13Z1CHwSB4a2U0uQ4vf/BWlnV/JoX9jxdYjSfarUaSimTs4qiMH9bua7L6ekpaZpSFIWZ22q19pYosa9I25trYLo51YfQ0sXO1lrS6C7eVg2O4xgrSSkN13SXVNVm/1laV61VTcoahLaine3tuqnTgxabuoRpAwjbOnZhfUldHJJImjP71unD6PV2zrK5rDPBXo7ZOW2f4jg09nHFXqdBHFLE9p7CfmDnrUOg/tWwHBrVBP6vvvJ/PzbaBcwPJKgAAAAASUVORK5CYII=\" y=\"-51.677241\"/>\r\n   </g>\r\n  </g>\r\n  <g id=\"axes_9\">\r\n   <g clip-path=\"url(#p7403d3216f)\">\r\n    <image height=\"38\" id=\"imagea07f304136\" transform=\"scale(1 -1)translate(0 -38)\" width=\"38\" x=\"284.275862\" xlink:href=\"data:image/png;base64,\r\niVBORw0KGgoAAAANSUhEUgAAACYAAAAmCAYAAACoPemuAAAH2UlEQVR4nI1YWW8TSxM9PUvP5pk4XhKCJbhR8hp+Bj+Nf4V44plHEJFAiVCMHdtjPPt+H/iqaE8m3K+lURwv06dPnTpVNWK/33dN06BpGlRVBU3TIIQAraZp0HUdmqZBlmVomgZt2/Lnuq4DAIQQkFKi6zp0Xcfv0RJCHF3q+5qm8b50GfSlruugvgaAtm2RpinyPEdRFMiyDABgGAZfbdvy7zRNQ9u2fC9N044Aqpur79NhhBC8t6ECodPXdc0M/vr1C0mSIMsyVFXFgEzThG3bME0TmqZB13UQ8wReBdNnbYhFFahBoRJCMANZliGKIqRpivV6jSiKkOc5LMuClJKp930fvu/DsiwGRiAtywIASCmh6zrLQV3EKv1Vv2cQjV3XcViklBiNRjBNE7quIwgC5HkOKSXiOEaWZUiSBHmeIwxDSCnhui5s28Z4PGZQKoCu6zi0Q7rrL4PCR+HUNI1Rl2WJ5XKJMAwRxzGapsF2u0WapiiKAk3TYDqdYjQawfd9zGYz2LbNwCgCxKRpmk9AkCb7ScfA6AuqzqqqwuPjI7bbLYdzvV4jyzIURYEkSXB5eYnxeIw4jqHrOqbTKaSUEELAtm3oug7DMGBZ1hNgREDTNMwci19NVwAsZlWItm3DMAwGnuc5qqrCer3GYrGA4zjIsgxlWbImAcD3fTiOA8/zMJ/Pn7BFIIaWofqSEAJZlsGyLEynU5ycnODly5foug5VVWG32yGOY6zXa9zd3cEwDNze3mKz2WC5XGIymcC2bf6d7/uYTqe4uLiAZVlomoYTSPU6XdefgD4SP4WUaJVSwnEcCCFQ1zV0XYfruqjrGmEYYj6fcwabpgnDMFibUkocDgfO9sfHRwC/LUlKyYw9x9qRwZLO6CSUlXRD13UBAEEQsJbatoWUkq80TeE4DqSUWK1WrEfP82DbNlzXhaZpXFGGqgQAiCRJOsocYqttWwbZdR3qukbbtpxtapo/PDxgv99jv9/jw4cPeHx8RBiG2Gw2+PTpE1vPYrHAu3fvcHNzg/Pzc0RRdESGKv6qqv4wNuQnXdehLEvUdc2saZoGy7Jg2zbatkUQBHyAi4sLrgxJkrAE8jzHbrfjA1IW0r79cAoh/mhMpVOtceQ/6qnatkVVVajrGoZhYDQaQQiBN2/eIAxD/PjxA/v9Ho7joCxLlGWJMAzZlKuqQl/bTzSmfqCegoxWXZS9dV3zhlJKeJ6H0WiEV69eIU1TfP36FV++fEEQBNjtdsiyDGma4nA4IEkSlGX5V30BivifW0NOXdc1F3qqcdRZFEWBPM/RNA0cx4FlWajrGuPxGFJK1HWNKIpgWdZRu9MPqzEERmWqH1YyWbUAk25ub2+xWq2wWq0wn89xcXGB+XwOx3FwdXWFFy9ewLbtwZr5hLHnQA2FmIBRbVPbnK7rsN1usdlsEEURdF3H6ekpdF2H7/u4urrixqAPbGgNMvZfYOlvWZYMTAiBNE05/dM0xdnZGYQQcBwHpmlyvaTw99k6KuJDQPrWQb5WVRXatmX37roO79+/x3K5RFVVuL6+5iy9vr6G53kYj8fwfR9BEMD3/aOkIubULpgO/gTY0AnUEBIwXdfZRoqiQJqm2Gw2KMsSbdvCMAxomoYgCDCbzbhGUjNIJU7t1f6TsSGgar/eti3bRZ7nSNMUcRxDCMGstG3LncVoNGKgqtMPSWQwK4e8S22LyBayLMPhcECaplgul1gul0iSBG/fvsXr169hmiY2mw0A4OTkhDWWJAmHTe3NVED0+tlQPjeCVVWFPM8RxzEeHh7w/ft33N7eIooihGGI8XgM13V5djAMA0IIzGYzPpimacxgP/tpvyNgqgipu6T/y7LE3d0dDocD4jhGGIb4/Pkz7u/vcTgc0LYtwjCE7/swDAOr1QppmuLy8hKe56HrOpimyZEhwGqp03WdE+0IWJ9OtQ2q6xqbzQa73Y7Z+fbtG3a7HYqigG3bSNMUYRii6zrc39+jKArM5/OjIZmET+WsPykx8P8HFDV7FKKu6xDHMc+W1BI5joM8z5HnOTePxDzNCDTISCmxWCxg2zazpS4G1vcRQl6WJYQQXAPLskRRFMxSEAQAgKIo8PHjR7aO7XYLKSXCMMRyucQ///yDJEmw3+8RxzFmsxnyPMf5+Tkmkwk8z+MWq67rYfGrA2hd18wiuTy1Qqenp1ygq6pifdEAQ4MvmTF1sMDvbCVd077P2sUQOPIeNcVHoxHquoZlWZhMJmyqpLMoihAEAdq2xWKxwPn5OVzXhWmaME0Tnufh7OyMxa5G6Uko+xojkZKhGoaBm5ubJ21KmqbMZJZl3PrsdjtUVQXLslh/6/WaQxXHMX7+/ImyLDGZTPiBzaDGVNSUAGrvbxgGD7A06UgpuctwXZeFrmnaETApJZbLJT9eMAwDURRhPB7zcE0R4cdQKijVW1QDJJbI26igqwdQW3EKN4VP0zTWFT1SGI1GGI/Hw61WlmUd+UyfMQA8iAz16BRq+pyEr26kujm11aRH0rCmafA8j/Vc1/Vwa90vE2rRHXo6REt9pKW6OTHvui4P0EEQQAjBMjBNkx0AUJ5d/O2RUB9wH+DQgdTF9e9/D/PUfdS9KeTsY+rp1Bv1X6sA+iwCfzzpOZD9+/bZpc/btv09vg3Nk0OA+j1UHxj9/m9M9sGo91Z7tX8BZnQsXv/DjYYAAAAASUVORK5CYII=\" y=\"-51.677241\"/>\r\n   </g>\r\n  </g>\r\n  <g id=\"axes_10\">\r\n   <g clip-path=\"url(#p435de02518)\">\r\n    <image height=\"38\" id=\"image67f0360d04\" transform=\"scale(1 -1)translate(0 -38)\" width=\"38\" x=\"7.2\" xlink:href=\"data:image/png;base64,\r\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\" y=\"-96.664828\"/>\r\n   </g>\r\n  </g>\r\n  <g id=\"axes_11\">\r\n   <g clip-path=\"url(#pbf65dd64fd)\">\r\n    <image height=\"38\" id=\"imagef004c8af1e\" transform=\"scale(1 -1)translate(0 -38)\" width=\"38\" x=\"76.468966\" xlink:href=\"data:image/png;base64,\r\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\" y=\"-96.664828\"/>\r\n   </g>\r\n  </g>\r\n  <g id=\"axes_12\">\r\n   <g clip-path=\"url(#p91010e7022)\">\r\n    <image height=\"38\" id=\"imagedfd84d0c1a\" transform=\"scale(1 -1)translate(0 -38)\" width=\"38\" x=\"145.737931\" xlink:href=\"data:image/png;base64,\r\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\" y=\"-96.664828\"/>\r\n   </g>\r\n  </g>\r\n  <g id=\"axes_13\">\r\n   <g clip-path=\"url(#p525e31448e)\">\r\n    <image height=\"38\" id=\"image6c4ccdf943\" transform=\"scale(1 -1)translate(0 -38)\" width=\"38\" x=\"215.006897\" xlink:href=\"data:image/png;base64,\r\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\" y=\"-96.664828\"/>\r\n   </g>\r\n  </g>\r\n  <g id=\"axes_14\">\r\n   <g clip-path=\"url(#p8078338bfa)\">\r\n    <image height=\"38\" id=\"image98874baf1a\" transform=\"scale(1 -1)translate(0 -38)\" width=\"38\" x=\"284.275862\" xlink:href=\"data:image/png;base64,\r\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\" y=\"-96.664828\"/>\r\n   </g>\r\n  </g>\r\n  <g id=\"axes_15\">\r\n   <g clip-path=\"url(#pce6268c2fa)\">\r\n    <image height=\"38\" id=\"imagec40a3bb5f3\" transform=\"scale(1 -1)translate(0 -38)\" width=\"38\" x=\"7.2\" xlink:href=\"data:image/png;base64,\r\niVBORw0KGgoAAAANSUhEUgAAACYAAAAmCAYAAACoPemuAAAD/0lEQVR4nO2YTU8aWxjHf2dmBIHRAFWEkoDvsY1G2Rg3bdJd48aNi34DP4Bx7cqNn8Ev4A4X6saNiXGjiQltirENKL6lQCakyCAzyNzFTcn1ipXxitdF/8kkkznnP/ObZ57n5JkjLMuyeIGS/m+A+/RiwZRW3tyyrPohhECSmo9DyyJmWRbxeJzZ2VlGR0dZWFhA07SXAZZIJEin0+Tzea6urrBTZy3NsUwmw8+fPx/lbXnyS5KEEMK+rwUsd+RyuYjFYjgcjqY9zwImSRIul8tW5FoOVqvVAHA4HLbAWrqOwd/Ramtro7e3F0Vp/nHP8ilfbPJfX1+TTqepVqtNexrG1jRNTNPk5uamoUmSJBRFQZZlZFm+NyIOhwNJktB1nb29PT5+/IjH43k82Pb2Njs7OyQSiYam3t5eYrEYw8PDvHnzhs7OzjtzhBBMTU2RTCbJZDKsr68zPz+P3+9vCkz8sx+zLIuVlRU2Nzf58uUL1WqVrq4uZFmuG87OzpBlmY6ODlRVxefz4fV66enpYWhoiHA4TCgUor+/H13XWVpaYnV1lVqtxufPn4lGo02B3YqYZVkkk0mOjo748eMHk5OTvH37FqfTWZ9zdHREuVymWq2iaRoXFxdomkahUCCdTtPT00MwGKSvr49oNEqpVEIIQblcplgsYhhGUwvtnU/5K7devXrF3Nwc09PTuN3u+vj379/RdR3DMNjd3SWXy6HrOpVKhXg8jmmaALS1tTE2NkY6ncY0TWq1GpeXlwSDQbq6uuyD1QcUBZ/Pd6eHGhgYqHcJ4+Pj9XPLslheXkbXdbLZLPv7+6ytrXFzc1MHSyaThEKh/wZmGAapVIrJyUna29vr14UQ9Sps1Pg5nU5cLheqqjI4OEg8Hmdra4uDgwM2Njbw+/0MDAzgcrnsgbndbhRFoVKpkMlkbK09ALIs4/F48Hg8RCIRCoUCxWKRr1+/kkgkOD09pVKpPAh265WFEITDYVRVxTAMjo+PbYP9W+/evePTp0/4fD5yuRz5fJ5yufyg7w7Y+/fv6evrs9Wi/E6qqhIIBIhEIsiyzNXVFblczh4YQCQSIRAIoKrqk4AJIVAUBY/HgxCCXC7Ht2/f7IP5/X46OzsfzAE7cjqdDA4O4nA40DSNk5MT+2Bwu/KeQqFQiMXFRbxeL4VCgfPz88eBTUxM8OHDhycDUxSFQCDAzMwMgUCAZDJJKpXCMIz7PY0uvn79mtHRUbLZ7JMUwa88C4fD9ao0TfO3v3MNwYLBILVajUgk8mTVKYSgu7sbr9fb1P9lQ7BoNNp0F2BHIyMj7O3tcXh4+OBc8ZzbUKVSCU3TKJVK9bXyviJ7VjA7erHbUH/A7OoPmF39BV2KjwFbYl45AAAAAElFTkSuQmCC\" y=\"-141.652414\"/>\r\n   </g>\r\n  </g>\r\n  <g id=\"axes_16\">\r\n   <g clip-path=\"url(#pbaa24c1a55)\">\r\n    <image height=\"38\" id=\"image58b11f8335\" transform=\"scale(1 -1)translate(0 -38)\" width=\"38\" x=\"76.468966\" xlink:href=\"data:image/png;base64,\r\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\" y=\"-141.652414\"/>\r\n   </g>\r\n  </g>\r\n  <g id=\"axes_17\">\r\n   <g clip-path=\"url(#pe2d2489a4a)\">\r\n    <image height=\"38\" id=\"image30c51d27e6\" transform=\"scale(1 -1)translate(0 -38)\" width=\"38\" x=\"145.737931\" xlink:href=\"data:image/png;base64,\r\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\" y=\"-141.652414\"/>\r\n   </g>\r\n  </g>\r\n  <g id=\"axes_18\">\r\n   <g clip-path=\"url(#pe99d84bec8)\">\r\n    <image height=\"38\" id=\"imageb6829e7bb1\" transform=\"scale(1 -1)translate(0 -38)\" width=\"38\" x=\"215.006897\" xlink:href=\"data:image/png;base64,\r\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\" y=\"-141.652414\"/>\r\n   </g>\r\n  </g>\r\n  <g id=\"axes_19\">\r\n   <g clip-path=\"url(#pae89fb2357)\">\r\n    <image height=\"38\" id=\"imagefa3d503543\" transform=\"scale(1 -1)translate(0 -38)\" width=\"38\" x=\"284.275862\" xlink:href=\"data:image/png;base64,\r\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\" y=\"-141.652414\"/>\r\n   </g>\r\n  </g>\r\n  <g id=\"axes_20\">\r\n   <g clip-path=\"url(#p755a9d3749)\">\r\n    <image height=\"38\" id=\"image6f38ff0726\" transform=\"scale(1 -1)translate(0 -38)\" width=\"38\" x=\"7.2\" xlink:href=\"data:image/png;base64,\r\niVBORw0KGgoAAAANSUhEUgAAACYAAAAmCAYAAACoPemuAAADeklEQVR4nO2XTUsqbRjH//c40vhS+TYhkiBGJL1ACUm0CZcRQULQro8Qrdz0EfoCLfsC0dbACIsIy4WVELUQKsk0xbdZ5OTtdRYPj3QWz3Mc02MHzn898+c31/zv674uRkSEbyih3wD/pW8LJmp9odlsAgCICIwxCEJvvq1t12aziXw+j62tLSwuLmJ0dBQLCwtIJBI9AWu7Yo1GA9lsFre3t7i/v4eiKDAYDPj4+OgJmKaKlUol5HI5VKvVnsB81rcNf9tggiBgaGgIVqsVZrMZnHPk83ns7+/j8PAQqqr2B0yn08HlcmF8fBwOhwNEBFVVcXFxgcvLSyiK0j8wp9MJv98Pj8cD4J8DkUqlkEqlUCwW0c1LRHPGtre3EQqFwBgDYww6nQ6lUgnJZLLV4/oCBgCSJGF4eLjVXJ+fn3FwcIBarQbOef/AvF4vVlZWYDabodPpUKlUcHNzg2g0ilwu1xUwUAcqFot0fn5OPp+PBgcHSRRFGhgYoOXlZTo9PSXOeSe2P6mjitlsNszMzCAYDMJisQAAOOeIRqO4vr7Gy8vLlwvWcYOVJAkbGxuQZRmcc3DO0Wg0cHZ2hpOTk/6BiaKIyclJBAIBTExMQK/XAwCenp6QTqdRr9f7A8YYgyzL2NzcxPr6eusglMtlZLNZ5PP5r7WPr4aUc053d3e0u7tLkiSRKIrkdDopFApRJpMhVVV/X/g/SxAEyLKM+fl5eDweSJKEcrmMRCKBSCSCx8fHzny/CgYAJpMJXq8XS0tLcDgcqNfreH19RSwWw8PDA2q1mnbTr/7KzyoUCrS2tkaCIJAoimS1WikcDlM8HtfspXnm/z/ZbDYEg0EoioLj42NUKhVEIhGoqopAIKDJq6uDImMMU1NT8Pv9rbs0k8kgmUzi6upKUwvp+gQ7NjaGubk5+Hw+6PV61Go1pNNpxGKx1iVP7YxH3czYvyoWi3R0dEQej4cMBgOZTCaanp6meDxOhUKB3t/ff+nREzDOOSmKQjs7OzQ7O0t6vZ4kSSK3203hcJiSyeQvPXqyjAiCAKPRCLfbDYvFAsYYGo0GMpkMCoVCW/tBT7ckl8uFkZERWCyWnzZ4aiNjXW0Xn8UYw+rqKkRRhN1ux97enqadgJGWpztQtVpFpVLB29sbAMBut0OWZRiNxv6Cdao/fxP/3foLplXfFuwHYp3S88hjLk0AAAAASUVORK5CYII=\" y=\"-186.64\"/>\r\n   </g>\r\n  </g>\r\n  <g id=\"axes_21\">\r\n   <g clip-path=\"url(#pb3f62f8c00)\">\r\n    <image height=\"38\" id=\"image300b6462a0\" transform=\"scale(1 -1)translate(0 -38)\" width=\"38\" x=\"76.468966\" xlink:href=\"data:image/png;base64,\r\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\" y=\"-186.64\"/>\r\n   </g>\r\n  </g>\r\n  <g id=\"axes_22\">\r\n   <g clip-path=\"url(#p5dc9b9b3db)\">\r\n    <image height=\"38\" id=\"imageda8d8a247f\" transform=\"scale(1 -1)translate(0 -38)\" width=\"38\" x=\"145.737931\" xlink:href=\"data:image/png;base64,\r\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\" y=\"-186.64\"/>\r\n   </g>\r\n  </g>\r\n  <g id=\"axes_23\">\r\n   <g clip-path=\"url(#pda6d312be6)\">\r\n    <image height=\"38\" id=\"imageb05e7d8027\" transform=\"scale(1 -1)translate(0 -38)\" width=\"38\" x=\"215.006897\" xlink:href=\"data:image/png;base64,\r\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\" y=\"-186.64\"/>\r\n   </g>\r\n  </g>\r\n  <g id=\"axes_24\">\r\n   <g clip-path=\"url(#p2746b944e2)\">\r\n    <image height=\"38\" id=\"image73de99ec29\" transform=\"scale(1 -1)translate(0 -38)\" width=\"38\" x=\"284.275862\" xlink:href=\"data:image/png;base64,\r\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\" y=\"-186.64\"/>\r\n   </g>\r\n  </g>\r\n </g>\r\n <defs>\r\n  <clipPath id=\"p2100510186\">\r\n   <rect height=\"37.489655\" width=\"37.489655\" x=\"76.468966\" y=\"7.2\"/>\r\n  </clipPath>\r\n  <clipPath id=\"pcbf637f1ed\">\r\n   <rect height=\"37.489655\" width=\"37.489655\" x=\"145.737931\" y=\"7.2\"/>\r\n  </clipPath>\r\n  <clipPath id=\"p4fcbfbfc38\">\r\n   <rect height=\"37.489655\" width=\"37.489655\" x=\"215.006897\" y=\"7.2\"/>\r\n  </clipPath>\r\n  <clipPath id=\"pde800f3768\">\r\n   <rect height=\"37.489655\" width=\"37.489655\" x=\"284.275862\" y=\"7.2\"/>\r\n  </clipPath>\r\n  <clipPath id=\"p44fd70ae6f\">\r\n   <rect height=\"37.489655\" width=\"37.489655\" x=\"7.2\" y=\"52.187586\"/>\r\n  </clipPath>\r\n  <clipPath id=\"p11f41c28bb\">\r\n   <rect height=\"37.489655\" width=\"37.489655\" x=\"76.468966\" y=\"52.187586\"/>\r\n  </clipPath>\r\n  <clipPath id=\"pf6d4390233\">\r\n   <rect height=\"37.489655\" width=\"37.489655\" x=\"145.737931\" y=\"52.187586\"/>\r\n  </clipPath>\r\n  <clipPath id=\"pc278c2abcc\">\r\n   <rect height=\"37.489655\" width=\"37.489655\" x=\"215.006897\" y=\"52.187586\"/>\r\n  </clipPath>\r\n  <clipPath id=\"p7403d3216f\">\r\n   <rect height=\"37.489655\" width=\"37.489655\" x=\"284.275862\" y=\"52.187586\"/>\r\n  </clipPath>\r\n  <clipPath id=\"p435de02518\">\r\n   <rect height=\"37.489655\" width=\"37.489655\" x=\"7.2\" y=\"97.175172\"/>\r\n  </clipPath>\r\n  <clipPath id=\"pbf65dd64fd\">\r\n   <rect height=\"37.489655\" width=\"37.489655\" x=\"76.468966\" y=\"97.175172\"/>\r\n  </clipPath>\r\n  <clipPath id=\"p91010e7022\">\r\n   <rect height=\"37.489655\" width=\"37.489655\" x=\"145.737931\" y=\"97.175172\"/>\r\n  </clipPath>\r\n  <clipPath id=\"p525e31448e\">\r\n   <rect height=\"37.489655\" width=\"37.489655\" x=\"215.006897\" y=\"97.175172\"/>\r\n  </clipPath>\r\n  <clipPath id=\"p8078338bfa\">\r\n   <rect height=\"37.489655\" width=\"37.489655\" x=\"284.275862\" y=\"97.175172\"/>\r\n  </clipPath>\r\n  <clipPath id=\"pce6268c2fa\">\r\n   <rect height=\"37.489655\" width=\"37.489655\" x=\"7.2\" y=\"142.162759\"/>\r\n  </clipPath>\r\n  <clipPath id=\"pbaa24c1a55\">\r\n   <rect height=\"37.489655\" width=\"37.489655\" x=\"76.468966\" y=\"142.162759\"/>\r\n  </clipPath>\r\n  <clipPath id=\"pe2d2489a4a\">\r\n   <rect height=\"37.489655\" width=\"37.489655\" x=\"145.737931\" y=\"142.162759\"/>\r\n  </clipPath>\r\n  <clipPath id=\"pe99d84bec8\">\r\n   <rect height=\"37.489655\" width=\"37.489655\" x=\"215.006897\" y=\"142.162759\"/>\r\n  </clipPath>\r\n  <clipPath id=\"pae89fb2357\">\r\n   <rect height=\"37.489655\" width=\"37.489655\" x=\"284.275862\" y=\"142.162759\"/>\r\n  </clipPath>\r\n  <clipPath id=\"p755a9d3749\">\r\n   <rect height=\"37.489655\" width=\"37.489655\" x=\"7.2\" y=\"187.150345\"/>\r\n  </clipPath>\r\n  <clipPath id=\"pb3f62f8c00\">\r\n   <rect height=\"37.489655\" width=\"37.489655\" x=\"76.468966\" y=\"187.150345\"/>\r\n  </clipPath>\r\n  <clipPath id=\"p5dc9b9b3db\">\r\n   <rect height=\"37.489655\" width=\"37.489655\" x=\"145.737931\" y=\"187.150345\"/>\r\n  </clipPath>\r\n  <clipPath id=\"pda6d312be6\">\r\n   <rect height=\"37.489655\" width=\"37.489655\" x=\"215.006897\" y=\"187.150345\"/>\r\n  </clipPath>\r\n  <clipPath id=\"p2746b944e2\">\r\n   <rect height=\"37.489655\" width=\"37.489655\" x=\"284.275862\" y=\"187.150345\"/>\r\n  </clipPath>\r\n </defs>\r\n</svg>\r\n",
            "image/png": "[encoded data removed]"
          },
          "metadata": {
            "needs_background": "light"
          }
        }
      ]
    },
    {
      "cell_type": "markdown",
      "metadata": {
        "id": "BOcIcfWXcTnE"
      },
      "source": [
        "Below we generate random styles and see the output it generates. We notice that it is quite likely the images are distorted in this case, compared to when using the style of an already existing image it seems it would usually have a good quality."
      ]
    },
    {
      "cell_type": "code",
      "metadata": {
        "id": "Rxva38XUbRI_",
        "colab": {
          "base_uri": "https://localhost:8080/",
          "height": 68
        },
        "outputId": "a2851a2a-b8a7-40aa-b1d6-4cac7ea584b2"
      },
      "source": [
        "for i in range(5):\n",
        "\tpyplot.subplot(5,5,1+i)\n",
        "\tpyplot.axis('off')\n",
        "\tpyplot.imshow(np.reshape(solv.nets['generator'](inputs['x_src'][0:1],tf.random.normal((1,16))).numpy(), [28,28]), cmap='gray_r')"
      ],
      "execution_count": 40,
      "outputs": [
        {
          "output_type": "display_data",
          "data": {
            "text/plain": "<Figure size 432x288 with 5 Axes>",
            "image/svg+xml": "<?xml version=\"1.0\" encoding=\"utf-8\" standalone=\"no\"?>\r\n<!DOCTYPE svg PUBLIC \"-//W3C//DTD SVG 1.1//EN\"\r\n  \"http://www.w3.org/Graphics/SVG/1.1/DTD/svg11.dtd\">\r\n<!-- Created with matplotlib (https://matplotlib.org/) -->\r\n<svg height=\"51.889655pt\" version=\"1.1\" viewBox=\"0 0 328.965517 51.889655\" width=\"328.965517pt\" xmlns=\"http://www.w3.org/2000/svg\" xmlns:xlink=\"http://www.w3.org/1999/xlink\">\r\n <metadata>\r\n  <rdf:RDF xmlns:cc=\"http://creativecommons.org/ns#\" xmlns:dc=\"http://purl.org/dc/elements/1.1/\" xmlns:rdf=\"http://www.w3.org/1999/02/22-rdf-syntax-ns#\">\r\n   <cc:Work>\r\n    <dc:type rdf:resource=\"http://purl.org/dc/dcmitype/StillImage\"/>\r\n    <dc:date>2021-01-22T22:12:51.588404</dc:date>\r\n    <dc:format>image/svg+xml</dc:format>\r\n    <dc:creator>\r\n     <cc:Agent>\r\n      <dc:title>Matplotlib v3.3.2, https://matplotlib.org/</dc:title>\r\n     </cc:Agent>\r\n    </dc:creator>\r\n   </cc:Work>\r\n  </rdf:RDF>\r\n </metadata>\r\n <defs>\r\n  <style type=\"text/css\">*{stroke-linecap:butt;stroke-linejoin:round;}</style>\r\n </defs>\r\n <g id=\"figure_1\">\r\n  <g id=\"patch_1\">\r\n   <path d=\"M 0 51.889655 \r\nL 328.965517 51.889655 \r\nL 328.965517 0 \r\nL 0 0 \r\nz\r\n\" style=\"fill:none;\"/>\r\n  </g>\r\n  <g id=\"axes_1\">\r\n   <g clip-path=\"url(#p0d9f633c36)\">\r\n    <image height=\"38\" id=\"image4f7bf24ff6\" transform=\"scale(1 -1)translate(0 -38)\" width=\"38\" x=\"7.2\" xlink:href=\"data:image/png;base64,\r\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\" y=\"-6.689655\"/>\r\n   </g>\r\n  </g>\r\n  <g id=\"axes_2\">\r\n   <g clip-path=\"url(#p4954278c4a)\">\r\n    <image height=\"38\" id=\"imagecb20682e26\" transform=\"scale(1 -1)translate(0 -38)\" width=\"38\" x=\"76.468966\" xlink:href=\"data:image/png;base64,\r\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\" y=\"-6.689655\"/>\r\n   </g>\r\n  </g>\r\n  <g id=\"axes_3\">\r\n   <g clip-path=\"url(#pb0fb10d59e)\">\r\n    <image height=\"38\" id=\"imagebbf2298e3a\" transform=\"scale(1 -1)translate(0 -38)\" width=\"38\" x=\"145.737931\" xlink:href=\"data:image/png;base64,\r\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\" y=\"-6.689655\"/>\r\n   </g>\r\n  </g>\r\n  <g id=\"axes_4\">\r\n   <g clip-path=\"url(#p1d94b83772)\">\r\n    <image height=\"38\" id=\"image384e6437b1\" transform=\"scale(1 -1)translate(0 -38)\" width=\"38\" x=\"215.006897\" xlink:href=\"data:image/png;base64,\r\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\" y=\"-6.689655\"/>\r\n   </g>\r\n  </g>\r\n  <g id=\"axes_5\">\r\n   <g clip-path=\"url(#p700789f2cb)\">\r\n    <image height=\"38\" id=\"image078b9587aa\" transform=\"scale(1 -1)translate(0 -38)\" width=\"38\" x=\"284.275862\" xlink:href=\"data:image/png;base64,\r\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\" y=\"-6.689655\"/>\r\n   </g>\r\n  </g>\r\n </g>\r\n <defs>\r\n  <clipPath id=\"p0d9f633c36\">\r\n   <rect height=\"37.489655\" width=\"37.489655\" x=\"7.2\" y=\"7.2\"/>\r\n  </clipPath>\r\n  <clipPath id=\"p4954278c4a\">\r\n   <rect height=\"37.489655\" width=\"37.489655\" x=\"76.468966\" y=\"7.2\"/>\r\n  </clipPath>\r\n  <clipPath id=\"pb0fb10d59e\">\r\n   <rect height=\"37.489655\" width=\"37.489655\" x=\"145.737931\" y=\"7.2\"/>\r\n  </clipPath>\r\n  <clipPath id=\"p1d94b83772\">\r\n   <rect height=\"37.489655\" width=\"37.489655\" x=\"215.006897\" y=\"7.2\"/>\r\n  </clipPath>\r\n  <clipPath id=\"p700789f2cb\">\r\n   <rect height=\"37.489655\" width=\"37.489655\" x=\"284.275862\" y=\"7.2\"/>\r\n  </clipPath>\r\n </defs>\r\n</svg>\r\n",
            "image/png": "[encoded data removed]"
          },
          "metadata": {
            "needs_background": "light"
          }
        }
      ]
    },
    {
      "cell_type": "markdown",
      "metadata": {
        "id": "CsgqgBHVHsSj"
      },
      "source": [
        "Here we can see the process of how the image transforms into the target. In these small images there is not too much that is changing but we can still appreciate the process."
      ]
    },
    {
      "cell_type": "code",
      "metadata": {
        "id": "24EUFLjWFfOc",
        "colab": {
          "base_uri": "https://localhost:8080/",
          "height": 68
        },
        "outputId": "ef89ee1e-4c6d-4395-bc49-b1311708f647"
      },
      "source": [
        "s1=solv.nets['style_encoder'](inputs['x_src'][0:1],inputs['y_src'][0:1])\n",
        "s2=solv.nets['style_encoder'](inputs['x_ref'][0:1],inputs['y_ref'][0:1])\n",
        "for i in range(5):\n",
        "  pyplot.subplot(5,5,1+i)\n",
        "  pyplot.axis('off')\n",
        "  s=(1-i/5)*s1+i/5*s2\n",
        "  pyplot.imshow(np.reshape(solv.nets['generator'](inputs['x_src'][0:1],s).numpy(), [28,28]), cmap='gray_r')"
      ],
      "execution_count": 41,
      "outputs": [
        {
          "output_type": "display_data",
          "data": {
            "text/plain": "<Figure size 432x288 with 5 Axes>",
            "image/svg+xml": "<?xml version=\"1.0\" encoding=\"utf-8\" standalone=\"no\"?>\r\n<!DOCTYPE svg PUBLIC \"-//W3C//DTD SVG 1.1//EN\"\r\n  \"http://www.w3.org/Graphics/SVG/1.1/DTD/svg11.dtd\">\r\n<!-- Created with matplotlib (https://matplotlib.org/) -->\r\n<svg height=\"51.889655pt\" version=\"1.1\" viewBox=\"0 0 328.965517 51.889655\" width=\"328.965517pt\" xmlns=\"http://www.w3.org/2000/svg\" xmlns:xlink=\"http://www.w3.org/1999/xlink\">\r\n <metadata>\r\n  <rdf:RDF xmlns:cc=\"http://creativecommons.org/ns#\" xmlns:dc=\"http://purl.org/dc/elements/1.1/\" xmlns:rdf=\"http://www.w3.org/1999/02/22-rdf-syntax-ns#\">\r\n   <cc:Work>\r\n    <dc:type rdf:resource=\"http://purl.org/dc/dcmitype/StillImage\"/>\r\n    <dc:date>2021-01-22T22:12:51.993405</dc:date>\r\n    <dc:format>image/svg+xml</dc:format>\r\n    <dc:creator>\r\n     <cc:Agent>\r\n      <dc:title>Matplotlib v3.3.2, https://matplotlib.org/</dc:title>\r\n     </cc:Agent>\r\n    </dc:creator>\r\n   </cc:Work>\r\n  </rdf:RDF>\r\n </metadata>\r\n <defs>\r\n  <style type=\"text/css\">*{stroke-linecap:butt;stroke-linejoin:round;}</style>\r\n </defs>\r\n <g id=\"figure_1\">\r\n  <g id=\"patch_1\">\r\n   <path d=\"M 0 51.889655 \r\nL 328.965517 51.889655 \r\nL 328.965517 0 \r\nL 0 0 \r\nz\r\n\" style=\"fill:none;\"/>\r\n  </g>\r\n  <g id=\"axes_1\">\r\n   <g clip-path=\"url(#p970fd5a0fd)\">\r\n    <image height=\"38\" id=\"imaged45a7d2d70\" transform=\"scale(1 -1)translate(0 -38)\" width=\"38\" x=\"7.2\" xlink:href=\"data:image/png;base64,\r\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\" y=\"-6.689655\"/>\r\n   </g>\r\n  </g>\r\n  <g id=\"axes_2\">\r\n   <g clip-path=\"url(#p0318064fe4)\">\r\n    <image height=\"38\" id=\"imagea5d14ea3b1\" transform=\"scale(1 -1)translate(0 -38)\" width=\"38\" x=\"76.468966\" xlink:href=\"data:image/png;base64,\r\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\" y=\"-6.689655\"/>\r\n   </g>\r\n  </g>\r\n  <g id=\"axes_3\">\r\n   <g clip-path=\"url(#p920c5ba8ba)\">\r\n    <image height=\"38\" id=\"image708d76e202\" transform=\"scale(1 -1)translate(0 -38)\" width=\"38\" x=\"145.737931\" xlink:href=\"data:image/png;base64,\r\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\" y=\"-6.689655\"/>\r\n   </g>\r\n  </g>\r\n  <g id=\"axes_4\">\r\n   <g clip-path=\"url(#p1f7f70b525)\">\r\n    <image height=\"38\" id=\"imageea3b91496b\" transform=\"scale(1 -1)translate(0 -38)\" width=\"38\" x=\"215.006897\" xlink:href=\"data:image/png;base64,\r\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\" y=\"-6.689655\"/>\r\n   </g>\r\n  </g>\r\n  <g id=\"axes_5\">\r\n   <g clip-path=\"url(#pb432a5243a)\">\r\n    <image height=\"38\" id=\"image35e85d0e12\" transform=\"scale(1 -1)translate(0 -38)\" width=\"38\" x=\"284.275862\" xlink:href=\"data:image/png;base64,\r\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\" y=\"-6.689655\"/>\r\n   </g>\r\n  </g>\r\n </g>\r\n <defs>\r\n  <clipPath id=\"p970fd5a0fd\">\r\n   <rect height=\"37.489655\" width=\"37.489655\" x=\"7.2\" y=\"7.2\"/>\r\n  </clipPath>\r\n  <clipPath id=\"p0318064fe4\">\r\n   <rect height=\"37.489655\" width=\"37.489655\" x=\"76.468966\" y=\"7.2\"/>\r\n  </clipPath>\r\n  <clipPath id=\"p920c5ba8ba\">\r\n   <rect height=\"37.489655\" width=\"37.489655\" x=\"145.737931\" y=\"7.2\"/>\r\n  </clipPath>\r\n  <clipPath id=\"p1f7f70b525\">\r\n   <rect height=\"37.489655\" width=\"37.489655\" x=\"215.006897\" y=\"7.2\"/>\r\n  </clipPath>\r\n  <clipPath id=\"pb432a5243a\">\r\n   <rect height=\"37.489655\" width=\"37.489655\" x=\"284.275862\" y=\"7.2\"/>\r\n  </clipPath>\r\n </defs>\r\n</svg>\r\n",
            "image/png": "[encoded data removed]"
          },
          "metadata": {
            "needs_background": "light"
          }
        }
      ]
    }
  ]
}