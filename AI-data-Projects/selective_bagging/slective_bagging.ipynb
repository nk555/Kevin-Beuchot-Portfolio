{
 "metadata": {
  "language_info": {
   "codemirror_mode": {
    "name": "ipython",
    "version": 3
   },
   "file_extension": ".py",
   "mimetype": "text/x-python",
   "name": "python",
   "nbconvert_exporter": "python",
   "pygments_lexer": "ipython3",
   "version": "3.8.3"
  },
  "orig_nbformat": 4,
  "kernelspec": {
   "name": "python3",
   "display_name": "Python 3.8.3 64-bit ('base': conda)"
  },
  "interpreter": {
   "hash": "b5d29d82667b44dc97c8e7b4999413674f0dbc0d203e12b757e4ea0891e7d724"
  }
 },
 "nbformat": 4,
 "nbformat_minor": 2,
 "cells": [
  {
   "source": [
    "# Selective Bagging\n",
    "In this notebook we will test an instance of \"bagging\" where we train multiple models to predict a task. But where instead of taking the average results as a decision, we train another model to choose the weights for each model for the given sample. We will see if this kind of selective bagging compared to a regular bagging method performs better."
   ],
   "cell_type": "markdown",
   "metadata": {}
  },
  {
   "source": [
    "## Define the two models to compare\n",
    "\n",
    "We will compare a random forest classifier with a sklearn pipeline that takes "
   ],
   "cell_type": "markdown",
   "metadata": {}
  },
  {
   "cell_type": "code",
   "execution_count": 45,
   "metadata": {},
   "outputs": [],
   "source": [
    "from sklearn.tree import DecisionTreeClassifier\n",
    "from sklearn.ensemble import RandomForestClassifier\n",
    "from sklearn.base import BaseEstimator, TransformerMixin\n",
    "from sklearn.preprocessing import StandardScaler\n",
    "from sklearn.pipeline import Pipeline\n",
    "from sklearn.datasets import load_iris\n",
    "import numpy as np\n",
    "\n",
    "class SelectionTree(BaseEstimator, TransformerMixin):\n",
    "    def __init__(self,num_trees=100, max_depth=None):\n",
    "        self.trees=[]\n",
    "        self.n=num_trees\n",
    "        for i in range(num_trees):\n",
    "            self.trees.append(DecisionTreeClassifier(max_depth=max_depth, random_state=i*10))\n",
    "        self.sel_tree = DecisionTreeClassifier(max_depth=max_depth)\n",
    "    def fit(self, X, y):\n",
    "        i=0\n",
    "        X_train, X_val, y_train, y_val = train_test_split(X, y, random_state=0)\n",
    "        yt=np.zeros(np.shape(y_val))\n",
    "        for t in self.trees:\n",
    "            t.fit(X_train[i*len(y_train)//self.n:(i+1)*len(y_train)//self.n],y_train[i*len(y_train)//self.n:(i+1)*len(y_train)//self.n])\n",
    "            xt = t.predict(X_val)==y_val\n",
    "            yt = yt*(1-xt)+xt*i\n",
    "            print(yt)\n",
    "            i+=1\n",
    "            self.sel_tree.fit(np.concatenate([X_val,X_val[0:self.n-1]]), np.concatenate([yt, np.array([i for i in range(self.n-1)])]))\n",
    "        return self\n",
    "    def new_transform(self, x):\n",
    "        tree_mat=np.array([tree.predict_proba(x) for tree in self.trees])\n",
    "        result=self.sel_tree.predict_proba(X_test).T*np.reshape(tree_mat, (np.shape(tree_mat)[2],np.shape(tree_mat)[0],np.shape(tree_mat)[1]))\n",
    "        result=np.sum(np.reshape(result, (np.shape(tree_mat)[0],np.shape(tree_mat)[1],np.shape(tree_mat)[2]) ), axis=0)\n",
    "        return np.argmax(result, axis=1)\n",
    "    def transform(self, x):\n",
    "        return [self.trees[i].predict(x)[n] for i, n in zip(np.argmax(self.sel_tree.predict_proba(x), axis=1), range(len(x)))]\n",
    "    def proba(self, x):\n",
    "        return self.sel_tree.predict_proba(x)\n",
    "\n",
    "forest=RandomForestClassifier(n_estimators=10, max_depth=3)"
   ]
  },
  {
   "cell_type": "code",
   "execution_count": 46,
   "metadata": {},
   "outputs": [],
   "source": [
    "from sklearn.datasets import make_classification\n",
    "from sklearn.model_selection import train_test_split\n",
    "X, y = make_classification(n_samples=10000, n_features=40,\n",
    "                           n_informative=30, n_redundant=0)\n",
    "X_train, X_test, y_train, y_test = train_test_split(X, y, random_state=0)"
   ]
  },
  {
   "cell_type": "code",
   "execution_count": 47,
   "metadata": {},
   "outputs": [
    {
     "output_type": "execute_result",
     "data": {
      "text/plain": [
       "(10000, 40)"
      ]
     },
     "metadata": {},
     "execution_count": 47
    }
   ],
   "source": [
    "np.shape(X)"
   ]
  },
  {
   "cell_type": "code",
   "execution_count": 48,
   "metadata": {},
   "outputs": [
    {
     "output_type": "execute_result",
     "data": {
      "text/plain": [
       "RandomForestClassifier(max_depth=3, n_estimators=10)"
      ]
     },
     "metadata": {},
     "execution_count": 48
    }
   ],
   "source": [
    "forest.fit(X_train,y_train)"
   ]
  },
  {
   "cell_type": "code",
   "execution_count": 49,
   "metadata": {},
   "outputs": [],
   "source": [
    "sel_bag = SelectionTree(num_trees=10, max_depth=3)"
   ]
  },
  {
   "cell_type": "code",
   "execution_count": 50,
   "metadata": {
    "tags": []
   },
   "outputs": [
    {
     "output_type": "stream",
     "name": "stdout",
     "text": [
      "[0. 0. 0. ... 0. 0. 0.]\n",
      "[1. 1. 1. ... 0. 0. 0.]\n",
      "[2. 1. 2. ... 0. 0. 0.]\n",
      "[3. 3. 3. ... 0. 3. 0.]\n",
      "[3. 4. 4. ... 0. 3. 0.]\n",
      "[5. 5. 5. ... 0. 3. 0.]\n",
      "[6. 5. 5. ... 0. 3. 0.]\n",
      "[7. 5. 5. ... 7. 7. 0.]\n",
      "[8. 8. 8. ... 8. 7. 0.]\n",
      "[9. 8. 9. ... 8. 7. 0.]\n",
      "C:\\Users\\xnive\\anaconda3\\lib\\site-packages\\sklearn\\base.py:209: FutureWarning: From version 0.24, get_params will raise an AttributeError if a parameter cannot be retrieved as an instance attribute. Previously it would return None.\n",
      "  warnings.warn('From version 0.24, get_params will raise an '\n"
     ]
    },
    {
     "output_type": "execute_result",
     "data": {
      "text/plain": [
       "SelectionTree(num_trees=None)"
      ]
     },
     "metadata": {},
     "execution_count": 50
    }
   ],
   "source": [
    "sel_bag.fit(X_train, y_train)"
   ]
  },
  {
   "cell_type": "code",
   "execution_count": 51,
   "metadata": {},
   "outputs": [
    {
     "output_type": "stream",
     "name": "stdout",
     "text": [
      "2003\n"
     ]
    }
   ],
   "source": [
    "print((forest.predict(X_test)==y_test).sum())"
   ]
  },
  {
   "cell_type": "code",
   "execution_count": 52,
   "metadata": {},
   "outputs": [
    {
     "output_type": "stream",
     "name": "stdout",
     "text": [
      "1723\n"
     ]
    }
   ],
   "source": [
    "print((sel_bag.transform(X_test)==y_test).sum())"
   ]
  },
  {
   "cell_type": "code",
   "execution_count": 53,
   "metadata": {},
   "outputs": [
    {
     "output_type": "stream",
     "name": "stdout",
     "text": [
      "1813\n"
     ]
    }
   ],
   "source": [
    "print((sel_bag.new_transform(X_test)==y_test).sum())"
   ]
  },
  {
   "cell_type": "code",
   "execution_count": 54,
   "metadata": {},
   "outputs": [
    {
     "output_type": "execute_result",
     "data": {
      "text/plain": [
       "array([1, 0, 0, ..., 0, 0, 1], dtype=int64)"
      ]
     },
     "metadata": {},
     "execution_count": 54
    }
   ],
   "source": [
    "sel_bag.new_transform(X_test)"
   ]
  },
  {
   "cell_type": "code",
   "execution_count": 55,
   "metadata": {},
   "outputs": [
    {
     "output_type": "execute_result",
     "data": {
      "text/plain": [
       "array([[0.00611621, 0.00611621, 0.0030581 , ..., 0.08562691, 0.26299694,\n",
       "        0.59021407],\n",
       "       [0.01032448, 0.00294985, 0.00442478, ..., 0.10471976, 0.20058997,\n",
       "        0.61061947],\n",
       "       [0.01032448, 0.00294985, 0.00442478, ..., 0.10471976, 0.20058997,\n",
       "        0.61061947],\n",
       "       ...,\n",
       "       [0.0031746 , 0.        , 0.0031746 , ..., 0.04761905, 0.17142857,\n",
       "        0.72698413],\n",
       "       [0.0031746 , 0.        , 0.0031746 , ..., 0.04761905, 0.17142857,\n",
       "        0.72698413],\n",
       "       [0.        , 0.        , 0.00480769, ..., 0.03365385, 0.14423077,\n",
       "        0.75961538]])"
      ]
     },
     "metadata": {},
     "execution_count": 55
    }
   ],
   "source": [
    "sel_bag.proba(X_test)"
   ]
  },
  {
   "cell_type": "code",
   "execution_count": null,
   "metadata": {},
   "outputs": [],
   "source": []
  }
 ]
}