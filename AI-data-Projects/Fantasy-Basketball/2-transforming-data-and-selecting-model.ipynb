{
 "cells": [
  {
   "cell_type": "markdown",
   "metadata": {},
   "source": [
    "# Creating a prediction system for fantasy basketball points\n",
    "\n",
    "In this notebook we will create a Machine Learning architecture that will take information from previous years to predict a player's fantasy points. We will first test a few hypothesis of what statistics and information is easier to predict and then seeing how we can bring it together to make the best algorithm to predict a player's fantasy points."
   ]
  },
  {
   "cell_type": "markdown",
   "metadata": {},
   "source": [
    "We will start by first getting the data from the csv files into a pandas dataframe. Then we will edit it to remove things like NaN's. "
   ]
  },
  {
   "cell_type": "code",
   "execution_count": 15,
   "metadata": {},
   "outputs": [],
   "source": [
    "import tensorflow as tf\n",
    "import numpy as np \n",
    "import pandas as pd \n",
    "import sklearn as sk\n",
    "import random\n",
    "\n",
    "player_tables={}\n",
    "team_tables={}\n",
    "\n",
    "years=range(2000,2022)\n",
    "player_stats=[\"player_per_game\", \"player_per_36_min\", \"per_100_possesions\"]\n",
    "team_stats=[\"team_per_game\", \"team_per_100_possesions\"]\n",
    "\n",
    "for year in years:\n",
    "    player_tables[year]={}\n",
    "    team_tables[year]={}\n",
    "    for stat in player_stats:\n",
    "        player_tables[year][stat]=pd.read_csv(\"NBA_data/NBA_\"+str(year)+\"_\"+stat+\".csv\", index_col=0)\n",
    "        player_tables[year][stat]=player_tables[year][stat].dropna()\n",
    "        player_tables[year][stat].insert(0, \"year\", year, True)\n",
    "        player_tables[year][stat]=player_tables[year][stat].rename(columns={\"player\":\"name\"}) #this is so we can search for name as a query for players or teams\n",
    "        player_tables[year][stat][\"name\"]=player_tables[year][stat][\"name\"].str.replace(\"*\", \"\")\n",
    "    for stat in team_stats:\n",
    "        team_tables[year][stat]=pd.read_csv(\"NBA_data/NBA_\"+str(year)+\"_\"+stat+\".csv\", index_col=0)\n",
    "        team_tables[year][stat]=team_tables[year][stat].dropna()\n",
    "        team_tables[year][stat].insert(0, \"year\", year, True)\n",
    "        team_tables[year][stat]=team_tables[year][stat].rename(columns={\"team_name\":\"name\"})\n",
    "        team_tables[year][stat][\"name\"]=team_tables[year][stat][\"name\"].str.replace(\"*\", \"\")"
   ]
  },
  {
   "cell_type": "code",
   "execution_count": 16,
   "metadata": {},
   "outputs": [
    {
     "data": {
      "text/html": [
       "<div>\n",
       "<style scoped>\n",
       "    .dataframe tbody tr th:only-of-type {\n",
       "        vertical-align: middle;\n",
       "    }\n",
       "\n",
       "    .dataframe tbody tr th {\n",
       "        vertical-align: top;\n",
       "    }\n",
       "\n",
       "    .dataframe thead th {\n",
       "        text-align: right;\n",
       "    }\n",
       "</style>\n",
       "<table border=\"1\" class=\"dataframe\">\n",
       "  <thead>\n",
       "    <tr style=\"text-align: right;\">\n",
       "      <th></th>\n",
       "      <th>year</th>\n",
       "      <th>name</th>\n",
       "      <th>pos</th>\n",
       "      <th>age</th>\n",
       "      <th>team_id</th>\n",
       "      <th>g</th>\n",
       "      <th>gs</th>\n",
       "      <th>mp_per_g</th>\n",
       "      <th>fg_per_g</th>\n",
       "      <th>fga_per_g</th>\n",
       "      <th>...</th>\n",
       "      <th>ft_pct</th>\n",
       "      <th>orb_per_g</th>\n",
       "      <th>drb_per_g</th>\n",
       "      <th>trb_per_g</th>\n",
       "      <th>ast_per_g</th>\n",
       "      <th>stl_per_g</th>\n",
       "      <th>blk_per_g</th>\n",
       "      <th>tov_per_g</th>\n",
       "      <th>pf_per_g</th>\n",
       "      <th>pts_per_g</th>\n",
       "    </tr>\n",
       "  </thead>\n",
       "  <tbody>\n",
       "    <tr>\n",
       "      <th>0</th>\n",
       "      <td>2021</td>\n",
       "      <td>Precious Achiuwa</td>\n",
       "      <td>PF</td>\n",
       "      <td>21</td>\n",
       "      <td>MIA</td>\n",
       "      <td>61</td>\n",
       "      <td>4</td>\n",
       "      <td>12.1</td>\n",
       "      <td>2.0</td>\n",
       "      <td>3.7</td>\n",
       "      <td>...</td>\n",
       "      <td>0.509</td>\n",
       "      <td>1.2</td>\n",
       "      <td>2.2</td>\n",
       "      <td>3.4</td>\n",
       "      <td>0.5</td>\n",
       "      <td>0.3</td>\n",
       "      <td>0.5</td>\n",
       "      <td>0.7</td>\n",
       "      <td>1.5</td>\n",
       "      <td>5.0</td>\n",
       "    </tr>\n",
       "    <tr>\n",
       "      <th>2</th>\n",
       "      <td>2021</td>\n",
       "      <td>Steven Adams</td>\n",
       "      <td>C</td>\n",
       "      <td>27</td>\n",
       "      <td>NOP</td>\n",
       "      <td>58</td>\n",
       "      <td>58</td>\n",
       "      <td>27.7</td>\n",
       "      <td>3.3</td>\n",
       "      <td>5.3</td>\n",
       "      <td>...</td>\n",
       "      <td>0.444</td>\n",
       "      <td>3.7</td>\n",
       "      <td>5.2</td>\n",
       "      <td>8.9</td>\n",
       "      <td>1.9</td>\n",
       "      <td>0.9</td>\n",
       "      <td>0.7</td>\n",
       "      <td>1.3</td>\n",
       "      <td>1.9</td>\n",
       "      <td>7.6</td>\n",
       "    </tr>\n",
       "    <tr>\n",
       "      <th>3</th>\n",
       "      <td>2021</td>\n",
       "      <td>Bam Adebayo</td>\n",
       "      <td>C</td>\n",
       "      <td>23</td>\n",
       "      <td>MIA</td>\n",
       "      <td>64</td>\n",
       "      <td>64</td>\n",
       "      <td>33.5</td>\n",
       "      <td>7.1</td>\n",
       "      <td>12.5</td>\n",
       "      <td>...</td>\n",
       "      <td>0.799</td>\n",
       "      <td>2.2</td>\n",
       "      <td>6.7</td>\n",
       "      <td>9.0</td>\n",
       "      <td>5.4</td>\n",
       "      <td>1.2</td>\n",
       "      <td>1.0</td>\n",
       "      <td>2.6</td>\n",
       "      <td>2.3</td>\n",
       "      <td>18.7</td>\n",
       "    </tr>\n",
       "    <tr>\n",
       "      <th>4</th>\n",
       "      <td>2021</td>\n",
       "      <td>LaMarcus Aldridge</td>\n",
       "      <td>C</td>\n",
       "      <td>35</td>\n",
       "      <td>TOT</td>\n",
       "      <td>26</td>\n",
       "      <td>23</td>\n",
       "      <td>25.9</td>\n",
       "      <td>5.4</td>\n",
       "      <td>11.4</td>\n",
       "      <td>...</td>\n",
       "      <td>0.872</td>\n",
       "      <td>0.7</td>\n",
       "      <td>3.8</td>\n",
       "      <td>4.5</td>\n",
       "      <td>1.9</td>\n",
       "      <td>0.4</td>\n",
       "      <td>1.1</td>\n",
       "      <td>1.0</td>\n",
       "      <td>1.8</td>\n",
       "      <td>13.5</td>\n",
       "    </tr>\n",
       "    <tr>\n",
       "      <th>5</th>\n",
       "      <td>2021</td>\n",
       "      <td>Ty-Shon Alexander</td>\n",
       "      <td>SG</td>\n",
       "      <td>22</td>\n",
       "      <td>PHO</td>\n",
       "      <td>15</td>\n",
       "      <td>0</td>\n",
       "      <td>3.1</td>\n",
       "      <td>0.2</td>\n",
       "      <td>0.8</td>\n",
       "      <td>...</td>\n",
       "      <td>0.500</td>\n",
       "      <td>0.1</td>\n",
       "      <td>0.5</td>\n",
       "      <td>0.7</td>\n",
       "      <td>0.4</td>\n",
       "      <td>0.0</td>\n",
       "      <td>0.1</td>\n",
       "      <td>0.2</td>\n",
       "      <td>0.1</td>\n",
       "      <td>0.6</td>\n",
       "    </tr>\n",
       "  </tbody>\n",
       "</table>\n",
       "<p>5 rows × 30 columns</p>\n",
       "</div>"
      ],
      "text/plain": [
       "   year               name pos  age team_id   g  gs  mp_per_g  fg_per_g  \\\n",
       "0  2021   Precious Achiuwa  PF   21     MIA  61   4      12.1       2.0   \n",
       "2  2021       Steven Adams   C   27     NOP  58  58      27.7       3.3   \n",
       "3  2021        Bam Adebayo   C   23     MIA  64  64      33.5       7.1   \n",
       "4  2021  LaMarcus Aldridge   C   35     TOT  26  23      25.9       5.4   \n",
       "5  2021  Ty-Shon Alexander  SG   22     PHO  15   0       3.1       0.2   \n",
       "\n",
       "   fga_per_g  ...  ft_pct  orb_per_g  drb_per_g  trb_per_g  ast_per_g  \\\n",
       "0        3.7  ...   0.509        1.2        2.2        3.4        0.5   \n",
       "2        5.3  ...   0.444        3.7        5.2        8.9        1.9   \n",
       "3       12.5  ...   0.799        2.2        6.7        9.0        5.4   \n",
       "4       11.4  ...   0.872        0.7        3.8        4.5        1.9   \n",
       "5        0.8  ...   0.500        0.1        0.5        0.7        0.4   \n",
       "\n",
       "   stl_per_g  blk_per_g  tov_per_g  pf_per_g  pts_per_g  \n",
       "0        0.3        0.5        0.7       1.5        5.0  \n",
       "2        0.9        0.7        1.3       1.9        7.6  \n",
       "3        1.2        1.0        2.6       2.3       18.7  \n",
       "4        0.4        1.1        1.0       1.8       13.5  \n",
       "5        0.0        0.1        0.2       0.1        0.6  \n",
       "\n",
       "[5 rows x 30 columns]"
      ]
     },
     "execution_count": 16,
     "metadata": {},
     "output_type": "execute_result"
    }
   ],
   "source": [
    "player_tables[2021][\"player_per_game\"].head()"
   ]
  },
  {
   "cell_type": "code",
   "execution_count": 17,
   "metadata": {},
   "outputs": [
    {
     "data": {
      "text/html": [
       "<div>\n",
       "<style scoped>\n",
       "    .dataframe tbody tr th:only-of-type {\n",
       "        vertical-align: middle;\n",
       "    }\n",
       "\n",
       "    .dataframe tbody tr th {\n",
       "        vertical-align: top;\n",
       "    }\n",
       "\n",
       "    .dataframe thead th {\n",
       "        text-align: right;\n",
       "    }\n",
       "</style>\n",
       "<table border=\"1\" class=\"dataframe\">\n",
       "  <thead>\n",
       "    <tr style=\"text-align: right;\">\n",
       "      <th></th>\n",
       "      <th>year</th>\n",
       "      <th>ast</th>\n",
       "      <th>blk</th>\n",
       "      <th>drb</th>\n",
       "      <th>fg</th>\n",
       "      <th>fg2</th>\n",
       "      <th>fg2_pct</th>\n",
       "      <th>fg2a</th>\n",
       "      <th>fg3</th>\n",
       "      <th>fg3_pct</th>\n",
       "      <th>...</th>\n",
       "      <th>fta</th>\n",
       "      <th>g</th>\n",
       "      <th>mp</th>\n",
       "      <th>orb</th>\n",
       "      <th>pf</th>\n",
       "      <th>pts</th>\n",
       "      <th>stl</th>\n",
       "      <th>name</th>\n",
       "      <th>tov</th>\n",
       "      <th>trb</th>\n",
       "    </tr>\n",
       "  </thead>\n",
       "  <tbody>\n",
       "    <tr>\n",
       "      <th>1</th>\n",
       "      <td>2020</td>\n",
       "      <td>24.7</td>\n",
       "      <td>4.8</td>\n",
       "      <td>36.4</td>\n",
       "      <td>41.7</td>\n",
       "      <td>26.5</td>\n",
       "      <td>0.541</td>\n",
       "      <td>49.0</td>\n",
       "      <td>15.1</td>\n",
       "      <td>0.367</td>\n",
       "      <td>...</td>\n",
       "      <td>23.8</td>\n",
       "      <td>75.0</td>\n",
       "      <td>242.3</td>\n",
       "      <td>10.5</td>\n",
       "      <td>19.5</td>\n",
       "      <td>117.0</td>\n",
       "      <td>6.1</td>\n",
       "      <td>Dallas Mavericks</td>\n",
       "      <td>12.7</td>\n",
       "      <td>46.9</td>\n",
       "    </tr>\n",
       "    <tr>\n",
       "      <th>2</th>\n",
       "      <td>2020</td>\n",
       "      <td>25.9</td>\n",
       "      <td>5.9</td>\n",
       "      <td>42.2</td>\n",
       "      <td>43.3</td>\n",
       "      <td>29.5</td>\n",
       "      <td>0.567</td>\n",
       "      <td>52.0</td>\n",
       "      <td>13.8</td>\n",
       "      <td>0.355</td>\n",
       "      <td>...</td>\n",
       "      <td>24.7</td>\n",
       "      <td>73.0</td>\n",
       "      <td>241.0</td>\n",
       "      <td>9.5</td>\n",
       "      <td>19.6</td>\n",
       "      <td>118.7</td>\n",
       "      <td>7.2</td>\n",
       "      <td>Milwaukee Bucks</td>\n",
       "      <td>15.1</td>\n",
       "      <td>51.7</td>\n",
       "    </tr>\n",
       "    <tr>\n",
       "      <th>3</th>\n",
       "      <td>2020</td>\n",
       "      <td>20.6</td>\n",
       "      <td>6.1</td>\n",
       "      <td>35.1</td>\n",
       "      <td>42.2</td>\n",
       "      <td>29.3</td>\n",
       "      <td>0.514</td>\n",
       "      <td>57.1</td>\n",
       "      <td>12.9</td>\n",
       "      <td>0.377</td>\n",
       "      <td>...</td>\n",
       "      <td>22.1</td>\n",
       "      <td>74.0</td>\n",
       "      <td>241.0</td>\n",
       "      <td>10.2</td>\n",
       "      <td>21.7</td>\n",
       "      <td>115.0</td>\n",
       "      <td>6.3</td>\n",
       "      <td>Portland Trail Blazers</td>\n",
       "      <td>12.8</td>\n",
       "      <td>45.3</td>\n",
       "    </tr>\n",
       "    <tr>\n",
       "      <th>4</th>\n",
       "      <td>2020</td>\n",
       "      <td>21.6</td>\n",
       "      <td>5.2</td>\n",
       "      <td>34.5</td>\n",
       "      <td>40.8</td>\n",
       "      <td>25.1</td>\n",
       "      <td>0.557</td>\n",
       "      <td>45.2</td>\n",
       "      <td>15.6</td>\n",
       "      <td>0.345</td>\n",
       "      <td>...</td>\n",
       "      <td>26.1</td>\n",
       "      <td>72.0</td>\n",
       "      <td>241.4</td>\n",
       "      <td>9.8</td>\n",
       "      <td>21.8</td>\n",
       "      <td>117.8</td>\n",
       "      <td>8.7</td>\n",
       "      <td>Houston Rockets</td>\n",
       "      <td>14.7</td>\n",
       "      <td>44.3</td>\n",
       "    </tr>\n",
       "    <tr>\n",
       "      <th>5</th>\n",
       "      <td>2020</td>\n",
       "      <td>23.7</td>\n",
       "      <td>4.7</td>\n",
       "      <td>37.0</td>\n",
       "      <td>41.6</td>\n",
       "      <td>29.1</td>\n",
       "      <td>0.522</td>\n",
       "      <td>55.8</td>\n",
       "      <td>12.4</td>\n",
       "      <td>0.371</td>\n",
       "      <td>...</td>\n",
       "      <td>26.3</td>\n",
       "      <td>72.0</td>\n",
       "      <td>241.4</td>\n",
       "      <td>10.7</td>\n",
       "      <td>22.1</td>\n",
       "      <td>116.3</td>\n",
       "      <td>7.1</td>\n",
       "      <td>Los Angeles Clippers</td>\n",
       "      <td>14.6</td>\n",
       "      <td>47.7</td>\n",
       "    </tr>\n",
       "  </tbody>\n",
       "</table>\n",
       "<p>5 rows × 25 columns</p>\n",
       "</div>"
      ],
      "text/plain": [
       "   year   ast  blk   drb    fg   fg2  fg2_pct  fg2a   fg3  fg3_pct  ...   fta  \\\n",
       "1  2020  24.7  4.8  36.4  41.7  26.5    0.541  49.0  15.1    0.367  ...  23.8   \n",
       "2  2020  25.9  5.9  42.2  43.3  29.5    0.567  52.0  13.8    0.355  ...  24.7   \n",
       "3  2020  20.6  6.1  35.1  42.2  29.3    0.514  57.1  12.9    0.377  ...  22.1   \n",
       "4  2020  21.6  5.2  34.5  40.8  25.1    0.557  45.2  15.6    0.345  ...  26.1   \n",
       "5  2020  23.7  4.7  37.0  41.6  29.1    0.522  55.8  12.4    0.371  ...  26.3   \n",
       "\n",
       "      g     mp   orb    pf    pts  stl                    name   tov   trb  \n",
       "1  75.0  242.3  10.5  19.5  117.0  6.1        Dallas Mavericks  12.7  46.9  \n",
       "2  73.0  241.0   9.5  19.6  118.7  7.2         Milwaukee Bucks  15.1  51.7  \n",
       "3  74.0  241.0  10.2  21.7  115.0  6.3  Portland Trail Blazers  12.8  45.3  \n",
       "4  72.0  241.4   9.8  21.8  117.8  8.7         Houston Rockets  14.7  44.3  \n",
       "5  72.0  241.4  10.7  22.1  116.3  7.1    Los Angeles Clippers  14.6  47.7  \n",
       "\n",
       "[5 rows x 25 columns]"
      ]
     },
     "execution_count": 17,
     "metadata": {},
     "output_type": "execute_result"
    }
   ],
   "source": [
    "team_tables[2020][\"team_per_game\"].head()"
   ]
  },
  {
   "cell_type": "markdown",
   "metadata": {},
   "source": [
    "# Helper functions\n",
    "\n",
    "We will make some functions that will make it easy to use the data we have as we are using a different data structure. We might want to make some queries along multiple tables for example. With this in mind we will make multiple functions that will aide in these kind of common tasks."
   ]
  },
  {
   "cell_type": "code",
   "execution_count": 18,
   "metadata": {},
   "outputs": [],
   "source": [
    "def find(tables, names, years=True, stats=True):\n",
    "    \"\"\"\n",
    "    tables is a nested dictionary representing information by years and then by type of stats\n",
    "    name is a string representing the player or team we want to query\n",
    "    years is list of years we want to look for, if True it looks for all possible years\n",
    "    stats is list of type of stats we want to find, if True it looks for all type of stats\n",
    "\n",
    "    This function will look through all the tables given desired years and stat types and will return a pandas dataframe with all the information that agrees with the search\n",
    "\n",
    "    returns table a pandas dataframe with all results that match the search.\n",
    "    \"\"\"\n",
    "    if isinstance(names, str):\n",
    "        names = [names]\n",
    "    if years == True:\n",
    "        years = list(tables.keys())\n",
    "    if isinstance(years, int):\n",
    "        years=[years]\n",
    "    if stats == True:\n",
    "        stats = list(tables[years[0]].keys())\n",
    "    if isinstance(stats, str):\n",
    "        stats = [stats]\n",
    "\n",
    "    all_names=False\n",
    "    if names == [\"all\"]:\n",
    "        all_names=True\n",
    "    \n",
    "    table=pd.DataFrame()\n",
    "    for year in years:\n",
    "        for stat in stats:\n",
    "            data=tables[year][stat]\n",
    "            if all_names:\n",
    "                table=pd.concat([table,data], axis=0)\n",
    "            else:\n",
    "                for name in names:\n",
    "                    table=pd.concat([table,data[data[\"name\"]==name]], axis=0)\n",
    "    return table.reset_index(drop=True)\n",
    "\n",
    "def divide_val_set(data, percent=.2):\n",
    "    \"\"\"\n",
    "    data is most likely a dataframe (or list) that has the information we want\n",
    "    percent is a float that selets wanted validation percent\n",
    "\n",
    "    This function takes a given percent and will divide the data into test and validation sets.\n",
    "\n",
    "    returns a test and validation sets.\n",
    "    \"\"\"\n",
    "    n=len(data)\n",
    "    n1=int(n*(1-percent))\n",
    "    return data[:n1], data[n1:]\n",
    "\n"
   ]
  },
  {
   "cell_type": "markdown",
   "metadata": {},
   "source": [
    "## Examples"
   ]
  },
  {
   "cell_type": "code",
   "execution_count": 19,
   "metadata": {},
   "outputs": [
    {
     "data": {
      "text/html": [
       "<div>\n",
       "<style scoped>\n",
       "    .dataframe tbody tr th:only-of-type {\n",
       "        vertical-align: middle;\n",
       "    }\n",
       "\n",
       "    .dataframe tbody tr th {\n",
       "        vertical-align: top;\n",
       "    }\n",
       "\n",
       "    .dataframe thead th {\n",
       "        text-align: right;\n",
       "    }\n",
       "</style>\n",
       "<table border=\"1\" class=\"dataframe\">\n",
       "  <thead>\n",
       "    <tr style=\"text-align: right;\">\n",
       "      <th></th>\n",
       "      <th>year</th>\n",
       "      <th>name</th>\n",
       "      <th>pos</th>\n",
       "      <th>age</th>\n",
       "      <th>team_id</th>\n",
       "      <th>g</th>\n",
       "      <th>gs</th>\n",
       "      <th>mp_per_g</th>\n",
       "      <th>fg_per_g</th>\n",
       "      <th>fga_per_g</th>\n",
       "      <th>...</th>\n",
       "      <th>ft_pct</th>\n",
       "      <th>orb_per_g</th>\n",
       "      <th>drb_per_g</th>\n",
       "      <th>trb_per_g</th>\n",
       "      <th>ast_per_g</th>\n",
       "      <th>stl_per_g</th>\n",
       "      <th>blk_per_g</th>\n",
       "      <th>tov_per_g</th>\n",
       "      <th>pf_per_g</th>\n",
       "      <th>pts_per_g</th>\n",
       "    </tr>\n",
       "  </thead>\n",
       "  <tbody>\n",
       "    <tr>\n",
       "      <th>0</th>\n",
       "      <td>2010</td>\n",
       "      <td>James Harden</td>\n",
       "      <td>SG</td>\n",
       "      <td>20</td>\n",
       "      <td>OKC</td>\n",
       "      <td>76</td>\n",
       "      <td>0</td>\n",
       "      <td>22.9</td>\n",
       "      <td>3.1</td>\n",
       "      <td>7.6</td>\n",
       "      <td>...</td>\n",
       "      <td>0.808</td>\n",
       "      <td>0.6</td>\n",
       "      <td>2.6</td>\n",
       "      <td>3.2</td>\n",
       "      <td>1.8</td>\n",
       "      <td>1.1</td>\n",
       "      <td>0.3</td>\n",
       "      <td>1.4</td>\n",
       "      <td>2.6</td>\n",
       "      <td>9.9</td>\n",
       "    </tr>\n",
       "    <tr>\n",
       "      <th>1</th>\n",
       "      <td>2011</td>\n",
       "      <td>James Harden</td>\n",
       "      <td>SG</td>\n",
       "      <td>21</td>\n",
       "      <td>OKC</td>\n",
       "      <td>82</td>\n",
       "      <td>5</td>\n",
       "      <td>26.7</td>\n",
       "      <td>3.6</td>\n",
       "      <td>8.3</td>\n",
       "      <td>...</td>\n",
       "      <td>0.843</td>\n",
       "      <td>0.5</td>\n",
       "      <td>2.6</td>\n",
       "      <td>3.1</td>\n",
       "      <td>2.1</td>\n",
       "      <td>1.1</td>\n",
       "      <td>0.3</td>\n",
       "      <td>1.3</td>\n",
       "      <td>2.5</td>\n",
       "      <td>12.2</td>\n",
       "    </tr>\n",
       "    <tr>\n",
       "      <th>2</th>\n",
       "      <td>2012</td>\n",
       "      <td>James Harden</td>\n",
       "      <td>SG</td>\n",
       "      <td>22</td>\n",
       "      <td>OKC</td>\n",
       "      <td>62</td>\n",
       "      <td>2</td>\n",
       "      <td>31.4</td>\n",
       "      <td>5.0</td>\n",
       "      <td>10.1</td>\n",
       "      <td>...</td>\n",
       "      <td>0.846</td>\n",
       "      <td>0.5</td>\n",
       "      <td>3.6</td>\n",
       "      <td>4.1</td>\n",
       "      <td>3.7</td>\n",
       "      <td>1.0</td>\n",
       "      <td>0.2</td>\n",
       "      <td>2.2</td>\n",
       "      <td>2.4</td>\n",
       "      <td>16.8</td>\n",
       "    </tr>\n",
       "    <tr>\n",
       "      <th>3</th>\n",
       "      <td>2013</td>\n",
       "      <td>James Harden</td>\n",
       "      <td>SG</td>\n",
       "      <td>23</td>\n",
       "      <td>HOU</td>\n",
       "      <td>78</td>\n",
       "      <td>78</td>\n",
       "      <td>38.3</td>\n",
       "      <td>7.5</td>\n",
       "      <td>17.1</td>\n",
       "      <td>...</td>\n",
       "      <td>0.851</td>\n",
       "      <td>0.8</td>\n",
       "      <td>4.1</td>\n",
       "      <td>4.9</td>\n",
       "      <td>5.8</td>\n",
       "      <td>1.8</td>\n",
       "      <td>0.5</td>\n",
       "      <td>3.8</td>\n",
       "      <td>2.3</td>\n",
       "      <td>25.9</td>\n",
       "    </tr>\n",
       "    <tr>\n",
       "      <th>4</th>\n",
       "      <td>2014</td>\n",
       "      <td>James Harden</td>\n",
       "      <td>SG</td>\n",
       "      <td>24</td>\n",
       "      <td>HOU</td>\n",
       "      <td>73</td>\n",
       "      <td>73</td>\n",
       "      <td>38.0</td>\n",
       "      <td>7.5</td>\n",
       "      <td>16.5</td>\n",
       "      <td>...</td>\n",
       "      <td>0.866</td>\n",
       "      <td>0.8</td>\n",
       "      <td>3.9</td>\n",
       "      <td>4.7</td>\n",
       "      <td>6.1</td>\n",
       "      <td>1.6</td>\n",
       "      <td>0.4</td>\n",
       "      <td>3.6</td>\n",
       "      <td>2.4</td>\n",
       "      <td>25.4</td>\n",
       "    </tr>\n",
       "    <tr>\n",
       "      <th>5</th>\n",
       "      <td>2015</td>\n",
       "      <td>James Harden</td>\n",
       "      <td>SG</td>\n",
       "      <td>25</td>\n",
       "      <td>HOU</td>\n",
       "      <td>81</td>\n",
       "      <td>81</td>\n",
       "      <td>36.8</td>\n",
       "      <td>8.0</td>\n",
       "      <td>18.1</td>\n",
       "      <td>...</td>\n",
       "      <td>0.868</td>\n",
       "      <td>0.9</td>\n",
       "      <td>4.7</td>\n",
       "      <td>5.7</td>\n",
       "      <td>7.0</td>\n",
       "      <td>1.9</td>\n",
       "      <td>0.7</td>\n",
       "      <td>4.0</td>\n",
       "      <td>2.6</td>\n",
       "      <td>27.4</td>\n",
       "    </tr>\n",
       "    <tr>\n",
       "      <th>6</th>\n",
       "      <td>2016</td>\n",
       "      <td>James Harden</td>\n",
       "      <td>SG</td>\n",
       "      <td>26</td>\n",
       "      <td>HOU</td>\n",
       "      <td>82</td>\n",
       "      <td>82</td>\n",
       "      <td>38.1</td>\n",
       "      <td>8.7</td>\n",
       "      <td>19.7</td>\n",
       "      <td>...</td>\n",
       "      <td>0.860</td>\n",
       "      <td>0.8</td>\n",
       "      <td>5.3</td>\n",
       "      <td>6.1</td>\n",
       "      <td>7.5</td>\n",
       "      <td>1.7</td>\n",
       "      <td>0.6</td>\n",
       "      <td>4.6</td>\n",
       "      <td>2.8</td>\n",
       "      <td>29.0</td>\n",
       "    </tr>\n",
       "    <tr>\n",
       "      <th>7</th>\n",
       "      <td>2017</td>\n",
       "      <td>James Harden</td>\n",
       "      <td>PG</td>\n",
       "      <td>27</td>\n",
       "      <td>HOU</td>\n",
       "      <td>81</td>\n",
       "      <td>81</td>\n",
       "      <td>36.4</td>\n",
       "      <td>8.3</td>\n",
       "      <td>18.9</td>\n",
       "      <td>...</td>\n",
       "      <td>0.847</td>\n",
       "      <td>1.2</td>\n",
       "      <td>7.0</td>\n",
       "      <td>8.1</td>\n",
       "      <td>11.2</td>\n",
       "      <td>1.5</td>\n",
       "      <td>0.5</td>\n",
       "      <td>5.7</td>\n",
       "      <td>2.7</td>\n",
       "      <td>29.1</td>\n",
       "    </tr>\n",
       "    <tr>\n",
       "      <th>8</th>\n",
       "      <td>2018</td>\n",
       "      <td>James Harden</td>\n",
       "      <td>SG</td>\n",
       "      <td>28</td>\n",
       "      <td>HOU</td>\n",
       "      <td>72</td>\n",
       "      <td>72</td>\n",
       "      <td>35.4</td>\n",
       "      <td>9.0</td>\n",
       "      <td>20.1</td>\n",
       "      <td>...</td>\n",
       "      <td>0.858</td>\n",
       "      <td>0.6</td>\n",
       "      <td>4.8</td>\n",
       "      <td>5.4</td>\n",
       "      <td>8.8</td>\n",
       "      <td>1.8</td>\n",
       "      <td>0.7</td>\n",
       "      <td>4.4</td>\n",
       "      <td>2.3</td>\n",
       "      <td>30.4</td>\n",
       "    </tr>\n",
       "    <tr>\n",
       "      <th>9</th>\n",
       "      <td>2019</td>\n",
       "      <td>James Harden</td>\n",
       "      <td>PG</td>\n",
       "      <td>29</td>\n",
       "      <td>HOU</td>\n",
       "      <td>78</td>\n",
       "      <td>78</td>\n",
       "      <td>36.8</td>\n",
       "      <td>10.8</td>\n",
       "      <td>24.5</td>\n",
       "      <td>...</td>\n",
       "      <td>0.879</td>\n",
       "      <td>0.8</td>\n",
       "      <td>5.8</td>\n",
       "      <td>6.6</td>\n",
       "      <td>7.5</td>\n",
       "      <td>2.0</td>\n",
       "      <td>0.7</td>\n",
       "      <td>5.0</td>\n",
       "      <td>3.1</td>\n",
       "      <td>36.1</td>\n",
       "    </tr>\n",
       "    <tr>\n",
       "      <th>10</th>\n",
       "      <td>2020</td>\n",
       "      <td>James Harden</td>\n",
       "      <td>SG</td>\n",
       "      <td>30</td>\n",
       "      <td>HOU</td>\n",
       "      <td>68</td>\n",
       "      <td>68</td>\n",
       "      <td>36.5</td>\n",
       "      <td>9.9</td>\n",
       "      <td>22.3</td>\n",
       "      <td>...</td>\n",
       "      <td>0.865</td>\n",
       "      <td>1.0</td>\n",
       "      <td>5.5</td>\n",
       "      <td>6.6</td>\n",
       "      <td>7.5</td>\n",
       "      <td>1.8</td>\n",
       "      <td>0.9</td>\n",
       "      <td>4.5</td>\n",
       "      <td>3.3</td>\n",
       "      <td>34.3</td>\n",
       "    </tr>\n",
       "    <tr>\n",
       "      <th>11</th>\n",
       "      <td>2021</td>\n",
       "      <td>James Harden</td>\n",
       "      <td>PG-SG</td>\n",
       "      <td>31</td>\n",
       "      <td>TOT</td>\n",
       "      <td>44</td>\n",
       "      <td>43</td>\n",
       "      <td>36.6</td>\n",
       "      <td>7.8</td>\n",
       "      <td>16.7</td>\n",
       "      <td>...</td>\n",
       "      <td>0.861</td>\n",
       "      <td>0.8</td>\n",
       "      <td>7.1</td>\n",
       "      <td>7.9</td>\n",
       "      <td>10.8</td>\n",
       "      <td>1.2</td>\n",
       "      <td>0.8</td>\n",
       "      <td>4.0</td>\n",
       "      <td>2.3</td>\n",
       "      <td>24.6</td>\n",
       "    </tr>\n",
       "  </tbody>\n",
       "</table>\n",
       "<p>12 rows × 30 columns</p>\n",
       "</div>"
      ],
      "text/plain": [
       "    year          name    pos  age team_id   g  gs  mp_per_g  fg_per_g  \\\n",
       "0   2010  James Harden     SG   20     OKC  76   0      22.9       3.1   \n",
       "1   2011  James Harden     SG   21     OKC  82   5      26.7       3.6   \n",
       "2   2012  James Harden     SG   22     OKC  62   2      31.4       5.0   \n",
       "3   2013  James Harden     SG   23     HOU  78  78      38.3       7.5   \n",
       "4   2014  James Harden     SG   24     HOU  73  73      38.0       7.5   \n",
       "5   2015  James Harden     SG   25     HOU  81  81      36.8       8.0   \n",
       "6   2016  James Harden     SG   26     HOU  82  82      38.1       8.7   \n",
       "7   2017  James Harden     PG   27     HOU  81  81      36.4       8.3   \n",
       "8   2018  James Harden     SG   28     HOU  72  72      35.4       9.0   \n",
       "9   2019  James Harden     PG   29     HOU  78  78      36.8      10.8   \n",
       "10  2020  James Harden     SG   30     HOU  68  68      36.5       9.9   \n",
       "11  2021  James Harden  PG-SG   31     TOT  44  43      36.6       7.8   \n",
       "\n",
       "    fga_per_g  ...  ft_pct  orb_per_g  drb_per_g  trb_per_g  ast_per_g  \\\n",
       "0         7.6  ...   0.808        0.6        2.6        3.2        1.8   \n",
       "1         8.3  ...   0.843        0.5        2.6        3.1        2.1   \n",
       "2        10.1  ...   0.846        0.5        3.6        4.1        3.7   \n",
       "3        17.1  ...   0.851        0.8        4.1        4.9        5.8   \n",
       "4        16.5  ...   0.866        0.8        3.9        4.7        6.1   \n",
       "5        18.1  ...   0.868        0.9        4.7        5.7        7.0   \n",
       "6        19.7  ...   0.860        0.8        5.3        6.1        7.5   \n",
       "7        18.9  ...   0.847        1.2        7.0        8.1       11.2   \n",
       "8        20.1  ...   0.858        0.6        4.8        5.4        8.8   \n",
       "9        24.5  ...   0.879        0.8        5.8        6.6        7.5   \n",
       "10       22.3  ...   0.865        1.0        5.5        6.6        7.5   \n",
       "11       16.7  ...   0.861        0.8        7.1        7.9       10.8   \n",
       "\n",
       "    stl_per_g  blk_per_g  tov_per_g  pf_per_g  pts_per_g  \n",
       "0         1.1        0.3        1.4       2.6        9.9  \n",
       "1         1.1        0.3        1.3       2.5       12.2  \n",
       "2         1.0        0.2        2.2       2.4       16.8  \n",
       "3         1.8        0.5        3.8       2.3       25.9  \n",
       "4         1.6        0.4        3.6       2.4       25.4  \n",
       "5         1.9        0.7        4.0       2.6       27.4  \n",
       "6         1.7        0.6        4.6       2.8       29.0  \n",
       "7         1.5        0.5        5.7       2.7       29.1  \n",
       "8         1.8        0.7        4.4       2.3       30.4  \n",
       "9         2.0        0.7        5.0       3.1       36.1  \n",
       "10        1.8        0.9        4.5       3.3       34.3  \n",
       "11        1.2        0.8        4.0       2.3       24.6  \n",
       "\n",
       "[12 rows x 30 columns]"
      ]
     },
     "execution_count": 19,
     "metadata": {},
     "output_type": "execute_result"
    }
   ],
   "source": [
    "find(player_tables, \"James Harden\", stats=\"player_per_game\")"
   ]
  },
  {
   "cell_type": "markdown",
   "metadata": {},
   "source": [
    "## Test with Neural Nets\n",
    "\n",
    "We will begin testing by using some simple Neural Networks to test our hypotheses. We use an infrastructure that is simple yet specific for our task of predicting a time series so that we can get evidence for what is the best direction to take when building a more complex structure.\n",
    "\n",
    "We will look at predictions made with a model having a few dense layers, really simple one using a RNN and one using an LSTM model."
   ]
  },
  {
   "cell_type": "code",
   "execution_count": 76,
   "metadata": {},
   "outputs": [
    {
     "name": "stdout",
     "output_type": "stream",
     "text": [
      "4/4 [==============================] - 0s 1ms/step - loss: 458.7627\n",
      "4/4 [==============================] - 0s 667us/step - loss: 1467.8683\n",
      "4/4 [==============================] - 0s 1ms/step - loss: 324.7498\n",
      "4/4 [==============================] - 1s 2ms/step - loss: 324.7089\n",
      "dense1 421.08475288478786\n",
      "dense2 1293.0312075039542\n",
      "rnn 310.5228093961331\n",
      "lstm 293.7957218065534\n"
     ]
    }
   ],
   "source": [
    "# Create our datasets\n",
    "random.seed(0) #This is so that when we divide the datasets we get test and prediction data in the corresponding place while randomizing selection\n",
    "\n",
    "names=False\n",
    "for year in range(2016,2022):\n",
    "    if not names:\n",
    "        names=set(player_tables[year][\"player_per_game\"][\"name\"].tolist())\n",
    "    else:\n",
    "        names=names&set(player_tables[year][\"player_per_game\"][\"name\"].tolist())\n",
    "names=list(names)\n",
    "\n",
    "stats=[\"fg_per_g\", \"age\", \"gs\", \"pts_per_g\", \"trb_per_g\", \"ast_per_g\", \"stl_per_g\", \"mp_per_g\", \"blk_per_g\", \"fg3_per_g\"]\n",
    "\n",
    "data=find(player_tables, names, years=2020, stats=\"player_per_game\")[stats]\n",
    "for_rnn=find(player_tables, names, years=range(2016,2021), stats=\"player_per_game\")[stats+[\"name\"]]\n",
    "pred=find(player_tables, names, years=2021, stats=\"player_per_game\")[stats]\n",
    "\n",
    "data_rnn=[]\n",
    "\n",
    "for name in names:\n",
    "    data_rnn.append(for_rnn[for_rnn[\"name\"]==name].drop(columns=[\"name\"]).to_numpy())\n",
    "data_rnn=np.array(data_rnn)\n",
    "\n",
    "test_data, val_data=divide_val_set(data)\n",
    "test_pred, val_pred=divide_val_set(pred)\n",
    "test_data_rnn, val_data_rnn=divide_val_set(data_rnn) \n",
    "\n",
    "tf.keras.backend.set_floatx('float64')\n",
    "\n",
    "# Dense Layers\n",
    "dense1=tf.keras.Sequential(tf.keras.layers.Dense(10))\n",
    "dense1.compile(loss='mse', optimizer='adam')\n",
    "dense1.fit(test_data.to_numpy(),test_pred.to_numpy())\n",
    "\n",
    "dense2=tf.keras.Sequential([tf.keras.layers.Dense(10), tf.keras.layers.Dense(10)])\n",
    "dense2.compile(loss='mse', optimizer='adam')\n",
    "dense2.fit(test_data.to_numpy(),test_pred.to_numpy())\n",
    "\n",
    "# Simple RNN\n",
    "rnn=tf.keras.Sequential(tf.keras.layers.SimpleRNN(10))\n",
    "rnn.compile(loss='mse', optimizer='adam')\n",
    "rnn.fit(test_data_rnn,test_pred.to_numpy())\n",
    "\n",
    "# LSTM\n",
    "lstm=tf.keras.Sequential(tf.keras.layers.LSTM(10))\n",
    "lstm.compile(loss='mse', optimizer='adam')\n",
    "lstm.fit(test_data_rnn,test_pred.to_numpy())\n",
    "\n",
    "models={\"dense1\":dense1, \"dense2\":dense2, \"rnn\":rnn, \"lstm\":lstm}\n",
    "\n",
    "#Evaluation\n",
    "from sklearn.metrics import mean_squared_error\n",
    "errors={}\n",
    "for model in models.keys():\n",
    "    if \"dense\" in model:\n",
    "        errors[model]=mean_squared_error(models[model](val_data.to_numpy()), val_pred.to_numpy())\n",
    "    else:\n",
    "        errors[model]=mean_squared_error(models[model](val_data_rnn), val_pred.to_numpy())\n",
    "\n",
    "for model in errors.keys():\n",
    "    print(model, errors[model])"
   ]
  },
  {
   "cell_type": "markdown",
   "metadata": {},
   "source": [
    "# Analyzing results\n",
    "\n",
    "We see from the training and from the mean squared error we use to evaluate at the end that the RNN's get better results in this task than a regular NN, also noticing that adding more dense layers performs much better than a single one. We also notice that likely due to the small length of the temporal data the LSTM performs around equal or worse than the simple RNN. Another thing to notice is that the there is a small difference between the loss in the training and validation sets which is evidence that the model is not overfitting. One question we may want to ask is if the reason these models execute better is only because they have information of 5 years or if it is because this is temporal data. We will now test below a dense layer where we have as inputs the data of the 5 years.\n",
    "\n",
    "Note: after running it multiple times the execution of the dense layers has a lot of variance dome models being really close to the RNN's performance (which is consistent) and some having almost 4 times the loss compared to the RNN's."
   ]
  },
  {
   "cell_type": "code",
   "execution_count": 21,
   "metadata": {},
   "outputs": [
    {
     "data": {
      "text/plain": [
       "129"
      ]
     },
     "execution_count": 21,
     "metadata": {},
     "output_type": "execute_result"
    }
   ],
   "source": [
    "len(names)"
   ]
  },
  {
   "cell_type": "code",
   "execution_count": 22,
   "metadata": {},
   "outputs": [
    {
     "name": "stdout",
     "output_type": "stream",
     "text": [
      "4/4 [==============================] - 0s 666us/step - loss: 2373.7614\n",
      "4/4 [==============================] - 0s 666us/step - loss: 702.1607\n",
      "dense_years1 2009.2794272051353\n",
      "dense_years2 500.54635728865526\n"
     ]
    }
   ],
   "source": [
    "data_years=[]\n",
    "for name in names:\n",
    "    data_years.append(for_rnn[for_rnn[\"name\"]==name].drop(columns=[\"name\"]).to_numpy().flatten())\n",
    "data_years=np.array(data_years)\n",
    "\n",
    "test_data_years, val_data_years=divide_val_set(data_years) \n",
    "\n",
    "dense_years1=tf.keras.Sequential(tf.keras.layers.Dense(10))\n",
    "dense_years1.compile(loss='mse', optimizer='adam')\n",
    "dense_years1.fit(test_data_years,test_pred.to_numpy())\n",
    "\n",
    "dense_years2=tf.keras.Sequential([tf.keras.layers.Dense(10),tf.keras.layers.Dense(10)])\n",
    "dense_years2.compile(loss='mse', optimizer='adam')\n",
    "dense_years2.fit(test_data_years,test_pred.to_numpy())\n",
    "\n",
    "print(\"dense_years1\", mean_squared_error(dense_years1(val_data_years), val_pred.to_numpy()))\n",
    "print(\"dense_years2\", mean_squared_error(dense_years2(val_data_years), val_pred.to_numpy()))"
   ]
  },
  {
   "cell_type": "markdown",
   "metadata": {},
   "source": [
    "We do not see an improvement, especially up to the level of the RNN using this data where we have now used the information of 5 years to predict the next one. This shows that indeed the temporal structure does provide information that makes for a better prediction."
   ]
  },
  {
   "cell_type": "markdown",
   "metadata": {},
   "source": [
    "# Comparing team to player data\n",
    "\n",
    "We now want to make a comparison between how well a RNN can predict a team's stats compared with predicting player's stats. The first issue we need to tackle is that the scale of these stats is different and to make a fair comparison we need to normalize our data so that we can compare the execution of our models."
   ]
  },
  {
   "cell_type": "markdown",
   "metadata": {},
   "source": [
    "## Start with some histograms\n",
    "\n",
    "We want to normalize the data, but it is important to understand how the data points look like. For example for players points will look really skewed with a peak probably lower than 10 points and few players with high 20s or even 30. But points for teams may look closer to a normal distribution. We will analize some distribution for these stats."
   ]
  },
  {
   "cell_type": "code",
   "execution_count": 23,
   "metadata": {},
   "outputs": [],
   "source": [
    "stats=[\"fg_per_g\", \"age\", \"gs\", \"pts_per_g\", \"orb_per_g\", \"drb_per_g\", \"trb_per_g\", \"ast_per_g\", \"stl_per_g\", \"mp_per_g\", \"blk_per_g\", \"fg3_per_g\"]\n",
    "all_player_data=find(player_tables,\"all\")[stats]"
   ]
  },
  {
   "cell_type": "markdown",
   "metadata": {},
   "source": [
    "## Player data\n",
    "\n",
    "Let us start by studying the first stat I just mentioned above, points per game. We will make some histograms of this information throughout the years to see how the distribution looks like."
   ]
  },
  {
   "cell_type": "code",
   "execution_count": 24,
   "metadata": {},
   "outputs": [
    {
     "data": {
      "text/plain": [
       "array([[<AxesSubplot:title={'center':'pts_per_g'}>]], dtype=object)"
      ]
     },
     "execution_count": 24,
     "metadata": {},
     "output_type": "execute_result"
    },
    {
     "data": {
      "image/png": "[encoded data removed]",
      "text/plain": [
       "<Figure size 432x288 with 1 Axes>"
      ]
     },
     "metadata": {
      "needs_background": "light"
     },
     "output_type": "display_data"
    }
   ],
   "source": [
    "all_player_data.hist(column=\"pts_per_g\",bins=30)"
   ]
  },
  {
   "cell_type": "code",
   "execution_count": 25,
   "metadata": {},
   "outputs": [
    {
     "name": "stderr",
     "output_type": "stream",
     "text": [
      "C:\\Users\\xnive\\anaconda3\\envs\\tf\\lib\\site-packages\\ipykernel_launcher.py:1: RuntimeWarning: divide by zero encountered in log\n",
      "  \"\"\"Entry point for launching an IPython kernel.\n"
     ]
    },
    {
     "data": {
      "text/plain": [
       "array([[<AxesSubplot:title={'center':'pts_per_g'}>]], dtype=object)"
      ]
     },
     "execution_count": 25,
     "metadata": {},
     "output_type": "execute_result"
    },
    {
     "data": {
      "image/png": "[encoded data removed]",
      "text/plain": [
       "<Figure size 432x288 with 1 Axes>"
      ]
     },
     "metadata": {
      "needs_background": "light"
     },
     "output_type": "display_data"
    }
   ],
   "source": [
    "log_player_data=np.log(all_player_data)\n",
    "log_player_data[log_player_data[\"pts_per_g\"]!=-np.inf].hist(column=\"pts_per_g\",bins=40)"
   ]
  },
  {
   "cell_type": "markdown",
   "metadata": {},
   "source": [
    "As we can see from the two histograms above the log of pts per game might be better to make predictions (after normalizing) as it is closer to a normal distribution. Although clearly it is still a distribution that has many outliers but now they are to the left opposed to the right for our original data."
   ]
  },
  {
   "cell_type": "code",
   "execution_count": 26,
   "metadata": {},
   "outputs": [
    {
     "data": {
      "text/plain": [
       "array([[<AxesSubplot:title={'center':'mp_per_g'}>]], dtype=object)"
      ]
     },
     "execution_count": 26,
     "metadata": {},
     "output_type": "execute_result"
    },
    {
     "data": {
      "image/png": "[encoded data removed]",
      "text/plain": [
       "<Figure size 432x288 with 1 Axes>"
      ]
     },
     "metadata": {
      "needs_background": "light"
     },
     "output_type": "display_data"
    }
   ],
   "source": [
    "all_player_data.hist(column=\"mp_per_g\",bins=50)"
   ]
  },
  {
   "cell_type": "markdown",
   "metadata": {},
   "source": [
    "As we can see from the histogram above minutes played (mp_per_game) per game is closer to a normal distribution and has more simmetry to it. These stats (normalized) would work out well to make predictions.\n",
    "\n",
    "We won't look at the histograms of field goals per game or triples per game as we may expect them to be closely related to the points per game and thus have similar distributions (skewed to the left). So we will now look at (total) rebounts per game (trb_per_g) and at games started (gs)"
   ]
  },
  {
   "cell_type": "code",
   "execution_count": 27,
   "metadata": {},
   "outputs": [
    {
     "data": {
      "text/plain": [
       "array([[<AxesSubplot:title={'center':'trb_per_g'}>]], dtype=object)"
      ]
     },
     "execution_count": 27,
     "metadata": {},
     "output_type": "execute_result"
    },
    {
     "data": {
      "image/png": "[encoded data removed]",
      "text/plain": [
       "<Figure size 432x288 with 1 Axes>"
      ]
     },
     "metadata": {
      "needs_background": "light"
     },
     "output_type": "display_data"
    }
   ],
   "source": [
    "all_player_data.hist(column=\"trb_per_g\",bins=30)"
   ]
  },
  {
   "cell_type": "code",
   "execution_count": 28,
   "metadata": {},
   "outputs": [
    {
     "data": {
      "text/plain": [
       "array([[<AxesSubplot:title={'center':'gs'}>]], dtype=object)"
      ]
     },
     "execution_count": 28,
     "metadata": {},
     "output_type": "execute_result"
    },
    {
     "data": {
      "image/png": "[encoded data removed]",
      "text/plain": [
       "<Figure size 432x288 with 1 Axes>"
      ]
     },
     "metadata": {
      "needs_background": "light"
     },
     "output_type": "display_data"
    }
   ],
   "source": [
    "all_player_data.hist(column=\"gs\",bins=30)"
   ]
  },
  {
   "cell_type": "markdown",
   "metadata": {},
   "source": [
    "As we can see rebounds has a similar shape to that of pts per game, while games started has a pretty unique distribution that is more loaded at both ends. This might be better to use as is (normalized) and think of it to be similar to a binary distribution. "
   ]
  },
  {
   "cell_type": "markdown",
   "metadata": {},
   "source": [
    "## Team data\n",
    "\n",
    "We will now study similar statistics for teams and compare this distributions and decide on the best way to normalize our data."
   ]
  },
  {
   "cell_type": "code",
   "execution_count": 29,
   "metadata": {},
   "outputs": [],
   "source": [
    "stats=[\"fg\", \"pts\", \"orb\", \"drb\", \"trb\", \"ast\", \"stl\", \"blk\", \"fg3\"]\n",
    "all_team_data=find(team_tables, \"all\")[stats]"
   ]
  },
  {
   "cell_type": "code",
   "execution_count": 30,
   "metadata": {},
   "outputs": [
    {
     "data": {
      "text/plain": [
       "array([[<AxesSubplot:title={'center':'pts'}>]], dtype=object)"
      ]
     },
     "execution_count": 30,
     "metadata": {},
     "output_type": "execute_result"
    },
    {
     "data": {
      "image/png": "[encoded data removed]",
      "text/plain": [
       "<Figure size 432x288 with 1 Axes>"
      ]
     },
     "metadata": {
      "needs_background": "light"
     },
     "output_type": "display_data"
    }
   ],
   "source": [
    "all_team_data.hist(column=[\"pts\"], bins=25)"
   ]
  },
  {
   "cell_type": "code",
   "execution_count": 31,
   "metadata": {},
   "outputs": [
    {
     "data": {
      "text/plain": [
       "array([[<AxesSubplot:title={'center':'trb'}>]], dtype=object)"
      ]
     },
     "execution_count": 31,
     "metadata": {},
     "output_type": "execute_result"
    },
    {
     "data": {
      "image/png": "[encoded data removed]",
      "text/plain": [
       "<Figure size 432x288 with 1 Axes>"
      ]
     },
     "metadata": {
      "needs_background": "light"
     },
     "output_type": "display_data"
    }
   ],
   "source": [
    "all_team_data.hist(column=[\"trb\"], bins=25)"
   ]
  },
  {
   "cell_type": "code",
   "execution_count": 32,
   "metadata": {},
   "outputs": [
    {
     "data": {
      "text/plain": [
       "array([[<AxesSubplot:title={'center':'stl'}>]], dtype=object)"
      ]
     },
     "execution_count": 32,
     "metadata": {},
     "output_type": "execute_result"
    },
    {
     "data": {
      "image/png": "[encoded data removed]",
      "text/plain": [
       "<Figure size 432x288 with 1 Axes>"
      ]
     },
     "metadata": {
      "needs_background": "light"
     },
     "output_type": "display_data"
    }
   ],
   "source": [
    "all_team_data.hist(column=[\"stl\"], bins=30)"
   ]
  },
  {
   "cell_type": "markdown",
   "metadata": {},
   "source": [
    "Looking at the histograms above we see that the distributions for team data are less \"nice\" and we might expect the predictions made with team data to be less accurate. I decided that for these distributions as they do not seem partticularly skewed to any side and due to their irregularities to normalize from the data as is."
   ]
  },
  {
   "cell_type": "markdown",
   "metadata": {},
   "source": [
    "# Normalized predictions\n",
    "\n",
    "Now that we have decided how to normalize our data lets do a new prediction now that means are adjusted to 0 and standard deviation is set to 1."
   ]
  },
  {
   "cell_type": "code",
   "execution_count": 33,
   "metadata": {},
   "outputs": [],
   "source": [
    "player_stats=[\"gs\", \"mp_per_g\", \"blk_per_g\", \"fg_per_g\", \"age\", \"pts_per_g\", \"orb_per_g\", \"drb_per_g\", \"trb_per_g\", \"ast_per_g\", \"stl_per_g\", \"fg3_per_g\"]\n",
    "player_log_stats=[\"fg_per_g\", \"age\", \"pts_per_g\", \"orb_per_g\", \"drb_per_g\", \"trb_per_g\", \"ast_per_g\", \"stl_per_g\", \"blk_per_g\", \"fg3_per_g\"] #blocks is also skewed and even log is skewed but I feel it is better to at least do that transformation as well\n",
    "player_team_stats=[\"fg_per_g\", \"pts_per_g\", \"orb_per_g\", \"drb_per_g\", \"trb_per_g\", \"ast_per_g\", \"stl_per_g\", \"blk_per_g\", \"fg3_per_g\"]\n",
    "team_stats=[\"fg\", \"pts\", \"orb\", \"drb\", \"trb\", \"ast\", \"stl\", \"blk\", \"fg3\"]\n",
    "\n",
    "#to decide which were log and which not, I did look at all tables but I felt it wouldn't be as insightful to go over everything above."
   ]
  },
  {
   "cell_type": "code",
   "execution_count": 34,
   "metadata": {},
   "outputs": [],
   "source": [
    "def normalize(data):\n",
    "    \"\"\"\n",
    "    data a pandas dataframe that we want to normalize.\n",
    "\n",
    "    This function will normalize the data and will also return functions to \"denormalize\" the data back to normal.\n",
    "\n",
    "    returns normalized_data, normalizers    normalized data is the normalized data and normalizer and denormalizersare dictionaries that contains the information to define functions                                             and inverse functions to normalize every column of data\n",
    "    \"\"\"\n",
    "    normalizers={}\n",
    "    normalized_data=pd.DataFrame()\n",
    "    for col in data.columns:\n",
    "        if col!=\"name\":\n",
    "            mean=np.mean(data[col])\n",
    "            std=np.std(data[col])\n",
    "            normalized_data[col]=(data[col]-mean)/std\n",
    "            normalizers[col]=(mean,std)\n",
    "        else:\n",
    "            normalized_data[col]=data[col]\n",
    "    return normalized_data, normalizers\n",
    "\n",
    "def denormalize(data, normalizers):\n",
    "    \"\"\"\n",
    "    data is a pandas dataframe\n",
    "    normalizer is a dictionary as in the function above containing for every column of data a value of its previous mean and std\n",
    "\n",
    "    This function reverts normalized data to its original state\n",
    "\n",
    "    returns denormalized_data\n",
    "    \"\"\"\n",
    "    denormalized_data=pd.DataFrame()\n",
    "    for col in data.columns:\n",
    "        denormalized_data[col]=(normalizers[col][1]*data[col])+normalizers[col][0]\n",
    "    return denormalized_data"
   ]
  },
  {
   "cell_type": "code",
   "execution_count": 44,
   "metadata": {},
   "outputs": [
    {
     "data": {
      "text/html": [
       "<div>\n",
       "<style scoped>\n",
       "    .dataframe tbody tr th:only-of-type {\n",
       "        vertical-align: middle;\n",
       "    }\n",
       "\n",
       "    .dataframe tbody tr th {\n",
       "        vertical-align: top;\n",
       "    }\n",
       "\n",
       "    .dataframe thead th {\n",
       "        text-align: right;\n",
       "    }\n",
       "</style>\n",
       "<table border=\"1\" class=\"dataframe\">\n",
       "  <thead>\n",
       "    <tr style=\"text-align: right;\">\n",
       "      <th></th>\n",
       "      <th>gs</th>\n",
       "      <th>mp_per_g</th>\n",
       "      <th>blk_per_g</th>\n",
       "      <th>fg_per_g</th>\n",
       "      <th>age</th>\n",
       "      <th>pts_per_g</th>\n",
       "      <th>orb_per_g</th>\n",
       "      <th>drb_per_g</th>\n",
       "      <th>trb_per_g</th>\n",
       "      <th>ast_per_g</th>\n",
       "      <th>stl_per_g</th>\n",
       "      <th>fg3_per_g</th>\n",
       "      <th>name</th>\n",
       "    </tr>\n",
       "  </thead>\n",
       "  <tbody>\n",
       "    <tr>\n",
       "      <th>0</th>\n",
       "      <td>7</td>\n",
       "      <td>29.3</td>\n",
       "      <td>0.4</td>\n",
       "      <td>4.7</td>\n",
       "      <td>22</td>\n",
       "      <td>12.7</td>\n",
       "      <td>1.7</td>\n",
       "      <td>4.7</td>\n",
       "      <td>6.4</td>\n",
       "      <td>1.3</td>\n",
       "      <td>0.4</td>\n",
       "      <td>0.4</td>\n",
       "      <td>Michael Kidd-Gilchrist</td>\n",
       "    </tr>\n",
       "    <tr>\n",
       "      <th>1</th>\n",
       "      <td>69</td>\n",
       "      <td>29.4</td>\n",
       "      <td>0.3</td>\n",
       "      <td>4.4</td>\n",
       "      <td>21</td>\n",
       "      <td>10.7</td>\n",
       "      <td>1.1</td>\n",
       "      <td>2.5</td>\n",
       "      <td>3.6</td>\n",
       "      <td>6.4</td>\n",
       "      <td>1.2</td>\n",
       "      <td>0.4</td>\n",
       "      <td>Elfrid Payton</td>\n",
       "    </tr>\n",
       "    <tr>\n",
       "      <th>2</th>\n",
       "      <td>80</td>\n",
       "      <td>34.8</td>\n",
       "      <td>0.3</td>\n",
       "      <td>8.0</td>\n",
       "      <td>24</td>\n",
       "      <td>20.8</td>\n",
       "      <td>0.6</td>\n",
       "      <td>2.7</td>\n",
       "      <td>3.2</td>\n",
       "      <td>4.3</td>\n",
       "      <td>1.2</td>\n",
       "      <td>2.5</td>\n",
       "      <td>CJ McCollum</td>\n",
       "    </tr>\n",
       "    <tr>\n",
       "      <th>3</th>\n",
       "      <td>2</td>\n",
       "      <td>14.5</td>\n",
       "      <td>0.0</td>\n",
       "      <td>1.9</td>\n",
       "      <td>25</td>\n",
       "      <td>5.1</td>\n",
       "      <td>0.5</td>\n",
       "      <td>1.6</td>\n",
       "      <td>2.2</td>\n",
       "      <td>3.2</td>\n",
       "      <td>0.6</td>\n",
       "      <td>0.3</td>\n",
       "      <td>Tim Frazier</td>\n",
       "    </tr>\n",
       "    <tr>\n",
       "      <th>4</th>\n",
       "      <td>79</td>\n",
       "      <td>36.1</td>\n",
       "      <td>0.2</td>\n",
       "      <td>6.4</td>\n",
       "      <td>24</td>\n",
       "      <td>18.2</td>\n",
       "      <td>0.6</td>\n",
       "      <td>3.3</td>\n",
       "      <td>3.8</td>\n",
       "      <td>4.2</td>\n",
       "      <td>1.7</td>\n",
       "      <td>1.8</td>\n",
       "      <td>Khris Middleton</td>\n",
       "    </tr>\n",
       "    <tr>\n",
       "      <th>...</th>\n",
       "      <td>...</td>\n",
       "      <td>...</td>\n",
       "      <td>...</td>\n",
       "      <td>...</td>\n",
       "      <td>...</td>\n",
       "      <td>...</td>\n",
       "      <td>...</td>\n",
       "      <td>...</td>\n",
       "      <td>...</td>\n",
       "      <td>...</td>\n",
       "      <td>...</td>\n",
       "      <td>...</td>\n",
       "      <td>...</td>\n",
       "    </tr>\n",
       "    <tr>\n",
       "      <th>743</th>\n",
       "      <td>77</td>\n",
       "      <td>31.8</td>\n",
       "      <td>0.4</td>\n",
       "      <td>3.7</td>\n",
       "      <td>29</td>\n",
       "      <td>10.5</td>\n",
       "      <td>0.6</td>\n",
       "      <td>3.4</td>\n",
       "      <td>3.9</td>\n",
       "      <td>1.8</td>\n",
       "      <td>1.5</td>\n",
       "      <td>2.0</td>\n",
       "      <td>Justin Holiday</td>\n",
       "    </tr>\n",
       "    <tr>\n",
       "      <th>744</th>\n",
       "      <td>77</td>\n",
       "      <td>34.9</td>\n",
       "      <td>0.5</td>\n",
       "      <td>8.2</td>\n",
       "      <td>29</td>\n",
       "      <td>21.2</td>\n",
       "      <td>0.7</td>\n",
       "      <td>5.3</td>\n",
       "      <td>6.0</td>\n",
       "      <td>6.2</td>\n",
       "      <td>1.1</td>\n",
       "      <td>0.1</td>\n",
       "      <td>DeMar DeRozan</td>\n",
       "    </tr>\n",
       "    <tr>\n",
       "      <th>745</th>\n",
       "      <td>12</td>\n",
       "      <td>17.6</td>\n",
       "      <td>0.2</td>\n",
       "      <td>2.2</td>\n",
       "      <td>27</td>\n",
       "      <td>6.0</td>\n",
       "      <td>0.4</td>\n",
       "      <td>1.7</td>\n",
       "      <td>2.1</td>\n",
       "      <td>0.9</td>\n",
       "      <td>0.4</td>\n",
       "      <td>1.1</td>\n",
       "      <td>Tony Snell</td>\n",
       "    </tr>\n",
       "    <tr>\n",
       "      <th>746</th>\n",
       "      <td>60</td>\n",
       "      <td>27.5</td>\n",
       "      <td>0.4</td>\n",
       "      <td>3.0</td>\n",
       "      <td>24</td>\n",
       "      <td>8.9</td>\n",
       "      <td>0.7</td>\n",
       "      <td>2.2</td>\n",
       "      <td>2.9</td>\n",
       "      <td>4.0</td>\n",
       "      <td>1.8</td>\n",
       "      <td>1.6</td>\n",
       "      <td>Marcus Smart</td>\n",
       "    </tr>\n",
       "    <tr>\n",
       "      <th>747</th>\n",
       "      <td>31</td>\n",
       "      <td>20.1</td>\n",
       "      <td>0.9</td>\n",
       "      <td>4.2</td>\n",
       "      <td>25</td>\n",
       "      <td>11.1</td>\n",
       "      <td>2.1</td>\n",
       "      <td>3.5</td>\n",
       "      <td>5.5</td>\n",
       "      <td>1.1</td>\n",
       "      <td>0.4</td>\n",
       "      <td>1.0</td>\n",
       "      <td>Alex Len</td>\n",
       "    </tr>\n",
       "  </tbody>\n",
       "</table>\n",
       "<p>748 rows × 13 columns</p>\n",
       "</div>"
      ],
      "text/plain": [
       "     gs  mp_per_g  blk_per_g  fg_per_g  age  pts_per_g  orb_per_g  drb_per_g  \\\n",
       "0     7      29.3        0.4       4.7   22       12.7        1.7        4.7   \n",
       "1    69      29.4        0.3       4.4   21       10.7        1.1        2.5   \n",
       "2    80      34.8        0.3       8.0   24       20.8        0.6        2.7   \n",
       "3     2      14.5        0.0       1.9   25        5.1        0.5        1.6   \n",
       "4    79      36.1        0.2       6.4   24       18.2        0.6        3.3   \n",
       "..   ..       ...        ...       ...  ...        ...        ...        ...   \n",
       "743  77      31.8        0.4       3.7   29       10.5        0.6        3.4   \n",
       "744  77      34.9        0.5       8.2   29       21.2        0.7        5.3   \n",
       "745  12      17.6        0.2       2.2   27        6.0        0.4        1.7   \n",
       "746  60      27.5        0.4       3.0   24        8.9        0.7        2.2   \n",
       "747  31      20.1        0.9       4.2   25       11.1        2.1        3.5   \n",
       "\n",
       "     trb_per_g  ast_per_g  stl_per_g  fg3_per_g                    name  \n",
       "0          6.4        1.3        0.4        0.4  Michael Kidd-Gilchrist  \n",
       "1          3.6        6.4        1.2        0.4           Elfrid Payton  \n",
       "2          3.2        4.3        1.2        2.5             CJ McCollum  \n",
       "3          2.2        3.2        0.6        0.3             Tim Frazier  \n",
       "4          3.8        4.2        1.7        1.8         Khris Middleton  \n",
       "..         ...        ...        ...        ...                     ...  \n",
       "743        3.9        1.8        1.5        2.0          Justin Holiday  \n",
       "744        6.0        6.2        1.1        0.1           DeMar DeRozan  \n",
       "745        2.1        0.9        0.4        1.1              Tony Snell  \n",
       "746        2.9        4.0        1.8        1.6            Marcus Smart  \n",
       "747        5.5        1.1        0.4        1.0                Alex Len  \n",
       "\n",
       "[748 rows x 13 columns]"
      ]
     },
     "execution_count": 44,
     "metadata": {},
     "output_type": "execute_result"
    }
   ],
   "source": [
    "for_rnn"
   ]
  },
  {
   "cell_type": "markdown",
   "metadata": {},
   "source": [
    "## Preparing data"
   ]
  },
  {
   "cell_type": "code",
   "execution_count": 77,
   "metadata": {
    "tags": []
   },
   "outputs": [
    {
     "name": "stderr",
     "output_type": "stream",
     "text": [
      "C:\\Users\\xnive\\anaconda3\\envs\\tf\\lib\\site-packages\\pandas\\core\\series.py:726: RuntimeWarning: divide by zero encountered in log\n",
      "  result = getattr(ufunc, method)(*inputs, **kwargs)\n",
      "C:\\Users\\xnive\\anaconda3\\envs\\tf\\lib\\site-packages\\ipykernel_launcher.py:30: SettingWithCopyWarning: \n",
      "A value is trying to be set on a copy of a slice from a DataFrame\n",
      "\n",
      "See the caveats in the documentation: https://pandas.pydata.org/pandas-docs/stable/user_guide/indexing.html#returning-a-view-versus-a-copy\n",
      "C:\\Users\\xnive\\anaconda3\\envs\\tf\\lib\\site-packages\\pandas\\core\\series.py:726: RuntimeWarning: divide by zero encountered in log\n",
      "  result = getattr(ufunc, method)(*inputs, **kwargs)\n",
      "C:\\Users\\xnive\\anaconda3\\envs\\tf\\lib\\site-packages\\pandas\\core\\series.py:726: RuntimeWarning: divide by zero encountered in log\n",
      "  result = getattr(ufunc, method)(*inputs, **kwargs)\n",
      "C:\\Users\\xnive\\anaconda3\\envs\\tf\\lib\\site-packages\\ipykernel_launcher.py:30: SettingWithCopyWarning: \n",
      "A value is trying to be set on a copy of a slice from a DataFrame\n",
      "\n",
      "See the caveats in the documentation: https://pandas.pydata.org/pandas-docs/stable/user_guide/indexing.html#returning-a-view-versus-a-copy\n",
      "C:\\Users\\xnive\\anaconda3\\envs\\tf\\lib\\site-packages\\pandas\\core\\series.py:726: RuntimeWarning: divide by zero encountered in log\n",
      "  result = getattr(ufunc, method)(*inputs, **kwargs)\n",
      "C:\\Users\\xnive\\anaconda3\\envs\\tf\\lib\\site-packages\\pandas\\core\\series.py:726: RuntimeWarning: divide by zero encountered in log\n",
      "  result = getattr(ufunc, method)(*inputs, **kwargs)\n",
      "C:\\Users\\xnive\\anaconda3\\envs\\tf\\lib\\site-packages\\ipykernel_launcher.py:30: SettingWithCopyWarning: \n",
      "A value is trying to be set on a copy of a slice from a DataFrame\n",
      "\n",
      "See the caveats in the documentation: https://pandas.pydata.org/pandas-docs/stable/user_guide/indexing.html#returning-a-view-versus-a-copy\n",
      "C:\\Users\\xnive\\anaconda3\\envs\\tf\\lib\\site-packages\\pandas\\core\\series.py:726: RuntimeWarning: divide by zero encountered in log\n",
      "  result = getattr(ufunc, method)(*inputs, **kwargs)\n"
     ]
    }
   ],
   "source": [
    "from copy import copy, deepcopy\n",
    "\n",
    "#get data\n",
    "\n",
    "names=False\n",
    "for year in range(2016,2022):\n",
    "    if not names:\n",
    "        names=set(player_tables[year][\"player_per_game\"][\"name\"].tolist())\n",
    "    else:\n",
    "        names=names&set(player_tables[year][\"player_per_game\"][\"name\"].tolist())\n",
    "names=list(names)\n",
    "\n",
    "teams=team_tables[year][\"team_per_game\"][\"name\"].tolist()\n",
    "\n",
    "\n",
    "for_rnn=find(player_tables, names, years=range(2016,2021), stats=\"player_per_game\")[player_stats+[\"name\"]]\n",
    "player_pred=find(player_tables, names, years=2021, stats=\"player_per_game\")[player_team_stats]\n",
    "for_rnn_team=find(team_tables, teams, years=range(2016,2021), stats=\"team_per_game\")[team_stats+[\"name\"]]\n",
    "team_pred=find(team_tables, teams, years=2021, stats=\"team_per_game\")[team_stats]\n",
    "\n",
    "#transform data to how we want to use it\n",
    "\n",
    "log_for_rnn=deepcopy(for_rnn)\n",
    "log_player_pred=deepcopy(player_pred)\n",
    "\n",
    "for stat in player_log_stats:\n",
    "    log_for_rnn[stat]=np.log(log_for_rnn[stat])\n",
    "    min_rep=np.min(log_for_rnn[log_for_rnn[stat]!=-np.inf][stat].to_numpy())\n",
    "    for index in log_for_rnn[log_for_rnn[stat]==-np.inf].index:\n",
    "        log_for_rnn[stat][index]=min_rep #replace -inf for minimum value from other players\n",
    "    if stat in player_team_stats:\n",
    "        log_player_pred[stat]=np.log(log_player_pred[stat])\n",
    "        min_rep=np.min(log_player_pred[log_player_pred[stat]!=-np.inf][stat].to_numpy())\n",
    "        for index in log_player_pred[log_player_pred[stat]==-np.inf].index:\n",
    "            log_player_pred[stat][index]=min_rep\n",
    "\n",
    "\n",
    "#normalize\n",
    "\n",
    "for_rnn,player_normalizer=normalize(for_rnn)\n",
    "log_for_rnn,log_player_normalizer=normalize(log_for_rnn)\n",
    "for_rnn_team,team_normalizer=normalize(for_rnn_team)\n",
    "\n",
    "#Make into temporal data\n",
    "\n",
    "player_data=[]\n",
    "log_player_data=[]\n",
    "team_data=[]\n",
    "\n",
    "for name in names:\n",
    "    player_data.append(for_rnn[for_rnn[\"name\"]==name].drop(columns=[\"name\"]).to_numpy())\n",
    "    log_player_data.append(log_for_rnn[log_for_rnn[\"name\"]==name].drop(columns=[\"name\"]).to_numpy())\n",
    "for team in teams:\n",
    "    team_data.append(for_rnn_team[for_rnn_team[\"name\"]==team].drop(columns=[\"name\"]).to_numpy())\n",
    "player_data=np.array(player_data)\n",
    "log_player_data=np.array(log_player_data)\n",
    "team_data=np.array(team_data)\n",
    "\n",
    "\n",
    "#make test and validation sets\n",
    "\n",
    "test_player_data, val_player_data=divide_val_set(player_data)\n",
    "test_player_pred, val_player_pred=divide_val_set(player_pred)\n",
    "\n",
    "test_log_player_data, val_log_player_data=divide_val_set(log_player_data)\n",
    "test_log_player_pred, val_log_player_pred=divide_val_set(log_player_pred)\n",
    "\n",
    "test_team_data, val_team_data=divide_val_set(team_data)\n",
    "test_team_pred, val_team_pred=divide_val_set(team_pred)"
   ]
  },
  {
   "cell_type": "code",
   "execution_count": 36,
   "metadata": {},
   "outputs": [
    {
     "data": {
      "text/plain": [
       "['gs',\n",
       " 'mp_per_g',\n",
       " 'blk_per_g',\n",
       " 'fg_per_g',\n",
       " 'age',\n",
       " 'pts_per_g',\n",
       " 'orb_per_g',\n",
       " 'drb_per_g',\n",
       " 'trb_per_g',\n",
       " 'ast_per_g',\n",
       " 'stl_per_g',\n",
       " 'fg3_per_g']"
      ]
     },
     "execution_count": 36,
     "metadata": {},
     "output_type": "execute_result"
    }
   ],
   "source": [
    "player_stats"
   ]
  },
  {
   "cell_type": "markdown",
   "metadata": {},
   "source": [
    "## Training"
   ]
  },
  {
   "cell_type": "code",
   "execution_count": 51,
   "metadata": {},
   "outputs": [
    {
     "data": {
      "text/plain": [
       "(129, 6, 12)"
      ]
     },
     "execution_count": 51,
     "metadata": {},
     "output_type": "execute_result"
    }
   ],
   "source": [
    "player_data.shape"
   ]
  },
  {
   "cell_type": "code",
   "execution_count": 48,
   "metadata": {},
   "outputs": [
    {
     "data": {
      "text/plain": [
       "(103, 6, 12)"
      ]
     },
     "execution_count": 48,
     "metadata": {},
     "output_type": "execute_result"
    }
   ],
   "source": [
    "test_player_data.shape"
   ]
  },
  {
   "cell_type": "code",
   "execution_count": 53,
   "metadata": {},
   "outputs": [
    {
     "data": {
      "text/plain": [
       "(103, 9)"
      ]
     },
     "execution_count": 53,
     "metadata": {},
     "output_type": "execute_result"
    }
   ],
   "source": [
    "test_player_pred.shape"
   ]
  },
  {
   "cell_type": "code",
   "execution_count": 78,
   "metadata": {},
   "outputs": [
    {
     "name": "stdout",
     "output_type": "stream",
     "text": [
      "125/125 [==============================] - 0s 677us/step - loss: 29.6095\n",
      "Epoch 1/10\n",
      "125/125 [==============================] - 1s 694us/step - loss: 2.0080\n",
      "Epoch 2/10\n",
      "125/125 [==============================] - 0s 669us/step - loss: 1.7288\n",
      "Epoch 3/10\n",
      "125/125 [==============================] - 0s 669us/step - loss: 1.3914\n",
      "Epoch 4/10\n",
      "125/125 [==============================] - 0s 669us/step - loss: 1.2198\n",
      "Epoch 5/10\n",
      "125/125 [==============================] - 0s 661us/step - loss: 1.1034\n",
      "Epoch 6/10\n",
      "125/125 [==============================] - 0s 661us/step - loss: 0.8499\n",
      "Epoch 7/10\n",
      "125/125 [==============================] - 0s 669us/step - loss: 0.7876\n",
      "Epoch 8/10\n",
      "125/125 [==============================] - 0s 653us/step - loss: 0.7590\n",
      "Epoch 9/10\n",
      "125/125 [==============================] - 0s 685us/step - loss: 0.6711\n",
      "Epoch 10/10\n",
      "125/125 [==============================] - 0s 685us/step - loss: 0.6407\n",
      "3/3 [==============================] - 0s 2ms/step - loss: 2070.9245\n",
      "players 26.958021562667078\n",
      "log_players 0.7448744438073328\n",
      "team 1889.8868325959609\n",
      "players 743.1511512269602\n",
      "log_players 62.65435714172059\n",
      "team 19647.294690543276\n"
     ]
    }
   ],
   "source": [
    "#players rnn\n",
    "rnn_players=tf.keras.Sequential(tf.keras.layers.SimpleRNN(9))\n",
    "rnn_players.compile(loss='mse', optimizer='adam')\n",
    "rnn_players.fit(test_player_data,test_player_pred.to_numpy(), batch_size=1, epochs=1, verbose=1)\n",
    "\n",
    "#players rnn\n",
    "rnn_log_players=tf.keras.Sequential(tf.keras.layers.SimpleRNN(9))\n",
    "rnn_log_players.compile(loss='mse', optimizer='adam')\n",
    "rnn_log_players.fit(test_log_player_data,test_log_player_pred.to_numpy(), batch_size=1, epochs=10, verbose=1)\n",
    "\n",
    "#teams rnn\n",
    "rnn_teams=tf.keras.Sequential(tf.keras.layers.SimpleRNN(9))\n",
    "rnn_teams.compile(loss='mse', optimizer='adam')\n",
    "rnn_teams.fit(test_team_data,test_team_pred.to_numpy(), batch_size=10)\n",
    "\n",
    "models={\"players\":rnn_players, \"log_players\":rnn_log_players, \"team\":rnn_teams}\n",
    "data_dict={\"players\":val_player_data, \"log_players\":val_log_player_data, \"team\":val_team_data}\n",
    "pred_dict={\"players\":val_player_pred, \"log_players\":val_log_player_pred, \"team\":val_team_pred}\n",
    "\n",
    "#Evaluation\n",
    "from sklearn.metrics import mean_squared_error\n",
    "errors={}\n",
    "for model in models.keys():\n",
    "    errors[model]=mean_squared_error(models[model](data_dict[model]), pred_dict[model].to_numpy())\n",
    "\n",
    "#validation error\n",
    "for model in errors.keys():\n",
    "    print(model, errors[model])\n",
    "\n",
    "#denormalized error\n",
    "normalizers={\"players\":player_normalizer, \"log_players\":log_player_normalizer, \"team\":team_normalizer}\n",
    "denormalized_errors={}\n",
    "denormalized_preds={}\n",
    "for model in models.keys():\n",
    "    denormalized_errors[model]=models[model](data_dict[model]) #predictions\n",
    "    denormalized_preds[model]=pred_dict[model]\n",
    "    if model==\"log_players\":\n",
    "        denormalized_errors[model]*=np.array([normalizers[model][stat][1] for stat in player_team_stats])\n",
    "        denormalized_errors[model]+=np.array([normalizers[model][stat][0] for stat in player_team_stats])\n",
    "        denormalized_errors[model]=np.exp(denormalized_errors[model])\n",
    "\n",
    "        denormalized_preds[model]*=np.array([normalizers[model][stat][1] for stat in player_team_stats])\n",
    "        denormalized_preds[model]+=np.array([normalizers[model][stat][0] for stat in player_team_stats])\n",
    "        denormalized_preds[model]=np.exp(denormalized_preds[model])\n",
    "\n",
    "    elif model==\"team\":\n",
    "        denormalized_errors[model]*=np.array([normalizers[model][stat][1] for stat in team_stats])\n",
    "        denormalized_errors[model]+=np.array([normalizers[model][stat][0] for stat in team_stats])\n",
    "\n",
    "        denormalized_preds[model]*=np.array([normalizers[model][stat][1] for stat in team_stats])\n",
    "        denormalized_preds[model]+=np.array([normalizers[model][stat][0] for stat in team_stats])\n",
    "\n",
    "    else:\n",
    "        denormalized_errors[model]*=np.array([normalizers[model][stat][1] for stat in player_team_stats])\n",
    "        denormalized_errors[model]+=np.array([normalizers[model][stat][0] for stat in player_team_stats])\n",
    "\n",
    "        denormalized_preds[model]*=np.array([normalizers[model][stat][1] for stat in player_team_stats])\n",
    "        denormalized_preds[model]+=np.array([normalizers[model][stat][0] for stat in player_team_stats])\n",
    "\n",
    "    denormalized_errors[model]=mean_squared_error(denormalized_errors[model], denormalized_preds[model].to_numpy())\n",
    "\n",
    "for model in errors.keys():\n",
    "    print(model, denormalized_errors[model])"
   ]
  },
  {
   "cell_type": "markdown",
   "metadata": {},
   "source": [
    "## Conclusions\n",
    "\n",
    "As we saw above the execution of the log predictions is much better than that of the regular player predictions. It is staggering that the loss for the training data is quite small for the player data, but in the validation it is much higher, even that the team data which we could say in comparison that generalized better. We also did a final test of evaluating how the loss looks with our actual data once we reverse the normalization process (and the log conversion). This might be specially important as if we had a normalized loss of lets say 5 for log data and 10 for regular data, we may be tempted to say this makes better predictions, but when we convert the data back due to the log conversion we might see a bigger loss. In this case the difference is pretty big and once we convert back we see the log data still performs better but, we need to make sure of this."
   ]
  },
  {
   "cell_type": "markdown",
   "metadata": {},
   "source": [
    "# Lets make next season predictions"
   ]
  },
  {
   "cell_type": "code",
   "execution_count": 79,
   "metadata": {
    "tags": []
   },
   "outputs": [
    {
     "name": "stderr",
     "output_type": "stream",
     "text": [
      "C:\\Users\\xnive\\anaconda3\\envs\\tf\\lib\\site-packages\\pandas\\core\\series.py:726: RuntimeWarning: divide by zero encountered in log\n",
      "  result = getattr(ufunc, method)(*inputs, **kwargs)\n",
      "C:\\Users\\xnive\\anaconda3\\envs\\tf\\lib\\site-packages\\ipykernel_launcher.py:24: SettingWithCopyWarning: \n",
      "A value is trying to be set on a copy of a slice from a DataFrame\n",
      "\n",
      "See the caveats in the documentation: https://pandas.pydata.org/pandas-docs/stable/user_guide/indexing.html#returning-a-view-versus-a-copy\n",
      "C:\\Users\\xnive\\anaconda3\\envs\\tf\\lib\\site-packages\\pandas\\core\\series.py:726: RuntimeWarning: divide by zero encountered in log\n",
      "  result = getattr(ufunc, method)(*inputs, **kwargs)\n",
      "C:\\Users\\xnive\\anaconda3\\envs\\tf\\lib\\site-packages\\pandas\\core\\series.py:726: RuntimeWarning: divide by zero encountered in log\n",
      "  result = getattr(ufunc, method)(*inputs, **kwargs)\n",
      "C:\\Users\\xnive\\anaconda3\\envs\\tf\\lib\\site-packages\\ipykernel_launcher.py:24: SettingWithCopyWarning: \n",
      "A value is trying to be set on a copy of a slice from a DataFrame\n",
      "\n",
      "See the caveats in the documentation: https://pandas.pydata.org/pandas-docs/stable/user_guide/indexing.html#returning-a-view-versus-a-copy\n",
      "C:\\Users\\xnive\\anaconda3\\envs\\tf\\lib\\site-packages\\pandas\\core\\series.py:726: RuntimeWarning: divide by zero encountered in log\n",
      "  result = getattr(ufunc, method)(*inputs, **kwargs)\n",
      "C:\\Users\\xnive\\anaconda3\\envs\\tf\\lib\\site-packages\\pandas\\core\\series.py:726: RuntimeWarning: divide by zero encountered in log\n",
      "  result = getattr(ufunc, method)(*inputs, **kwargs)\n",
      "C:\\Users\\xnive\\anaconda3\\envs\\tf\\lib\\site-packages\\ipykernel_launcher.py:24: SettingWithCopyWarning: \n",
      "A value is trying to be set on a copy of a slice from a DataFrame\n",
      "\n",
      "See the caveats in the documentation: https://pandas.pydata.org/pandas-docs/stable/user_guide/indexing.html#returning-a-view-versus-a-copy\n",
      "C:\\Users\\xnive\\anaconda3\\envs\\tf\\lib\\site-packages\\pandas\\core\\series.py:726: RuntimeWarning: divide by zero encountered in log\n",
      "  result = getattr(ufunc, method)(*inputs, **kwargs)\n",
      "C:\\Users\\xnive\\anaconda3\\envs\\tf\\lib\\site-packages\\pandas\\core\\series.py:726: RuntimeWarning: divide by zero encountered in log\n",
      "  result = getattr(ufunc, method)(*inputs, **kwargs)\n",
      "C:\\Users\\xnive\\anaconda3\\envs\\tf\\lib\\site-packages\\ipykernel_launcher.py:24: SettingWithCopyWarning: \n",
      "A value is trying to be set on a copy of a slice from a DataFrame\n",
      "\n",
      "See the caveats in the documentation: https://pandas.pydata.org/pandas-docs/stable/user_guide/indexing.html#returning-a-view-versus-a-copy\n",
      "C:\\Users\\xnive\\anaconda3\\envs\\tf\\lib\\site-packages\\pandas\\core\\series.py:726: RuntimeWarning: divide by zero encountered in log\n",
      "  result = getattr(ufunc, method)(*inputs, **kwargs)\n"
     ]
    }
   ],
   "source": [
    "names=False\n",
    "for year in range(2017,2022):\n",
    "    if not names:\n",
    "        names=set(player_tables[year][\"player_per_game\"][\"name\"].tolist())\n",
    "    else:\n",
    "        names=names&set(player_tables[year][\"player_per_game\"][\"name\"].tolist())\n",
    "names=list(names)\n",
    "\n",
    "teams=team_tables[year][\"team_per_game\"][\"name\"].tolist()\n",
    "\n",
    "\n",
    "for_rnn=find(player_tables, names, years=range(2017,2021), stats=\"player_per_game\")[player_stats+[\"name\"]]\n",
    "player_pred=find(player_tables, names, years=2021, stats=\"player_per_game\")[player_team_stats]\n",
    "\n",
    "#transform data to how we want to use it\n",
    "\n",
    "log_for_rnn=deepcopy(for_rnn)\n",
    "log_player_pred=deepcopy(player_pred)\n",
    "\n",
    "for stat in player_log_stats:\n",
    "    log_for_rnn[stat]=np.log(log_for_rnn[stat])\n",
    "    min_rep=np.min(log_for_rnn[log_for_rnn[stat]!=-np.inf][stat].to_numpy())\n",
    "    for index in log_for_rnn[log_for_rnn[stat]==-np.inf].index:\n",
    "        log_for_rnn[stat][index]=min_rep #replace -inf for minimum value from other players\n",
    "    if stat in player_team_stats:\n",
    "        log_player_pred[stat]=np.log(log_player_pred[stat])\n",
    "        min_rep=np.min(log_player_pred[log_player_pred[stat]!=-np.inf][stat].to_numpy())\n",
    "        for index in log_player_pred[log_player_pred[stat]==-np.inf].index:\n",
    "            log_player_pred[stat][index]=min_rep\n",
    "\n",
    "#normalize\n",
    "\n",
    "log_for_rnn,log_player_normalizer=normalize(log_for_rnn)\n",
    "\n",
    "#Make into temporal data\n",
    "\n",
    "log_player_data=[]\n",
    "\n",
    "for name in names:\n",
    "    log_player_data.append(log_for_rnn[log_for_rnn[\"name\"]==name].drop(columns=[\"name\"]).to_numpy())\n",
    "log_player_data=np.array(log_player_data)"
   ]
  },
  {
   "cell_type": "code",
   "execution_count": 82,
   "metadata": {},
   "outputs": [],
   "source": [
    "points_df=pd.DataFrame()\n",
    "for i in range(193):\n",
    "    points=rnn_log_players(np.array([log_player_data[i]]))[0]\n",
    "    points*=np.array([log_player_normalizer[stat][1] for stat in player_team_stats])\n",
    "    points+=np.array([log_player_normalizer[stat][0] for stat in player_team_stats])\n",
    "    points=np.array([points[x] for x in [1,4,5,6,7,8]])\n",
    "    points=np.exp(points)\n",
    "    points*=np.array([0.5,1.5,1.5,3,3,1])\n",
    "    points=np.sum(points)\n",
    "    points*=66\n",
    "    points_df[log_for_rnn[\"name\"][i]]=[points]"
   ]
  },
  {
   "cell_type": "code",
   "execution_count": 83,
   "metadata": {},
   "outputs": [],
   "source": [
    "stats_df=pd.DataFrame()\n",
    "for i in range(193):\n",
    "    points=rnn_log_players(np.array([log_player_data[i]]))[0]\n",
    "    points*=np.array([log_player_normalizer[stat][1] for stat in player_team_stats])\n",
    "    points+=np.array([log_player_normalizer[stat][0] for stat in player_team_stats])\n",
    "    points=np.exp(points)\n",
    "    stats_df[log_for_rnn[\"name\"][i]]=points"
   ]
  },
  {
   "cell_type": "code",
   "execution_count": 84,
   "metadata": {},
   "outputs": [],
   "source": [
    "points_df.transpose().sort_values(by=0, ascending=False).to_csv(\"point_predictions.csv\")"
   ]
  },
  {
   "cell_type": "code",
   "execution_count": 85,
   "metadata": {},
   "outputs": [],
   "source": [
    "stats_df.transpose().sort_values(by=1, ascending=False).to_csv(\"stat_predictions.csv\")"
   ]
  },
  {
   "cell_type": "markdown",
   "metadata": {},
   "source": [
    "# What's next?\n",
    "\n",
    "We now played with the data and some simple models to see what we should work with. We now have evidence to sya it is better to use a RNN model to do predictions, that we should use not only player data as it is but instead take its log. The next step to work on this task will be to use the data we want to use and use a better model to make predictions in particular for this task. Another thing to do is to also make the data into the correct shape for our model and increase it size, as we only used the data from 2015 to 2020 when we can do the same for all years since 2000."
   ]
  },
  {
   "cell_type": "markdown",
   "metadata": {},
   "source": [
    "# Interlude\n",
    "\n",
    "As I was thinking of what to do for the algorithm that will predict players averages, as I decided on the evidence above. I though that maybe the reason team data did not work as well as player data is that we have less data and it was trained on less informationm, a way to have more information for teams would be to make predictions based on their stats for one game instead of the average over a season. The reason why it may be good enough to do this for a team compared to a player is that the execution of a player on a game has a lot of variance but its average over a season not as much, but for teams this variance is much less. Maybe using our predictive power thought over as stats per game, instead of the average may make for better predictions.\n",
    "\n",
    "A reason I want to understand team predictions is that understanding how to make predictions for a player at least as they are made every season considers what team the player is playing for. This could be because it is a high scoring team, or because there are (or aren't) other better players in their position and thus they play less (or more) and will thus have more stats per game. This could also be good to evaluate the success of a trade a team did. I would like to be able to use predictions for a team together with predictions for a player to make better predictions while correcting for discrepancies when seen from one side or the other."
   ]
  },
  {
   "cell_type": "markdown",
   "metadata": {},
   "source": [
    "# Even more thoughts\n",
    "\n",
    "I thought about the log transformation and I think I would rather change it to be log(x+1) adding +1 solves one important issue that there are multiple players having 0 of certain stat and this then transforms into -inf, making it log(x+1) would make the minimum value 0 which would prevent this issue and still fixing the skedness of our distribution.\n",
    "\n",
    "There are some thoughts on how useful it would be to do some clustering techniques to make more efficient predictions. For example by positions we expect different things and we may predict better, similarly for starters, role players, bench. There are also possibilities to do some other clustering techniques with the data, and while they might be good ideas there is the issue of the amount of data available. If we make a separate model for each type we thin our already small amount of data. I might try this out, but considering that we already \"only\" had 122 samples, which can be increased by using data throughout more years probably multiplying times 15, having a good size of training data may be more useful in the long run."
   ]
  }
 ],
 "metadata": {
  "interpreter": {
   "hash": "b25771bb79ecddf2cd0221654ecee2da123d46bdee02f2e26773cd30025ac0c0"
  },
  "kernelspec": {
   "display_name": "Python 3.7.9 64-bit ('tf': conda)",
   "name": "python3"
  },
  "language_info": {
   "codemirror_mode": {
    "name": "ipython",
    "version": 3
   },
   "file_extension": ".py",
   "mimetype": "text/x-python",
   "name": "python",
   "nbconvert_exporter": "python",
   "pygments_lexer": "ipython3",
   "version": "3.7.9"
  },
  "orig_nbformat": 2
 },
 "nbformat": 4,
 "nbformat_minor": 2
}
