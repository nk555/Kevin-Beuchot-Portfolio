{
 "metadata": {
  "language_info": {
   "codemirror_mode": {
    "name": "ipython",
    "version": 3
   },
   "file_extension": ".py",
   "mimetype": "text/x-python",
   "name": "python",
   "nbconvert_exporter": "python",
   "pygments_lexer": "ipython3",
   "version": "3.7.9-final"
  },
  "orig_nbformat": 2,
  "kernelspec": {
   "name": "python3",
   "display_name": "Python 3",
   "language": "python"
  }
 },
 "nbformat": 4,
 "nbformat_minor": 2,
 "cells": [
  {
   "cell_type": "code",
   "execution_count": 1,
   "metadata": {},
   "outputs": [
    {
     "output_type": "stream",
     "name": "stderr",
     "text": [
      "C:\\Users\\xnive\\anaconda3\\envs\\tf\\lib\\site-packages\\numpy\\_distributor_init.py:32: UserWarning: loaded more than 1 DLL from .libs:\nC:\\Users\\xnive\\anaconda3\\envs\\tf\\lib\\site-packages\\numpy\\.libs\\libopenblas.PYQHXLVVQ7VESDPUVUADXEVJOBGHJPAY.gfortran-win_amd64.dll\nC:\\Users\\xnive\\anaconda3\\envs\\tf\\lib\\site-packages\\numpy\\.libs\\libopenblas.WCDJNK7YVMPZQ2ME2ZZHJJRJ3JIKNDB7.gfortran-win_amd64.dll\n  stacklevel=1)\n"
     ]
    }
   ],
   "source": [
    "import numpy as np\n",
    "import tensorflow as tf\n",
    "import random"
   ]
  },
  {
   "source": [
    "# Getting more than linear estimations by training our weights\n",
    "\n",
    "The idea of this project is to create an architecture that is small and is able to detect non-linear relationships between data. We will first explain this architecture and then make some experiments.\n",
    "\n",
    "The idea behind this architecture is to have a Neural Network, named Task, with inputs I, outputs O and weights W, and instead of regular backpropagation to learn the weights W we implement a second Neural network, named Lift, with inputs I and outputs W (approximations of the weights of the first NN). For training we will consider the \"right\" input to be the weights after a pass of backpropragation, and use MSE to train the network Lift.\n",
    "\n",
    "For this task we will use a simple MLP network for both of our networks but it should be able to extend to any architecture in a trivial way."
   ],
   "cell_type": "markdown",
   "metadata": {}
  },
  {
   "source": [
    "## Task"
   ],
   "cell_type": "markdown",
   "metadata": {}
  },
  {
   "cell_type": "code",
   "execution_count": 2,
   "metadata": {},
   "outputs": [],
   "source": [
    "def task():\n",
    "    task=tf.keras.Sequential(layers=[tf.keras.layers.Dense(5, activation=\"relu\", input_shape=(3,)), tf.keras.layers.Dense(1)])\n",
    "    task.compile(loss=\"mse\")\n",
    "    return task"
   ]
  },
  {
   "source": [
    "## Lift"
   ],
   "cell_type": "markdown",
   "metadata": {}
  },
  {
   "cell_type": "code",
   "execution_count": 3,
   "metadata": {},
   "outputs": [],
   "source": [
    "def lift():\n",
    "    lift=tf.keras.Sequential(layers=[tf.keras.layers.Dense(10), tf.keras.layers.Dense(26)])\n",
    "    lift.compile(loss=\"mse\")\n",
    "    return lift"
   ]
  },
  {
   "source": [
    "## Model"
   ],
   "cell_type": "markdown",
   "metadata": {}
  },
  {
   "cell_type": "code",
   "execution_count": 4,
   "metadata": {},
   "outputs": [],
   "source": [
    "class lifter(tf.keras.Model):\n",
    "    def __init__(self):\n",
    "        super(lifter, self).__init__()\n",
    "        self.task=tf.keras.Sequential(layers=[tf.keras.layers.Dense(5, activation=\"relu\", input_shape=(3,)), tf.keras.layers.Dense(1)])\n",
    "        self.lift=tf.keras.Sequential(layers=[tf.keras.layers.Dense(10, activation=\"relu\", input_shape=(3,)), tf.keras.layers.Dense(26)])\n",
    "        self.task.compile(loss=\"mse\")\n",
    "        self.lift.compile(loss=\"mse\")\n",
    "        weights=self.task.get_weights()\n",
    "        self.weight_shapes=[np.shape(weight) for weight in weights]\n",
    "\n",
    "    def call(self, X):\n",
    "        pred=np.array([[]])\n",
    "        for i in range(len(X)):\n",
    "            new_weights=self.lift(X[i:i+1]).numpy()\n",
    "            j=0\n",
    "            start=0\n",
    "            end=0\n",
    "            end2=0\n",
    "            for layer in self.task.layers:\n",
    "                end+=get_size(self.weight_shapes[j])\n",
    "                end2=end+get_size(self.weight_shapes[j+1])\n",
    "                new_layer_weights=[np.reshape(new_weights[:,start:end], self.weight_shapes[j]), np.reshape(new_weights[:,end:end2], self.weight_shapes[j+1])]\n",
    "                layer.set_weights(new_layer_weights)\n",
    "                start=end2\n",
    "                end=end2\n",
    "                j+=2\n",
    "            new_pred=self.task(X[i:i+1]).numpy()\n",
    "            pred=np.concatenate([pred, new_pred], axis=1)\n",
    "        return pred\n",
    "\n",
    "    def fit(self, X,y, epochs=1, print_every=1000):\n",
    "        for j in range(epochs):\n",
    "            for i in range(len(X)):\n",
    "                if (i+1)%print_every==0:\n",
    "                    print(i+1)\n",
    "                self.call(X[i:i+1])\n",
    "                self.task.fit(X[i:i+1],y[i:i+1], verbose=0)\n",
    "                weights=flatten_weights(self.task.get_weights())\n",
    "                self.lift.fit(X[i:i+1], weights, verbose=0)\n",
    "        "
   ]
  },
  {
   "source": [
    "## Auxiliary Functions"
   ],
   "cell_type": "markdown",
   "metadata": {}
  },
  {
   "cell_type": "code",
   "execution_count": 5,
   "metadata": {},
   "outputs": [],
   "source": [
    "def flatten_weights(weights):\n",
    "    flat=np.array([])\n",
    "    for weight in weights:\n",
    "        flat=np.concatenate([flat, weight.flatten()])\n",
    "    return np.array([flat])"
   ]
  },
  {
   "cell_type": "code",
   "execution_count": 6,
   "metadata": {},
   "outputs": [],
   "source": [
    "def get_size(shape):\n",
    "    size=1\n",
    "    for i in shape:\n",
    "        size*=i\n",
    "    return size"
   ]
  },
  {
   "source": [
    "# Data and Training\n",
    "\n",
    "We will make a small artificial task where the data has inputs (x,y,z) and outputs x^2+2yz"
   ],
   "cell_type": "markdown",
   "metadata": {}
  },
  {
   "cell_type": "code",
   "execution_count": 7,
   "metadata": {},
   "outputs": [],
   "source": [
    "random.seed(0)\n",
    "X=np.array([[random.randrange(0,10), random.randrange(0,10), random.randrange(0,10)] for i in range(10000)])\n",
    "y=np.array([X[i,0]**2+2*X[i,1]*X[i,2] for i in range(10000)])\n",
    "\n",
    "X_test=np.array([[random.randrange(0,10), random.randrange(0,10), random.randrange(0,10)] for i in range(10000)])\n",
    "y_test=np.array([X_test[i,0]**2+2*X_test[i,1]*X_test[i,2] for i in range(10000)])"
   ]
  },
  {
   "cell_type": "code",
   "execution_count": 8,
   "metadata": {},
   "outputs": [
    {
     "output_type": "stream",
     "name": "stdout",
     "text": [
      "1000\n",
      "2000\n",
      "3000\n",
      "4000\n",
      "5000\n",
      "6000\n",
      "7000\n",
      "8000\n",
      "9000\n",
      "10000\n"
     ]
    }
   ],
   "source": [
    "model=lifter()\n",
    "model.fit(X, y, epochs=1, print_every=1000)"
   ]
  },
  {
   "source": [
    "# Comparison with regular model"
   ],
   "cell_type": "markdown",
   "metadata": {}
  },
  {
   "cell_type": "code",
   "execution_count": 9,
   "metadata": {},
   "outputs": [],
   "source": [
    "test1=tf.keras.Sequential(layers=[tf.keras.layers.Dense(5, activation=\"relu\", input_shape=(3,)), tf.keras.layers.Dense(1)])\n",
    "test2=tf.keras.Sequential(layers=[tf.keras.layers.Dense(10, activation=\"relu\", input_shape=(3,)), tf.keras.layers.Dense(10, activation=\"relu\"), tf.keras.layers.Dense(1)])\n",
    "test1.compile(loss=\"mse\")\n",
    "test2.compile(loss=\"mse\")"
   ]
  },
  {
   "cell_type": "code",
   "execution_count": 10,
   "metadata": {},
   "outputs": [
    {
     "output_type": "stream",
     "name": "stdout",
     "text": [
      "10000/10000 [==============================] - 4s 362us/step - loss: 3223.4991\n",
      "10000/10000 [==============================] - 4s 377us/step - loss: 1211.3586\n"
     ]
    },
    {
     "output_type": "execute_result",
     "data": {
      "text/plain": [
       "<tensorflow.python.keras.callbacks.History at 0x28b3a0baec8>"
      ]
     },
     "metadata": {},
     "execution_count": 10
    }
   ],
   "source": [
    "test1.fit(X,y, batch_size=1)\n",
    "test2.fit(X,y, batch_size=1)"
   ]
  },
  {
   "source": [
    "# Let's compare with the test set."
   ],
   "cell_type": "markdown",
   "metadata": {}
  },
  {
   "cell_type": "code",
   "execution_count": 11,
   "metadata": {},
   "outputs": [
    {
     "output_type": "stream",
     "name": "stdout",
     "text": [
      "13.0125553995598\n494.06442687441205\n159.80751061241008\n"
     ]
    }
   ],
   "source": [
    "from sklearn.metrics import mean_squared_error as mse\n",
    "\n",
    "print(mse(y_test, np.reshape(model.call(X_test), -1)))\n",
    "print(mse(y_test, test1(X_test)))\n",
    "print(mse(y_test, test2(X_test)))"
   ]
  },
  {
   "source": [
    "## Our model is clearly much better\n",
    "\n",
    "However, there are a few things to consider, training time is much longer, however this can probably be optimized. We could also implement some ideas for batches that make computations faster by paralelization. \n",
    "\n",
    "To be fair, this model was designed for this sort of task in mind, but in general it can be used to look for different interactions between the variables that are non-linear. And although activation functions do this and are able to model many classes of functions it is interesting to see what can be found if we do not know much about our variables and task at hand.\n",
    "\n",
    "Let us compare what happens if we did some more "
   ],
   "cell_type": "markdown",
   "metadata": {}
  },
  {
   "cell_type": "code",
   "execution_count": 12,
   "metadata": {},
   "outputs": [
    {
     "output_type": "stream",
     "name": "stdout",
     "text": [
      "Epoch 1/9\n",
      "10000/10000 [==============================] - 4s 360us/step - loss: 352.6317\n",
      "Epoch 2/9\n",
      "10000/10000 [==============================] - 4s 361us/step - loss: 186.7030\n",
      "Epoch 3/9\n",
      "10000/10000 [==============================] - 4s 360us/step - loss: 142.1785\n",
      "Epoch 4/9\n",
      "10000/10000 [==============================] - 4s 360us/step - loss: 131.4003\n",
      "Epoch 5/9\n",
      "10000/10000 [==============================] - 4s 361us/step - loss: 128.4858\n",
      "Epoch 6/9\n",
      "10000/10000 [==============================] - 4s 362us/step - loss: 126.6073\n",
      "Epoch 7/9\n",
      "10000/10000 [==============================] - 4s 358us/step - loss: 125.3125\n",
      "Epoch 8/9\n",
      "10000/10000 [==============================] - 4s 360us/step - loss: 123.5038\n",
      "Epoch 9/9\n",
      "10000/10000 [==============================] - 4s 360us/step - loss: 122.4827\n",
      "Epoch 1/9\n",
      "10000/10000 [==============================] - 4s 375us/step - loss: 96.4560\n",
      "Epoch 2/9\n",
      "10000/10000 [==============================] - 4s 374us/step - loss: 61.3167\n",
      "Epoch 3/9\n",
      "10000/10000 [==============================] - 4s 373us/step - loss: 40.6872\n",
      "Epoch 4/9\n",
      "10000/10000 [==============================] - 4s 373us/step - loss: 26.5670\n",
      "Epoch 5/9\n",
      "10000/10000 [==============================] - 4s 378us/step - loss: 18.3089\n",
      "Epoch 6/9\n",
      "10000/10000 [==============================] - 4s 374us/step - loss: 14.8544\n",
      "Epoch 7/9\n",
      "10000/10000 [==============================] - 4s 388us/step - loss: 12.9718\n",
      "Epoch 8/9\n",
      "10000/10000 [==============================] - 4s 398us/step - loss: 11.0535\n",
      "Epoch 9/9\n",
      "10000/10000 [==============================] - 4s 377us/step - loss: 9.7534\n"
     ]
    },
    {
     "output_type": "execute_result",
     "data": {
      "text/plain": [
       "<tensorflow.python.keras.callbacks.History at 0x28b302f2f48>"
      ]
     },
     "metadata": {},
     "execution_count": 12
    }
   ],
   "source": [
    "test1.fit(X,y, batch_size=1, epochs=9)\n",
    "test2.fit(X,y, batch_size=1, epochs=9)"
   ]
  },
  {
   "cell_type": "code",
   "execution_count": 13,
   "metadata": {},
   "outputs": [
    {
     "output_type": "stream",
     "name": "stdout",
     "text": [
      "125.84917421044882\n9.081946942431806\n"
     ]
    }
   ],
   "source": [
    "print(mse(y_test, test1(X_test)))\n",
    "print(mse(y_test, test2(X_test)))"
   ]
  },
  {
   "source": [
    "## But what happens with a test set outside of the domain, in this case out of range(0,10)?"
   ],
   "cell_type": "markdown",
   "metadata": {}
  },
  {
   "cell_type": "code",
   "execution_count": 14,
   "metadata": {},
   "outputs": [],
   "source": [
    "X_test2=np.array([[random.randrange(100,200), random.randrange(100,200), random.randrange(100,200)] for i in range(10000)])\n",
    "y_test2=np.array([X_test2[i,0]**2+2*X_test2[i,1]*X_test2[i,2] for i in range(10000)])"
   ]
  },
  {
   "cell_type": "code",
   "execution_count": 15,
   "metadata": {},
   "outputs": [
    {
     "output_type": "stream",
     "name": "stdout",
     "text": [
      "350234988684.7183\n4294566810.371718\n4053018723.932732\n"
     ]
    }
   ],
   "source": [
    "print(mse(y_test2, np.reshape(model.call(X_test2), -1)))\n",
    "print(mse(y_test2, test1(X_test2)))\n",
    "print(mse(y_test2, test2(X_test2)))"
   ]
  },
  {
   "source": [
    "## After seeing that with bigger numbers the error is bigger than that of the bigger MLP and when it gets even bigger it even gets worse than the smaller one, I expect that the error is growing because we are multiplying two errors, one for the prediction of weights and then for the net. I would then expect that with more training we would see bigger improvements on our model."
   ],
   "cell_type": "markdown",
   "metadata": {}
  },
  {
   "cell_type": "code",
   "execution_count": 17,
   "metadata": {},
   "outputs": [
    {
     "output_type": "stream",
     "name": "stdout",
     "text": [
      "1000\n",
      "2000\n",
      "3000\n",
      "4000\n",
      "5000\n",
      "6000\n",
      "7000\n",
      "8000\n",
      "9000\n",
      "10000\n",
      "1000\n",
      "2000\n",
      "3000\n",
      "4000\n",
      "5000\n",
      "6000\n",
      "7000\n",
      "8000\n",
      "9000\n",
      "10000\n",
      "1000\n",
      "2000\n",
      "3000\n",
      "4000\n",
      "5000\n",
      "6000\n",
      "7000\n",
      "8000\n",
      "9000\n",
      "10000\n",
      "1000\n",
      "2000\n",
      "3000\n",
      "4000\n",
      "5000\n",
      "6000\n",
      "7000\n",
      "8000\n",
      "9000\n",
      "10000\n",
      "1000\n",
      "2000\n",
      "3000\n",
      "4000\n",
      "5000\n",
      "6000\n",
      "7000\n",
      "8000\n",
      "9000\n",
      "10000\n",
      "1000\n",
      "2000\n",
      "3000\n",
      "4000\n",
      "5000\n",
      "6000\n",
      "7000\n",
      "8000\n",
      "9000\n",
      "10000\n",
      "1000\n",
      "2000\n",
      "3000\n",
      "4000\n",
      "5000\n",
      "6000\n",
      "7000\n",
      "8000\n",
      "9000\n",
      "10000\n",
      "1000\n",
      "2000\n",
      "3000\n",
      "4000\n",
      "5000\n",
      "6000\n",
      "7000\n",
      "8000\n",
      "9000\n",
      "10000\n",
      "1000\n",
      "2000\n",
      "3000\n",
      "4000\n",
      "5000\n",
      "6000\n",
      "7000\n",
      "8000\n",
      "9000\n",
      "10000\n"
     ]
    }
   ],
   "source": [
    "model.fit(X,y, epochs=9)"
   ]
  },
  {
   "cell_type": "code",
   "execution_count": 18,
   "metadata": {},
   "outputs": [
    {
     "output_type": "stream",
     "name": "stdout",
     "text": [
      "1.465656907736442\n",
      "267341769662.45395\n"
     ]
    }
   ],
   "source": [
    "print(mse(y_test, np.reshape(model.call(X_test), -1)))\n",
    "print(mse(y_test2, np.reshape(model.call(X_test2), -1)))"
   ]
  },
  {
   "cell_type": "code",
   "execution_count": null,
   "metadata": {},
   "outputs": [],
   "source": []
  }
 ]
}